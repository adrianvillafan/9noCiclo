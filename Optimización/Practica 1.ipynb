{
 "cells": [
  {
   "cell_type": "code",
   "execution_count": 3,
   "metadata": {},
   "outputs": [],
   "source": [
    "import sympy as sp\n",
    "from IPython.display import display, Latex\n",
    "from sympy import Eq"
   ]
  },
  {
   "cell_type": "code",
   "execution_count": 77,
   "metadata": {},
   "outputs": [
    {
     "data": {
      "text/latex": [
       "Declaramos datos del ejercicio:"
      ],
      "text/plain": [
       "<IPython.core.display.Latex object>"
      ]
     },
     "metadata": {},
     "output_type": "display_data"
    },
    {
     "data": {
      "text/latex": [
       "$\\displaystyle f(x_{1}, x_{2}) = - x_{1} \\cdot \\left(50 - 5 x_{1}\\right) + 10 x_{1} - x_{2} \\cdot \\left(30 - 2 x_{2}\\right) + 10 x_{2} + 2 \\left(x_{1} + x_{2}\\right)^{2} + 120$"
      ],
      "text/plain": [
       "Eq(f(x_{1}, x_{2}), -x1*(50 - 5*x1) + 10*x1 - x2*(30 - 2*x2) + 10*x2 + 2*(x1 + x2)**2 + 120)"
      ]
     },
     "metadata": {},
     "output_type": "display_data"
    },
    {
     "data": {
      "text/latex": [
       "$\\displaystyle x_{0} = \\left( 1, \\  2\\right)$"
      ],
      "text/plain": [
       "Eq(x_0, (1, 2))"
      ]
     },
     "metadata": {},
     "output_type": "display_data"
    }
   ],
   "source": [
    "# Definimos variables simbolicas\n",
    "x1, x2 = sp.symbols('x1 x2')\n",
    "# Definir la función objetivo\n",
    "f =   ( ((50-5*(x1))*x1)+((30-2*x2)*x2) - (2*((x1+x2)**2) + 10*(x1+x2)+120)  )*(-1)\n",
    "# f = (x1 - 5)**2 + (x2 - 5)**2 -16*x1 - 7*x2 - sp.ln(x1) - 4*sp.ln(x2/2) - 36*sp.ln(-x1/3 + x2/6 + 1) - 25*sp.ln(-x1/5 - 3*x2/5 + 12/5) + 30\n",
    "\n",
    "#x_0 = (5/2,5/4) #No evaluamos en el punto que hallamos manualmente ya que al ser respuesta no iterará nada\n",
    "x_0 = (1,2) # Por ejemplo tomamos estos puntos\n",
    "\n",
    "# Mostrar datos del ejercicio\n",
    "display(Latex('Declaramos datos del ejercicio:'))\n",
    "\n",
    "display(Eq(sp.Symbol('f(x_{1}, x_{2})'), f), Eq(sp.Symbol('x_0'), x_0))"
   ]
  },
  {
   "cell_type": "markdown",
   "metadata": {},
   "source": [
    "<p>Se definio la funcion en la variable simbolica f pero se le multiplico por -1 , ya que el metodo me halla los minimos, y al hacer negativa la funcion, me devolverá el valor minimo de la funcion que volvi negativa, osea el maximo de la funcion original</p>\n",
    "\n",
    "$$ ((50-5x_1)x_1)+((30-2x_2)  x_2 - 2((x_1 + x_2)^{2}) + 10(x_1 + x_2)+120  )(-1)$$"
   ]
  },
  {
   "cell_type": "code",
   "execution_count": 78,
   "metadata": {},
   "outputs": [
    {
     "data": {
      "text/latex": [
       "Calculamos el gradiente de la función:"
      ],
      "text/plain": [
       "<IPython.core.display.Latex object>"
      ]
     },
     "metadata": {},
     "output_type": "display_data"
    },
    {
     "data": {
      "text/latex": [
       "$\\nabla f(x_1, x_2) = (14 x_{1} + 4 x_{2} - 40, 4 x_{1} + 8 x_{2} - 20)$"
      ],
      "text/plain": [
       "<IPython.core.display.Latex object>"
      ]
     },
     "metadata": {},
     "output_type": "display_data"
    }
   ],
   "source": [
    "grad_f = sp.Matrix([sp.diff(f, x1), sp.diff(f, x2)])\n",
    "display(Latex('Calculamos el gradiente de la función:'))\n",
    "display(Latex(f\"$\\\\nabla f(x_1, x_2) = ({sp.latex(grad_f[0])}, {sp.latex(grad_f[1])})$\"))"
   ]
  },
  {
   "cell_type": "code",
   "execution_count": 79,
   "metadata": {},
   "outputs": [
    {
     "data": {
      "text/latex": [
       "Declaramos los parámetros de Armijo:"
      ],
      "text/plain": [
       "<IPython.core.display.Latex object>"
      ]
     },
     "metadata": {},
     "output_type": "display_data"
    },
    {
     "data": {
      "text/latex": [
       "$\\displaystyle \\alpha = 1$"
      ],
      "text/plain": [
       "Eq(alpha, 1)"
      ]
     },
     "metadata": {},
     "output_type": "display_data"
    },
    {
     "data": {
      "text/latex": [
       "$\\displaystyle \\beta = 0.5$"
      ],
      "text/plain": [
       "Eq(beta, 0.5)"
      ]
     },
     "metadata": {},
     "output_type": "display_data"
    },
    {
     "data": {
      "text/latex": [
       "$\\displaystyle \\sigma = 0.1$"
      ],
      "text/plain": [
       "Eq(sigma, 0.1)"
      ]
     },
     "metadata": {},
     "output_type": "display_data"
    },
    {
     "data": {
      "text/latex": [
       "$\\displaystyle \\epsilon = 0.001$"
      ],
      "text/plain": [
       "Eq(epsilon, 0.001)"
      ]
     },
     "metadata": {},
     "output_type": "display_data"
    }
   ],
   "source": [
    "# Parámetros de Armijo\n",
    "alpha = 1\n",
    "beta = 0.5\n",
    "sigma = 0.1\n",
    "epsilon = 0.001\n",
    "\n",
    "display(Latex('Declaramos los parámetros de Armijo:'))\n",
    "display(Eq(sp.Symbol('alpha'), alpha), Eq(sp.Symbol('beta'), beta), Eq(sp.Symbol('sigma'), sigma), Eq(sp.Symbol('epsilon'), epsilon))"
   ]
  },
  {
   "cell_type": "code",
   "execution_count": 80,
   "metadata": {},
   "outputs": [
    {
     "data": {
      "text/latex": [
       "Iniciamos el algoritmo:"
      ],
      "text/plain": [
       "<IPython.core.display.Latex object>"
      ]
     },
     "metadata": {},
     "output_type": "display_data"
    },
    {
     "data": {
      "text/latex": [
       "$\\displaystyle k = 0$"
      ],
      "text/plain": [
       "Eq(k, 0)"
      ]
     },
     "metadata": {},
     "output_type": "display_data"
    },
    {
     "data": {
      "text/latex": [
       "$\\displaystyle x_{k} = \\left( 1, \\  2\\right)$"
      ],
      "text/plain": [
       "Eq(x_k, (1, 2))"
      ]
     },
     "metadata": {},
     "output_type": "display_data"
    }
   ],
   "source": [
    "# Definimos variables para arlgoritmo inicial\n",
    "k = 0\n",
    "x_k = x_0\n",
    "\n",
    "display(Latex('Iniciamos el algoritmo:'))\n",
    "display(Eq(sp.Symbol('k'), k), Eq(sp.Symbol('x_k'), x_k))"
   ]
  },
  {
   "cell_type": "markdown",
   "metadata": {},
   "source": [
    "### Dirección de Descenso Negativa del Gradiente\n",
    "$$ \\mathbf{d}^k = -\\nabla f(x^k) $$\n",
    "Dirección opuesta al gradiente de la función en el punto actual, ya que queremos mover hacia el mínimo de la función.\n",
    "\n",
    "### Condición de Armijo\n",
    "$$ f(x^k + \\alpha \\beta^{m_k} \\mathbf{d}^k) \\leq f(x^k) + \\sigma \\alpha \\beta^{m_k} \\nabla f(x^k)^T \\mathbf{d}^k $$\n",
    "Condición de para asegurar suficiente descenso. $ m_k $ es el menor entero no negativo que satisface esta desigualdad."
   ]
  },
  {
   "cell_type": "code",
   "execution_count": 81,
   "metadata": {},
   "outputs": [
    {
     "data": {
      "text/latex": [
       "Iteración 0: $x_k = (1, 2), \\nabla f(x_k) = (-18, 0)$"
      ],
      "text/plain": [
       "<IPython.core.display.Latex object>"
      ]
     },
     "metadata": {},
     "output_type": "display_data"
    },
    {
     "data": {
      "text/latex": [
       "Actualización: $x_{k+1} = (3.25000000000000, 2), \\lambda = 0.125$"
      ],
      "text/plain": [
       "<IPython.core.display.Latex object>"
      ]
     },
     "metadata": {},
     "output_type": "display_data"
    },
    {
     "data": {
      "text/latex": [
       "Iteración 1: $x_k = (3.25000000000000, 2), \\nabla f(x_k) = (13.5000000000000, 9.00000000000000)$"
      ],
      "text/plain": [
       "<IPython.core.display.Latex object>"
      ]
     },
     "metadata": {},
     "output_type": "display_data"
    },
    {
     "data": {
      "text/latex": [
       "Actualización: $x_{k+1} = (2.40625000000000, 1.43750000000000), \\lambda = 0.0625$"
      ],
      "text/plain": [
       "<IPython.core.display.Latex object>"
      ]
     },
     "metadata": {},
     "output_type": "display_data"
    },
    {
     "data": {
      "text/latex": [
       "Iteración 2: $x_k = (2.40625000000000, 1.43750000000000), \\nabla f(x_k) = (-0.562500000000000, 1.12500000000000)$"
      ],
      "text/plain": [
       "<IPython.core.display.Latex object>"
      ]
     },
     "metadata": {},
     "output_type": "display_data"
    },
    {
     "data": {
      "text/latex": [
       "Actualización: $x_{k+1} = (2.44140625000000, 1.36718750000000), \\lambda = 0.0625$"
      ],
      "text/plain": [
       "<IPython.core.display.Latex object>"
      ]
     },
     "metadata": {},
     "output_type": "display_data"
    },
    {
     "data": {
      "text/latex": [
       "Iteración 3: $x_k = (2.44140625000000, 1.36718750000000), \\nabla f(x_k) = (-0.351562500000000, 0.703125000000000)$"
      ],
      "text/plain": [
       "<IPython.core.display.Latex object>"
      ]
     },
     "metadata": {},
     "output_type": "display_data"
    },
    {
     "data": {
      "text/latex": [
       "Actualización: $x_{k+1} = (2.46337890625000, 1.32324218750000), \\lambda = 0.0625$"
      ],
      "text/plain": [
       "<IPython.core.display.Latex object>"
      ]
     },
     "metadata": {},
     "output_type": "display_data"
    },
    {
     "data": {
      "text/latex": [
       "Iteración 4: $x_k = (2.46337890625000, 1.32324218750000), \\nabla f(x_k) = (-0.219726562500000, 0.439453125000000)$"
      ],
      "text/plain": [
       "<IPython.core.display.Latex object>"
      ]
     },
     "metadata": {},
     "output_type": "display_data"
    },
    {
     "data": {
      "text/latex": [
       "Actualización: $x_{k+1} = (2.47711181640625, 1.29577636718750), \\lambda = 0.0625$"
      ],
      "text/plain": [
       "<IPython.core.display.Latex object>"
      ]
     },
     "metadata": {},
     "output_type": "display_data"
    },
    {
     "data": {
      "text/latex": [
       "Iteración 5: $x_k = (2.47711181640625, 1.29577636718750), \\nabla f(x_k) = (-0.137329101562500, 0.274658203125000)$"
      ],
      "text/plain": [
       "<IPython.core.display.Latex object>"
      ]
     },
     "metadata": {},
     "output_type": "display_data"
    },
    {
     "data": {
      "text/latex": [
       "Actualización: $x_{k+1} = (2.48569488525391, 1.27861022949219), \\lambda = 0.0625$"
      ],
      "text/plain": [
       "<IPython.core.display.Latex object>"
      ]
     },
     "metadata": {},
     "output_type": "display_data"
    },
    {
     "data": {
      "text/latex": [
       "Iteración 6: $x_k = (2.48569488525391, 1.27861022949219), \\nabla f(x_k) = (-0.0858306884765625, 0.171661376953125)$"
      ],
      "text/plain": [
       "<IPython.core.display.Latex object>"
      ]
     },
     "metadata": {},
     "output_type": "display_data"
    },
    {
     "data": {
      "text/latex": [
       "Actualización: $x_{k+1} = (2.49105930328369, 1.26788139343262), \\lambda = 0.0625$"
      ],
      "text/plain": [
       "<IPython.core.display.Latex object>"
      ]
     },
     "metadata": {},
     "output_type": "display_data"
    },
    {
     "data": {
      "text/latex": [
       "Iteración 7: $x_k = (2.49105930328369, 1.26788139343262), \\nabla f(x_k) = (-0.0536441802978516, 0.107288360595703)$"
      ],
      "text/plain": [
       "<IPython.core.display.Latex object>"
      ]
     },
     "metadata": {},
     "output_type": "display_data"
    },
    {
     "data": {
      "text/latex": [
       "Actualización: $x_{k+1} = (2.49441206455231, 1.26117587089539), \\lambda = 0.0625$"
      ],
      "text/plain": [
       "<IPython.core.display.Latex object>"
      ]
     },
     "metadata": {},
     "output_type": "display_data"
    },
    {
     "data": {
      "text/latex": [
       "Iteración 8: $x_k = (2.49441206455231, 1.26117587089539), \\nabla f(x_k) = (-0.0335276126861572, 0.0670552253723145)$"
      ],
      "text/plain": [
       "<IPython.core.display.Latex object>"
      ]
     },
     "metadata": {},
     "output_type": "display_data"
    },
    {
     "data": {
      "text/latex": [
       "Actualización: $x_{k+1} = (2.49650754034519, 1.25698491930962), \\lambda = 0.0625$"
      ],
      "text/plain": [
       "<IPython.core.display.Latex object>"
      ]
     },
     "metadata": {},
     "output_type": "display_data"
    },
    {
     "data": {
      "text/latex": [
       "Iteración 9: $x_k = (2.49650754034519, 1.25698491930962), \\nabla f(x_k) = (-0.0209547579288483, 0.0419095158576965)$"
      ],
      "text/plain": [
       "<IPython.core.display.Latex object>"
      ]
     },
     "metadata": {},
     "output_type": "display_data"
    },
    {
     "data": {
      "text/latex": [
       "Actualización: $x_{k+1} = (2.49781721271574, 1.25436557456851), \\lambda = 0.0625$"
      ],
      "text/plain": [
       "<IPython.core.display.Latex object>"
      ]
     },
     "metadata": {},
     "output_type": "display_data"
    },
    {
     "data": {
      "text/latex": [
       "Iteración 10: $x_k = (2.49781721271574, 1.25436557456851), \\nabla f(x_k) = (-0.0130967237055302, 0.0261934474110603)$"
      ],
      "text/plain": [
       "<IPython.core.display.Latex object>"
      ]
     },
     "metadata": {},
     "output_type": "display_data"
    },
    {
     "data": {
      "text/latex": [
       "Actualización: $x_{k+1} = (2.49863575794734, 1.25272848410532), \\lambda = 0.0625$"
      ],
      "text/plain": [
       "<IPython.core.display.Latex object>"
      ]
     },
     "metadata": {},
     "output_type": "display_data"
    },
    {
     "data": {
      "text/latex": [
       "Iteración 11: $x_k = (2.49863575794734, 1.25272848410532), \\nabla f(x_k) = (-0.00818545231595635, 0.0163709046319127)$"
      ],
      "text/plain": [
       "<IPython.core.display.Latex object>"
      ]
     },
     "metadata": {},
     "output_type": "display_data"
    },
    {
     "data": {
      "text/latex": [
       "Actualización: $x_{k+1} = (2.49914734871709, 1.25170530256582), \\lambda = 0.0625$"
      ],
      "text/plain": [
       "<IPython.core.display.Latex object>"
      ]
     },
     "metadata": {},
     "output_type": "display_data"
    },
    {
     "data": {
      "text/latex": [
       "Iteración 12: $x_k = (2.49914734871709, 1.25170530256582), \\nabla f(x_k) = (-0.00511590769747272, 0.0102318153949454)$"
      ],
      "text/plain": [
       "<IPython.core.display.Latex object>"
      ]
     },
     "metadata": {},
     "output_type": "display_data"
    },
    {
     "data": {
      "text/latex": [
       "Actualización: $x_{k+1} = (2.49946709294818, 1.25106581410364), \\lambda = 0.0625$"
      ],
      "text/plain": [
       "<IPython.core.display.Latex object>"
      ]
     },
     "metadata": {},
     "output_type": "display_data"
    },
    {
     "data": {
      "text/latex": [
       "Iteración 13: $x_k = (2.49946709294818, 1.25106581410364), \\nabla f(x_k) = (-0.00319744231092045, 0.00639488462184090)$"
      ],
      "text/plain": [
       "<IPython.core.display.Latex object>"
      ]
     },
     "metadata": {},
     "output_type": "display_data"
    },
    {
     "data": {
      "text/latex": [
       "Actualización: $x_{k+1} = (2.49966693309261, 1.25066613381478), \\lambda = 0.0625$"
      ],
      "text/plain": [
       "<IPython.core.display.Latex object>"
      ]
     },
     "metadata": {},
     "output_type": "display_data"
    },
    {
     "data": {
      "text/latex": [
       "Iteración 14: $x_k = (2.49966693309261, 1.25066613381478), \\nabla f(x_k) = (-0.00199840144432528, 0.00399680288865056)$"
      ],
      "text/plain": [
       "<IPython.core.display.Latex object>"
      ]
     },
     "metadata": {},
     "output_type": "display_data"
    },
    {
     "data": {
      "text/latex": [
       "Actualización: $x_{k+1} = (2.49979183318288, 1.25041633363423), \\lambda = 0.0625$"
      ],
      "text/plain": [
       "<IPython.core.display.Latex object>"
      ]
     },
     "metadata": {},
     "output_type": "display_data"
    },
    {
     "data": {
      "text/latex": [
       "Iteración 15: $x_k = (2.49979183318288, 1.25041633363423), \\nabla f(x_k) = (-0.00124900090270330, 0.00249800180540660)$"
      ],
      "text/plain": [
       "<IPython.core.display.Latex object>"
      ]
     },
     "metadata": {},
     "output_type": "display_data"
    },
    {
     "data": {
      "text/latex": [
       "Actualización: $x_{k+1} = (2.49986989573930, 1.25026020852140), \\lambda = 0.0625$"
      ],
      "text/plain": [
       "<IPython.core.display.Latex object>"
      ]
     },
     "metadata": {},
     "output_type": "display_data"
    },
    {
     "data": {
      "text/latex": [
       "Iteración 16: $x_k = (2.49986989573930, 1.25026020852140), \\nabla f(x_k) = (-0.000780625564189563, 0.00156125112837913)$"
      ],
      "text/plain": [
       "<IPython.core.display.Latex object>"
      ]
     },
     "metadata": {},
     "output_type": "display_data"
    },
    {
     "data": {
      "text/latex": [
       "Actualización: $x_{k+1} = (2.49991868483706, 1.25016263032587), \\lambda = 0.0625$"
      ],
      "text/plain": [
       "<IPython.core.display.Latex object>"
      ]
     },
     "metadata": {},
     "output_type": "display_data"
    },
    {
     "data": {
      "text/latex": [
       "Iteración 17: $x_k = (2.49991868483706, 1.25016263032587), \\nabla f(x_k) = (-0.000487890977616701, 0.000975781955236954)$"
      ],
      "text/plain": [
       "<IPython.core.display.Latex object>"
      ]
     },
     "metadata": {},
     "output_type": "display_data"
    },
    {
     "data": {
      "text/latex": [
       "Actualización: $x_{k+1} = (2.49994917802316, 1.25010164395367), \\lambda = 0.0625$"
      ],
      "text/plain": [
       "<IPython.core.display.Latex object>"
      ]
     },
     "metadata": {},
     "output_type": "display_data"
    }
   ],
   "source": [
    "# Inicialización del algoritmo\n",
    "while sp.sqrt(grad_f[0].subs({x1: x_k[0], x2: x_k[1]})**2 + grad_f[1].subs({x1: x_k[0], x2: x_k[1]})**2) > epsilon:\n",
    "    grad_values = [g.subs({x1: x_k[0], x2: x_k[1]}) for g in grad_f]\n",
    "    display(Latex(f'Iteración {k}: $x_k = {x_k}, \\\\nabla f(x_k) = {tuple(grad_values)}$'))\n",
    "    m_k = 0\n",
    "    d_k = tuple(-g for g in grad_values)\n",
    "    \n",
    "    # Buscar m_k que satisface la condición de Armijo\n",
    "    while True:\n",
    "        x_new = tuple(x_k[i] + alpha * beta**m_k * d_k[i] for i in range(2))\n",
    "        lhs = f.subs({x1: x_new[0], x2: x_new[1]}) #Evaluamos por izquierda\n",
    "        rhs = f.subs({x1: x_k[0], x2: x_k[1]}) + sigma * alpha * beta**m_k * sum(d_k[i] * grad_values[i] for i in range(2)) #Evaluamos por derecha\n",
    "        if lhs <= rhs: # Momento en que se cumple la condición de Armijo\n",
    "            break\n",
    "        m_k += 1\n",
    "    \n",
    "    # Actualización de x_k\n",
    "    x_k = x_new\n",
    "    alpha *= beta**m_k\n",
    "    display(Latex(f'Actualización: $x_{{k+1}} = {x_k}, \\\\lambda = {alpha}$'))\n",
    "    k += 1"
   ]
  },
  {
   "cell_type": "code",
   "execution_count": null,
   "metadata": {},
   "outputs": [
    {
     "data": {
      "text/latex": [
       "El valor de $k$ cuando el gradiente es menor que $\\epsilon$ es: $18$"
      ],
      "text/plain": [
       "<IPython.core.display.Latex object>"
      ]
     },
     "metadata": {},
     "output_type": "display_data"
    },
    {
     "data": {
      "text/latex": [
       "Punto mínimo aproximado en: $(2.49994917802316, 1.25010164395367)$"
      ],
      "text/plain": [
       "<IPython.core.display.Latex object>"
      ]
     },
     "metadata": {},
     "output_type": "display_data"
    },
    {
     "data": {
      "text/latex": [
       "Valor de $f(x_1, x_2)$ en el mínimo: $57.5000000387431$"
      ],
      "text/plain": [
       "<IPython.core.display.Latex object>"
      ]
     },
     "metadata": {},
     "output_type": "display_data"
    }
   ],
   "source": [
    "display(Latex(f'El valor de $k$ cuando el gradiente es menor que $\\\\epsilon$ es: ${k}$'))\n",
    "display(Latex(f'Punto mínimo aproximado en: ${x_k}$'))\n",
    "display(Latex(f'Valor de $f(x_1, x_2)$ en el mínimo: ${f.subs({x1: x_k[0], x2: x_k[1]})}$'))"
   ]
  },
  {
   "cell_type": "markdown",
   "metadata": {},
   "source": [
    "<h2>Usando matriz traspuesta definida por Sympy</h2>"
   ]
  },
  {
   "cell_type": "code",
   "execution_count": 76,
   "metadata": {},
   "outputs": [
    {
     "data": {
      "text/latex": [
       "Calculamos el gradiente de la función $f$:$\\left[\\begin{matrix}2 x_{1} - 26 + \\frac{5}{- \\frac{x_{1}}{5} - \\frac{3 x_{2}}{5} + 2.4} + \\frac{12}{- \\frac{x_{1}}{3} + \\frac{x_{2}}{6} + 1} - \\frac{1}{x_{1}}\\\\2 x_{2} - 17 + \\frac{15}{- \\frac{x_{1}}{5} - \\frac{3 x_{2}}{5} + 2.4} - \\frac{6}{- \\frac{x_{1}}{3} + \\frac{x_{2}}{6} + 1} - \\frac{4}{x_{2}}\\end{matrix}\\right]$"
      ],
      "text/plain": [
       "<IPython.core.display.Latex object>"
      ]
     },
     "metadata": {},
     "output_type": "display_data"
    },
    {
     "data": {
      "text/latex": [
       "Valores del gradiente evaluado:$\\left[\\begin{matrix}-8.0\\\\-6.0\\end{matrix}\\right]$"
      ],
      "text/plain": [
       "<IPython.core.display.Latex object>"
      ]
     },
     "metadata": {},
     "output_type": "display_data"
    },
    {
     "data": {
      "text/latex": [
       "Iteración 0: $x_k =\\left[\\begin{matrix}1\\\\2\\end{matrix}\\right] \\nabla f(x_k) = \\left( -8.0, \\  -6.0\\right)$"
      ],
      "text/plain": [
       "<IPython.core.display.Latex object>"
      ]
     },
     "metadata": {},
     "output_type": "display_data"
    },
    {
     "data": {
      "text/latex": [
       "$x=\\left[\\begin{matrix}1.8\\\\2.6\\end{matrix}\\right]$"
      ],
      "text/plain": [
       "<IPython.core.display.Latex object>"
      ]
     },
     "metadata": {},
     "output_type": "display_data"
    },
    {
     "data": {
      "text/latex": [
       "$- 16 x_{1} - 7 x_{2} + \\left(x_{1} - 5\\right)^{2} + \\left(x_{2} - 5\\right)^{2} - \\log{\\left(x_{1} \\right)} - 4 \\log{\\left(\\frac{x_{2}}{2} \\right)} - 36 \\log{\\left(- \\frac{x_{1}}{3} + \\frac{x_{2}}{6} + 1 \\right)} - 25 \\log{\\left(- \\frac{x_{1}}{5} - \\frac{3 x_{2}}{5} + 2.4 \\right)} + 30$"
      ],
      "text/plain": [
       "<IPython.core.display.Latex object>"
      ]
     },
     "metadata": {},
     "output_type": "display_data"
    },
    {
     "name": "stdout",
     "output_type": "stream",
     "text": [
      "- 16 x_{1} - 7 x_{2} + \\left(x_{1} - 5\\right)^{2} + \\left(x_{2} - 5\\right)^{2} - \\log{\\left(x_{1} \\right)} - 4 \\log{\\left(\\frac{x_{2}}{2} \\right)} - 36 \\log{\\left(- \\frac{x_{1}}{3} + \\frac{x_{2}}{6} + 1 \\right)} - 25 \\log{\\left(- \\frac{x_{1}}{5} - \\frac{3 x_{2}}{5} + 2.4 \\right)} + 30\n"
     ]
    },
    {
     "data": {
      "text/latex": [
       "$f(x_{k+1}) = 22.2755616988153$"
      ],
      "text/plain": [
       "<IPython.core.display.Latex object>"
      ]
     },
     "metadata": {},
     "output_type": "display_data"
    },
    {
     "data": {
      "text/latex": [
       "$f(x_k) + \\sigma \\lambda \\nabla f(x_k) \\cdot d_k = 24.0000000000000$"
      ],
      "text/plain": [
       "<IPython.core.display.Latex object>"
      ]
     },
     "metadata": {},
     "output_type": "display_data"
    },
    {
     "data": {
      "text/latex": [
       "Actualización: $x_{k+1} = Matrix([[1.80000000000000], [2.60000000000000]]), \\lambda = 0.1$"
      ],
      "text/plain": [
       "<IPython.core.display.Latex object>"
      ]
     },
     "metadata": {},
     "output_type": "display_data"
    },
    {
     "data": {
      "text/latex": [
       "Valores del gradiente evaluado:$\\left[\\begin{matrix}1.86111111111111\\\\10.7115384615384\\end{matrix}\\right]$"
      ],
      "text/plain": [
       "<IPython.core.display.Latex object>"
      ]
     },
     "metadata": {},
     "output_type": "display_data"
    },
    {
     "data": {
      "text/latex": [
       "Iteración 1: $x_k =\\left[\\begin{matrix}1.8\\\\2.6\\end{matrix}\\right] \\nabla f(x_k) = \\left( 1.86111111111111, \\  10.7115384615384\\right)$"
      ],
      "text/plain": [
       "<IPython.core.display.Latex object>"
      ]
     },
     "metadata": {},
     "output_type": "display_data"
    },
    {
     "data": {
      "text/latex": [
       "$x=\\left[\\begin{matrix}1.61388888888889\\\\1.52884615384616\\end{matrix}\\right]$"
      ],
      "text/plain": [
       "<IPython.core.display.Latex object>"
      ]
     },
     "metadata": {},
     "output_type": "display_data"
    },
    {
     "data": {
      "text/latex": [
       "$- 16 x_{1} - 7 x_{2} + \\left(x_{1} - 5\\right)^{2} + \\left(x_{2} - 5\\right)^{2} - \\log{\\left(x_{1} \\right)} - 4 \\log{\\left(\\frac{x_{2}}{2} \\right)} - 36 \\log{\\left(- \\frac{x_{1}}{3} + \\frac{x_{2}}{6} + 1 \\right)} - 25 \\log{\\left(- \\frac{x_{1}}{5} - \\frac{3 x_{2}}{5} + 2.4 \\right)} + 30$"
      ],
      "text/plain": [
       "<IPython.core.display.Latex object>"
      ]
     },
     "metadata": {},
     "output_type": "display_data"
    },
    {
     "name": "stdout",
     "output_type": "stream",
     "text": [
      "- 16 x_{1} - 7 x_{2} + \\left(x_{1} - 5\\right)^{2} + \\left(x_{2} - 5\\right)^{2} - \\log{\\left(x_{1} \\right)} - 4 \\log{\\left(\\frac{x_{2}}{2} \\right)} - 36 \\log{\\left(- \\frac{x_{1}}{3} + \\frac{x_{2}}{6} + 1 \\right)} - 25 \\log{\\left(- \\frac{x_{1}}{5} - \\frac{3 x_{2}}{5} + 2.4 \\right)} + 30\n"
     ]
    },
    {
     "data": {
      "text/latex": [
       "$f(x_{k+1}) = 25.8619995756417$"
      ],
      "text/plain": [
       "<IPython.core.display.Latex object>"
      ]
     },
     "metadata": {},
     "output_type": "display_data"
    },
    {
     "data": {
      "text/latex": [
       "$f(x_k) + \\sigma \\lambda \\nabla f(x_k) \\cdot d_k = 21.0935537910061$"
      ],
      "text/plain": [
       "<IPython.core.display.Latex object>"
      ]
     },
     "metadata": {},
     "output_type": "display_data"
    },
    {
     "data": {
      "text/latex": [
       "$x=\\left[\\begin{matrix}1.70694444444444\\\\2.06442307692308\\end{matrix}\\right]$"
      ],
      "text/plain": [
       "<IPython.core.display.Latex object>"
      ]
     },
     "metadata": {},
     "output_type": "display_data"
    },
    {
     "data": {
      "text/latex": [
       "$- 16 x_{1} - 7 x_{2} + \\left(x_{1} - 5\\right)^{2} + \\left(x_{2} - 5\\right)^{2} - \\log{\\left(x_{1} \\right)} - 4 \\log{\\left(\\frac{x_{2}}{2} \\right)} - 36 \\log{\\left(- \\frac{x_{1}}{3} + \\frac{x_{2}}{6} + 1 \\right)} - 25 \\log{\\left(- \\frac{x_{1}}{5} - \\frac{3 x_{2}}{5} + 2.4 \\right)} + 30$"
      ],
      "text/plain": [
       "<IPython.core.display.Latex object>"
      ]
     },
     "metadata": {},
     "output_type": "display_data"
    },
    {
     "name": "stdout",
     "output_type": "stream",
     "text": [
      "- 16 x_{1} - 7 x_{2} + \\left(x_{1} - 5\\right)^{2} + \\left(x_{2} - 5\\right)^{2} - \\log{\\left(x_{1} \\right)} - 4 \\log{\\left(\\frac{x_{2}}{2} \\right)} - 36 \\log{\\left(- \\frac{x_{1}}{3} + \\frac{x_{2}}{6} + 1 \\right)} - 25 \\log{\\left(- \\frac{x_{1}}{5} - \\frac{3 x_{2}}{5} + 2.4 \\right)} + 30\n"
     ]
    },
    {
     "data": {
      "text/latex": [
       "$f(x_{k+1}) = 21.1727966899784$"
      ],
      "text/plain": [
       "<IPython.core.display.Latex object>"
      ]
     },
     "metadata": {},
     "output_type": "display_data"
    },
    {
     "data": {
      "text/latex": [
       "$f(x_k) + \\sigma \\lambda \\nabla f(x_k) \\cdot d_k = 21.6845577449107$"
      ],
      "text/plain": [
       "<IPython.core.display.Latex object>"
      ]
     },
     "metadata": {},
     "output_type": "display_data"
    },
    {
     "data": {
      "text/latex": [
       "Actualización: $x_{k+1} = Matrix([[1.70694444444444], [2.06442307692308]]), \\lambda = 0.05$"
      ],
      "text/plain": [
       "<IPython.core.display.Latex object>"
      ]
     },
     "metadata": {},
     "output_type": "display_data"
    },
    {
     "data": {
      "text/latex": [
       "Valores del gradiente evaluado:$\\left[\\begin{matrix}-1.59198208894238\\\\-4.25615106014346\\end{matrix}\\right]$"
      ],
      "text/plain": [
       "<IPython.core.display.Latex object>"
      ]
     },
     "metadata": {},
     "output_type": "display_data"
    },
    {
     "data": {
      "text/latex": [
       "Iteración 2: $x_k =\\left[\\begin{matrix}1.70694444444444\\\\2.06442307692308\\end{matrix}\\right] \\nabla f(x_k) = \\left( -1.59198208894238, \\  -4.25615106014346\\right)$"
      ],
      "text/plain": [
       "<IPython.core.display.Latex object>"
      ]
     },
     "metadata": {},
     "output_type": "display_data"
    },
    {
     "data": {
      "text/latex": [
       "$x=\\left[\\begin{matrix}1.78654354889156\\\\2.27723062993025\\end{matrix}\\right]$"
      ],
      "text/plain": [
       "<IPython.core.display.Latex object>"
      ]
     },
     "metadata": {},
     "output_type": "display_data"
    },
    {
     "data": {
      "text/latex": [
       "$- 16 x_{1} - 7 x_{2} + \\left(x_{1} - 5\\right)^{2} + \\left(x_{2} - 5\\right)^{2} - \\log{\\left(x_{1} \\right)} - 4 \\log{\\left(\\frac{x_{2}}{2} \\right)} - 36 \\log{\\left(- \\frac{x_{1}}{3} + \\frac{x_{2}}{6} + 1 \\right)} - 25 \\log{\\left(- \\frac{x_{1}}{5} - \\frac{3 x_{2}}{5} + 2.4 \\right)} + 30$"
      ],
      "text/plain": [
       "<IPython.core.display.Latex object>"
      ]
     },
     "metadata": {},
     "output_type": "display_data"
    },
    {
     "name": "stdout",
     "output_type": "stream",
     "text": [
      "- 16 x_{1} - 7 x_{2} + \\left(x_{1} - 5\\right)^{2} + \\left(x_{2} - 5\\right)^{2} - \\log{\\left(x_{1} \\right)} - 4 \\log{\\left(\\frac{x_{2}}{2} \\right)} - 36 \\log{\\left(- \\frac{x_{1}}{3} + \\frac{x_{2}}{6} + 1 \\right)} - 25 \\log{\\left(- \\frac{x_{1}}{5} - \\frac{3 x_{2}}{5} + 2.4 \\right)} + 30\n"
     ]
    },
    {
     "data": {
      "text/latex": [
       "$f(x_{k+1}) = 20.6503037438511$"
      ],
      "text/plain": [
       "<IPython.core.display.Latex object>"
      ]
     },
     "metadata": {},
     "output_type": "display_data"
    },
    {
     "data": {
      "text/latex": [
       "$f(x_k) + \\sigma \\lambda \\nabla f(x_k) \\cdot d_k = 21.0695505458870$"
      ],
      "text/plain": [
       "<IPython.core.display.Latex object>"
      ]
     },
     "metadata": {},
     "output_type": "display_data"
    },
    {
     "data": {
      "text/latex": [
       "Actualización: $x_{k+1} = Matrix([[1.78654354889156], [2.27723062993025]]), \\lambda = 0.05$"
      ],
      "text/plain": [
       "<IPython.core.display.Latex object>"
      ]
     },
     "metadata": {},
     "output_type": "display_data"
    },
    {
     "data": {
      "text/latex": [
       "Valores del gradiente evaluado:$\\left[\\begin{matrix}-0.288407203535012\\\\0.322885042774711\\end{matrix}\\right]$"
      ],
      "text/plain": [
       "<IPython.core.display.Latex object>"
      ]
     },
     "metadata": {},
     "output_type": "display_data"
    },
    {
     "data": {
      "text/latex": [
       "Iteración 3: $x_k =\\left[\\begin{matrix}1.78654354889156\\\\2.27723062993025\\end{matrix}\\right] \\nabla f(x_k) = \\left( -0.288407203535012, \\  0.322885042774711\\right)$"
      ],
      "text/plain": [
       "<IPython.core.display.Latex object>"
      ]
     },
     "metadata": {},
     "output_type": "display_data"
    },
    {
     "data": {
      "text/latex": [
       "$x=\\left[\\begin{matrix}1.80096390906831\\\\2.26108637779152\\end{matrix}\\right]$"
      ],
      "text/plain": [
       "<IPython.core.display.Latex object>"
      ]
     },
     "metadata": {},
     "output_type": "display_data"
    },
    {
     "data": {
      "text/latex": [
       "$- 16 x_{1} - 7 x_{2} + \\left(x_{1} - 5\\right)^{2} + \\left(x_{2} - 5\\right)^{2} - \\log{\\left(x_{1} \\right)} - 4 \\log{\\left(\\frac{x_{2}}{2} \\right)} - 36 \\log{\\left(- \\frac{x_{1}}{3} + \\frac{x_{2}}{6} + 1 \\right)} - 25 \\log{\\left(- \\frac{x_{1}}{5} - \\frac{3 x_{2}}{5} + 2.4 \\right)} + 30$"
      ],
      "text/plain": [
       "<IPython.core.display.Latex object>"
      ]
     },
     "metadata": {},
     "output_type": "display_data"
    },
    {
     "name": "stdout",
     "output_type": "stream",
     "text": [
      "- 16 x_{1} - 7 x_{2} + \\left(x_{1} - 5\\right)^{2} + \\left(x_{2} - 5\\right)^{2} - \\log{\\left(x_{1} \\right)} - 4 \\log{\\left(\\frac{x_{2}}{2} \\right)} - 36 \\log{\\left(- \\frac{x_{1}}{3} + \\frac{x_{2}}{6} + 1 \\right)} - 25 \\log{\\left(- \\frac{x_{1}}{5} - \\frac{3 x_{2}}{5} + 2.4 \\right)} + 30\n"
     ]
    },
    {
     "data": {
      "text/latex": [
       "$f(x_{k+1}) = 20.6444467093940$"
      ],
      "text/plain": [
       "<IPython.core.display.Latex object>"
      ]
     },
     "metadata": {},
     "output_type": "display_data"
    },
    {
     "data": {
      "text/latex": [
       "$f(x_k) + \\sigma \\lambda \\nabla f(x_k) \\cdot d_k = 20.6493665765216$"
      ],
      "text/plain": [
       "<IPython.core.display.Latex object>"
      ]
     },
     "metadata": {},
     "output_type": "display_data"
    },
    {
     "data": {
      "text/latex": [
       "Actualización: $x_{k+1} = Matrix([[1.80096390906831], [2.26108637779152]]), \\lambda = 0.05$"
      ],
      "text/plain": [
       "<IPython.core.display.Latex object>"
      ]
     },
     "metadata": {},
     "output_type": "display_data"
    },
    {
     "data": {
      "text/latex": [
       "Valores del gradiente evaluado:$\\left[\\begin{matrix}-0.180917190607333\\\\-0.0166682827085687\\end{matrix}\\right]$"
      ],
      "text/plain": [
       "<IPython.core.display.Latex object>"
      ]
     },
     "metadata": {},
     "output_type": "display_data"
    },
    {
     "data": {
      "text/latex": [
       "Iteración 4: $x_k =\\left[\\begin{matrix}1.80096390906831\\\\2.26108637779152\\end{matrix}\\right] \\nabla f(x_k) = \\left( -0.180917190607333, \\  -0.0166682827085687\\right)$"
      ],
      "text/plain": [
       "<IPython.core.display.Latex object>"
      ]
     },
     "metadata": {},
     "output_type": "display_data"
    },
    {
     "data": {
      "text/latex": [
       "$x=\\left[\\begin{matrix}1.81000976859868\\\\2.26191979192694\\end{matrix}\\right]$"
      ],
      "text/plain": [
       "<IPython.core.display.Latex object>"
      ]
     },
     "metadata": {},
     "output_type": "display_data"
    },
    {
     "data": {
      "text/latex": [
       "$- 16 x_{1} - 7 x_{2} + \\left(x_{1} - 5\\right)^{2} + \\left(x_{2} - 5\\right)^{2} - \\log{\\left(x_{1} \\right)} - 4 \\log{\\left(\\frac{x_{2}}{2} \\right)} - 36 \\log{\\left(- \\frac{x_{1}}{3} + \\frac{x_{2}}{6} + 1 \\right)} - 25 \\log{\\left(- \\frac{x_{1}}{5} - \\frac{3 x_{2}}{5} + 2.4 \\right)} + 30$"
      ],
      "text/plain": [
       "<IPython.core.display.Latex object>"
      ]
     },
     "metadata": {},
     "output_type": "display_data"
    },
    {
     "name": "stdout",
     "output_type": "stream",
     "text": [
      "- 16 x_{1} - 7 x_{2} + \\left(x_{1} - 5\\right)^{2} + \\left(x_{2} - 5\\right)^{2} - \\log{\\left(x_{1} \\right)} - 4 \\log{\\left(\\frac{x_{2}}{2} \\right)} - 36 \\log{\\left(- \\frac{x_{1}}{3} + \\frac{x_{2}}{6} + 1 \\right)} - 25 \\log{\\left(- \\frac{x_{1}}{5} - \\frac{3 x_{2}}{5} + 2.4 \\right)} + 30\n"
     ]
    },
    {
     "data": {
      "text/latex": [
       "$f(x_{k+1}) = 20.6432823661545$"
      ],
      "text/plain": [
       "<IPython.core.display.Latex object>"
      ]
     },
     "metadata": {},
     "output_type": "display_data"
    },
    {
     "data": {
      "text/latex": [
       "$f(x_k) + \\sigma \\lambda \\nabla f(x_k) \\cdot d_k = 20.6442816650864$"
      ],
      "text/plain": [
       "<IPython.core.display.Latex object>"
      ]
     },
     "metadata": {},
     "output_type": "display_data"
    },
    {
     "data": {
      "text/latex": [
       "Actualización: $x_{k+1} = Matrix([[1.81000976859868], [2.26191979192694]]), \\lambda = 0.05$"
      ],
      "text/plain": [
       "<IPython.core.display.Latex object>"
      ]
     },
     "metadata": {},
     "output_type": "display_data"
    },
    {
     "data": {
      "text/latex": [
       "Valores del gradiente evaluado:$\\left[\\begin{matrix}-0.077771809002364\\\\0.031394060231932\\end{matrix}\\right]$"
      ],
      "text/plain": [
       "<IPython.core.display.Latex object>"
      ]
     },
     "metadata": {},
     "output_type": "display_data"
    },
    {
     "data": {
      "text/latex": [
       "Iteración 5: $x_k =\\left[\\begin{matrix}1.81000976859868\\\\2.26191979192694\\end{matrix}\\right] \\nabla f(x_k) = \\left( -0.077771809002364, \\  0.031394060231932\\right)$"
      ],
      "text/plain": [
       "<IPython.core.display.Latex object>"
      ]
     },
     "metadata": {},
     "output_type": "display_data"
    },
    {
     "data": {
      "text/latex": [
       "$x=\\left[\\begin{matrix}1.8138983590488\\\\2.26035008891535\\end{matrix}\\right]$"
      ],
      "text/plain": [
       "<IPython.core.display.Latex object>"
      ]
     },
     "metadata": {},
     "output_type": "display_data"
    },
    {
     "data": {
      "text/latex": [
       "$- 16 x_{1} - 7 x_{2} + \\left(x_{1} - 5\\right)^{2} + \\left(x_{2} - 5\\right)^{2} - \\log{\\left(x_{1} \\right)} - 4 \\log{\\left(\\frac{x_{2}}{2} \\right)} - 36 \\log{\\left(- \\frac{x_{1}}{3} + \\frac{x_{2}}{6} + 1 \\right)} - 25 \\log{\\left(- \\frac{x_{1}}{5} - \\frac{3 x_{2}}{5} + 2.4 \\right)} + 30$"
      ],
      "text/plain": [
       "<IPython.core.display.Latex object>"
      ]
     },
     "metadata": {},
     "output_type": "display_data"
    },
    {
     "name": "stdout",
     "output_type": "stream",
     "text": [
      "- 16 x_{1} - 7 x_{2} + \\left(x_{1} - 5\\right)^{2} + \\left(x_{2} - 5\\right)^{2} - \\log{\\left(x_{1} \\right)} - 4 \\log{\\left(\\frac{x_{2}}{2} \\right)} - 36 \\log{\\left(- \\frac{x_{1}}{3} + \\frac{x_{2}}{6} + 1 \\right)} - 25 \\log{\\left(- \\frac{x_{1}}{5} - \\frac{3 x_{2}}{5} + 2.4 \\right)} + 30\n"
     ]
    },
    {
     "data": {
      "text/latex": [
       "$f(x_{k+1}) = 20.6430253232896$"
      ],
      "text/plain": [
       "<IPython.core.display.Latex object>"
      ]
     },
     "metadata": {},
     "output_type": "display_data"
    },
    {
     "data": {
      "text/latex": [
       "$f(x_k) + \\sigma \\lambda \\nabla f(x_k) \\cdot d_k = 20.6432471959481$"
      ],
      "text/plain": [
       "<IPython.core.display.Latex object>"
      ]
     },
     "metadata": {},
     "output_type": "display_data"
    },
    {
     "data": {
      "text/latex": [
       "Actualización: $x_{k+1} = Matrix([[1.81389835904880], [2.26035008891535]]), \\lambda = 0.05$"
      ],
      "text/plain": [
       "<IPython.core.display.Latex object>"
      ]
     },
     "metadata": {},
     "output_type": "display_data"
    },
    {
     "data": {
      "text/latex": [
       "Valores del gradiente evaluado:$\\left[\\begin{matrix}-0.0392842840932524\\\\0.00606985615373645\\end{matrix}\\right]$"
      ],
      "text/plain": [
       "<IPython.core.display.Latex object>"
      ]
     },
     "metadata": {},
     "output_type": "display_data"
    },
    {
     "data": {
      "text/latex": [
       "Iteración 6: $x_k =\\left[\\begin{matrix}1.8138983590488\\\\2.26035008891535\\end{matrix}\\right] \\nabla f(x_k) = \\left( -0.0392842840932524, \\  0.00606985615373645\\right)$"
      ],
      "text/plain": [
       "<IPython.core.display.Latex object>"
      ]
     },
     "metadata": {},
     "output_type": "display_data"
    },
    {
     "data": {
      "text/latex": [
       "$x=\\left[\\begin{matrix}1.81586257325346\\\\2.26004659610766\\end{matrix}\\right]$"
      ],
      "text/plain": [
       "<IPython.core.display.Latex object>"
      ]
     },
     "metadata": {},
     "output_type": "display_data"
    },
    {
     "data": {
      "text/latex": [
       "$- 16 x_{1} - 7 x_{2} + \\left(x_{1} - 5\\right)^{2} + \\left(x_{2} - 5\\right)^{2} - \\log{\\left(x_{1} \\right)} - 4 \\log{\\left(\\frac{x_{2}}{2} \\right)} - 36 \\log{\\left(- \\frac{x_{1}}{3} + \\frac{x_{2}}{6} + 1 \\right)} - 25 \\log{\\left(- \\frac{x_{1}}{5} - \\frac{3 x_{2}}{5} + 2.4 \\right)} + 30$"
      ],
      "text/plain": [
       "<IPython.core.display.Latex object>"
      ]
     },
     "metadata": {},
     "output_type": "display_data"
    },
    {
     "name": "stdout",
     "output_type": "stream",
     "text": [
      "- 16 x_{1} - 7 x_{2} + \\left(x_{1} - 5\\right)^{2} + \\left(x_{2} - 5\\right)^{2} - \\log{\\left(x_{1} \\right)} - 4 \\log{\\left(\\frac{x_{2}}{2} \\right)} - 36 \\log{\\left(- \\frac{x_{1}}{3} + \\frac{x_{2}}{6} + 1 \\right)} - 25 \\log{\\left(- \\frac{x_{1}}{5} - \\frac{3 x_{2}}{5} + 2.4 \\right)} + 30\n"
     ]
    },
    {
     "data": {
      "text/latex": [
       "$f(x_{k+1}) = 20.6429671183315$"
      ],
      "text/plain": [
       "<IPython.core.display.Latex object>"
      ]
     },
     "metadata": {},
     "output_type": "display_data"
    },
    {
     "data": {
      "text/latex": [
       "$f(x_k) + \\sigma \\lambda \\nabla f(x_k) \\cdot d_k = 20.6430174227990$"
      ],
      "text/plain": [
       "<IPython.core.display.Latex object>"
      ]
     },
     "metadata": {},
     "output_type": "display_data"
    },
    {
     "data": {
      "text/latex": [
       "Actualización: $x_{k+1} = Matrix([[1.81586257325346], [2.26004659610766]]), \\lambda = 0.05$"
      ],
      "text/plain": [
       "<IPython.core.display.Latex object>"
      ]
     },
     "metadata": {},
     "output_type": "display_data"
    },
    {
     "data": {
      "text/latex": [
       "Valores del gradiente evaluado:$\\left[\\begin{matrix}-0.018275681055604\\\\0.00493807082989761\\end{matrix}\\right]$"
      ],
      "text/plain": [
       "<IPython.core.display.Latex object>"
      ]
     },
     "metadata": {},
     "output_type": "display_data"
    },
    {
     "data": {
      "text/latex": [
       "Iteración 7: $x_k =\\left[\\begin{matrix}1.81586257325346\\\\2.26004659610766\\end{matrix}\\right] \\nabla f(x_k) = \\left( -0.018275681055604, \\  0.00493807082989761\\right)$"
      ],
      "text/plain": [
       "<IPython.core.display.Latex object>"
      ]
     },
     "metadata": {},
     "output_type": "display_data"
    },
    {
     "data": {
      "text/latex": [
       "$x=\\left[\\begin{matrix}1.81677635730624\\\\2.25979969256617\\end{matrix}\\right]$"
      ],
      "text/plain": [
       "<IPython.core.display.Latex object>"
      ]
     },
     "metadata": {},
     "output_type": "display_data"
    },
    {
     "data": {
      "text/latex": [
       "$- 16 x_{1} - 7 x_{2} + \\left(x_{1} - 5\\right)^{2} + \\left(x_{2} - 5\\right)^{2} - \\log{\\left(x_{1} \\right)} - 4 \\log{\\left(\\frac{x_{2}}{2} \\right)} - 36 \\log{\\left(- \\frac{x_{1}}{3} + \\frac{x_{2}}{6} + 1 \\right)} - 25 \\log{\\left(- \\frac{x_{1}}{5} - \\frac{3 x_{2}}{5} + 2.4 \\right)} + 30$"
      ],
      "text/plain": [
       "<IPython.core.display.Latex object>"
      ]
     },
     "metadata": {},
     "output_type": "display_data"
    },
    {
     "name": "stdout",
     "output_type": "stream",
     "text": [
      "- 16 x_{1} - 7 x_{2} + \\left(x_{1} - 5\\right)^{2} + \\left(x_{2} - 5\\right)^{2} - \\log{\\left(x_{1} \\right)} - 4 \\log{\\left(\\frac{x_{2}}{2} \\right)} - 36 \\log{\\left(- \\frac{x_{1}}{3} + \\frac{x_{2}}{6} + 1 \\right)} - 25 \\log{\\left(- \\frac{x_{1}}{5} - \\frac{3 x_{2}}{5} + 2.4 \\right)} + 30\n"
     ]
    },
    {
     "data": {
      "text/latex": [
       "$f(x_{k+1}) = 20.6429538949835$"
      ],
      "text/plain": [
       "<IPython.core.display.Latex object>"
      ]
     },
     "metadata": {},
     "output_type": "display_data"
    },
    {
     "data": {
      "text/latex": [
       "$f(x_k) + \\sigma \\lambda \\nabla f(x_k) \\cdot d_k = 20.6429653264062$"
      ],
      "text/plain": [
       "<IPython.core.display.Latex object>"
      ]
     },
     "metadata": {},
     "output_type": "display_data"
    },
    {
     "data": {
      "text/latex": [
       "Actualización: $x_{k+1} = Matrix([[1.81677635730624], [2.25979969256617]]), \\lambda = 0.05$"
      ],
      "text/plain": [
       "<IPython.core.display.Latex object>"
      ]
     },
     "metadata": {},
     "output_type": "display_data"
    },
    {
     "data": {
      "text/latex": [
       "El valor de $k$ cuando el gradiente es menor que $\\epsilon$ es: $8$"
      ],
      "text/plain": [
       "<IPython.core.display.Latex object>"
      ]
     },
     "metadata": {},
     "output_type": "display_data"
    },
    {
     "data": {
      "text/latex": [
       "Punto mínimo aproximado en: $Matrix([[1.81677635730624], [2.25979969256617]])$"
      ],
      "text/plain": [
       "<IPython.core.display.Latex object>"
      ]
     },
     "metadata": {},
     "output_type": "display_data"
    },
    {
     "data": {
      "text/latex": [
       "Valor de $f(x_1, x_2)$ en el mínimo: $20.6429538949835$"
      ],
      "text/plain": [
       "<IPython.core.display.Latex object>"
      ]
     },
     "metadata": {},
     "output_type": "display_data"
    }
   ],
   "source": [
    "import sympy as sp\n",
    "from IPython.display import display, Latex\n",
    "\n",
    "# Definir las variables simbólicas y los parámetros\n",
    "x1, x2 = sp.symbols('x1 x2')\n",
    "grad_f = sp.Matrix([sp.diff(f, x1), sp.diff(f, x2)])\n",
    "display(Latex('Calculamos el gradiente de la función $f$:$'+ sp.latex(grad_f)+'$'))\n",
    "x_k = sp.Matrix([1,2])  # Punto inicial\n",
    "alpha = 0.1  # Tamaño de paso inicial\n",
    "beta = 1/2\n",
    "sigma = 0.1\n",
    "epsilon = 0.01\n",
    "k = 0  # Contador de iteraciones\n",
    "\n",
    "# Inicialización del algoritmo\n",
    "while sp.sqrt(grad_f.subs({x1: x_k[0], x2: x_k[1]}).dot(grad_f.subs({x1: x_k[0], x2: x_k[1]}))) > epsilon:\n",
    "    grad_values = grad_f.subs({x1: x_k[0], x2: x_k[1]})\n",
    "    display(Latex('Valores del gradiente evaluado:$'+ sp.latex(grad_values)+'$'))\n",
    "    display(Latex(f'Iteración {k}: $x_k =' + sp.latex(x_k) +' \\\\nabla f(x_k) = '+sp.latex(tuple(grad_values))+'$'))\n",
    "    m_k = 0\n",
    "    d_k = -grad_values\n",
    "    \n",
    "    # Buscar m_k que satisface la condición de Armijo\n",
    "    while True:\n",
    "        x_new = x_k + alpha * beta**m_k * d_k\n",
    "        display(Latex('$x='+sp.latex(x_new)+'$'))\n",
    "        lhs = f.subs({x1: x_new[0].as_real_imag()[0], x2: x_new[1].as_real_imag()[0]}).evalf()\n",
    "        display(Latex('$'+sp.latex(f)+'$'))\n",
    "        print(sp.latex(f))\n",
    "        display(Latex(f'$f(x_{{k+1}}) = {lhs}$'))\n",
    "        rhs = f.subs({x1: x_k[0], x2: x_k[1]}).evalf() + sigma * alpha * beta**m_k * (grad_values.T * d_k)[0]\n",
    "        display(Latex(f'$f(x_k) + \\\\sigma \\\\lambda \\\\nabla f(x_k) \\\\cdot d_k = {rhs}$'))\n",
    "        if lhs <= rhs:\n",
    "            break\n",
    "        m_k += 1\n",
    "    \n",
    "    # Actualización de x_k\n",
    "    x_k = x_new\n",
    "    alpha *= beta**m_k\n",
    "    display(Latex(f'Actualización: $x_{{k+1}} = {x_k}, \\\\lambda = {alpha}$'))\n",
    "    k += 1\n",
    "\n",
    "display(Latex(f'El valor de $k$ cuando el gradiente es menor que $\\\\epsilon$ es: ${k}$'))\n",
    "display(Latex(f'Punto mínimo aproximado en: ${x_k}$'))\n",
    "display(Latex(f'Valor de $f(x_1, x_2)$ en el mínimo: ${f.subs({x1: x_k[0], x2: x_k[1]})}$'))\n"
   ]
  },
  {
   "cell_type": "markdown",
   "metadata": {},
   "source": [
    "<h2>Error: </h2> \n"
   ]
  },
  {
   "cell_type": "code",
   "execution_count": null,
   "metadata": {},
   "outputs": [
    {
     "data": {
      "text/latex": [
       "$\\displaystyle 0.0007105427357601$"
      ],
      "text/plain": [
       "0.000710542735760100"
      ]
     },
     "execution_count": 45,
     "metadata": {},
     "output_type": "execute_result"
    }
   ],
   "source": [
    "2.5-x_k[0]"
   ]
  },
  {
   "cell_type": "code",
   "execution_count": null,
   "metadata": {},
   "outputs": [
    {
     "data": {
      "text/latex": [
       "$\\displaystyle -0.0014210854715202$"
      ],
      "text/plain": [
       "-0.00142108547152020"
      ]
     },
     "execution_count": 46,
     "metadata": {},
     "output_type": "execute_result"
    }
   ],
   "source": [
    "1.25-x_k[1]"
   ]
  }
 ],
 "metadata": {
  "kernelspec": {
   "display_name": "mathematix",
   "language": "python",
   "name": "python3"
  },
  "language_info": {
   "codemirror_mode": {
    "name": "ipython",
    "version": 3
   },
   "file_extension": ".py",
   "mimetype": "text/x-python",
   "name": "python",
   "nbconvert_exporter": "python",
   "pygments_lexer": "ipython3",
   "version": "3.10.11"
  }
 },
 "nbformat": 4,
 "nbformat_minor": 2
}
