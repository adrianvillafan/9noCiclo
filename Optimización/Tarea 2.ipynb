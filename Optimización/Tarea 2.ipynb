{
 "cells": [
  {
   "cell_type": "code",
   "execution_count": 2,
   "metadata": {},
   "outputs": [],
   "source": [
    "import sympy as sp\n",
    "from IPython.display import display, Latex"
   ]
  },
  {
   "cell_type": "code",
   "execution_count": 3,
   "metadata": {},
   "outputs": [
    {
     "data": {
      "text/latex": [
       "Declaramos datos del ejercicio:"
      ],
      "text/plain": [
       "<IPython.core.display.Latex object>"
      ]
     },
     "metadata": {},
     "output_type": "display_data"
    },
    {
     "data": {
      "text/latex": [
       "$\\displaystyle f(x_{1}, x_{2}) = - x_{1} \\cdot \\left(50 - 5 x_{1}\\right) + 10 x_{1} - x_{2} \\cdot \\left(30 - 2 x_{2}\\right) + 10 x_{2} + 2 \\left(x_{1} + x_{2}\\right)^{2} + 120$"
      ],
      "text/plain": [
       "Eq(f(x_{1}, x_{2}), -x1*(50 - 5*x1) + 10*x1 - x2*(30 - 2*x2) + 10*x2 + 2*(x1 + x2)**2 + 120)"
      ]
     },
     "metadata": {},
     "output_type": "display_data"
    },
    {
     "data": {
      "text/latex": [
       "$\\displaystyle x_{0} = \\left( 2, \\  3\\right)$"
      ],
      "text/plain": [
       "Eq(x_0, (2, 3))"
      ]
     },
     "metadata": {},
     "output_type": "display_data"
    }
   ],
   "source": [
    "# Definir variables simbólicas\n",
    "from sympy import Eq\n",
    "\n",
    "\n",
    "x1, x2 = sp.symbols('x1 x2')\n",
    "# Definir la función objetivo y punto inicial\n",
    "#f = (((x1-x2)**2) + (x1**2 - x2 + 5)**2)**(1/2)   # Ejercicio 1 a\n",
    "f =   ( ((50-5*(x1))*x1)+((30-2*x2)*x2) - (2*((x1+x2)**2) + 10*(x1+x2)+120)  )*(-1)\n",
    "#f = 70*x1 -(13/6)*x1**2 + 6* x1*x2 + 120*x2 - 5 * x2**2 -90 \n",
    "#f = -150*(x1+x2) + (0.2*x1**2 +40*x1 + 0.25*x2**2 +20 *x2 + 6375) # Ejercicio 1 d\n",
    "#f = -(42*x1 + 51*x2) + (1.5*x1**2 + 3*x1*x2 + 2*x2**2 +34.5) # Ejercicio 2\n",
    "\n",
    "\n",
    "x_0 = (2,3)\n",
    "\n",
    "# Mostrar datos del ejercicio\n",
    "display(Latex('Declaramos datos del ejercicio:'))\n",
    "\n",
    "display(Eq(sp.Symbol('f(x_{1}, x_{2})'), f), Eq(sp.Symbol('x_0'), x_0))"
   ]
  },
  {
   "cell_type": "code",
   "execution_count": 4,
   "metadata": {},
   "outputs": [
    {
     "data": {
      "text/latex": [
       "Calculamos el gradiente de la función:"
      ],
      "text/plain": [
       "<IPython.core.display.Latex object>"
      ]
     },
     "metadata": {},
     "output_type": "display_data"
    },
    {
     "data": {
      "text/latex": [
       "$\\nabla f(x_1, x_2) = (14 x_{1} + 4 x_{2} - 40, 4 x_{1} + 8 x_{2} - 20)$"
      ],
      "text/plain": [
       "<IPython.core.display.Latex object>"
      ]
     },
     "metadata": {},
     "output_type": "display_data"
    }
   ],
   "source": [
    "grad_f = sp.Matrix([sp.diff(f, x1), sp.diff(f, x2)])\n",
    "display(Latex('Calculamos el gradiente de la función:'))\n",
    "display(Latex(f\"$\\\\nabla f(x_1, x_2) = ({sp.latex(grad_f[0])}, {sp.latex(grad_f[1])})$\"))"
   ]
  },
  {
   "cell_type": "code",
   "execution_count": 5,
   "metadata": {},
   "outputs": [
    {
     "data": {
      "text/latex": [
       "Declaramos los parámetros de Armijo:"
      ],
      "text/plain": [
       "<IPython.core.display.Latex object>"
      ]
     },
     "metadata": {},
     "output_type": "display_data"
    },
    {
     "data": {
      "text/latex": [
       "$\\displaystyle \\alpha = 1$"
      ],
      "text/plain": [
       "Eq(alpha, 1)"
      ]
     },
     "metadata": {},
     "output_type": "display_data"
    },
    {
     "data": {
      "text/latex": [
       "$\\displaystyle \\beta = 0.5$"
      ],
      "text/plain": [
       "Eq(beta, 0.5)"
      ]
     },
     "metadata": {},
     "output_type": "display_data"
    },
    {
     "data": {
      "text/latex": [
       "$\\displaystyle \\sigma = 0.1$"
      ],
      "text/plain": [
       "Eq(sigma, 0.1)"
      ]
     },
     "metadata": {},
     "output_type": "display_data"
    },
    {
     "data": {
      "text/latex": [
       "$\\displaystyle \\epsilon = 0.001$"
      ],
      "text/plain": [
       "Eq(epsilon, 0.001)"
      ]
     },
     "metadata": {},
     "output_type": "display_data"
    }
   ],
   "source": [
    "# Parámetros de Armijo\n",
    "alpha = 1\n",
    "beta = 0.5\n",
    "sigma = 0.1\n",
    "epsilon = 0.001\n",
    "\n",
    "display(Latex('Declaramos los parámetros de Armijo:'))\n",
    "display(Eq(sp.Symbol('alpha'), alpha), Eq(sp.Symbol('beta'), beta), Eq(sp.Symbol('sigma'), sigma), Eq(sp.Symbol('epsilon'), epsilon))"
   ]
  },
  {
   "cell_type": "code",
   "execution_count": 6,
   "metadata": {},
   "outputs": [
    {
     "data": {
      "text/latex": [
       "Iniciamos el algoritmo:"
      ],
      "text/plain": [
       "<IPython.core.display.Latex object>"
      ]
     },
     "metadata": {},
     "output_type": "display_data"
    },
    {
     "data": {
      "text/latex": [
       "$\\displaystyle k = 0$"
      ],
      "text/plain": [
       "Eq(k, 0)"
      ]
     },
     "metadata": {},
     "output_type": "display_data"
    },
    {
     "data": {
      "text/latex": [
       "$\\displaystyle x_{k} = \\left( 2, \\  3\\right)$"
      ],
      "text/plain": [
       "Eq(x_k, (2, 3))"
      ]
     },
     "metadata": {},
     "output_type": "display_data"
    }
   ],
   "source": [
    "# Definimos variables para arlgoritmo inicial\n",
    "k = 0\n",
    "x_k = x_0\n",
    "\n",
    "display(Latex('Iniciamos el algoritmo:'))\n",
    "display(Eq(sp.Symbol('k'), k), Eq(sp.Symbol('x_k'), x_k))"
   ]
  },
  {
   "cell_type": "markdown",
   "metadata": {},
   "source": [
    "### Dirección de Descenso Negativa del Gradiente\n",
    "$$ \\mathbf{d}^k = -\\nabla f(x^k) $$\n",
    "Dirección opuesta al gradiente de la función en el punto actual, ya que queremos mover hacia el mínimo de la función.\n",
    "\n",
    "### Condición de Armijo\n",
    "$$ f(x^k + \\alpha \\beta^{m_k} \\mathbf{d}^k) \\leq f(x^k) + \\sigma \\alpha \\beta^{m_k} \\nabla f(x^k)^T \\mathbf{d}^k $$\n",
    "Condición de para asegurar suficiente descenso. $ m_k $ es el menor entero no negativo que satisface esta desigualdad."
   ]
  },
  {
   "cell_type": "code",
   "execution_count": 7,
   "metadata": {},
   "outputs": [
    {
     "data": {
      "text/latex": [
       "Iteración 0: $x_k = (2, 3), \\nabla f(x_k) = (0, 12)$"
      ],
      "text/plain": [
       "<IPython.core.display.Latex object>"
      ]
     },
     "metadata": {},
     "output_type": "display_data"
    },
    {
     "data": {
      "text/latex": [
       "Actualización: $x_{k+1} = (2, 1.50000000000000), \\lambda = 0.125$"
      ],
      "text/plain": [
       "<IPython.core.display.Latex object>"
      ]
     },
     "metadata": {},
     "output_type": "display_data"
    },
    {
     "data": {
      "text/latex": [
       "Iteración 1: $x_k = (2, 1.50000000000000), \\nabla f(x_k) = (-6.00000000000000, 0)$"
      ],
      "text/plain": [
       "<IPython.core.display.Latex object>"
      ]
     },
     "metadata": {},
     "output_type": "display_data"
    },
    {
     "data": {
      "text/latex": [
       "Actualización: $x_{k+1} = (2.75000000000000, 1.50000000000000), \\lambda = 0.125$"
      ],
      "text/plain": [
       "<IPython.core.display.Latex object>"
      ]
     },
     "metadata": {},
     "output_type": "display_data"
    },
    {
     "data": {
      "text/latex": [
       "Iteración 2: $x_k = (2.75000000000000, 1.50000000000000), \\nabla f(x_k) = (4.50000000000000, 3.00000000000000)$"
      ],
      "text/plain": [
       "<IPython.core.display.Latex object>"
      ]
     },
     "metadata": {},
     "output_type": "display_data"
    },
    {
     "data": {
      "text/latex": [
       "Actualización: $x_{k+1} = (2.46875000000000, 1.31250000000000), \\lambda = 0.0625$"
      ],
      "text/plain": [
       "<IPython.core.display.Latex object>"
      ]
     },
     "metadata": {},
     "output_type": "display_data"
    },
    {
     "data": {
      "text/latex": [
       "Iteración 3: $x_k = (2.46875000000000, 1.31250000000000), \\nabla f(x_k) = (-0.187500000000000, 0.375000000000000)$"
      ],
      "text/plain": [
       "<IPython.core.display.Latex object>"
      ]
     },
     "metadata": {},
     "output_type": "display_data"
    },
    {
     "data": {
      "text/latex": [
       "Actualización: $x_{k+1} = (2.48046875000000, 1.28906250000000), \\lambda = 0.0625$"
      ],
      "text/plain": [
       "<IPython.core.display.Latex object>"
      ]
     },
     "metadata": {},
     "output_type": "display_data"
    },
    {
     "data": {
      "text/latex": [
       "Iteración 4: $x_k = (2.48046875000000, 1.28906250000000), \\nabla f(x_k) = (-0.117187500000000, 0.234375000000000)$"
      ],
      "text/plain": [
       "<IPython.core.display.Latex object>"
      ]
     },
     "metadata": {},
     "output_type": "display_data"
    },
    {
     "data": {
      "text/latex": [
       "Actualización: $x_{k+1} = (2.48779296875000, 1.27441406250000), \\lambda = 0.0625$"
      ],
      "text/plain": [
       "<IPython.core.display.Latex object>"
      ]
     },
     "metadata": {},
     "output_type": "display_data"
    },
    {
     "data": {
      "text/latex": [
       "Iteración 5: $x_k = (2.48779296875000, 1.27441406250000), \\nabla f(x_k) = (-0.0732421875000000, 0.146484375000000)$"
      ],
      "text/plain": [
       "<IPython.core.display.Latex object>"
      ]
     },
     "metadata": {},
     "output_type": "display_data"
    },
    {
     "data": {
      "text/latex": [
       "Actualización: $x_{k+1} = (2.49237060546875, 1.26525878906250), \\lambda = 0.0625$"
      ],
      "text/plain": [
       "<IPython.core.display.Latex object>"
      ]
     },
     "metadata": {},
     "output_type": "display_data"
    },
    {
     "data": {
      "text/latex": [
       "Iteración 6: $x_k = (2.49237060546875, 1.26525878906250), \\nabla f(x_k) = (-0.0457763671875000, 0.0915527343750000)$"
      ],
      "text/plain": [
       "<IPython.core.display.Latex object>"
      ]
     },
     "metadata": {},
     "output_type": "display_data"
    },
    {
     "data": {
      "text/latex": [
       "Actualización: $x_{k+1} = (2.49523162841797, 1.25953674316406), \\lambda = 0.0625$"
      ],
      "text/plain": [
       "<IPython.core.display.Latex object>"
      ]
     },
     "metadata": {},
     "output_type": "display_data"
    },
    {
     "data": {
      "text/latex": [
       "Iteración 7: $x_k = (2.49523162841797, 1.25953674316406), \\nabla f(x_k) = (-0.0286102294921875, 0.0572204589843750)$"
      ],
      "text/plain": [
       "<IPython.core.display.Latex object>"
      ]
     },
     "metadata": {},
     "output_type": "display_data"
    },
    {
     "data": {
      "text/latex": [
       "Actualización: $x_{k+1} = (2.49701976776123, 1.25596046447754), \\lambda = 0.0625$"
      ],
      "text/plain": [
       "<IPython.core.display.Latex object>"
      ]
     },
     "metadata": {},
     "output_type": "display_data"
    },
    {
     "data": {
      "text/latex": [
       "Iteración 8: $x_k = (2.49701976776123, 1.25596046447754), \\nabla f(x_k) = (-0.0178813934326172, 0.0357627868652344)$"
      ],
      "text/plain": [
       "<IPython.core.display.Latex object>"
      ]
     },
     "metadata": {},
     "output_type": "display_data"
    },
    {
     "data": {
      "text/latex": [
       "Actualización: $x_{k+1} = (2.49813735485077, 1.25372529029846), \\lambda = 0.0625$"
      ],
      "text/plain": [
       "<IPython.core.display.Latex object>"
      ]
     },
     "metadata": {},
     "output_type": "display_data"
    },
    {
     "data": {
      "text/latex": [
       "Iteración 9: $x_k = (2.49813735485077, 1.25372529029846), \\nabla f(x_k) = (-0.0111758708953857, 0.0223517417907715)$"
      ],
      "text/plain": [
       "<IPython.core.display.Latex object>"
      ]
     },
     "metadata": {},
     "output_type": "display_data"
    },
    {
     "data": {
      "text/latex": [
       "Actualización: $x_{k+1} = (2.49883584678173, 1.25232830643654), \\lambda = 0.0625$"
      ],
      "text/plain": [
       "<IPython.core.display.Latex object>"
      ]
     },
     "metadata": {},
     "output_type": "display_data"
    },
    {
     "data": {
      "text/latex": [
       "Iteración 10: $x_k = (2.49883584678173, 1.25232830643654), \\nabla f(x_k) = (-0.00698491930961609, 0.0139698386192322)$"
      ],
      "text/plain": [
       "<IPython.core.display.Latex object>"
      ]
     },
     "metadata": {},
     "output_type": "display_data"
    },
    {
     "data": {
      "text/latex": [
       "Actualización: $x_{k+1} = (2.49927240423858, 1.25145519152284), \\lambda = 0.0625$"
      ],
      "text/plain": [
       "<IPython.core.display.Latex object>"
      ]
     },
     "metadata": {},
     "output_type": "display_data"
    },
    {
     "data": {
      "text/latex": [
       "Iteración 11: $x_k = (2.49927240423858, 1.25145519152284), \\nabla f(x_k) = (-0.00436557456851006, 0.00873114913702011)$"
      ],
      "text/plain": [
       "<IPython.core.display.Latex object>"
      ]
     },
     "metadata": {},
     "output_type": "display_data"
    },
    {
     "data": {
      "text/latex": [
       "Actualización: $x_{k+1} = (2.49954525264911, 1.25090949470177), \\lambda = 0.0625$"
      ],
      "text/plain": [
       "<IPython.core.display.Latex object>"
      ]
     },
     "metadata": {},
     "output_type": "display_data"
    },
    {
     "data": {
      "text/latex": [
       "Iteración 12: $x_k = (2.49954525264911, 1.25090949470177), \\nabla f(x_k) = (-0.00272848410531878, 0.00545696821063757)$"
      ],
      "text/plain": [
       "<IPython.core.display.Latex object>"
      ]
     },
     "metadata": {},
     "output_type": "display_data"
    },
    {
     "data": {
      "text/latex": [
       "Actualización: $x_{k+1} = (2.49971578290570, 1.25056843418861), \\lambda = 0.0625$"
      ],
      "text/plain": [
       "<IPython.core.display.Latex object>"
      ]
     },
     "metadata": {},
     "output_type": "display_data"
    },
    {
     "data": {
      "text/latex": [
       "Iteración 13: $x_k = (2.49971578290570, 1.25056843418861), \\nabla f(x_k) = (-0.00170530256582424, 0.00341060513164848)$"
      ],
      "text/plain": [
       "<IPython.core.display.Latex object>"
      ]
     },
     "metadata": {},
     "output_type": "display_data"
    },
    {
     "data": {
      "text/latex": [
       "Actualización: $x_{k+1} = (2.49982236431606, 1.25035527136788), \\lambda = 0.0625$"
      ],
      "text/plain": [
       "<IPython.core.display.Latex object>"
      ]
     },
     "metadata": {},
     "output_type": "display_data"
    },
    {
     "data": {
      "text/latex": [
       "Iteración 14: $x_k = (2.49982236431606, 1.25035527136788), \\nabla f(x_k) = (-0.00106581410364015, 0.00213162820728030)$"
      ],
      "text/plain": [
       "<IPython.core.display.Latex object>"
      ]
     },
     "metadata": {},
     "output_type": "display_data"
    },
    {
     "data": {
      "text/latex": [
       "Actualización: $x_{k+1} = (2.49988897769754, 1.25022204460493), \\lambda = 0.0625$"
      ],
      "text/plain": [
       "<IPython.core.display.Latex object>"
      ]
     },
     "metadata": {},
     "output_type": "display_data"
    },
    {
     "data": {
      "text/latex": [
       "Iteración 15: $x_k = (2.49988897769754, 1.25022204460493), \\nabla f(x_k) = (-0.000666133814775094, 0.00133226762955019)$"
      ],
      "text/plain": [
       "<IPython.core.display.Latex object>"
      ]
     },
     "metadata": {},
     "output_type": "display_data"
    },
    {
     "data": {
      "text/latex": [
       "Actualización: $x_{k+1} = (2.49993061106096, 1.25013877787808), \\lambda = 0.0625$"
      ],
      "text/plain": [
       "<IPython.core.display.Latex object>"
      ]
     },
     "metadata": {},
     "output_type": "display_data"
    }
   ],
   "source": [
    "# Inicialización del algoritmo\n",
    "while sp.sqrt(grad_f[0].subs({x1: x_k[0], x2: x_k[1]})**2 + grad_f[1].subs({x1: x_k[0], x2: x_k[1]})**2) > epsilon:\n",
    "    grad_values = [g.subs({x1: x_k[0], x2: x_k[1]}) for g in grad_f]\n",
    "    display(Latex(f'Iteración {k}: $x_k = {x_k}, \\\\nabla f(x_k) = {tuple(grad_values)}$'))\n",
    "    m_k = 0\n",
    "    d_k = tuple(-g for g in grad_values)\n",
    "    \n",
    "    # Buscar m_k que satisface la condición de Armijo\n",
    "    while True:\n",
    "        x_new = tuple(x_k[i] + alpha * beta**m_k * d_k[i] for i in range(2))\n",
    "        lhs = f.subs({x1: x_new[0], x2: x_new[1]}) #Evaluamos por izquierda\n",
    "        rhs = f.subs({x1: x_k[0], x2: x_k[1]}) + sigma * alpha * beta**m_k * sum(d_k[i] * grad_values[i] for i in range(2)) #Evaluamos por derecha\n",
    "        if lhs <= rhs: # Momento en que se cumple la condición de Armijo\n",
    "            break\n",
    "        m_k += 1\n",
    "    \n",
    "    # Actualización de x_k\n",
    "    x_k = x_new\n",
    "    alpha *= beta**m_k\n",
    "    display(Latex(f'Actualización: $x_{{k+1}} = {x_k}, \\\\lambda = {alpha}$'))\n",
    "    k += 1"
   ]
  },
  {
   "cell_type": "code",
   "execution_count": 8,
   "metadata": {},
   "outputs": [
    {
     "data": {
      "text/latex": [
       "El valor de $k$ cuando el gradiente es menor que $\\epsilon$ es: $16$"
      ],
      "text/plain": [
       "<IPython.core.display.Latex object>"
      ]
     },
     "metadata": {},
     "output_type": "display_data"
    },
    {
     "data": {
      "text/latex": [
       "Punto mínimo aproximado en: $(2.49993061106096, 1.25013877787808)$"
      ],
      "text/plain": [
       "<IPython.core.display.Latex object>"
      ]
     },
     "metadata": {},
     "output_type": "display_data"
    },
    {
     "data": {
      "text/latex": [
       "Valor de $f(x_1, x_2)$ en el mínimo: $57.5000000722224$"
      ],
      "text/plain": [
       "<IPython.core.display.Latex object>"
      ]
     },
     "metadata": {},
     "output_type": "display_data"
    }
   ],
   "source": [
    "display(Latex(f'El valor de $k$ cuando el gradiente es menor que $\\\\epsilon$ es: ${k}$'))\n",
    "display(Latex(f'Punto mínimo aproximado en: ${x_k}$'))\n",
    "display(Latex(f'Valor de $f(x_1, x_2)$ en el mínimo: ${f.subs({x1: x_k[0], x2: x_k[1]})}$'))"
   ]
  },
  {
   "cell_type": "code",
   "execution_count": 9,
   "metadata": {},
   "outputs": [
    {
     "name": "stdout",
     "output_type": "stream",
     "text": [
      "3.3587572106361008\n"
     ]
    }
   ],
   "source": [
    "a = (19/8) * (2)**(1/2) \n",
    "print(a)"
   ]
  },
  {
   "cell_type": "code",
   "execution_count": 14,
   "metadata": {},
   "outputs": [
    {
     "data": {
      "text/latex": [
       "Iteración 0: $x_k = Matrix([[2], [1]]), \\nabla f(x_k) = (-8, -4)$"
      ],
      "text/plain": [
       "<IPython.core.display.Latex object>"
      ]
     },
     "metadata": {},
     "output_type": "display_data"
    },
    {
     "data": {
      "text/latex": [
       "Actualización: $x_{k+1} = Matrix([[2.50000000000000], [1.25000000000000]]), \\lambda = 0.0625$"
      ],
      "text/plain": [
       "<IPython.core.display.Latex object>"
      ]
     },
     "metadata": {},
     "output_type": "display_data"
    },
    {
     "data": {
      "text/latex": [
       "El valor de $k$ cuando el gradiente es menor que $\\epsilon$ es: $1$"
      ],
      "text/plain": [
       "<IPython.core.display.Latex object>"
      ]
     },
     "metadata": {},
     "output_type": "display_data"
    },
    {
     "data": {
      "text/latex": [
       "Punto mínimo aproximado en: $Matrix([[2.50000000000000], [1.25000000000000]])$"
      ],
      "text/plain": [
       "<IPython.core.display.Latex object>"
      ]
     },
     "metadata": {},
     "output_type": "display_data"
    },
    {
     "data": {
      "text/latex": [
       "Valor de $f(x_1, x_2)$ en el mínimo: $57.5000000000000$"
      ],
      "text/plain": [
       "<IPython.core.display.Latex object>"
      ]
     },
     "metadata": {},
     "output_type": "display_data"
    }
   ],
   "source": [
    "import sympy as sp\n",
    "from IPython.display import display, Latex\n",
    "\n",
    "# Definir las variables simbólicas y los parámetros\n",
    "x1, x2 = sp.symbols('x1 x2')\n",
    "\n",
    "grad_f = sp.Matrix([sp.diff(f, x1), sp.diff(f, x2)])\n",
    "x_k = sp.Matrix([2, 1])  # Punto inicial\n",
    "alpha = 1  # Tamaño de paso inicial\n",
    "beta = 1/2\n",
    "sigma = 0.1\n",
    "epsilon = 0.01\n",
    "k = 0  # Contador de iteraciones\n",
    "\n",
    "# Inicialización del algoritmo\n",
    "while sp.sqrt(grad_f.subs({x1: x_k[0], x2: x_k[1]}).dot(grad_f.subs({x1: x_k[0], x2: x_k[1]}))) > epsilon:\n",
    "    grad_values = grad_f.subs({x1: x_k[0], x2: x_k[1]})\n",
    "    display(Latex(f'Iteración {k}: $x_k = {x_k}, \\\\nabla f(x_k) = {tuple(grad_values)}$'))\n",
    "    m_k = 0\n",
    "    d_k = -grad_values\n",
    "    \n",
    "    # Buscar m_k que satisface la condición de Armijo\n",
    "    while True:\n",
    "        x_new = x_k + alpha * beta**m_k * d_k\n",
    "        lhs = f.subs({x1: x_new[0], x2: x_new[1]})\n",
    "        rhs = f.subs({x1: x_k[0], x2: x_k[1]}) + sigma * alpha * beta**m_k * (grad_values.T * d_k)[0]\n",
    "        if lhs <= rhs:\n",
    "            break\n",
    "        m_k += 1\n",
    "    \n",
    "    # Actualización de x_k\n",
    "    x_k = x_new\n",
    "    alpha *= beta**m_k\n",
    "    display(Latex(f'Actualización: $x_{{k+1}} = {x_k}, \\\\lambda = {alpha}$'))\n",
    "    k += 1\n",
    "\n",
    "display(Latex(f'El valor de $k$ cuando el gradiente es menor que $\\\\epsilon$ es: ${k}$'))\n",
    "display(Latex(f'Punto mínimo aproximado en: ${x_k}$'))\n",
    "display(Latex(f'Valor de $f(x_1, x_2)$ en el mínimo: ${f.subs({x1: x_k[0], x2: x_k[1]})}$'))\n"
   ]
  }
 ],
 "metadata": {
  "kernelspec": {
   "display_name": "mathematix",
   "language": "python",
   "name": "python3"
  },
  "language_info": {
   "codemirror_mode": {
    "name": "ipython",
    "version": 3
   },
   "file_extension": ".py",
   "mimetype": "text/x-python",
   "name": "python",
   "nbconvert_exporter": "python",
   "pygments_lexer": "ipython3",
   "version": "3.10.11"
  }
 },
 "nbformat": 4,
 "nbformat_minor": 2
}
