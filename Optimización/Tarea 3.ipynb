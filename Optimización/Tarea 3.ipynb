{
 "cells": [
  {
   "cell_type": "code",
   "execution_count": 6,
   "metadata": {},
   "outputs": [],
   "source": [
    "import sympy as sp\n",
    "from IPython.display import display, Latex\n",
    "import pandas as pd"
   ]
  },
  {
   "cell_type": "code",
   "execution_count": 26,
   "metadata": {},
   "outputs": [
    {
     "data": {
      "text/latex": [
       "Defino variable $x$"
      ],
      "text/plain": [
       "<IPython.core.display.Latex object>"
      ]
     },
     "metadata": {},
     "output_type": "display_data"
    },
    {
     "data": {
      "text/latex": [
       "$x = \\left[\\begin{matrix}x_{1}\\\\x_{2}\\end{matrix}\\right]$"
      ],
      "text/plain": [
       "<IPython.core.display.Latex object>"
      ]
     },
     "metadata": {},
     "output_type": "display_data"
    },
    {
     "data": {
      "text/latex": [
       "Función objetivo $f(x)$"
      ],
      "text/plain": [
       "<IPython.core.display.Latex object>"
      ]
     },
     "metadata": {},
     "output_type": "display_data"
    },
    {
     "data": {
      "text/latex": [
       "$f(x) = \\left(x_{1} - 2\\right)^{2} + \\left(x_{1} - 2 x_{2}\\right)^{2}$"
      ],
      "text/plain": [
       "<IPython.core.display.Latex object>"
      ]
     },
     "metadata": {},
     "output_type": "display_data"
    },
    {
     "data": {
      "text/latex": [
       "Punto inicial $x_0$"
      ],
      "text/plain": [
       "<IPython.core.display.Latex object>"
      ]
     },
     "metadata": {},
     "output_type": "display_data"
    },
    {
     "data": {
      "text/latex": [
       "$x_0 = \\left[\\begin{matrix}0\\\\3\\end{matrix}\\right]$"
      ],
      "text/plain": [
       "<IPython.core.display.Latex object>"
      ]
     },
     "metadata": {},
     "output_type": "display_data"
    }
   ],
   "source": [
    "# Definición de las variables\n",
    "x1, x2 = sp.symbols('x1 x2')\n",
    "#x1,x2,x3,x4,x5 = sp.symbols('x1 x2 x3 x4 x5') #Ejercicio 4\n",
    "x = sp.Matrix([x1, x2])\n",
    "#x = sp.Matrix([x1, x2, x3, x4, x5])\n",
    "display(Latex('Defino variable $x$'))\n",
    "display(Latex('$x = ' + sp.latex(x) + '$'))\n",
    "\n",
    "# Definición de la función objetivo\n",
    "#f = x1**2 + x2**2 #Base\n",
    "#f = x1**2 + 0.5*x2**2 #Ejercicio 1\n",
    "#f = 3*x1**2 + x2**4 #Ejercicio 2\n",
    "f = (x1-2)**2 + (x1-2*x2)**2 #Ejercicio 3\n",
    "#f = (x1)**2 +(x2)**2 +(x3)**2 +(x4)**2 +(x5)**2 #Ejercicio 4\n",
    "display(Latex('Función objetivo $f(x)$'))\n",
    "display(Latex('$f(x) = ' + sp.latex(f) + '$'))\n",
    "\n",
    "# Punto inicial\n",
    "#x0 = sp.Matrix([1,1]) #Base\n",
    "#x0 = sp.Matrix([2,1]) #Ejercicio 1\n",
    "#x0 = sp.Matrix([1,-2]) #Ejercicio 2\n",
    "x0 = sp.Matrix([0,3]) #Ejercicio 3\n",
    "#x0 = sp.Matrix([1,-2,3,-4,5]) #Ejercicio 4\n",
    "display(Latex('Punto inicial $x_0$'))\n",
    "display(Latex('$x_0 = ' + sp.latex(x0) + '$'))\n"
   ]
  },
  {
   "cell_type": "code",
   "execution_count": 27,
   "metadata": {},
   "outputs": [
    {
     "data": {
      "text/latex": [
       "Gradiente de $f(x)$: $\\nabla f = \\left[\\begin{matrix}4 x_{1} - 4 x_{2} - 4\\\\- 4 x_{1} + 8 x_{2}\\end{matrix}\\right]$"
      ],
      "text/plain": [
       "<IPython.core.display.Latex object>"
      ]
     },
     "metadata": {},
     "output_type": "display_data"
    }
   ],
   "source": [
    "# Calculamos el gradiente de f\n",
    "grad_f = sp.Matrix([sp.diff(f, xi) for xi in x])\n",
    "display(Latex(f'Gradiente de $f(x)$: $\\\\nabla f = {sp.latex(grad_f)}$'))"
   ]
  },
  {
   "cell_type": "code",
   "execution_count": 28,
   "metadata": {},
   "outputs": [],
   "source": [
    "# Función para la búsqueda de Armijo\n",
    "def armijo_line_search(xk, dk, alpha=1, beta=0.5, sigma=0.5):\n",
    "    m_k = 0\n",
    "    while True:\n",
    "        x_new = xk + alpha * beta**m_k * dk\n",
    "        lhs = f.subs({x[i]: x_new[i] for i in range(len(x))})\n",
    "        rhs = f.subs({x[i]: xk[i] for i in range(len(x))}) + sigma * alpha * beta**m_k * -(grad_f.subs({x[i]: xk[i] for i in range(len(x))}).norm())**2\n",
    "        if lhs <= rhs:\n",
    "            break\n",
    "        m_k += 1\n",
    "    return alpha * beta**m_k, m_k"
   ]
  },
  {
   "cell_type": "code",
   "execution_count": 29,
   "metadata": {},
   "outputs": [],
   "source": [
    "# Función para la búsqueda unidimensional exacta\n",
    "def exact_line_search(xk, dk):\n",
    "    lambda_ = sp.symbols('lambda')\n",
    "    g = f.subs({x[i]: xk[i] + lambda_ * dk[i] for i in range(len(x))})\n",
    "    g_prime = sp.diff(g, lambda_)\n",
    "    lambda_solutions = sp.solve(g_prime, lambda_)\n",
    "    \n",
    "    # Filtrar solo soluciones reales\n",
    "    lambda_real = [sol.evalf() for sol in lambda_solutions if sol.is_real]\n",
    "    \n",
    "    # Si no hay soluciones reales, usar un valor predeterminado\n",
    "    if not lambda_real:\n",
    "        return 1  # Puede ajustarse según sea necesario\n",
    "    \n",
    "    return min(lambda_real, key=abs)"
   ]
  },
  {
   "cell_type": "code",
   "execution_count": 30,
   "metadata": {},
   "outputs": [],
   "source": [
    "# Método de descenso de gradiente\n",
    "def gradient_descent(f, grad_f, x0, method='exact', epsilon=1e-5, max_iter=1000):\n",
    "    xk = x0\n",
    "    iteraciones = []\n",
    "    k = 0\n",
    "    iter_inner = 0\n",
    "    while True:\n",
    "        grad_fk = grad_f.subs({x[i]: xk[i] for i in range(len(x))})\n",
    "        norm_grad_fk = grad_fk.norm()\n",
    "        display(Latex(f'$||\\\\nabla f(x_k)|| = {norm_grad_fk.evalf()}$'))\n",
    "        if norm_grad_fk < epsilon or k >= max_iter:\n",
    "            break\n",
    "        dk = -grad_fk\n",
    "        if method == 'exact':\n",
    "            lambda_k = exact_line_search(xk, dk)\n",
    "            iter_inner = 1  # Exact line search is counted as one iteration\n",
    "        elif method == 'armijo':\n",
    "            lambda_k, iter_inner = armijo_line_search(xk, dk)\n",
    "        xk = xk + lambda_k * dk\n",
    "        iteraciones.append((k, iter_inner, xk, f.subs({x[i]: xk[i] for i in range(len(x))}), grad_fk, dk, lambda_k))\n",
    "        display(Latex(f'Iteración {sp.latex(k)}: $x_k = {sp.latex(xk)}, \\\\nabla f(x_k) = {sp.latex(tuple(grad_fk))}$'))\n",
    "        display(Latex(f'Actualización: $x_{{k+1}} = {sp.latex(xk)}, \\\\lambda = {lambda_k}$'))\n",
    "        k += 1\n",
    "    return xk, iteraciones"
   ]
  },
  {
   "cell_type": "code",
   "execution_count": 31,
   "metadata": {},
   "outputs": [
    {
     "data": {
      "text/latex": [
       "$||\\nabla f(x_k)|| = 28.8444102037119$"
      ],
      "text/plain": [
       "<IPython.core.display.Latex object>"
      ]
     },
     "metadata": {},
     "output_type": "display_data"
    },
    {
     "data": {
      "text/latex": [
       "Iteración 0: $x_k = \\left[\\begin{matrix}1.52941176470588\\\\0.705882352941177\\end{matrix}\\right], \\nabla f(x_k) = \\left( -16, \\  24\\right)$"
      ],
      "text/plain": [
       "<IPython.core.display.Latex object>"
      ]
     },
     "metadata": {},
     "output_type": "display_data"
    },
    {
     "data": {
      "text/latex": [
       "Actualización: $x_{k+1} = \\left[\\begin{matrix}1.52941176470588\\\\0.705882352941177\\end{matrix}\\right], \\lambda = 0.0955882352941176$"
      ],
      "text/plain": [
       "<IPython.core.display.Latex object>"
      ]
     },
     "metadata": {},
     "output_type": "display_data"
    },
    {
     "data": {
      "text/latex": [
       "$||\\nabla f(x_k)|| = 0.848365005991527$"
      ],
      "text/plain": [
       "<IPython.core.display.Latex object>"
      ]
     },
     "metadata": {},
     "output_type": "display_data"
    },
    {
     "data": {
      "text/latex": [
       "Iteración 1: $x_k = \\left[\\begin{matrix}1.98823529411765\\\\1.01176470588235\\end{matrix}\\right], \\nabla f(x_k) = \\left( -0.705882352941178, \\  -0.470588235294116\\right)$"
      ],
      "text/plain": [
       "<IPython.core.display.Latex object>"
      ]
     },
     "metadata": {},
     "output_type": "display_data"
    },
    {
     "data": {
      "text/latex": [
       "Actualización: $x_{k+1} = \\left[\\begin{matrix}1.98823529411765\\\\1.01176470588235\\end{matrix}\\right], \\lambda = 0.649999999999999$"
      ],
      "text/plain": [
       "<IPython.core.display.Latex object>"
      ]
     },
     "metadata": {},
     "output_type": "display_data"
    },
    {
     "data": {
      "text/latex": [
       "$||\\nabla f(x_k)|| = 0.169673001198293$"
      ],
      "text/plain": [
       "<IPython.core.display.Latex object>"
      ]
     },
     "metadata": {},
     "output_type": "display_data"
    },
    {
     "data": {
      "text/latex": [
       "Iteración 2: $x_k = \\left[\\begin{matrix}1.99723183391003\\\\0.998269896193771\\end{matrix}\\right], \\nabla f(x_k) = \\left( -0.0941176470588179, \\  0.141176470588224\\right)$"
      ],
      "text/plain": [
       "<IPython.core.display.Latex object>"
      ]
     },
     "metadata": {},
     "output_type": "display_data"
    },
    {
     "data": {
      "text/latex": [
       "Actualización: $x_{k+1} = \\left[\\begin{matrix}1.99723183391003\\\\0.998269896193771\\end{matrix}\\right], \\lambda = 0.0955882352941176$"
      ],
      "text/plain": [
       "<IPython.core.display.Latex object>"
      ]
     },
     "metadata": {},
     "output_type": "display_data"
    },
    {
     "data": {
      "text/latex": [
       "$||\\nabla f(x_k)|| = 0.00499038238818639$"
      ],
      "text/plain": [
       "<IPython.core.display.Latex object>"
      ]
     },
     "metadata": {},
     "output_type": "display_data"
    },
    {
     "data": {
      "text/latex": [
       "Iteración 3: $x_k = \\left[\\begin{matrix}1.99993079584775\\\\1.00006920415225\\end{matrix}\\right], \\nabla f(x_k) = \\left( -0.0041522491349486, \\  -0.00276816608996633\\right)$"
      ],
      "text/plain": [
       "<IPython.core.display.Latex object>"
      ]
     },
     "metadata": {},
     "output_type": "display_data"
    },
    {
     "data": {
      "text/latex": [
       "Actualización: $x_{k+1} = \\left[\\begin{matrix}1.99993079584775\\\\1.00006920415225\\end{matrix}\\right], \\lambda = 0.649999999999975$"
      ],
      "text/plain": [
       "<IPython.core.display.Latex object>"
      ]
     },
     "metadata": {},
     "output_type": "display_data"
    },
    {
     "data": {
      "text/latex": [
       "$||\\nabla f(x_k)|| = 0.000998076477639298$"
      ],
      "text/plain": [
       "<IPython.core.display.Latex object>"
      ]
     },
     "metadata": {},
     "output_type": "display_data"
    },
    {
     "data": {
      "text/latex": [
       "Iteración 4: $x_k = \\left[\\begin{matrix}1.99998371667006\\\\0.999989822918787\\end{matrix}\\right], \\nabla f(x_k) = \\left( -0.000553633217994509, \\  0.00083044982699132\\right)$"
      ],
      "text/plain": [
       "<IPython.core.display.Latex object>"
      ]
     },
     "metadata": {},
     "output_type": "display_data"
    },
    {
     "data": {
      "text/latex": [
       "Actualización: $x_{k+1} = \\left[\\begin{matrix}1.99998371667006\\\\0.999989822918787\\end{matrix}\\right], \\lambda = 0.0955882352941192$"
      ],
      "text/plain": [
       "<IPython.core.display.Latex object>"
      ]
     },
     "metadata": {},
     "output_type": "display_data"
    },
    {
     "data": {
      "text/latex": [
       "$||\\nabla f(x_k)|| = 0.0000293551905189623$"
      ],
      "text/plain": [
       "<IPython.core.display.Latex object>"
      ]
     },
     "metadata": {},
     "output_type": "display_data"
    },
    {
     "data": {
      "text/latex": [
       "Iteración 5: $x_k = \\left[\\begin{matrix}1.99999959291675\\\\1.00000040708325\\end{matrix}\\right], \\nabla f(x_k) = \\left( -2.44249949115094 \\cdot 10^{-5}, \\  -1.62833299413023 \\cdot 10^{-5}\\right)$"
      ],
      "text/plain": [
       "<IPython.core.display.Latex object>"
      ]
     },
     "metadata": {},
     "output_type": "display_data"
    },
    {
     "data": {
      "text/latex": [
       "Actualización: $x_{k+1} = \\left[\\begin{matrix}1.99999959291675\\\\1.00000040708325\\end{matrix}\\right], \\lambda = 0.649999999997818$"
      ],
      "text/plain": [
       "<IPython.core.display.Latex object>"
      ]
     },
     "metadata": {},
     "output_type": "display_data"
    },
    {
     "data": {
      "text/latex": [
       "$||\\nabla f(x_k)|| = 0.00000587103810578778$"
      ],
      "text/plain": [
       "<IPython.core.display.Latex object>"
      ]
     },
     "metadata": {},
     "output_type": "display_data"
    },
    {
     "data": {
      "text/latex": [
       "**Resultados usando Búsqueda Unidimensional Exacta**"
      ],
      "text/plain": [
       "<IPython.core.display.Latex object>"
      ]
     },
     "metadata": {},
     "output_type": "display_data"
    },
    {
     "data": {
      "text/latex": [
       "El punto óptimo es: $\\left[\\begin{matrix}1.99999959291675\\\\1.00000040708325\\end{matrix}\\right]$"
      ],
      "text/plain": [
       "<IPython.core.display.Latex object>"
      ]
     },
     "metadata": {},
     "output_type": "display_data"
    },
    {
     "data": {
      "text/latex": [
       "Valor óptimo de la función: $1.65716771344289 \\cdot 10^{-12}$"
      ],
      "text/plain": [
       "<IPython.core.display.Latex object>"
      ]
     },
     "metadata": {},
     "output_type": "display_data"
    }
   ],
   "source": [
    "# Optimización usando búsqueda unidimensional exacta\n",
    "x_opt_exact, iteraciones_exact = gradient_descent(f, grad_f, x0, method='exact')\n",
    "\n",
    "# Mostrar resultado final para búsqueda unidimensional exacta\n",
    "display(Latex(\"**Resultados usando Búsqueda Unidimensional Exacta**\"))\n",
    "display(Latex(f\"El punto óptimo es: ${sp.latex(x_opt_exact)}$\"))\n",
    "display(Latex(f\"Valor óptimo de la función: ${sp.latex(f.subs({x[i]: x_opt_exact[i] for i in range(len(x))}))}$\"))\n"
   ]
  },
  {
   "cell_type": "code",
   "execution_count": 32,
   "metadata": {},
   "outputs": [
    {
     "data": {
      "text/latex": [
       "\n",
       "Iteración 1:"
      ],
      "text/plain": [
       "<IPython.core.display.Latex object>"
      ]
     },
     "metadata": {},
     "output_type": "display_data"
    },
    {
     "data": {
      "text/latex": [
       "$x_k = \\left[\\begin{matrix}1.52941176470588\\\\0.705882352941177\\end{matrix}\\right]$"
      ],
      "text/plain": [
       "<IPython.core.display.Latex object>"
      ]
     },
     "metadata": {},
     "output_type": "display_data"
    },
    {
     "data": {
      "text/latex": [
       "$f(x_k) = 0.235294117647059$"
      ],
      "text/plain": [
       "<IPython.core.display.Latex object>"
      ]
     },
     "metadata": {},
     "output_type": "display_data"
    },
    {
     "data": {
      "text/latex": [
       "$\\nabla f(x_k) = \\left[\\begin{matrix}-16\\\\24\\end{matrix}\\right]$"
      ],
      "text/plain": [
       "<IPython.core.display.Latex object>"
      ]
     },
     "metadata": {},
     "output_type": "display_data"
    },
    {
     "data": {
      "text/latex": [
       "$d_k = \\left[\\begin{matrix}16\\\\-24\\end{matrix}\\right]$"
      ],
      "text/plain": [
       "<IPython.core.display.Latex object>"
      ]
     },
     "metadata": {},
     "output_type": "display_data"
    },
    {
     "data": {
      "text/latex": [
       "$\\lambda_k = 0.0955882352941176$"
      ],
      "text/plain": [
       "<IPython.core.display.Latex object>"
      ]
     },
     "metadata": {},
     "output_type": "display_data"
    },
    {
     "data": {
      "text/latex": [
       "\n",
       "Iteración 2:"
      ],
      "text/plain": [
       "<IPython.core.display.Latex object>"
      ]
     },
     "metadata": {},
     "output_type": "display_data"
    },
    {
     "data": {
      "text/latex": [
       "$x_k = \\left[\\begin{matrix}1.98823529411765\\\\1.01176470588235\\end{matrix}\\right]$"
      ],
      "text/plain": [
       "<IPython.core.display.Latex object>"
      ]
     },
     "metadata": {},
     "output_type": "display_data"
    },
    {
     "data": {
      "text/latex": [
       "$f(x_k) = 0.0013840830449825$"
      ],
      "text/plain": [
       "<IPython.core.display.Latex object>"
      ]
     },
     "metadata": {},
     "output_type": "display_data"
    },
    {
     "data": {
      "text/latex": [
       "$\\nabla f(x_k) = \\left[\\begin{matrix}-0.705882352941178\\\\-0.470588235294116\\end{matrix}\\right]$"
      ],
      "text/plain": [
       "<IPython.core.display.Latex object>"
      ]
     },
     "metadata": {},
     "output_type": "display_data"
    },
    {
     "data": {
      "text/latex": [
       "$d_k = \\left[\\begin{matrix}0.705882352941178\\\\0.470588235294116\\end{matrix}\\right]$"
      ],
      "text/plain": [
       "<IPython.core.display.Latex object>"
      ]
     },
     "metadata": {},
     "output_type": "display_data"
    },
    {
     "data": {
      "text/latex": [
       "$\\lambda_k = 0.649999999999999$"
      ],
      "text/plain": [
       "<IPython.core.display.Latex object>"
      ]
     },
     "metadata": {},
     "output_type": "display_data"
    },
    {
     "data": {
      "text/latex": [
       "\n",
       "Iteración 3:"
      ],
      "text/plain": [
       "<IPython.core.display.Latex object>"
      ]
     },
     "metadata": {},
     "output_type": "display_data"
    },
    {
     "data": {
      "text/latex": [
       "$x_k = \\left[\\begin{matrix}1.99723183391003\\\\0.998269896193771\\end{matrix}\\right]$"
      ],
      "text/plain": [
       "<IPython.core.display.Latex object>"
      ]
     },
     "metadata": {},
     "output_type": "display_data"
    },
    {
     "data": {
      "text/latex": [
       "$f(x_k) = 8.14166497048948 \\cdot 10^{-6}$"
      ],
      "text/plain": [
       "<IPython.core.display.Latex object>"
      ]
     },
     "metadata": {},
     "output_type": "display_data"
    },
    {
     "data": {
      "text/latex": [
       "$\\nabla f(x_k) = \\left[\\begin{matrix}-0.0941176470588179\\\\0.141176470588224\\end{matrix}\\right]$"
      ],
      "text/plain": [
       "<IPython.core.display.Latex object>"
      ]
     },
     "metadata": {},
     "output_type": "display_data"
    },
    {
     "data": {
      "text/latex": [
       "$d_k = \\left[\\begin{matrix}0.0941176470588179\\\\-0.141176470588224\\end{matrix}\\right]$"
      ],
      "text/plain": [
       "<IPython.core.display.Latex object>"
      ]
     },
     "metadata": {},
     "output_type": "display_data"
    },
    {
     "data": {
      "text/latex": [
       "$\\lambda_k = 0.0955882352941176$"
      ],
      "text/plain": [
       "<IPython.core.display.Latex object>"
      ]
     },
     "metadata": {},
     "output_type": "display_data"
    },
    {
     "data": {
      "text/latex": [
       "\n",
       "Iteración 4:"
      ],
      "text/plain": [
       "<IPython.core.display.Latex object>"
      ]
     },
     "metadata": {},
     "output_type": "display_data"
    },
    {
     "data": {
      "text/latex": [
       "$x_k = \\left[\\begin{matrix}1.99993079584775\\\\1.00006920415225\\end{matrix}\\right]$"
      ],
      "text/plain": [
       "<IPython.core.display.Latex object>"
      ]
     },
     "metadata": {},
     "output_type": "display_data"
    },
    {
     "data": {
      "text/latex": [
       "$f(x_k) = 4.78921468854311 \\cdot 10^{-8}$"
      ],
      "text/plain": [
       "<IPython.core.display.Latex object>"
      ]
     },
     "metadata": {},
     "output_type": "display_data"
    },
    {
     "data": {
      "text/latex": [
       "$\\nabla f(x_k) = \\left[\\begin{matrix}-0.0041522491349486\\\\-0.00276816608996633\\end{matrix}\\right]$"
      ],
      "text/plain": [
       "<IPython.core.display.Latex object>"
      ]
     },
     "metadata": {},
     "output_type": "display_data"
    },
    {
     "data": {
      "text/latex": [
       "$d_k = \\left[\\begin{matrix}0.0041522491349486\\\\0.00276816608996633\\end{matrix}\\right]$"
      ],
      "text/plain": [
       "<IPython.core.display.Latex object>"
      ]
     },
     "metadata": {},
     "output_type": "display_data"
    },
    {
     "data": {
      "text/latex": [
       "$\\lambda_k = 0.649999999999975$"
      ],
      "text/plain": [
       "<IPython.core.display.Latex object>"
      ]
     },
     "metadata": {},
     "output_type": "display_data"
    },
    {
     "data": {
      "text/latex": [
       "\n",
       "Iteración 5:"
      ],
      "text/plain": [
       "<IPython.core.display.Latex object>"
      ]
     },
     "metadata": {},
     "output_type": "display_data"
    },
    {
     "data": {
      "text/latex": [
       "$x_k = \\left[\\begin{matrix}1.99998371667006\\\\0.999989822918787\\end{matrix}\\right]$"
      ],
      "text/plain": [
       "<IPython.core.display.Latex object>"
      ]
     },
     "metadata": {},
     "output_type": "display_data"
    },
    {
     "data": {
      "text/latex": [
       "$f(x_k) = 2.81718511093664 \\cdot 10^{-10}$"
      ],
      "text/plain": [
       "<IPython.core.display.Latex object>"
      ]
     },
     "metadata": {},
     "output_type": "display_data"
    },
    {
     "data": {
      "text/latex": [
       "$\\nabla f(x_k) = \\left[\\begin{matrix}-0.000553633217994509\\\\0.00083044982699132\\end{matrix}\\right]$"
      ],
      "text/plain": [
       "<IPython.core.display.Latex object>"
      ]
     },
     "metadata": {},
     "output_type": "display_data"
    },
    {
     "data": {
      "text/latex": [
       "$d_k = \\left[\\begin{matrix}0.000553633217994509\\\\-0.00083044982699132\\end{matrix}\\right]$"
      ],
      "text/plain": [
       "<IPython.core.display.Latex object>"
      ]
     },
     "metadata": {},
     "output_type": "display_data"
    },
    {
     "data": {
      "text/latex": [
       "$\\lambda_k = 0.0955882352941192$"
      ],
      "text/plain": [
       "<IPython.core.display.Latex object>"
      ]
     },
     "metadata": {},
     "output_type": "display_data"
    },
    {
     "data": {
      "text/latex": [
       "\n",
       "Iteración 6:"
      ],
      "text/plain": [
       "<IPython.core.display.Latex object>"
      ]
     },
     "metadata": {},
     "output_type": "display_data"
    },
    {
     "data": {
      "text/latex": [
       "$x_k = \\left[\\begin{matrix}1.99999959291675\\\\1.00000040708325\\end{matrix}\\right]$"
      ],
      "text/plain": [
       "<IPython.core.display.Latex object>"
      ]
     },
     "metadata": {},
     "output_type": "display_data"
    },
    {
     "data": {
      "text/latex": [
       "$f(x_k) = 1.65716771344289 \\cdot 10^{-12}$"
      ],
      "text/plain": [
       "<IPython.core.display.Latex object>"
      ]
     },
     "metadata": {},
     "output_type": "display_data"
    },
    {
     "data": {
      "text/latex": [
       "$\\nabla f(x_k) = \\left[\\begin{matrix}-2.44249949115094 \\cdot 10^{-5}\\\\-1.62833299413023 \\cdot 10^{-5}\\end{matrix}\\right]$"
      ],
      "text/plain": [
       "<IPython.core.display.Latex object>"
      ]
     },
     "metadata": {},
     "output_type": "display_data"
    },
    {
     "data": {
      "text/latex": [
       "$d_k = \\left[\\begin{matrix}2.44249949115094 \\cdot 10^{-5}\\\\1.62833299413023 \\cdot 10^{-5}\\end{matrix}\\right]$"
      ],
      "text/plain": [
       "<IPython.core.display.Latex object>"
      ]
     },
     "metadata": {},
     "output_type": "display_data"
    },
    {
     "data": {
      "text/latex": [
       "$\\lambda_k = 0.649999999997818$"
      ],
      "text/plain": [
       "<IPython.core.display.Latex object>"
      ]
     },
     "metadata": {},
     "output_type": "display_data"
    }
   ],
   "source": [
    "# Mostrar iteraciones para búsqueda unidimensional exacta\n",
    "for i, (k, it ,xk, fk, grad_fk, dk, tk) in enumerate(iteraciones_exact):\n",
    "    display(Latex(f\"\\nIteración {i+1}:\"))\n",
    "    display(Latex(f\"$x_k = {sp.latex(xk)}$\"))\n",
    "    display(Latex(f\"$f(x_k) = {sp.latex(fk)}$\"))\n",
    "    display(Latex(f\"$\\\\nabla f(x_k) = {sp.latex(grad_fk)}$\"))\n",
    "    display(Latex(f\"$d_k = {sp.latex(dk)}$\"))\n",
    "    display(Latex(f\"$\\lambda_k = {tk}$\"))"
   ]
  },
  {
   "cell_type": "code",
   "execution_count": 33,
   "metadata": {},
   "outputs": [
    {
     "data": {
      "text/latex": [
       "$||\\nabla f(x_k)|| = 28.8444102037119$"
      ],
      "text/plain": [
       "<IPython.core.display.Latex object>"
      ]
     },
     "metadata": {},
     "output_type": "display_data"
    },
    {
     "data": {
      "text/latex": [
       "Iteración 0: $x_k = \\left[\\begin{matrix}1.0\\\\1.5\\end{matrix}\\right], \\nabla f(x_k) = \\left( -16, \\  24\\right)$"
      ],
      "text/plain": [
       "<IPython.core.display.Latex object>"
      ]
     },
     "metadata": {},
     "output_type": "display_data"
    },
    {
     "data": {
      "text/latex": [
       "Actualización: $x_{k+1} = \\left[\\begin{matrix}1.0\\\\1.5\\end{matrix}\\right], \\lambda = 0.0625$"
      ],
      "text/plain": [
       "<IPython.core.display.Latex object>"
      ]
     },
     "metadata": {},
     "output_type": "display_data"
    },
    {
     "data": {
      "text/latex": [
       "$||\\nabla f(x_k)|| = 10.0000000000000$"
      ],
      "text/plain": [
       "<IPython.core.display.Latex object>"
      ]
     },
     "metadata": {},
     "output_type": "display_data"
    },
    {
     "data": {
      "text/latex": [
       "Iteración 1: $x_k = \\left[\\begin{matrix}1.375\\\\1.0\\end{matrix}\\right], \\nabla f(x_k) = \\left( -6.0, \\  8.0\\right)$"
      ],
      "text/plain": [
       "<IPython.core.display.Latex object>"
      ]
     },
     "metadata": {},
     "output_type": "display_data"
    },
    {
     "data": {
      "text/latex": [
       "Actualización: $x_{k+1} = \\left[\\begin{matrix}1.375\\\\1.0\\end{matrix}\\right], \\lambda = 0.0625$"
      ],
      "text/plain": [
       "<IPython.core.display.Latex object>"
      ]
     },
     "metadata": {},
     "output_type": "display_data"
    },
    {
     "data": {
      "text/latex": [
       "$||\\nabla f(x_k)|| = 3.53553390593274$"
      ],
      "text/plain": [
       "<IPython.core.display.Latex object>"
      ]
     },
     "metadata": {},
     "output_type": "display_data"
    },
    {
     "data": {
      "text/latex": [
       "Iteración 2: $x_k = \\left[\\begin{matrix}1.53125\\\\0.84375\\end{matrix}\\right], \\nabla f(x_k) = \\left( -2.5, \\  2.5\\right)$"
      ],
      "text/plain": [
       "<IPython.core.display.Latex object>"
      ]
     },
     "metadata": {},
     "output_type": "display_data"
    },
    {
     "data": {
      "text/latex": [
       "Actualización: $x_{k+1} = \\left[\\begin{matrix}1.53125\\\\0.84375\\end{matrix}\\right], \\lambda = 0.0625$"
      ],
      "text/plain": [
       "<IPython.core.display.Latex object>"
      ]
     },
     "metadata": {},
     "output_type": "display_data"
    },
    {
     "data": {
      "text/latex": [
       "$||\\nabla f(x_k)|| = 1.39754248593737$"
      ],
      "text/plain": [
       "<IPython.core.display.Latex object>"
      ]
     },
     "metadata": {},
     "output_type": "display_data"
    },
    {
     "data": {
      "text/latex": [
       "Iteración 3: $x_k = \\left[\\begin{matrix}1.609375\\\\0.8046875\\end{matrix}\\right], \\nabla f(x_k) = \\left( -1.25, \\  0.625\\right)$"
      ],
      "text/plain": [
       "<IPython.core.display.Latex object>"
      ]
     },
     "metadata": {},
     "output_type": "display_data"
    },
    {
     "data": {
      "text/latex": [
       "Actualización: $x_{k+1} = \\left[\\begin{matrix}1.609375\\\\0.8046875\\end{matrix}\\right], \\lambda = 0.0625$"
      ],
      "text/plain": [
       "<IPython.core.display.Latex object>"
      ]
     },
     "metadata": {},
     "output_type": "display_data"
    },
    {
     "data": {
      "text/latex": [
       "$||\\nabla f(x_k)|| = 0.781250000000000$"
      ],
      "text/plain": [
       "<IPython.core.display.Latex object>"
      ]
     },
     "metadata": {},
     "output_type": "display_data"
    },
    {
     "data": {
      "text/latex": [
       "Iteración 4: $x_k = \\left[\\begin{matrix}1.8046875\\\\0.8046875\\end{matrix}\\right], \\nabla f(x_k) = \\left( -0.78125, \\  0\\right)$"
      ],
      "text/plain": [
       "<IPython.core.display.Latex object>"
      ]
     },
     "metadata": {},
     "output_type": "display_data"
    },
    {
     "data": {
      "text/latex": [
       "Actualización: $x_{k+1} = \\left[\\begin{matrix}1.8046875\\\\0.8046875\\end{matrix}\\right], \\lambda = 0.25$"
      ],
      "text/plain": [
       "<IPython.core.display.Latex object>"
      ]
     },
     "metadata": {},
     "output_type": "display_data"
    },
    {
     "data": {
      "text/latex": [
       "$||\\nabla f(x_k)|| = 0.781250000000000$"
      ],
      "text/plain": [
       "<IPython.core.display.Latex object>"
      ]
     },
     "metadata": {},
     "output_type": "display_data"
    },
    {
     "data": {
      "text/latex": [
       "Iteración 5: $x_k = \\left[\\begin{matrix}1.8046875\\\\0.90234375\\end{matrix}\\right], \\nabla f(x_k) = \\left( 0, \\  -0.78125\\right)$"
      ],
      "text/plain": [
       "<IPython.core.display.Latex object>"
      ]
     },
     "metadata": {},
     "output_type": "display_data"
    },
    {
     "data": {
      "text/latex": [
       "Actualización: $x_{k+1} = \\left[\\begin{matrix}1.8046875\\\\0.90234375\\end{matrix}\\right], \\lambda = 0.125$"
      ],
      "text/plain": [
       "<IPython.core.display.Latex object>"
      ]
     },
     "metadata": {},
     "output_type": "display_data"
    },
    {
     "data": {
      "text/latex": [
       "$||\\nabla f(x_k)|| = 0.390625000000000$"
      ],
      "text/plain": [
       "<IPython.core.display.Latex object>"
      ]
     },
     "metadata": {},
     "output_type": "display_data"
    },
    {
     "data": {
      "text/latex": [
       "Iteración 6: $x_k = \\left[\\begin{matrix}1.90234375\\\\0.90234375\\end{matrix}\\right], \\nabla f(x_k) = \\left( -0.390625, \\  0\\right)$"
      ],
      "text/plain": [
       "<IPython.core.display.Latex object>"
      ]
     },
     "metadata": {},
     "output_type": "display_data"
    },
    {
     "data": {
      "text/latex": [
       "Actualización: $x_{k+1} = \\left[\\begin{matrix}1.90234375\\\\0.90234375\\end{matrix}\\right], \\lambda = 0.25$"
      ],
      "text/plain": [
       "<IPython.core.display.Latex object>"
      ]
     },
     "metadata": {},
     "output_type": "display_data"
    },
    {
     "data": {
      "text/latex": [
       "$||\\nabla f(x_k)|| = 0.390625000000000$"
      ],
      "text/plain": [
       "<IPython.core.display.Latex object>"
      ]
     },
     "metadata": {},
     "output_type": "display_data"
    },
    {
     "data": {
      "text/latex": [
       "Iteración 7: $x_k = \\left[\\begin{matrix}1.90234375\\\\0.951171875\\end{matrix}\\right], \\nabla f(x_k) = \\left( 0, \\  -0.390625\\right)$"
      ],
      "text/plain": [
       "<IPython.core.display.Latex object>"
      ]
     },
     "metadata": {},
     "output_type": "display_data"
    },
    {
     "data": {
      "text/latex": [
       "Actualización: $x_{k+1} = \\left[\\begin{matrix}1.90234375\\\\0.951171875\\end{matrix}\\right], \\lambda = 0.125$"
      ],
      "text/plain": [
       "<IPython.core.display.Latex object>"
      ]
     },
     "metadata": {},
     "output_type": "display_data"
    },
    {
     "data": {
      "text/latex": [
       "$||\\nabla f(x_k)|| = 0.195312500000000$"
      ],
      "text/plain": [
       "<IPython.core.display.Latex object>"
      ]
     },
     "metadata": {},
     "output_type": "display_data"
    },
    {
     "data": {
      "text/latex": [
       "Iteración 8: $x_k = \\left[\\begin{matrix}1.951171875\\\\0.951171875\\end{matrix}\\right], \\nabla f(x_k) = \\left( -0.1953125, \\  0\\right)$"
      ],
      "text/plain": [
       "<IPython.core.display.Latex object>"
      ]
     },
     "metadata": {},
     "output_type": "display_data"
    },
    {
     "data": {
      "text/latex": [
       "Actualización: $x_{k+1} = \\left[\\begin{matrix}1.951171875\\\\0.951171875\\end{matrix}\\right], \\lambda = 0.25$"
      ],
      "text/plain": [
       "<IPython.core.display.Latex object>"
      ]
     },
     "metadata": {},
     "output_type": "display_data"
    },
    {
     "data": {
      "text/latex": [
       "$||\\nabla f(x_k)|| = 0.195312500000000$"
      ],
      "text/plain": [
       "<IPython.core.display.Latex object>"
      ]
     },
     "metadata": {},
     "output_type": "display_data"
    },
    {
     "data": {
      "text/latex": [
       "Iteración 9: $x_k = \\left[\\begin{matrix}1.951171875\\\\0.9755859375\\end{matrix}\\right], \\nabla f(x_k) = \\left( 0, \\  -0.1953125\\right)$"
      ],
      "text/plain": [
       "<IPython.core.display.Latex object>"
      ]
     },
     "metadata": {},
     "output_type": "display_data"
    },
    {
     "data": {
      "text/latex": [
       "Actualización: $x_{k+1} = \\left[\\begin{matrix}1.951171875\\\\0.9755859375\\end{matrix}\\right], \\lambda = 0.125$"
      ],
      "text/plain": [
       "<IPython.core.display.Latex object>"
      ]
     },
     "metadata": {},
     "output_type": "display_data"
    },
    {
     "data": {
      "text/latex": [
       "$||\\nabla f(x_k)|| = 0.0976562500000000$"
      ],
      "text/plain": [
       "<IPython.core.display.Latex object>"
      ]
     },
     "metadata": {},
     "output_type": "display_data"
    },
    {
     "data": {
      "text/latex": [
       "Iteración 10: $x_k = \\left[\\begin{matrix}1.9755859375\\\\0.9755859375\\end{matrix}\\right], \\nabla f(x_k) = \\left( -0.09765625, \\  0\\right)$"
      ],
      "text/plain": [
       "<IPython.core.display.Latex object>"
      ]
     },
     "metadata": {},
     "output_type": "display_data"
    },
    {
     "data": {
      "text/latex": [
       "Actualización: $x_{k+1} = \\left[\\begin{matrix}1.9755859375\\\\0.9755859375\\end{matrix}\\right], \\lambda = 0.25$"
      ],
      "text/plain": [
       "<IPython.core.display.Latex object>"
      ]
     },
     "metadata": {},
     "output_type": "display_data"
    },
    {
     "data": {
      "text/latex": [
       "$||\\nabla f(x_k)|| = 0.0976562500000000$"
      ],
      "text/plain": [
       "<IPython.core.display.Latex object>"
      ]
     },
     "metadata": {},
     "output_type": "display_data"
    },
    {
     "data": {
      "text/latex": [
       "Iteración 11: $x_k = \\left[\\begin{matrix}1.9755859375\\\\0.98779296875\\end{matrix}\\right], \\nabla f(x_k) = \\left( 0, \\  -0.09765625\\right)$"
      ],
      "text/plain": [
       "<IPython.core.display.Latex object>"
      ]
     },
     "metadata": {},
     "output_type": "display_data"
    },
    {
     "data": {
      "text/latex": [
       "Actualización: $x_{k+1} = \\left[\\begin{matrix}1.9755859375\\\\0.98779296875\\end{matrix}\\right], \\lambda = 0.125$"
      ],
      "text/plain": [
       "<IPython.core.display.Latex object>"
      ]
     },
     "metadata": {},
     "output_type": "display_data"
    },
    {
     "data": {
      "text/latex": [
       "$||\\nabla f(x_k)|| = 0.0488281250000000$"
      ],
      "text/plain": [
       "<IPython.core.display.Latex object>"
      ]
     },
     "metadata": {},
     "output_type": "display_data"
    },
    {
     "data": {
      "text/latex": [
       "Iteración 12: $x_k = \\left[\\begin{matrix}1.98779296875\\\\0.98779296875\\end{matrix}\\right], \\nabla f(x_k) = \\left( -0.048828125, \\  0\\right)$"
      ],
      "text/plain": [
       "<IPython.core.display.Latex object>"
      ]
     },
     "metadata": {},
     "output_type": "display_data"
    },
    {
     "data": {
      "text/latex": [
       "Actualización: $x_{k+1} = \\left[\\begin{matrix}1.98779296875\\\\0.98779296875\\end{matrix}\\right], \\lambda = 0.25$"
      ],
      "text/plain": [
       "<IPython.core.display.Latex object>"
      ]
     },
     "metadata": {},
     "output_type": "display_data"
    },
    {
     "data": {
      "text/latex": [
       "$||\\nabla f(x_k)|| = 0.0488281250000000$"
      ],
      "text/plain": [
       "<IPython.core.display.Latex object>"
      ]
     },
     "metadata": {},
     "output_type": "display_data"
    },
    {
     "data": {
      "text/latex": [
       "Iteración 13: $x_k = \\left[\\begin{matrix}1.98779296875\\\\0.993896484375\\end{matrix}\\right], \\nabla f(x_k) = \\left( 0, \\  -0.048828125\\right)$"
      ],
      "text/plain": [
       "<IPython.core.display.Latex object>"
      ]
     },
     "metadata": {},
     "output_type": "display_data"
    },
    {
     "data": {
      "text/latex": [
       "Actualización: $x_{k+1} = \\left[\\begin{matrix}1.98779296875\\\\0.993896484375\\end{matrix}\\right], \\lambda = 0.125$"
      ],
      "text/plain": [
       "<IPython.core.display.Latex object>"
      ]
     },
     "metadata": {},
     "output_type": "display_data"
    },
    {
     "data": {
      "text/latex": [
       "$||\\nabla f(x_k)|| = 0.0244140625000000$"
      ],
      "text/plain": [
       "<IPython.core.display.Latex object>"
      ]
     },
     "metadata": {},
     "output_type": "display_data"
    },
    {
     "data": {
      "text/latex": [
       "Iteración 14: $x_k = \\left[\\begin{matrix}1.993896484375\\\\0.993896484375\\end{matrix}\\right], \\nabla f(x_k) = \\left( -0.0244140625, \\  0\\right)$"
      ],
      "text/plain": [
       "<IPython.core.display.Latex object>"
      ]
     },
     "metadata": {},
     "output_type": "display_data"
    },
    {
     "data": {
      "text/latex": [
       "Actualización: $x_{k+1} = \\left[\\begin{matrix}1.993896484375\\\\0.993896484375\\end{matrix}\\right], \\lambda = 0.25$"
      ],
      "text/plain": [
       "<IPython.core.display.Latex object>"
      ]
     },
     "metadata": {},
     "output_type": "display_data"
    },
    {
     "data": {
      "text/latex": [
       "$||\\nabla f(x_k)|| = 0.0244140625000000$"
      ],
      "text/plain": [
       "<IPython.core.display.Latex object>"
      ]
     },
     "metadata": {},
     "output_type": "display_data"
    },
    {
     "data": {
      "text/latex": [
       "Iteración 15: $x_k = \\left[\\begin{matrix}1.993896484375\\\\0.9969482421875\\end{matrix}\\right], \\nabla f(x_k) = \\left( 0, \\  -0.0244140625\\right)$"
      ],
      "text/plain": [
       "<IPython.core.display.Latex object>"
      ]
     },
     "metadata": {},
     "output_type": "display_data"
    },
    {
     "data": {
      "text/latex": [
       "Actualización: $x_{k+1} = \\left[\\begin{matrix}1.993896484375\\\\0.9969482421875\\end{matrix}\\right], \\lambda = 0.125$"
      ],
      "text/plain": [
       "<IPython.core.display.Latex object>"
      ]
     },
     "metadata": {},
     "output_type": "display_data"
    },
    {
     "data": {
      "text/latex": [
       "$||\\nabla f(x_k)|| = 0.0122070312500000$"
      ],
      "text/plain": [
       "<IPython.core.display.Latex object>"
      ]
     },
     "metadata": {},
     "output_type": "display_data"
    },
    {
     "data": {
      "text/latex": [
       "Iteración 16: $x_k = \\left[\\begin{matrix}1.9969482421875\\\\0.9969482421875\\end{matrix}\\right], \\nabla f(x_k) = \\left( -0.01220703125, \\  0\\right)$"
      ],
      "text/plain": [
       "<IPython.core.display.Latex object>"
      ]
     },
     "metadata": {},
     "output_type": "display_data"
    },
    {
     "data": {
      "text/latex": [
       "Actualización: $x_{k+1} = \\left[\\begin{matrix}1.9969482421875\\\\0.9969482421875\\end{matrix}\\right], \\lambda = 0.25$"
      ],
      "text/plain": [
       "<IPython.core.display.Latex object>"
      ]
     },
     "metadata": {},
     "output_type": "display_data"
    },
    {
     "data": {
      "text/latex": [
       "$||\\nabla f(x_k)|| = 0.0122070312500000$"
      ],
      "text/plain": [
       "<IPython.core.display.Latex object>"
      ]
     },
     "metadata": {},
     "output_type": "display_data"
    },
    {
     "data": {
      "text/latex": [
       "Iteración 17: $x_k = \\left[\\begin{matrix}1.9969482421875\\\\0.99847412109375\\end{matrix}\\right], \\nabla f(x_k) = \\left( 0, \\  -0.01220703125\\right)$"
      ],
      "text/plain": [
       "<IPython.core.display.Latex object>"
      ]
     },
     "metadata": {},
     "output_type": "display_data"
    },
    {
     "data": {
      "text/latex": [
       "Actualización: $x_{k+1} = \\left[\\begin{matrix}1.9969482421875\\\\0.99847412109375\\end{matrix}\\right], \\lambda = 0.125$"
      ],
      "text/plain": [
       "<IPython.core.display.Latex object>"
      ]
     },
     "metadata": {},
     "output_type": "display_data"
    },
    {
     "data": {
      "text/latex": [
       "$||\\nabla f(x_k)|| = 0.00610351562500000$"
      ],
      "text/plain": [
       "<IPython.core.display.Latex object>"
      ]
     },
     "metadata": {},
     "output_type": "display_data"
    },
    {
     "data": {
      "text/latex": [
       "Iteración 18: $x_k = \\left[\\begin{matrix}1.99847412109375\\\\0.99847412109375\\end{matrix}\\right], \\nabla f(x_k) = \\left( -0.006103515625, \\  0\\right)$"
      ],
      "text/plain": [
       "<IPython.core.display.Latex object>"
      ]
     },
     "metadata": {},
     "output_type": "display_data"
    },
    {
     "data": {
      "text/latex": [
       "Actualización: $x_{k+1} = \\left[\\begin{matrix}1.99847412109375\\\\0.99847412109375\\end{matrix}\\right], \\lambda = 0.25$"
      ],
      "text/plain": [
       "<IPython.core.display.Latex object>"
      ]
     },
     "metadata": {},
     "output_type": "display_data"
    },
    {
     "data": {
      "text/latex": [
       "$||\\nabla f(x_k)|| = 0.00610351562500000$"
      ],
      "text/plain": [
       "<IPython.core.display.Latex object>"
      ]
     },
     "metadata": {},
     "output_type": "display_data"
    },
    {
     "data": {
      "text/latex": [
       "Iteración 19: $x_k = \\left[\\begin{matrix}1.99847412109375\\\\0.999237060546875\\end{matrix}\\right], \\nabla f(x_k) = \\left( 0, \\  -0.006103515625\\right)$"
      ],
      "text/plain": [
       "<IPython.core.display.Latex object>"
      ]
     },
     "metadata": {},
     "output_type": "display_data"
    },
    {
     "data": {
      "text/latex": [
       "Actualización: $x_{k+1} = \\left[\\begin{matrix}1.99847412109375\\\\0.999237060546875\\end{matrix}\\right], \\lambda = 0.125$"
      ],
      "text/plain": [
       "<IPython.core.display.Latex object>"
      ]
     },
     "metadata": {},
     "output_type": "display_data"
    },
    {
     "data": {
      "text/latex": [
       "$||\\nabla f(x_k)|| = 0.00305175781250000$"
      ],
      "text/plain": [
       "<IPython.core.display.Latex object>"
      ]
     },
     "metadata": {},
     "output_type": "display_data"
    },
    {
     "data": {
      "text/latex": [
       "Iteración 20: $x_k = \\left[\\begin{matrix}1.99923706054688\\\\0.999237060546875\\end{matrix}\\right], \\nabla f(x_k) = \\left( -0.0030517578125, \\  0\\right)$"
      ],
      "text/plain": [
       "<IPython.core.display.Latex object>"
      ]
     },
     "metadata": {},
     "output_type": "display_data"
    },
    {
     "data": {
      "text/latex": [
       "Actualización: $x_{k+1} = \\left[\\begin{matrix}1.99923706054688\\\\0.999237060546875\\end{matrix}\\right], \\lambda = 0.25$"
      ],
      "text/plain": [
       "<IPython.core.display.Latex object>"
      ]
     },
     "metadata": {},
     "output_type": "display_data"
    },
    {
     "data": {
      "text/latex": [
       "$||\\nabla f(x_k)|| = 0.00305175781250000$"
      ],
      "text/plain": [
       "<IPython.core.display.Latex object>"
      ]
     },
     "metadata": {},
     "output_type": "display_data"
    },
    {
     "data": {
      "text/latex": [
       "Iteración 21: $x_k = \\left[\\begin{matrix}1.99923706054688\\\\0.999618530273438\\end{matrix}\\right], \\nabla f(x_k) = \\left( 0, \\  -0.0030517578125\\right)$"
      ],
      "text/plain": [
       "<IPython.core.display.Latex object>"
      ]
     },
     "metadata": {},
     "output_type": "display_data"
    },
    {
     "data": {
      "text/latex": [
       "Actualización: $x_{k+1} = \\left[\\begin{matrix}1.99923706054688\\\\0.999618530273438\\end{matrix}\\right], \\lambda = 0.125$"
      ],
      "text/plain": [
       "<IPython.core.display.Latex object>"
      ]
     },
     "metadata": {},
     "output_type": "display_data"
    },
    {
     "data": {
      "text/latex": [
       "$||\\nabla f(x_k)|| = 0.00152587890625000$"
      ],
      "text/plain": [
       "<IPython.core.display.Latex object>"
      ]
     },
     "metadata": {},
     "output_type": "display_data"
    },
    {
     "data": {
      "text/latex": [
       "Iteración 22: $x_k = \\left[\\begin{matrix}1.99961853027344\\\\0.999618530273438\\end{matrix}\\right], \\nabla f(x_k) = \\left( -0.00152587890625, \\  0\\right)$"
      ],
      "text/plain": [
       "<IPython.core.display.Latex object>"
      ]
     },
     "metadata": {},
     "output_type": "display_data"
    },
    {
     "data": {
      "text/latex": [
       "Actualización: $x_{k+1} = \\left[\\begin{matrix}1.99961853027344\\\\0.999618530273438\\end{matrix}\\right], \\lambda = 0.25$"
      ],
      "text/plain": [
       "<IPython.core.display.Latex object>"
      ]
     },
     "metadata": {},
     "output_type": "display_data"
    },
    {
     "data": {
      "text/latex": [
       "$||\\nabla f(x_k)|| = 0.00152587890625000$"
      ],
      "text/plain": [
       "<IPython.core.display.Latex object>"
      ]
     },
     "metadata": {},
     "output_type": "display_data"
    },
    {
     "data": {
      "text/latex": [
       "Iteración 23: $x_k = \\left[\\begin{matrix}1.99961853027344\\\\0.999809265136719\\end{matrix}\\right], \\nabla f(x_k) = \\left( 0, \\  -0.00152587890625\\right)$"
      ],
      "text/plain": [
       "<IPython.core.display.Latex object>"
      ]
     },
     "metadata": {},
     "output_type": "display_data"
    },
    {
     "data": {
      "text/latex": [
       "Actualización: $x_{k+1} = \\left[\\begin{matrix}1.99961853027344\\\\0.999809265136719\\end{matrix}\\right], \\lambda = 0.125$"
      ],
      "text/plain": [
       "<IPython.core.display.Latex object>"
      ]
     },
     "metadata": {},
     "output_type": "display_data"
    },
    {
     "data": {
      "text/latex": [
       "$||\\nabla f(x_k)|| = 0.000762939453125000$"
      ],
      "text/plain": [
       "<IPython.core.display.Latex object>"
      ]
     },
     "metadata": {},
     "output_type": "display_data"
    },
    {
     "data": {
      "text/latex": [
       "Iteración 24: $x_k = \\left[\\begin{matrix}1.99980926513672\\\\0.999809265136719\\end{matrix}\\right], \\nabla f(x_k) = \\left( -0.000762939453125, \\  0\\right)$"
      ],
      "text/plain": [
       "<IPython.core.display.Latex object>"
      ]
     },
     "metadata": {},
     "output_type": "display_data"
    },
    {
     "data": {
      "text/latex": [
       "Actualización: $x_{k+1} = \\left[\\begin{matrix}1.99980926513672\\\\0.999809265136719\\end{matrix}\\right], \\lambda = 0.25$"
      ],
      "text/plain": [
       "<IPython.core.display.Latex object>"
      ]
     },
     "metadata": {},
     "output_type": "display_data"
    },
    {
     "data": {
      "text/latex": [
       "$||\\nabla f(x_k)|| = 0.000762939453125000$"
      ],
      "text/plain": [
       "<IPython.core.display.Latex object>"
      ]
     },
     "metadata": {},
     "output_type": "display_data"
    },
    {
     "data": {
      "text/latex": [
       "Iteración 25: $x_k = \\left[\\begin{matrix}1.99980926513672\\\\0.999904632568359\\end{matrix}\\right], \\nabla f(x_k) = \\left( 0, \\  -0.000762939453125\\right)$"
      ],
      "text/plain": [
       "<IPython.core.display.Latex object>"
      ]
     },
     "metadata": {},
     "output_type": "display_data"
    },
    {
     "data": {
      "text/latex": [
       "Actualización: $x_{k+1} = \\left[\\begin{matrix}1.99980926513672\\\\0.999904632568359\\end{matrix}\\right], \\lambda = 0.125$"
      ],
      "text/plain": [
       "<IPython.core.display.Latex object>"
      ]
     },
     "metadata": {},
     "output_type": "display_data"
    },
    {
     "data": {
      "text/latex": [
       "$||\\nabla f(x_k)|| = 0.000381469726562500$"
      ],
      "text/plain": [
       "<IPython.core.display.Latex object>"
      ]
     },
     "metadata": {},
     "output_type": "display_data"
    },
    {
     "data": {
      "text/latex": [
       "Iteración 26: $x_k = \\left[\\begin{matrix}1.99990463256836\\\\0.999904632568359\\end{matrix}\\right], \\nabla f(x_k) = \\left( -0.0003814697265625, \\  0\\right)$"
      ],
      "text/plain": [
       "<IPython.core.display.Latex object>"
      ]
     },
     "metadata": {},
     "output_type": "display_data"
    },
    {
     "data": {
      "text/latex": [
       "Actualización: $x_{k+1} = \\left[\\begin{matrix}1.99990463256836\\\\0.999904632568359\\end{matrix}\\right], \\lambda = 0.25$"
      ],
      "text/plain": [
       "<IPython.core.display.Latex object>"
      ]
     },
     "metadata": {},
     "output_type": "display_data"
    },
    {
     "data": {
      "text/latex": [
       "$||\\nabla f(x_k)|| = 0.000381469726562500$"
      ],
      "text/plain": [
       "<IPython.core.display.Latex object>"
      ]
     },
     "metadata": {},
     "output_type": "display_data"
    },
    {
     "data": {
      "text/latex": [
       "Iteración 27: $x_k = \\left[\\begin{matrix}1.99990463256836\\\\0.99995231628418\\end{matrix}\\right], \\nabla f(x_k) = \\left( 0, \\  -0.0003814697265625\\right)$"
      ],
      "text/plain": [
       "<IPython.core.display.Latex object>"
      ]
     },
     "metadata": {},
     "output_type": "display_data"
    },
    {
     "data": {
      "text/latex": [
       "Actualización: $x_{k+1} = \\left[\\begin{matrix}1.99990463256836\\\\0.99995231628418\\end{matrix}\\right], \\lambda = 0.125$"
      ],
      "text/plain": [
       "<IPython.core.display.Latex object>"
      ]
     },
     "metadata": {},
     "output_type": "display_data"
    },
    {
     "data": {
      "text/latex": [
       "$||\\nabla f(x_k)|| = 0.000190734863281250$"
      ],
      "text/plain": [
       "<IPython.core.display.Latex object>"
      ]
     },
     "metadata": {},
     "output_type": "display_data"
    },
    {
     "data": {
      "text/latex": [
       "Iteración 28: $x_k = \\left[\\begin{matrix}1.99995231628418\\\\0.99995231628418\\end{matrix}\\right], \\nabla f(x_k) = \\left( -0.00019073486328125, \\  0\\right)$"
      ],
      "text/plain": [
       "<IPython.core.display.Latex object>"
      ]
     },
     "metadata": {},
     "output_type": "display_data"
    },
    {
     "data": {
      "text/latex": [
       "Actualización: $x_{k+1} = \\left[\\begin{matrix}1.99995231628418\\\\0.99995231628418\\end{matrix}\\right], \\lambda = 0.25$"
      ],
      "text/plain": [
       "<IPython.core.display.Latex object>"
      ]
     },
     "metadata": {},
     "output_type": "display_data"
    },
    {
     "data": {
      "text/latex": [
       "$||\\nabla f(x_k)|| = 0.000190734863281250$"
      ],
      "text/plain": [
       "<IPython.core.display.Latex object>"
      ]
     },
     "metadata": {},
     "output_type": "display_data"
    },
    {
     "data": {
      "text/latex": [
       "Iteración 29: $x_k = \\left[\\begin{matrix}1.99995231628418\\\\0.99997615814209\\end{matrix}\\right], \\nabla f(x_k) = \\left( 0, \\  -0.00019073486328125\\right)$"
      ],
      "text/plain": [
       "<IPython.core.display.Latex object>"
      ]
     },
     "metadata": {},
     "output_type": "display_data"
    },
    {
     "data": {
      "text/latex": [
       "Actualización: $x_{k+1} = \\left[\\begin{matrix}1.99995231628418\\\\0.99997615814209\\end{matrix}\\right], \\lambda = 0.125$"
      ],
      "text/plain": [
       "<IPython.core.display.Latex object>"
      ]
     },
     "metadata": {},
     "output_type": "display_data"
    },
    {
     "data": {
      "text/latex": [
       "$||\\nabla f(x_k)|| = 0.0000953674316406250$"
      ],
      "text/plain": [
       "<IPython.core.display.Latex object>"
      ]
     },
     "metadata": {},
     "output_type": "display_data"
    },
    {
     "data": {
      "text/latex": [
       "Iteración 30: $x_k = \\left[\\begin{matrix}1.99997615814209\\\\0.99997615814209\\end{matrix}\\right], \\nabla f(x_k) = \\left( -9.5367431640625 \\cdot 10^{-5}, \\  0\\right)$"
      ],
      "text/plain": [
       "<IPython.core.display.Latex object>"
      ]
     },
     "metadata": {},
     "output_type": "display_data"
    },
    {
     "data": {
      "text/latex": [
       "Actualización: $x_{k+1} = \\left[\\begin{matrix}1.99997615814209\\\\0.99997615814209\\end{matrix}\\right], \\lambda = 0.25$"
      ],
      "text/plain": [
       "<IPython.core.display.Latex object>"
      ]
     },
     "metadata": {},
     "output_type": "display_data"
    },
    {
     "data": {
      "text/latex": [
       "$||\\nabla f(x_k)|| = 0.0000953674316406250$"
      ],
      "text/plain": [
       "<IPython.core.display.Latex object>"
      ]
     },
     "metadata": {},
     "output_type": "display_data"
    },
    {
     "data": {
      "text/latex": [
       "Iteración 31: $x_k = \\left[\\begin{matrix}1.99997615814209\\\\0.999988079071045\\end{matrix}\\right], \\nabla f(x_k) = \\left( 0, \\  -9.5367431640625 \\cdot 10^{-5}\\right)$"
      ],
      "text/plain": [
       "<IPython.core.display.Latex object>"
      ]
     },
     "metadata": {},
     "output_type": "display_data"
    },
    {
     "data": {
      "text/latex": [
       "Actualización: $x_{k+1} = \\left[\\begin{matrix}1.99997615814209\\\\0.999988079071045\\end{matrix}\\right], \\lambda = 0.125$"
      ],
      "text/plain": [
       "<IPython.core.display.Latex object>"
      ]
     },
     "metadata": {},
     "output_type": "display_data"
    },
    {
     "data": {
      "text/latex": [
       "$||\\nabla f(x_k)|| = 0.0000476837158203125$"
      ],
      "text/plain": [
       "<IPython.core.display.Latex object>"
      ]
     },
     "metadata": {},
     "output_type": "display_data"
    },
    {
     "data": {
      "text/latex": [
       "Iteración 32: $x_k = \\left[\\begin{matrix}1.99998807907104\\\\0.999988079071045\\end{matrix}\\right], \\nabla f(x_k) = \\left( -4.76837158203125 \\cdot 10^{-5}, \\  0\\right)$"
      ],
      "text/plain": [
       "<IPython.core.display.Latex object>"
      ]
     },
     "metadata": {},
     "output_type": "display_data"
    },
    {
     "data": {
      "text/latex": [
       "Actualización: $x_{k+1} = \\left[\\begin{matrix}1.99998807907104\\\\0.999988079071045\\end{matrix}\\right], \\lambda = 0.25$"
      ],
      "text/plain": [
       "<IPython.core.display.Latex object>"
      ]
     },
     "metadata": {},
     "output_type": "display_data"
    },
    {
     "data": {
      "text/latex": [
       "$||\\nabla f(x_k)|| = 0.0000476837158203125$"
      ],
      "text/plain": [
       "<IPython.core.display.Latex object>"
      ]
     },
     "metadata": {},
     "output_type": "display_data"
    },
    {
     "data": {
      "text/latex": [
       "Iteración 33: $x_k = \\left[\\begin{matrix}1.99998807907104\\\\0.999994039535522\\end{matrix}\\right], \\nabla f(x_k) = \\left( 0, \\  -4.76837158203125 \\cdot 10^{-5}\\right)$"
      ],
      "text/plain": [
       "<IPython.core.display.Latex object>"
      ]
     },
     "metadata": {},
     "output_type": "display_data"
    },
    {
     "data": {
      "text/latex": [
       "Actualización: $x_{k+1} = \\left[\\begin{matrix}1.99998807907104\\\\0.999994039535522\\end{matrix}\\right], \\lambda = 0.125$"
      ],
      "text/plain": [
       "<IPython.core.display.Latex object>"
      ]
     },
     "metadata": {},
     "output_type": "display_data"
    },
    {
     "data": {
      "text/latex": [
       "$||\\nabla f(x_k)|| = 0.0000238418579101563$"
      ],
      "text/plain": [
       "<IPython.core.display.Latex object>"
      ]
     },
     "metadata": {},
     "output_type": "display_data"
    },
    {
     "data": {
      "text/latex": [
       "Iteración 34: $x_k = \\left[\\begin{matrix}1.99999403953552\\\\0.999994039535522\\end{matrix}\\right], \\nabla f(x_k) = \\left( -2.38418579101563 \\cdot 10^{-5}, \\  0\\right)$"
      ],
      "text/plain": [
       "<IPython.core.display.Latex object>"
      ]
     },
     "metadata": {},
     "output_type": "display_data"
    },
    {
     "data": {
      "text/latex": [
       "Actualización: $x_{k+1} = \\left[\\begin{matrix}1.99999403953552\\\\0.999994039535522\\end{matrix}\\right], \\lambda = 0.25$"
      ],
      "text/plain": [
       "<IPython.core.display.Latex object>"
      ]
     },
     "metadata": {},
     "output_type": "display_data"
    },
    {
     "data": {
      "text/latex": [
       "$||\\nabla f(x_k)|| = 0.0000238418579101563$"
      ],
      "text/plain": [
       "<IPython.core.display.Latex object>"
      ]
     },
     "metadata": {},
     "output_type": "display_data"
    },
    {
     "data": {
      "text/latex": [
       "Iteración 35: $x_k = \\left[\\begin{matrix}1.99999403953552\\\\0.999997019767761\\end{matrix}\\right], \\nabla f(x_k) = \\left( 0, \\  -2.38418579101563 \\cdot 10^{-5}\\right)$"
      ],
      "text/plain": [
       "<IPython.core.display.Latex object>"
      ]
     },
     "metadata": {},
     "output_type": "display_data"
    },
    {
     "data": {
      "text/latex": [
       "Actualización: $x_{k+1} = \\left[\\begin{matrix}1.99999403953552\\\\0.999997019767761\\end{matrix}\\right], \\lambda = 0.125$"
      ],
      "text/plain": [
       "<IPython.core.display.Latex object>"
      ]
     },
     "metadata": {},
     "output_type": "display_data"
    },
    {
     "data": {
      "text/latex": [
       "$||\\nabla f(x_k)|| = 0.0000119209289550781$"
      ],
      "text/plain": [
       "<IPython.core.display.Latex object>"
      ]
     },
     "metadata": {},
     "output_type": "display_data"
    },
    {
     "data": {
      "text/latex": [
       "Iteración 36: $x_k = \\left[\\begin{matrix}1.99999701976776\\\\0.999997019767761\\end{matrix}\\right], \\nabla f(x_k) = \\left( -1.19209289550781 \\cdot 10^{-5}, \\  0\\right)$"
      ],
      "text/plain": [
       "<IPython.core.display.Latex object>"
      ]
     },
     "metadata": {},
     "output_type": "display_data"
    },
    {
     "data": {
      "text/latex": [
       "Actualización: $x_{k+1} = \\left[\\begin{matrix}1.99999701976776\\\\0.999997019767761\\end{matrix}\\right], \\lambda = 0.25$"
      ],
      "text/plain": [
       "<IPython.core.display.Latex object>"
      ]
     },
     "metadata": {},
     "output_type": "display_data"
    },
    {
     "data": {
      "text/latex": [
       "$||\\nabla f(x_k)|| = 0.0000119209289550781$"
      ],
      "text/plain": [
       "<IPython.core.display.Latex object>"
      ]
     },
     "metadata": {},
     "output_type": "display_data"
    },
    {
     "data": {
      "text/latex": [
       "Iteración 37: $x_k = \\left[\\begin{matrix}1.99999701976776\\\\0.999998509883881\\end{matrix}\\right], \\nabla f(x_k) = \\left( 0, \\  -1.19209289550781 \\cdot 10^{-5}\\right)$"
      ],
      "text/plain": [
       "<IPython.core.display.Latex object>"
      ]
     },
     "metadata": {},
     "output_type": "display_data"
    },
    {
     "data": {
      "text/latex": [
       "Actualización: $x_{k+1} = \\left[\\begin{matrix}1.99999701976776\\\\0.999998509883881\\end{matrix}\\right], \\lambda = 0.125$"
      ],
      "text/plain": [
       "<IPython.core.display.Latex object>"
      ]
     },
     "metadata": {},
     "output_type": "display_data"
    },
    {
     "data": {
      "text/latex": [
       "$||\\nabla f(x_k)|| = 0.00000596046447753906$"
      ],
      "text/plain": [
       "<IPython.core.display.Latex object>"
      ]
     },
     "metadata": {},
     "output_type": "display_data"
    },
    {
     "data": {
      "text/latex": [
       "**Resultados usando Búsqueda de Armijo**"
      ],
      "text/plain": [
       "<IPython.core.display.Latex object>"
      ]
     },
     "metadata": {},
     "output_type": "display_data"
    },
    {
     "data": {
      "text/latex": [
       "El punto óptimo es: $\\left[\\begin{matrix}1.99999701976776\\\\0.999998509883881\\end{matrix}\\right]$"
      ],
      "text/plain": [
       "<IPython.core.display.Latex object>"
      ]
     },
     "metadata": {},
     "output_type": "display_data"
    },
    {
     "data": {
      "text/latex": [
       "Valor óptimo de la función: $8.88178419700125 \\cdot 10^{-12}$"
      ],
      "text/plain": [
       "<IPython.core.display.Latex object>"
      ]
     },
     "metadata": {},
     "output_type": "display_data"
    }
   ],
   "source": [
    "# Optimización usando búsqueda de Armijo\n",
    "x_opt_armijo, iteraciones_armijo = gradient_descent(f, grad_f, x0, method='armijo')\n",
    "\n",
    "# Mostrar resultado final para búsqueda de Armijo\n",
    "display(Latex(\"**Resultados usando Búsqueda de Armijo**\"))\n",
    "display(Latex(f\"El punto óptimo es: ${sp.latex(x_opt_armijo)}$\"))\n",
    "display(Latex(f\"Valor óptimo de la función: ${sp.latex(f.subs({x[i]: x_opt_armijo[i] for i in range(len(x))}))}$\"))\n"
   ]
  },
  {
   "cell_type": "code",
   "execution_count": 34,
   "metadata": {},
   "outputs": [
    {
     "data": {
      "text/latex": [
       "\n",
       "Iteración 1:"
      ],
      "text/plain": [
       "<IPython.core.display.Latex object>"
      ]
     },
     "metadata": {},
     "output_type": "display_data"
    },
    {
     "data": {
      "text/latex": [
       "$x_k = \\left[\\begin{matrix}1.0\\\\1.5\\end{matrix}\\right]$"
      ],
      "text/plain": [
       "<IPython.core.display.Latex object>"
      ]
     },
     "metadata": {},
     "output_type": "display_data"
    },
    {
     "data": {
      "text/latex": [
       "$f(x_k) = 5.0$"
      ],
      "text/plain": [
       "<IPython.core.display.Latex object>"
      ]
     },
     "metadata": {},
     "output_type": "display_data"
    },
    {
     "data": {
      "text/latex": [
       "$\\nabla f(x_k) = \\left[\\begin{matrix}-16\\\\24\\end{matrix}\\right]$"
      ],
      "text/plain": [
       "<IPython.core.display.Latex object>"
      ]
     },
     "metadata": {},
     "output_type": "display_data"
    },
    {
     "data": {
      "text/latex": [
       "$d_k = \\left[\\begin{matrix}16\\\\-24\\end{matrix}\\right]$"
      ],
      "text/plain": [
       "<IPython.core.display.Latex object>"
      ]
     },
     "metadata": {},
     "output_type": "display_data"
    },
    {
     "data": {
      "text/latex": [
       "$\\lambda_k = 0.0625$"
      ],
      "text/plain": [
       "<IPython.core.display.Latex object>"
      ]
     },
     "metadata": {},
     "output_type": "display_data"
    },
    {
     "data": {
      "text/latex": [
       "\n",
       "Iteración 2:"
      ],
      "text/plain": [
       "<IPython.core.display.Latex object>"
      ]
     },
     "metadata": {},
     "output_type": "display_data"
    },
    {
     "data": {
      "text/latex": [
       "$x_k = \\left[\\begin{matrix}1.375\\\\1.0\\end{matrix}\\right]$"
      ],
      "text/plain": [
       "<IPython.core.display.Latex object>"
      ]
     },
     "metadata": {},
     "output_type": "display_data"
    },
    {
     "data": {
      "text/latex": [
       "$f(x_k) = 0.78125$"
      ],
      "text/plain": [
       "<IPython.core.display.Latex object>"
      ]
     },
     "metadata": {},
     "output_type": "display_data"
    },
    {
     "data": {
      "text/latex": [
       "$\\nabla f(x_k) = \\left[\\begin{matrix}-6.0\\\\8.0\\end{matrix}\\right]$"
      ],
      "text/plain": [
       "<IPython.core.display.Latex object>"
      ]
     },
     "metadata": {},
     "output_type": "display_data"
    },
    {
     "data": {
      "text/latex": [
       "$d_k = \\left[\\begin{matrix}6.0\\\\-8.0\\end{matrix}\\right]$"
      ],
      "text/plain": [
       "<IPython.core.display.Latex object>"
      ]
     },
     "metadata": {},
     "output_type": "display_data"
    },
    {
     "data": {
      "text/latex": [
       "$\\lambda_k = 0.0625$"
      ],
      "text/plain": [
       "<IPython.core.display.Latex object>"
      ]
     },
     "metadata": {},
     "output_type": "display_data"
    },
    {
     "data": {
      "text/latex": [
       "\n",
       "Iteración 3:"
      ],
      "text/plain": [
       "<IPython.core.display.Latex object>"
      ]
     },
     "metadata": {},
     "output_type": "display_data"
    },
    {
     "data": {
      "text/latex": [
       "$x_k = \\left[\\begin{matrix}1.53125\\\\0.84375\\end{matrix}\\right]$"
      ],
      "text/plain": [
       "<IPython.core.display.Latex object>"
      ]
     },
     "metadata": {},
     "output_type": "display_data"
    },
    {
     "data": {
      "text/latex": [
       "$f(x_k) = 0.244140625$"
      ],
      "text/plain": [
       "<IPython.core.display.Latex object>"
      ]
     },
     "metadata": {},
     "output_type": "display_data"
    },
    {
     "data": {
      "text/latex": [
       "$\\nabla f(x_k) = \\left[\\begin{matrix}-2.5\\\\2.5\\end{matrix}\\right]$"
      ],
      "text/plain": [
       "<IPython.core.display.Latex object>"
      ]
     },
     "metadata": {},
     "output_type": "display_data"
    },
    {
     "data": {
      "text/latex": [
       "$d_k = \\left[\\begin{matrix}2.5\\\\-2.5\\end{matrix}\\right]$"
      ],
      "text/plain": [
       "<IPython.core.display.Latex object>"
      ]
     },
     "metadata": {},
     "output_type": "display_data"
    },
    {
     "data": {
      "text/latex": [
       "$\\lambda_k = 0.0625$"
      ],
      "text/plain": [
       "<IPython.core.display.Latex object>"
      ]
     },
     "metadata": {},
     "output_type": "display_data"
    },
    {
     "data": {
      "text/latex": [
       "\n",
       "Iteración 4:"
      ],
      "text/plain": [
       "<IPython.core.display.Latex object>"
      ]
     },
     "metadata": {},
     "output_type": "display_data"
    },
    {
     "data": {
      "text/latex": [
       "$x_k = \\left[\\begin{matrix}1.609375\\\\0.8046875\\end{matrix}\\right]$"
      ],
      "text/plain": [
       "<IPython.core.display.Latex object>"
      ]
     },
     "metadata": {},
     "output_type": "display_data"
    },
    {
     "data": {
      "text/latex": [
       "$f(x_k) = 0.152587890625$"
      ],
      "text/plain": [
       "<IPython.core.display.Latex object>"
      ]
     },
     "metadata": {},
     "output_type": "display_data"
    },
    {
     "data": {
      "text/latex": [
       "$\\nabla f(x_k) = \\left[\\begin{matrix}-1.25\\\\0.625\\end{matrix}\\right]$"
      ],
      "text/plain": [
       "<IPython.core.display.Latex object>"
      ]
     },
     "metadata": {},
     "output_type": "display_data"
    },
    {
     "data": {
      "text/latex": [
       "$d_k = \\left[\\begin{matrix}1.25\\\\-0.625\\end{matrix}\\right]$"
      ],
      "text/plain": [
       "<IPython.core.display.Latex object>"
      ]
     },
     "metadata": {},
     "output_type": "display_data"
    },
    {
     "data": {
      "text/latex": [
       "$\\lambda_k = 0.0625$"
      ],
      "text/plain": [
       "<IPython.core.display.Latex object>"
      ]
     },
     "metadata": {},
     "output_type": "display_data"
    },
    {
     "data": {
      "text/latex": [
       "\n",
       "Iteración 5:"
      ],
      "text/plain": [
       "<IPython.core.display.Latex object>"
      ]
     },
     "metadata": {},
     "output_type": "display_data"
    },
    {
     "data": {
      "text/latex": [
       "$x_k = \\left[\\begin{matrix}1.8046875\\\\0.8046875\\end{matrix}\\right]$"
      ],
      "text/plain": [
       "<IPython.core.display.Latex object>"
      ]
     },
     "metadata": {},
     "output_type": "display_data"
    },
    {
     "data": {
      "text/latex": [
       "$f(x_k) = 0.0762939453125$"
      ],
      "text/plain": [
       "<IPython.core.display.Latex object>"
      ]
     },
     "metadata": {},
     "output_type": "display_data"
    },
    {
     "data": {
      "text/latex": [
       "$\\nabla f(x_k) = \\left[\\begin{matrix}-0.78125\\\\0\\end{matrix}\\right]$"
      ],
      "text/plain": [
       "<IPython.core.display.Latex object>"
      ]
     },
     "metadata": {},
     "output_type": "display_data"
    },
    {
     "data": {
      "text/latex": [
       "$d_k = \\left[\\begin{matrix}0.78125\\\\0\\end{matrix}\\right]$"
      ],
      "text/plain": [
       "<IPython.core.display.Latex object>"
      ]
     },
     "metadata": {},
     "output_type": "display_data"
    },
    {
     "data": {
      "text/latex": [
       "$\\lambda_k = 0.25$"
      ],
      "text/plain": [
       "<IPython.core.display.Latex object>"
      ]
     },
     "metadata": {},
     "output_type": "display_data"
    },
    {
     "data": {
      "text/latex": [
       "\n",
       "Iteración 6:"
      ],
      "text/plain": [
       "<IPython.core.display.Latex object>"
      ]
     },
     "metadata": {},
     "output_type": "display_data"
    },
    {
     "data": {
      "text/latex": [
       "$x_k = \\left[\\begin{matrix}1.8046875\\\\0.90234375\\end{matrix}\\right]$"
      ],
      "text/plain": [
       "<IPython.core.display.Latex object>"
      ]
     },
     "metadata": {},
     "output_type": "display_data"
    },
    {
     "data": {
      "text/latex": [
       "$f(x_k) = 0.03814697265625$"
      ],
      "text/plain": [
       "<IPython.core.display.Latex object>"
      ]
     },
     "metadata": {},
     "output_type": "display_data"
    },
    {
     "data": {
      "text/latex": [
       "$\\nabla f(x_k) = \\left[\\begin{matrix}0\\\\-0.78125\\end{matrix}\\right]$"
      ],
      "text/plain": [
       "<IPython.core.display.Latex object>"
      ]
     },
     "metadata": {},
     "output_type": "display_data"
    },
    {
     "data": {
      "text/latex": [
       "$d_k = \\left[\\begin{matrix}0\\\\0.78125\\end{matrix}\\right]$"
      ],
      "text/plain": [
       "<IPython.core.display.Latex object>"
      ]
     },
     "metadata": {},
     "output_type": "display_data"
    },
    {
     "data": {
      "text/latex": [
       "$\\lambda_k = 0.125$"
      ],
      "text/plain": [
       "<IPython.core.display.Latex object>"
      ]
     },
     "metadata": {},
     "output_type": "display_data"
    },
    {
     "data": {
      "text/latex": [
       "\n",
       "Iteración 7:"
      ],
      "text/plain": [
       "<IPython.core.display.Latex object>"
      ]
     },
     "metadata": {},
     "output_type": "display_data"
    },
    {
     "data": {
      "text/latex": [
       "$x_k = \\left[\\begin{matrix}1.90234375\\\\0.90234375\\end{matrix}\\right]$"
      ],
      "text/plain": [
       "<IPython.core.display.Latex object>"
      ]
     },
     "metadata": {},
     "output_type": "display_data"
    },
    {
     "data": {
      "text/latex": [
       "$f(x_k) = 0.019073486328125$"
      ],
      "text/plain": [
       "<IPython.core.display.Latex object>"
      ]
     },
     "metadata": {},
     "output_type": "display_data"
    },
    {
     "data": {
      "text/latex": [
       "$\\nabla f(x_k) = \\left[\\begin{matrix}-0.390625\\\\0\\end{matrix}\\right]$"
      ],
      "text/plain": [
       "<IPython.core.display.Latex object>"
      ]
     },
     "metadata": {},
     "output_type": "display_data"
    },
    {
     "data": {
      "text/latex": [
       "$d_k = \\left[\\begin{matrix}0.390625\\\\0\\end{matrix}\\right]$"
      ],
      "text/plain": [
       "<IPython.core.display.Latex object>"
      ]
     },
     "metadata": {},
     "output_type": "display_data"
    },
    {
     "data": {
      "text/latex": [
       "$\\lambda_k = 0.25$"
      ],
      "text/plain": [
       "<IPython.core.display.Latex object>"
      ]
     },
     "metadata": {},
     "output_type": "display_data"
    },
    {
     "data": {
      "text/latex": [
       "\n",
       "Iteración 8:"
      ],
      "text/plain": [
       "<IPython.core.display.Latex object>"
      ]
     },
     "metadata": {},
     "output_type": "display_data"
    },
    {
     "data": {
      "text/latex": [
       "$x_k = \\left[\\begin{matrix}1.90234375\\\\0.951171875\\end{matrix}\\right]$"
      ],
      "text/plain": [
       "<IPython.core.display.Latex object>"
      ]
     },
     "metadata": {},
     "output_type": "display_data"
    },
    {
     "data": {
      "text/latex": [
       "$f(x_k) = 0.0095367431640625$"
      ],
      "text/plain": [
       "<IPython.core.display.Latex object>"
      ]
     },
     "metadata": {},
     "output_type": "display_data"
    },
    {
     "data": {
      "text/latex": [
       "$\\nabla f(x_k) = \\left[\\begin{matrix}0\\\\-0.390625\\end{matrix}\\right]$"
      ],
      "text/plain": [
       "<IPython.core.display.Latex object>"
      ]
     },
     "metadata": {},
     "output_type": "display_data"
    },
    {
     "data": {
      "text/latex": [
       "$d_k = \\left[\\begin{matrix}0\\\\0.390625\\end{matrix}\\right]$"
      ],
      "text/plain": [
       "<IPython.core.display.Latex object>"
      ]
     },
     "metadata": {},
     "output_type": "display_data"
    },
    {
     "data": {
      "text/latex": [
       "$\\lambda_k = 0.125$"
      ],
      "text/plain": [
       "<IPython.core.display.Latex object>"
      ]
     },
     "metadata": {},
     "output_type": "display_data"
    },
    {
     "data": {
      "text/latex": [
       "\n",
       "Iteración 9:"
      ],
      "text/plain": [
       "<IPython.core.display.Latex object>"
      ]
     },
     "metadata": {},
     "output_type": "display_data"
    },
    {
     "data": {
      "text/latex": [
       "$x_k = \\left[\\begin{matrix}1.951171875\\\\0.951171875\\end{matrix}\\right]$"
      ],
      "text/plain": [
       "<IPython.core.display.Latex object>"
      ]
     },
     "metadata": {},
     "output_type": "display_data"
    },
    {
     "data": {
      "text/latex": [
       "$f(x_k) = 0.00476837158203125$"
      ],
      "text/plain": [
       "<IPython.core.display.Latex object>"
      ]
     },
     "metadata": {},
     "output_type": "display_data"
    },
    {
     "data": {
      "text/latex": [
       "$\\nabla f(x_k) = \\left[\\begin{matrix}-0.1953125\\\\0\\end{matrix}\\right]$"
      ],
      "text/plain": [
       "<IPython.core.display.Latex object>"
      ]
     },
     "metadata": {},
     "output_type": "display_data"
    },
    {
     "data": {
      "text/latex": [
       "$d_k = \\left[\\begin{matrix}0.1953125\\\\0\\end{matrix}\\right]$"
      ],
      "text/plain": [
       "<IPython.core.display.Latex object>"
      ]
     },
     "metadata": {},
     "output_type": "display_data"
    },
    {
     "data": {
      "text/latex": [
       "$\\lambda_k = 0.25$"
      ],
      "text/plain": [
       "<IPython.core.display.Latex object>"
      ]
     },
     "metadata": {},
     "output_type": "display_data"
    },
    {
     "data": {
      "text/latex": [
       "\n",
       "Iteración 10:"
      ],
      "text/plain": [
       "<IPython.core.display.Latex object>"
      ]
     },
     "metadata": {},
     "output_type": "display_data"
    },
    {
     "data": {
      "text/latex": [
       "$x_k = \\left[\\begin{matrix}1.951171875\\\\0.9755859375\\end{matrix}\\right]$"
      ],
      "text/plain": [
       "<IPython.core.display.Latex object>"
      ]
     },
     "metadata": {},
     "output_type": "display_data"
    },
    {
     "data": {
      "text/latex": [
       "$f(x_k) = 0.00238418579101563$"
      ],
      "text/plain": [
       "<IPython.core.display.Latex object>"
      ]
     },
     "metadata": {},
     "output_type": "display_data"
    },
    {
     "data": {
      "text/latex": [
       "$\\nabla f(x_k) = \\left[\\begin{matrix}0\\\\-0.1953125\\end{matrix}\\right]$"
      ],
      "text/plain": [
       "<IPython.core.display.Latex object>"
      ]
     },
     "metadata": {},
     "output_type": "display_data"
    },
    {
     "data": {
      "text/latex": [
       "$d_k = \\left[\\begin{matrix}0\\\\0.1953125\\end{matrix}\\right]$"
      ],
      "text/plain": [
       "<IPython.core.display.Latex object>"
      ]
     },
     "metadata": {},
     "output_type": "display_data"
    },
    {
     "data": {
      "text/latex": [
       "$\\lambda_k = 0.125$"
      ],
      "text/plain": [
       "<IPython.core.display.Latex object>"
      ]
     },
     "metadata": {},
     "output_type": "display_data"
    },
    {
     "data": {
      "text/latex": [
       "\n",
       "Iteración 11:"
      ],
      "text/plain": [
       "<IPython.core.display.Latex object>"
      ]
     },
     "metadata": {},
     "output_type": "display_data"
    },
    {
     "data": {
      "text/latex": [
       "$x_k = \\left[\\begin{matrix}1.9755859375\\\\0.9755859375\\end{matrix}\\right]$"
      ],
      "text/plain": [
       "<IPython.core.display.Latex object>"
      ]
     },
     "metadata": {},
     "output_type": "display_data"
    },
    {
     "data": {
      "text/latex": [
       "$f(x_k) = 0.00119209289550781$"
      ],
      "text/plain": [
       "<IPython.core.display.Latex object>"
      ]
     },
     "metadata": {},
     "output_type": "display_data"
    },
    {
     "data": {
      "text/latex": [
       "$\\nabla f(x_k) = \\left[\\begin{matrix}-0.09765625\\\\0\\end{matrix}\\right]$"
      ],
      "text/plain": [
       "<IPython.core.display.Latex object>"
      ]
     },
     "metadata": {},
     "output_type": "display_data"
    },
    {
     "data": {
      "text/latex": [
       "$d_k = \\left[\\begin{matrix}0.09765625\\\\0\\end{matrix}\\right]$"
      ],
      "text/plain": [
       "<IPython.core.display.Latex object>"
      ]
     },
     "metadata": {},
     "output_type": "display_data"
    },
    {
     "data": {
      "text/latex": [
       "$\\lambda_k = 0.25$"
      ],
      "text/plain": [
       "<IPython.core.display.Latex object>"
      ]
     },
     "metadata": {},
     "output_type": "display_data"
    },
    {
     "data": {
      "text/latex": [
       "\n",
       "Iteración 12:"
      ],
      "text/plain": [
       "<IPython.core.display.Latex object>"
      ]
     },
     "metadata": {},
     "output_type": "display_data"
    },
    {
     "data": {
      "text/latex": [
       "$x_k = \\left[\\begin{matrix}1.9755859375\\\\0.98779296875\\end{matrix}\\right]$"
      ],
      "text/plain": [
       "<IPython.core.display.Latex object>"
      ]
     },
     "metadata": {},
     "output_type": "display_data"
    },
    {
     "data": {
      "text/latex": [
       "$f(x_k) = 0.000596046447753906$"
      ],
      "text/plain": [
       "<IPython.core.display.Latex object>"
      ]
     },
     "metadata": {},
     "output_type": "display_data"
    },
    {
     "data": {
      "text/latex": [
       "$\\nabla f(x_k) = \\left[\\begin{matrix}0\\\\-0.09765625\\end{matrix}\\right]$"
      ],
      "text/plain": [
       "<IPython.core.display.Latex object>"
      ]
     },
     "metadata": {},
     "output_type": "display_data"
    },
    {
     "data": {
      "text/latex": [
       "$d_k = \\left[\\begin{matrix}0\\\\0.09765625\\end{matrix}\\right]$"
      ],
      "text/plain": [
       "<IPython.core.display.Latex object>"
      ]
     },
     "metadata": {},
     "output_type": "display_data"
    },
    {
     "data": {
      "text/latex": [
       "$\\lambda_k = 0.125$"
      ],
      "text/plain": [
       "<IPython.core.display.Latex object>"
      ]
     },
     "metadata": {},
     "output_type": "display_data"
    },
    {
     "data": {
      "text/latex": [
       "\n",
       "Iteración 13:"
      ],
      "text/plain": [
       "<IPython.core.display.Latex object>"
      ]
     },
     "metadata": {},
     "output_type": "display_data"
    },
    {
     "data": {
      "text/latex": [
       "$x_k = \\left[\\begin{matrix}1.98779296875\\\\0.98779296875\\end{matrix}\\right]$"
      ],
      "text/plain": [
       "<IPython.core.display.Latex object>"
      ]
     },
     "metadata": {},
     "output_type": "display_data"
    },
    {
     "data": {
      "text/latex": [
       "$f(x_k) = 0.000298023223876953$"
      ],
      "text/plain": [
       "<IPython.core.display.Latex object>"
      ]
     },
     "metadata": {},
     "output_type": "display_data"
    },
    {
     "data": {
      "text/latex": [
       "$\\nabla f(x_k) = \\left[\\begin{matrix}-0.048828125\\\\0\\end{matrix}\\right]$"
      ],
      "text/plain": [
       "<IPython.core.display.Latex object>"
      ]
     },
     "metadata": {},
     "output_type": "display_data"
    },
    {
     "data": {
      "text/latex": [
       "$d_k = \\left[\\begin{matrix}0.048828125\\\\0\\end{matrix}\\right]$"
      ],
      "text/plain": [
       "<IPython.core.display.Latex object>"
      ]
     },
     "metadata": {},
     "output_type": "display_data"
    },
    {
     "data": {
      "text/latex": [
       "$\\lambda_k = 0.25$"
      ],
      "text/plain": [
       "<IPython.core.display.Latex object>"
      ]
     },
     "metadata": {},
     "output_type": "display_data"
    },
    {
     "data": {
      "text/latex": [
       "\n",
       "Iteración 14:"
      ],
      "text/plain": [
       "<IPython.core.display.Latex object>"
      ]
     },
     "metadata": {},
     "output_type": "display_data"
    },
    {
     "data": {
      "text/latex": [
       "$x_k = \\left[\\begin{matrix}1.98779296875\\\\0.993896484375\\end{matrix}\\right]$"
      ],
      "text/plain": [
       "<IPython.core.display.Latex object>"
      ]
     },
     "metadata": {},
     "output_type": "display_data"
    },
    {
     "data": {
      "text/latex": [
       "$f(x_k) = 0.000149011611938477$"
      ],
      "text/plain": [
       "<IPython.core.display.Latex object>"
      ]
     },
     "metadata": {},
     "output_type": "display_data"
    },
    {
     "data": {
      "text/latex": [
       "$\\nabla f(x_k) = \\left[\\begin{matrix}0\\\\-0.048828125\\end{matrix}\\right]$"
      ],
      "text/plain": [
       "<IPython.core.display.Latex object>"
      ]
     },
     "metadata": {},
     "output_type": "display_data"
    },
    {
     "data": {
      "text/latex": [
       "$d_k = \\left[\\begin{matrix}0\\\\0.048828125\\end{matrix}\\right]$"
      ],
      "text/plain": [
       "<IPython.core.display.Latex object>"
      ]
     },
     "metadata": {},
     "output_type": "display_data"
    },
    {
     "data": {
      "text/latex": [
       "$\\lambda_k = 0.125$"
      ],
      "text/plain": [
       "<IPython.core.display.Latex object>"
      ]
     },
     "metadata": {},
     "output_type": "display_data"
    },
    {
     "data": {
      "text/latex": [
       "\n",
       "Iteración 15:"
      ],
      "text/plain": [
       "<IPython.core.display.Latex object>"
      ]
     },
     "metadata": {},
     "output_type": "display_data"
    },
    {
     "data": {
      "text/latex": [
       "$x_k = \\left[\\begin{matrix}1.993896484375\\\\0.993896484375\\end{matrix}\\right]$"
      ],
      "text/plain": [
       "<IPython.core.display.Latex object>"
      ]
     },
     "metadata": {},
     "output_type": "display_data"
    },
    {
     "data": {
      "text/latex": [
       "$f(x_k) = 7.45058059692383 \\cdot 10^{-5}$"
      ],
      "text/plain": [
       "<IPython.core.display.Latex object>"
      ]
     },
     "metadata": {},
     "output_type": "display_data"
    },
    {
     "data": {
      "text/latex": [
       "$\\nabla f(x_k) = \\left[\\begin{matrix}-0.0244140625\\\\0\\end{matrix}\\right]$"
      ],
      "text/plain": [
       "<IPython.core.display.Latex object>"
      ]
     },
     "metadata": {},
     "output_type": "display_data"
    },
    {
     "data": {
      "text/latex": [
       "$d_k = \\left[\\begin{matrix}0.0244140625\\\\0\\end{matrix}\\right]$"
      ],
      "text/plain": [
       "<IPython.core.display.Latex object>"
      ]
     },
     "metadata": {},
     "output_type": "display_data"
    },
    {
     "data": {
      "text/latex": [
       "$\\lambda_k = 0.25$"
      ],
      "text/plain": [
       "<IPython.core.display.Latex object>"
      ]
     },
     "metadata": {},
     "output_type": "display_data"
    },
    {
     "data": {
      "text/latex": [
       "\n",
       "Iteración 16:"
      ],
      "text/plain": [
       "<IPython.core.display.Latex object>"
      ]
     },
     "metadata": {},
     "output_type": "display_data"
    },
    {
     "data": {
      "text/latex": [
       "$x_k = \\left[\\begin{matrix}1.993896484375\\\\0.9969482421875\\end{matrix}\\right]$"
      ],
      "text/plain": [
       "<IPython.core.display.Latex object>"
      ]
     },
     "metadata": {},
     "output_type": "display_data"
    },
    {
     "data": {
      "text/latex": [
       "$f(x_k) = 3.72529029846191 \\cdot 10^{-5}$"
      ],
      "text/plain": [
       "<IPython.core.display.Latex object>"
      ]
     },
     "metadata": {},
     "output_type": "display_data"
    },
    {
     "data": {
      "text/latex": [
       "$\\nabla f(x_k) = \\left[\\begin{matrix}0\\\\-0.0244140625\\end{matrix}\\right]$"
      ],
      "text/plain": [
       "<IPython.core.display.Latex object>"
      ]
     },
     "metadata": {},
     "output_type": "display_data"
    },
    {
     "data": {
      "text/latex": [
       "$d_k = \\left[\\begin{matrix}0\\\\0.0244140625\\end{matrix}\\right]$"
      ],
      "text/plain": [
       "<IPython.core.display.Latex object>"
      ]
     },
     "metadata": {},
     "output_type": "display_data"
    },
    {
     "data": {
      "text/latex": [
       "$\\lambda_k = 0.125$"
      ],
      "text/plain": [
       "<IPython.core.display.Latex object>"
      ]
     },
     "metadata": {},
     "output_type": "display_data"
    },
    {
     "data": {
      "text/latex": [
       "\n",
       "Iteración 17:"
      ],
      "text/plain": [
       "<IPython.core.display.Latex object>"
      ]
     },
     "metadata": {},
     "output_type": "display_data"
    },
    {
     "data": {
      "text/latex": [
       "$x_k = \\left[\\begin{matrix}1.9969482421875\\\\0.9969482421875\\end{matrix}\\right]$"
      ],
      "text/plain": [
       "<IPython.core.display.Latex object>"
      ]
     },
     "metadata": {},
     "output_type": "display_data"
    },
    {
     "data": {
      "text/latex": [
       "$f(x_k) = 1.86264514923096 \\cdot 10^{-5}$"
      ],
      "text/plain": [
       "<IPython.core.display.Latex object>"
      ]
     },
     "metadata": {},
     "output_type": "display_data"
    },
    {
     "data": {
      "text/latex": [
       "$\\nabla f(x_k) = \\left[\\begin{matrix}-0.01220703125\\\\0\\end{matrix}\\right]$"
      ],
      "text/plain": [
       "<IPython.core.display.Latex object>"
      ]
     },
     "metadata": {},
     "output_type": "display_data"
    },
    {
     "data": {
      "text/latex": [
       "$d_k = \\left[\\begin{matrix}0.01220703125\\\\0\\end{matrix}\\right]$"
      ],
      "text/plain": [
       "<IPython.core.display.Latex object>"
      ]
     },
     "metadata": {},
     "output_type": "display_data"
    },
    {
     "data": {
      "text/latex": [
       "$\\lambda_k = 0.25$"
      ],
      "text/plain": [
       "<IPython.core.display.Latex object>"
      ]
     },
     "metadata": {},
     "output_type": "display_data"
    },
    {
     "data": {
      "text/latex": [
       "\n",
       "Iteración 18:"
      ],
      "text/plain": [
       "<IPython.core.display.Latex object>"
      ]
     },
     "metadata": {},
     "output_type": "display_data"
    },
    {
     "data": {
      "text/latex": [
       "$x_k = \\left[\\begin{matrix}1.9969482421875\\\\0.99847412109375\\end{matrix}\\right]$"
      ],
      "text/plain": [
       "<IPython.core.display.Latex object>"
      ]
     },
     "metadata": {},
     "output_type": "display_data"
    },
    {
     "data": {
      "text/latex": [
       "$f(x_k) = 9.31322574615479 \\cdot 10^{-6}$"
      ],
      "text/plain": [
       "<IPython.core.display.Latex object>"
      ]
     },
     "metadata": {},
     "output_type": "display_data"
    },
    {
     "data": {
      "text/latex": [
       "$\\nabla f(x_k) = \\left[\\begin{matrix}0\\\\-0.01220703125\\end{matrix}\\right]$"
      ],
      "text/plain": [
       "<IPython.core.display.Latex object>"
      ]
     },
     "metadata": {},
     "output_type": "display_data"
    },
    {
     "data": {
      "text/latex": [
       "$d_k = \\left[\\begin{matrix}0\\\\0.01220703125\\end{matrix}\\right]$"
      ],
      "text/plain": [
       "<IPython.core.display.Latex object>"
      ]
     },
     "metadata": {},
     "output_type": "display_data"
    },
    {
     "data": {
      "text/latex": [
       "$\\lambda_k = 0.125$"
      ],
      "text/plain": [
       "<IPython.core.display.Latex object>"
      ]
     },
     "metadata": {},
     "output_type": "display_data"
    },
    {
     "data": {
      "text/latex": [
       "\n",
       "Iteración 19:"
      ],
      "text/plain": [
       "<IPython.core.display.Latex object>"
      ]
     },
     "metadata": {},
     "output_type": "display_data"
    },
    {
     "data": {
      "text/latex": [
       "$x_k = \\left[\\begin{matrix}1.99847412109375\\\\0.99847412109375\\end{matrix}\\right]$"
      ],
      "text/plain": [
       "<IPython.core.display.Latex object>"
      ]
     },
     "metadata": {},
     "output_type": "display_data"
    },
    {
     "data": {
      "text/latex": [
       "$f(x_k) = 4.65661287307739 \\cdot 10^{-6}$"
      ],
      "text/plain": [
       "<IPython.core.display.Latex object>"
      ]
     },
     "metadata": {},
     "output_type": "display_data"
    },
    {
     "data": {
      "text/latex": [
       "$\\nabla f(x_k) = \\left[\\begin{matrix}-0.006103515625\\\\0\\end{matrix}\\right]$"
      ],
      "text/plain": [
       "<IPython.core.display.Latex object>"
      ]
     },
     "metadata": {},
     "output_type": "display_data"
    },
    {
     "data": {
      "text/latex": [
       "$d_k = \\left[\\begin{matrix}0.006103515625\\\\0\\end{matrix}\\right]$"
      ],
      "text/plain": [
       "<IPython.core.display.Latex object>"
      ]
     },
     "metadata": {},
     "output_type": "display_data"
    },
    {
     "data": {
      "text/latex": [
       "$\\lambda_k = 0.25$"
      ],
      "text/plain": [
       "<IPython.core.display.Latex object>"
      ]
     },
     "metadata": {},
     "output_type": "display_data"
    },
    {
     "data": {
      "text/latex": [
       "\n",
       "Iteración 20:"
      ],
      "text/plain": [
       "<IPython.core.display.Latex object>"
      ]
     },
     "metadata": {},
     "output_type": "display_data"
    },
    {
     "data": {
      "text/latex": [
       "$x_k = \\left[\\begin{matrix}1.99847412109375\\\\0.999237060546875\\end{matrix}\\right]$"
      ],
      "text/plain": [
       "<IPython.core.display.Latex object>"
      ]
     },
     "metadata": {},
     "output_type": "display_data"
    },
    {
     "data": {
      "text/latex": [
       "$f(x_k) = 2.3283064365387 \\cdot 10^{-6}$"
      ],
      "text/plain": [
       "<IPython.core.display.Latex object>"
      ]
     },
     "metadata": {},
     "output_type": "display_data"
    },
    {
     "data": {
      "text/latex": [
       "$\\nabla f(x_k) = \\left[\\begin{matrix}0\\\\-0.006103515625\\end{matrix}\\right]$"
      ],
      "text/plain": [
       "<IPython.core.display.Latex object>"
      ]
     },
     "metadata": {},
     "output_type": "display_data"
    },
    {
     "data": {
      "text/latex": [
       "$d_k = \\left[\\begin{matrix}0\\\\0.006103515625\\end{matrix}\\right]$"
      ],
      "text/plain": [
       "<IPython.core.display.Latex object>"
      ]
     },
     "metadata": {},
     "output_type": "display_data"
    },
    {
     "data": {
      "text/latex": [
       "$\\lambda_k = 0.125$"
      ],
      "text/plain": [
       "<IPython.core.display.Latex object>"
      ]
     },
     "metadata": {},
     "output_type": "display_data"
    },
    {
     "data": {
      "text/latex": [
       "\n",
       "Iteración 21:"
      ],
      "text/plain": [
       "<IPython.core.display.Latex object>"
      ]
     },
     "metadata": {},
     "output_type": "display_data"
    },
    {
     "data": {
      "text/latex": [
       "$x_k = \\left[\\begin{matrix}1.99923706054688\\\\0.999237060546875\\end{matrix}\\right]$"
      ],
      "text/plain": [
       "<IPython.core.display.Latex object>"
      ]
     },
     "metadata": {},
     "output_type": "display_data"
    },
    {
     "data": {
      "text/latex": [
       "$f(x_k) = 1.16415321826935 \\cdot 10^{-6}$"
      ],
      "text/plain": [
       "<IPython.core.display.Latex object>"
      ]
     },
     "metadata": {},
     "output_type": "display_data"
    },
    {
     "data": {
      "text/latex": [
       "$\\nabla f(x_k) = \\left[\\begin{matrix}-0.0030517578125\\\\0\\end{matrix}\\right]$"
      ],
      "text/plain": [
       "<IPython.core.display.Latex object>"
      ]
     },
     "metadata": {},
     "output_type": "display_data"
    },
    {
     "data": {
      "text/latex": [
       "$d_k = \\left[\\begin{matrix}0.0030517578125\\\\0\\end{matrix}\\right]$"
      ],
      "text/plain": [
       "<IPython.core.display.Latex object>"
      ]
     },
     "metadata": {},
     "output_type": "display_data"
    },
    {
     "data": {
      "text/latex": [
       "$\\lambda_k = 0.25$"
      ],
      "text/plain": [
       "<IPython.core.display.Latex object>"
      ]
     },
     "metadata": {},
     "output_type": "display_data"
    },
    {
     "data": {
      "text/latex": [
       "\n",
       "Iteración 22:"
      ],
      "text/plain": [
       "<IPython.core.display.Latex object>"
      ]
     },
     "metadata": {},
     "output_type": "display_data"
    },
    {
     "data": {
      "text/latex": [
       "$x_k = \\left[\\begin{matrix}1.99923706054688\\\\0.999618530273438\\end{matrix}\\right]$"
      ],
      "text/plain": [
       "<IPython.core.display.Latex object>"
      ]
     },
     "metadata": {},
     "output_type": "display_data"
    },
    {
     "data": {
      "text/latex": [
       "$f(x_k) = 5.82076609134674 \\cdot 10^{-7}$"
      ],
      "text/plain": [
       "<IPython.core.display.Latex object>"
      ]
     },
     "metadata": {},
     "output_type": "display_data"
    },
    {
     "data": {
      "text/latex": [
       "$\\nabla f(x_k) = \\left[\\begin{matrix}0\\\\-0.0030517578125\\end{matrix}\\right]$"
      ],
      "text/plain": [
       "<IPython.core.display.Latex object>"
      ]
     },
     "metadata": {},
     "output_type": "display_data"
    },
    {
     "data": {
      "text/latex": [
       "$d_k = \\left[\\begin{matrix}0\\\\0.0030517578125\\end{matrix}\\right]$"
      ],
      "text/plain": [
       "<IPython.core.display.Latex object>"
      ]
     },
     "metadata": {},
     "output_type": "display_data"
    },
    {
     "data": {
      "text/latex": [
       "$\\lambda_k = 0.125$"
      ],
      "text/plain": [
       "<IPython.core.display.Latex object>"
      ]
     },
     "metadata": {},
     "output_type": "display_data"
    },
    {
     "data": {
      "text/latex": [
       "\n",
       "Iteración 23:"
      ],
      "text/plain": [
       "<IPython.core.display.Latex object>"
      ]
     },
     "metadata": {},
     "output_type": "display_data"
    },
    {
     "data": {
      "text/latex": [
       "$x_k = \\left[\\begin{matrix}1.99961853027344\\\\0.999618530273438\\end{matrix}\\right]$"
      ],
      "text/plain": [
       "<IPython.core.display.Latex object>"
      ]
     },
     "metadata": {},
     "output_type": "display_data"
    },
    {
     "data": {
      "text/latex": [
       "$f(x_k) = 2.91038304567337 \\cdot 10^{-7}$"
      ],
      "text/plain": [
       "<IPython.core.display.Latex object>"
      ]
     },
     "metadata": {},
     "output_type": "display_data"
    },
    {
     "data": {
      "text/latex": [
       "$\\nabla f(x_k) = \\left[\\begin{matrix}-0.00152587890625\\\\0\\end{matrix}\\right]$"
      ],
      "text/plain": [
       "<IPython.core.display.Latex object>"
      ]
     },
     "metadata": {},
     "output_type": "display_data"
    },
    {
     "data": {
      "text/latex": [
       "$d_k = \\left[\\begin{matrix}0.00152587890625\\\\0\\end{matrix}\\right]$"
      ],
      "text/plain": [
       "<IPython.core.display.Latex object>"
      ]
     },
     "metadata": {},
     "output_type": "display_data"
    },
    {
     "data": {
      "text/latex": [
       "$\\lambda_k = 0.25$"
      ],
      "text/plain": [
       "<IPython.core.display.Latex object>"
      ]
     },
     "metadata": {},
     "output_type": "display_data"
    },
    {
     "data": {
      "text/latex": [
       "\n",
       "Iteración 24:"
      ],
      "text/plain": [
       "<IPython.core.display.Latex object>"
      ]
     },
     "metadata": {},
     "output_type": "display_data"
    },
    {
     "data": {
      "text/latex": [
       "$x_k = \\left[\\begin{matrix}1.99961853027344\\\\0.999809265136719\\end{matrix}\\right]$"
      ],
      "text/plain": [
       "<IPython.core.display.Latex object>"
      ]
     },
     "metadata": {},
     "output_type": "display_data"
    },
    {
     "data": {
      "text/latex": [
       "$f(x_k) = 1.45519152283669 \\cdot 10^{-7}$"
      ],
      "text/plain": [
       "<IPython.core.display.Latex object>"
      ]
     },
     "metadata": {},
     "output_type": "display_data"
    },
    {
     "data": {
      "text/latex": [
       "$\\nabla f(x_k) = \\left[\\begin{matrix}0\\\\-0.00152587890625\\end{matrix}\\right]$"
      ],
      "text/plain": [
       "<IPython.core.display.Latex object>"
      ]
     },
     "metadata": {},
     "output_type": "display_data"
    },
    {
     "data": {
      "text/latex": [
       "$d_k = \\left[\\begin{matrix}0\\\\0.00152587890625\\end{matrix}\\right]$"
      ],
      "text/plain": [
       "<IPython.core.display.Latex object>"
      ]
     },
     "metadata": {},
     "output_type": "display_data"
    },
    {
     "data": {
      "text/latex": [
       "$\\lambda_k = 0.125$"
      ],
      "text/plain": [
       "<IPython.core.display.Latex object>"
      ]
     },
     "metadata": {},
     "output_type": "display_data"
    },
    {
     "data": {
      "text/latex": [
       "\n",
       "Iteración 25:"
      ],
      "text/plain": [
       "<IPython.core.display.Latex object>"
      ]
     },
     "metadata": {},
     "output_type": "display_data"
    },
    {
     "data": {
      "text/latex": [
       "$x_k = \\left[\\begin{matrix}1.99980926513672\\\\0.999809265136719\\end{matrix}\\right]$"
      ],
      "text/plain": [
       "<IPython.core.display.Latex object>"
      ]
     },
     "metadata": {},
     "output_type": "display_data"
    },
    {
     "data": {
      "text/latex": [
       "$f(x_k) = 7.27595761418343 \\cdot 10^{-8}$"
      ],
      "text/plain": [
       "<IPython.core.display.Latex object>"
      ]
     },
     "metadata": {},
     "output_type": "display_data"
    },
    {
     "data": {
      "text/latex": [
       "$\\nabla f(x_k) = \\left[\\begin{matrix}-0.000762939453125\\\\0\\end{matrix}\\right]$"
      ],
      "text/plain": [
       "<IPython.core.display.Latex object>"
      ]
     },
     "metadata": {},
     "output_type": "display_data"
    },
    {
     "data": {
      "text/latex": [
       "$d_k = \\left[\\begin{matrix}0.000762939453125\\\\0\\end{matrix}\\right]$"
      ],
      "text/plain": [
       "<IPython.core.display.Latex object>"
      ]
     },
     "metadata": {},
     "output_type": "display_data"
    },
    {
     "data": {
      "text/latex": [
       "$\\lambda_k = 0.25$"
      ],
      "text/plain": [
       "<IPython.core.display.Latex object>"
      ]
     },
     "metadata": {},
     "output_type": "display_data"
    },
    {
     "data": {
      "text/latex": [
       "\n",
       "Iteración 26:"
      ],
      "text/plain": [
       "<IPython.core.display.Latex object>"
      ]
     },
     "metadata": {},
     "output_type": "display_data"
    },
    {
     "data": {
      "text/latex": [
       "$x_k = \\left[\\begin{matrix}1.99980926513672\\\\0.999904632568359\\end{matrix}\\right]$"
      ],
      "text/plain": [
       "<IPython.core.display.Latex object>"
      ]
     },
     "metadata": {},
     "output_type": "display_data"
    },
    {
     "data": {
      "text/latex": [
       "$f(x_k) = 3.63797880709171 \\cdot 10^{-8}$"
      ],
      "text/plain": [
       "<IPython.core.display.Latex object>"
      ]
     },
     "metadata": {},
     "output_type": "display_data"
    },
    {
     "data": {
      "text/latex": [
       "$\\nabla f(x_k) = \\left[\\begin{matrix}0\\\\-0.000762939453125\\end{matrix}\\right]$"
      ],
      "text/plain": [
       "<IPython.core.display.Latex object>"
      ]
     },
     "metadata": {},
     "output_type": "display_data"
    },
    {
     "data": {
      "text/latex": [
       "$d_k = \\left[\\begin{matrix}0\\\\0.000762939453125\\end{matrix}\\right]$"
      ],
      "text/plain": [
       "<IPython.core.display.Latex object>"
      ]
     },
     "metadata": {},
     "output_type": "display_data"
    },
    {
     "data": {
      "text/latex": [
       "$\\lambda_k = 0.125$"
      ],
      "text/plain": [
       "<IPython.core.display.Latex object>"
      ]
     },
     "metadata": {},
     "output_type": "display_data"
    },
    {
     "data": {
      "text/latex": [
       "\n",
       "Iteración 27:"
      ],
      "text/plain": [
       "<IPython.core.display.Latex object>"
      ]
     },
     "metadata": {},
     "output_type": "display_data"
    },
    {
     "data": {
      "text/latex": [
       "$x_k = \\left[\\begin{matrix}1.99990463256836\\\\0.999904632568359\\end{matrix}\\right]$"
      ],
      "text/plain": [
       "<IPython.core.display.Latex object>"
      ]
     },
     "metadata": {},
     "output_type": "display_data"
    },
    {
     "data": {
      "text/latex": [
       "$f(x_k) = 1.81898940354586 \\cdot 10^{-8}$"
      ],
      "text/plain": [
       "<IPython.core.display.Latex object>"
      ]
     },
     "metadata": {},
     "output_type": "display_data"
    },
    {
     "data": {
      "text/latex": [
       "$\\nabla f(x_k) = \\left[\\begin{matrix}-0.0003814697265625\\\\0\\end{matrix}\\right]$"
      ],
      "text/plain": [
       "<IPython.core.display.Latex object>"
      ]
     },
     "metadata": {},
     "output_type": "display_data"
    },
    {
     "data": {
      "text/latex": [
       "$d_k = \\left[\\begin{matrix}0.0003814697265625\\\\0\\end{matrix}\\right]$"
      ],
      "text/plain": [
       "<IPython.core.display.Latex object>"
      ]
     },
     "metadata": {},
     "output_type": "display_data"
    },
    {
     "data": {
      "text/latex": [
       "$\\lambda_k = 0.25$"
      ],
      "text/plain": [
       "<IPython.core.display.Latex object>"
      ]
     },
     "metadata": {},
     "output_type": "display_data"
    },
    {
     "data": {
      "text/latex": [
       "\n",
       "Iteración 28:"
      ],
      "text/plain": [
       "<IPython.core.display.Latex object>"
      ]
     },
     "metadata": {},
     "output_type": "display_data"
    },
    {
     "data": {
      "text/latex": [
       "$x_k = \\left[\\begin{matrix}1.99990463256836\\\\0.99995231628418\\end{matrix}\\right]$"
      ],
      "text/plain": [
       "<IPython.core.display.Latex object>"
      ]
     },
     "metadata": {},
     "output_type": "display_data"
    },
    {
     "data": {
      "text/latex": [
       "$f(x_k) = 9.09494701772928 \\cdot 10^{-9}$"
      ],
      "text/plain": [
       "<IPython.core.display.Latex object>"
      ]
     },
     "metadata": {},
     "output_type": "display_data"
    },
    {
     "data": {
      "text/latex": [
       "$\\nabla f(x_k) = \\left[\\begin{matrix}0\\\\-0.0003814697265625\\end{matrix}\\right]$"
      ],
      "text/plain": [
       "<IPython.core.display.Latex object>"
      ]
     },
     "metadata": {},
     "output_type": "display_data"
    },
    {
     "data": {
      "text/latex": [
       "$d_k = \\left[\\begin{matrix}0\\\\0.0003814697265625\\end{matrix}\\right]$"
      ],
      "text/plain": [
       "<IPython.core.display.Latex object>"
      ]
     },
     "metadata": {},
     "output_type": "display_data"
    },
    {
     "data": {
      "text/latex": [
       "$\\lambda_k = 0.125$"
      ],
      "text/plain": [
       "<IPython.core.display.Latex object>"
      ]
     },
     "metadata": {},
     "output_type": "display_data"
    },
    {
     "data": {
      "text/latex": [
       "\n",
       "Iteración 29:"
      ],
      "text/plain": [
       "<IPython.core.display.Latex object>"
      ]
     },
     "metadata": {},
     "output_type": "display_data"
    },
    {
     "data": {
      "text/latex": [
       "$x_k = \\left[\\begin{matrix}1.99995231628418\\\\0.99995231628418\\end{matrix}\\right]$"
      ],
      "text/plain": [
       "<IPython.core.display.Latex object>"
      ]
     },
     "metadata": {},
     "output_type": "display_data"
    },
    {
     "data": {
      "text/latex": [
       "$f(x_k) = 4.54747350886464 \\cdot 10^{-9}$"
      ],
      "text/plain": [
       "<IPython.core.display.Latex object>"
      ]
     },
     "metadata": {},
     "output_type": "display_data"
    },
    {
     "data": {
      "text/latex": [
       "$\\nabla f(x_k) = \\left[\\begin{matrix}-0.00019073486328125\\\\0\\end{matrix}\\right]$"
      ],
      "text/plain": [
       "<IPython.core.display.Latex object>"
      ]
     },
     "metadata": {},
     "output_type": "display_data"
    },
    {
     "data": {
      "text/latex": [
       "$d_k = \\left[\\begin{matrix}0.00019073486328125\\\\0\\end{matrix}\\right]$"
      ],
      "text/plain": [
       "<IPython.core.display.Latex object>"
      ]
     },
     "metadata": {},
     "output_type": "display_data"
    },
    {
     "data": {
      "text/latex": [
       "$\\lambda_k = 0.25$"
      ],
      "text/plain": [
       "<IPython.core.display.Latex object>"
      ]
     },
     "metadata": {},
     "output_type": "display_data"
    },
    {
     "data": {
      "text/latex": [
       "\n",
       "Iteración 30:"
      ],
      "text/plain": [
       "<IPython.core.display.Latex object>"
      ]
     },
     "metadata": {},
     "output_type": "display_data"
    },
    {
     "data": {
      "text/latex": [
       "$x_k = \\left[\\begin{matrix}1.99995231628418\\\\0.99997615814209\\end{matrix}\\right]$"
      ],
      "text/plain": [
       "<IPython.core.display.Latex object>"
      ]
     },
     "metadata": {},
     "output_type": "display_data"
    },
    {
     "data": {
      "text/latex": [
       "$f(x_k) = 2.27373675443232 \\cdot 10^{-9}$"
      ],
      "text/plain": [
       "<IPython.core.display.Latex object>"
      ]
     },
     "metadata": {},
     "output_type": "display_data"
    },
    {
     "data": {
      "text/latex": [
       "$\\nabla f(x_k) = \\left[\\begin{matrix}0\\\\-0.00019073486328125\\end{matrix}\\right]$"
      ],
      "text/plain": [
       "<IPython.core.display.Latex object>"
      ]
     },
     "metadata": {},
     "output_type": "display_data"
    },
    {
     "data": {
      "text/latex": [
       "$d_k = \\left[\\begin{matrix}0\\\\0.00019073486328125\\end{matrix}\\right]$"
      ],
      "text/plain": [
       "<IPython.core.display.Latex object>"
      ]
     },
     "metadata": {},
     "output_type": "display_data"
    },
    {
     "data": {
      "text/latex": [
       "$\\lambda_k = 0.125$"
      ],
      "text/plain": [
       "<IPython.core.display.Latex object>"
      ]
     },
     "metadata": {},
     "output_type": "display_data"
    },
    {
     "data": {
      "text/latex": [
       "\n",
       "Iteración 31:"
      ],
      "text/plain": [
       "<IPython.core.display.Latex object>"
      ]
     },
     "metadata": {},
     "output_type": "display_data"
    },
    {
     "data": {
      "text/latex": [
       "$x_k = \\left[\\begin{matrix}1.99997615814209\\\\0.99997615814209\\end{matrix}\\right]$"
      ],
      "text/plain": [
       "<IPython.core.display.Latex object>"
      ]
     },
     "metadata": {},
     "output_type": "display_data"
    },
    {
     "data": {
      "text/latex": [
       "$f(x_k) = 1.13686837721616 \\cdot 10^{-9}$"
      ],
      "text/plain": [
       "<IPython.core.display.Latex object>"
      ]
     },
     "metadata": {},
     "output_type": "display_data"
    },
    {
     "data": {
      "text/latex": [
       "$\\nabla f(x_k) = \\left[\\begin{matrix}-9.5367431640625 \\cdot 10^{-5}\\\\0\\end{matrix}\\right]$"
      ],
      "text/plain": [
       "<IPython.core.display.Latex object>"
      ]
     },
     "metadata": {},
     "output_type": "display_data"
    },
    {
     "data": {
      "text/latex": [
       "$d_k = \\left[\\begin{matrix}9.5367431640625 \\cdot 10^{-5}\\\\0\\end{matrix}\\right]$"
      ],
      "text/plain": [
       "<IPython.core.display.Latex object>"
      ]
     },
     "metadata": {},
     "output_type": "display_data"
    },
    {
     "data": {
      "text/latex": [
       "$\\lambda_k = 0.25$"
      ],
      "text/plain": [
       "<IPython.core.display.Latex object>"
      ]
     },
     "metadata": {},
     "output_type": "display_data"
    },
    {
     "data": {
      "text/latex": [
       "\n",
       "Iteración 32:"
      ],
      "text/plain": [
       "<IPython.core.display.Latex object>"
      ]
     },
     "metadata": {},
     "output_type": "display_data"
    },
    {
     "data": {
      "text/latex": [
       "$x_k = \\left[\\begin{matrix}1.99997615814209\\\\0.999988079071045\\end{matrix}\\right]$"
      ],
      "text/plain": [
       "<IPython.core.display.Latex object>"
      ]
     },
     "metadata": {},
     "output_type": "display_data"
    },
    {
     "data": {
      "text/latex": [
       "$f(x_k) = 5.6843418860808 \\cdot 10^{-10}$"
      ],
      "text/plain": [
       "<IPython.core.display.Latex object>"
      ]
     },
     "metadata": {},
     "output_type": "display_data"
    },
    {
     "data": {
      "text/latex": [
       "$\\nabla f(x_k) = \\left[\\begin{matrix}0\\\\-9.5367431640625 \\cdot 10^{-5}\\end{matrix}\\right]$"
      ],
      "text/plain": [
       "<IPython.core.display.Latex object>"
      ]
     },
     "metadata": {},
     "output_type": "display_data"
    },
    {
     "data": {
      "text/latex": [
       "$d_k = \\left[\\begin{matrix}0\\\\9.5367431640625 \\cdot 10^{-5}\\end{matrix}\\right]$"
      ],
      "text/plain": [
       "<IPython.core.display.Latex object>"
      ]
     },
     "metadata": {},
     "output_type": "display_data"
    },
    {
     "data": {
      "text/latex": [
       "$\\lambda_k = 0.125$"
      ],
      "text/plain": [
       "<IPython.core.display.Latex object>"
      ]
     },
     "metadata": {},
     "output_type": "display_data"
    },
    {
     "data": {
      "text/latex": [
       "\n",
       "Iteración 33:"
      ],
      "text/plain": [
       "<IPython.core.display.Latex object>"
      ]
     },
     "metadata": {},
     "output_type": "display_data"
    },
    {
     "data": {
      "text/latex": [
       "$x_k = \\left[\\begin{matrix}1.99998807907104\\\\0.999988079071045\\end{matrix}\\right]$"
      ],
      "text/plain": [
       "<IPython.core.display.Latex object>"
      ]
     },
     "metadata": {},
     "output_type": "display_data"
    },
    {
     "data": {
      "text/latex": [
       "$f(x_k) = 2.8421709430404 \\cdot 10^{-10}$"
      ],
      "text/plain": [
       "<IPython.core.display.Latex object>"
      ]
     },
     "metadata": {},
     "output_type": "display_data"
    },
    {
     "data": {
      "text/latex": [
       "$\\nabla f(x_k) = \\left[\\begin{matrix}-4.76837158203125 \\cdot 10^{-5}\\\\0\\end{matrix}\\right]$"
      ],
      "text/plain": [
       "<IPython.core.display.Latex object>"
      ]
     },
     "metadata": {},
     "output_type": "display_data"
    },
    {
     "data": {
      "text/latex": [
       "$d_k = \\left[\\begin{matrix}4.76837158203125 \\cdot 10^{-5}\\\\0\\end{matrix}\\right]$"
      ],
      "text/plain": [
       "<IPython.core.display.Latex object>"
      ]
     },
     "metadata": {},
     "output_type": "display_data"
    },
    {
     "data": {
      "text/latex": [
       "$\\lambda_k = 0.25$"
      ],
      "text/plain": [
       "<IPython.core.display.Latex object>"
      ]
     },
     "metadata": {},
     "output_type": "display_data"
    },
    {
     "data": {
      "text/latex": [
       "\n",
       "Iteración 34:"
      ],
      "text/plain": [
       "<IPython.core.display.Latex object>"
      ]
     },
     "metadata": {},
     "output_type": "display_data"
    },
    {
     "data": {
      "text/latex": [
       "$x_k = \\left[\\begin{matrix}1.99998807907104\\\\0.999994039535522\\end{matrix}\\right]$"
      ],
      "text/plain": [
       "<IPython.core.display.Latex object>"
      ]
     },
     "metadata": {},
     "output_type": "display_data"
    },
    {
     "data": {
      "text/latex": [
       "$f(x_k) = 1.4210854715202 \\cdot 10^{-10}$"
      ],
      "text/plain": [
       "<IPython.core.display.Latex object>"
      ]
     },
     "metadata": {},
     "output_type": "display_data"
    },
    {
     "data": {
      "text/latex": [
       "$\\nabla f(x_k) = \\left[\\begin{matrix}0\\\\-4.76837158203125 \\cdot 10^{-5}\\end{matrix}\\right]$"
      ],
      "text/plain": [
       "<IPython.core.display.Latex object>"
      ]
     },
     "metadata": {},
     "output_type": "display_data"
    },
    {
     "data": {
      "text/latex": [
       "$d_k = \\left[\\begin{matrix}0\\\\4.76837158203125 \\cdot 10^{-5}\\end{matrix}\\right]$"
      ],
      "text/plain": [
       "<IPython.core.display.Latex object>"
      ]
     },
     "metadata": {},
     "output_type": "display_data"
    },
    {
     "data": {
      "text/latex": [
       "$\\lambda_k = 0.125$"
      ],
      "text/plain": [
       "<IPython.core.display.Latex object>"
      ]
     },
     "metadata": {},
     "output_type": "display_data"
    },
    {
     "data": {
      "text/latex": [
       "\n",
       "Iteración 35:"
      ],
      "text/plain": [
       "<IPython.core.display.Latex object>"
      ]
     },
     "metadata": {},
     "output_type": "display_data"
    },
    {
     "data": {
      "text/latex": [
       "$x_k = \\left[\\begin{matrix}1.99999403953552\\\\0.999994039535522\\end{matrix}\\right]$"
      ],
      "text/plain": [
       "<IPython.core.display.Latex object>"
      ]
     },
     "metadata": {},
     "output_type": "display_data"
    },
    {
     "data": {
      "text/latex": [
       "$f(x_k) = 7.105427357601 \\cdot 10^{-11}$"
      ],
      "text/plain": [
       "<IPython.core.display.Latex object>"
      ]
     },
     "metadata": {},
     "output_type": "display_data"
    },
    {
     "data": {
      "text/latex": [
       "$\\nabla f(x_k) = \\left[\\begin{matrix}-2.38418579101563 \\cdot 10^{-5}\\\\0\\end{matrix}\\right]$"
      ],
      "text/plain": [
       "<IPython.core.display.Latex object>"
      ]
     },
     "metadata": {},
     "output_type": "display_data"
    },
    {
     "data": {
      "text/latex": [
       "$d_k = \\left[\\begin{matrix}2.38418579101563 \\cdot 10^{-5}\\\\0\\end{matrix}\\right]$"
      ],
      "text/plain": [
       "<IPython.core.display.Latex object>"
      ]
     },
     "metadata": {},
     "output_type": "display_data"
    },
    {
     "data": {
      "text/latex": [
       "$\\lambda_k = 0.25$"
      ],
      "text/plain": [
       "<IPython.core.display.Latex object>"
      ]
     },
     "metadata": {},
     "output_type": "display_data"
    },
    {
     "data": {
      "text/latex": [
       "\n",
       "Iteración 36:"
      ],
      "text/plain": [
       "<IPython.core.display.Latex object>"
      ]
     },
     "metadata": {},
     "output_type": "display_data"
    },
    {
     "data": {
      "text/latex": [
       "$x_k = \\left[\\begin{matrix}1.99999403953552\\\\0.999997019767761\\end{matrix}\\right]$"
      ],
      "text/plain": [
       "<IPython.core.display.Latex object>"
      ]
     },
     "metadata": {},
     "output_type": "display_data"
    },
    {
     "data": {
      "text/latex": [
       "$f(x_k) = 3.5527136788005 \\cdot 10^{-11}$"
      ],
      "text/plain": [
       "<IPython.core.display.Latex object>"
      ]
     },
     "metadata": {},
     "output_type": "display_data"
    },
    {
     "data": {
      "text/latex": [
       "$\\nabla f(x_k) = \\left[\\begin{matrix}0\\\\-2.38418579101563 \\cdot 10^{-5}\\end{matrix}\\right]$"
      ],
      "text/plain": [
       "<IPython.core.display.Latex object>"
      ]
     },
     "metadata": {},
     "output_type": "display_data"
    },
    {
     "data": {
      "text/latex": [
       "$d_k = \\left[\\begin{matrix}0\\\\2.38418579101563 \\cdot 10^{-5}\\end{matrix}\\right]$"
      ],
      "text/plain": [
       "<IPython.core.display.Latex object>"
      ]
     },
     "metadata": {},
     "output_type": "display_data"
    },
    {
     "data": {
      "text/latex": [
       "$\\lambda_k = 0.125$"
      ],
      "text/plain": [
       "<IPython.core.display.Latex object>"
      ]
     },
     "metadata": {},
     "output_type": "display_data"
    },
    {
     "data": {
      "text/latex": [
       "\n",
       "Iteración 37:"
      ],
      "text/plain": [
       "<IPython.core.display.Latex object>"
      ]
     },
     "metadata": {},
     "output_type": "display_data"
    },
    {
     "data": {
      "text/latex": [
       "$x_k = \\left[\\begin{matrix}1.99999701976776\\\\0.999997019767761\\end{matrix}\\right]$"
      ],
      "text/plain": [
       "<IPython.core.display.Latex object>"
      ]
     },
     "metadata": {},
     "output_type": "display_data"
    },
    {
     "data": {
      "text/latex": [
       "$f(x_k) = 1.77635683940025 \\cdot 10^{-11}$"
      ],
      "text/plain": [
       "<IPython.core.display.Latex object>"
      ]
     },
     "metadata": {},
     "output_type": "display_data"
    },
    {
     "data": {
      "text/latex": [
       "$\\nabla f(x_k) = \\left[\\begin{matrix}-1.19209289550781 \\cdot 10^{-5}\\\\0\\end{matrix}\\right]$"
      ],
      "text/plain": [
       "<IPython.core.display.Latex object>"
      ]
     },
     "metadata": {},
     "output_type": "display_data"
    },
    {
     "data": {
      "text/latex": [
       "$d_k = \\left[\\begin{matrix}1.19209289550781 \\cdot 10^{-5}\\\\0\\end{matrix}\\right]$"
      ],
      "text/plain": [
       "<IPython.core.display.Latex object>"
      ]
     },
     "metadata": {},
     "output_type": "display_data"
    },
    {
     "data": {
      "text/latex": [
       "$\\lambda_k = 0.25$"
      ],
      "text/plain": [
       "<IPython.core.display.Latex object>"
      ]
     },
     "metadata": {},
     "output_type": "display_data"
    },
    {
     "data": {
      "text/latex": [
       "\n",
       "Iteración 38:"
      ],
      "text/plain": [
       "<IPython.core.display.Latex object>"
      ]
     },
     "metadata": {},
     "output_type": "display_data"
    },
    {
     "data": {
      "text/latex": [
       "$x_k = \\left[\\begin{matrix}1.99999701976776\\\\0.999998509883881\\end{matrix}\\right]$"
      ],
      "text/plain": [
       "<IPython.core.display.Latex object>"
      ]
     },
     "metadata": {},
     "output_type": "display_data"
    },
    {
     "data": {
      "text/latex": [
       "$f(x_k) = 8.88178419700125 \\cdot 10^{-12}$"
      ],
      "text/plain": [
       "<IPython.core.display.Latex object>"
      ]
     },
     "metadata": {},
     "output_type": "display_data"
    },
    {
     "data": {
      "text/latex": [
       "$\\nabla f(x_k) = \\left[\\begin{matrix}0\\\\-1.19209289550781 \\cdot 10^{-5}\\end{matrix}\\right]$"
      ],
      "text/plain": [
       "<IPython.core.display.Latex object>"
      ]
     },
     "metadata": {},
     "output_type": "display_data"
    },
    {
     "data": {
      "text/latex": [
       "$d_k = \\left[\\begin{matrix}0\\\\1.19209289550781 \\cdot 10^{-5}\\end{matrix}\\right]$"
      ],
      "text/plain": [
       "<IPython.core.display.Latex object>"
      ]
     },
     "metadata": {},
     "output_type": "display_data"
    },
    {
     "data": {
      "text/latex": [
       "$\\lambda_k = 0.125$"
      ],
      "text/plain": [
       "<IPython.core.display.Latex object>"
      ]
     },
     "metadata": {},
     "output_type": "display_data"
    }
   ],
   "source": [
    "# Mostrar iteraciones para búsqueda de Armijo\n",
    "for i, (k,it,  xk, fk, grad_fk, dk, tk) in enumerate(iteraciones_armijo):\n",
    "    display(Latex(f\"\\nIteración {i+1}:\"))\n",
    "    display(Latex(f\"$x_k = {sp.latex(xk)}$\"))\n",
    "    display(Latex(f\"$f(x_k) = {sp.latex(fk)}$\"))\n",
    "    display(Latex(f\"$\\\\nabla f(x_k) = {sp.latex(grad_fk)}$\"))\n",
    "    display(Latex(f\"$d_k = {sp.latex(dk)}$\"))\n",
    "    display(Latex(f\"$\\lambda_k = {tk}$\"))"
   ]
  },
  {
   "cell_type": "code",
   "execution_count": 35,
   "metadata": {},
   "outputs": [
    {
     "data": {
      "text/latex": [
       "**Resultados usando Búsqueda Unidimensional Exacta**"
      ],
      "text/plain": [
       "<IPython.core.display.Latex object>"
      ]
     },
     "metadata": {},
     "output_type": "display_data"
    },
    {
     "data": {
      "text/html": [
       "<div>\n",
       "<style scoped>\n",
       "    .dataframe tbody tr th:only-of-type {\n",
       "        vertical-align: middle;\n",
       "    }\n",
       "\n",
       "    .dataframe tbody tr th {\n",
       "        vertical-align: top;\n",
       "    }\n",
       "\n",
       "    .dataframe thead th {\n",
       "        text-align: right;\n",
       "    }\n",
       "</style>\n",
       "<table border=\"1\" class=\"dataframe\">\n",
       "  <thead>\n",
       "    <tr style=\"text-align: right;\">\n",
       "      <th></th>\n",
       "      <th>Método</th>\n",
       "      <th>Iteración General</th>\n",
       "      <th>Iteración Interna</th>\n",
       "      <th>x_k</th>\n",
       "      <th>f(x_k)</th>\n",
       "      <th>grad_f(x_k)</th>\n",
       "      <th>||grad_f(x_k)||</th>\n",
       "      <th>lambda_k</th>\n",
       "    </tr>\n",
       "  </thead>\n",
       "  <tbody>\n",
       "    <tr>\n",
       "      <th>0</th>\n",
       "      <td>Exacto</td>\n",
       "      <td>0</td>\n",
       "      <td>1</td>\n",
       "      <td>(1.52941176470588, 0.705882352941177)</td>\n",
       "      <td>0.235294117647059</td>\n",
       "      <td>(-16.0000000000000, 24.0000000000000)</td>\n",
       "      <td>28.8444102037119</td>\n",
       "      <td>0.0955882352941176</td>\n",
       "    </tr>\n",
       "    <tr>\n",
       "      <th>1</th>\n",
       "      <td>Exacto</td>\n",
       "      <td>1</td>\n",
       "      <td>1</td>\n",
       "      <td>(1.98823529411765, 1.01176470588235)</td>\n",
       "      <td>0.00138408304498250</td>\n",
       "      <td>(-0.705882352941178, -0.470588235294116)</td>\n",
       "      <td>0.848365005991527</td>\n",
       "      <td>0.649999999999999</td>\n",
       "    </tr>\n",
       "    <tr>\n",
       "      <th>2</th>\n",
       "      <td>Exacto</td>\n",
       "      <td>2</td>\n",
       "      <td>1</td>\n",
       "      <td>(1.99723183391003, 0.998269896193771)</td>\n",
       "      <td>8.14166497048948e-6</td>\n",
       "      <td>(-0.0941176470588179, 0.141176470588224)</td>\n",
       "      <td>0.169673001198293</td>\n",
       "      <td>0.0955882352941176</td>\n",
       "    </tr>\n",
       "    <tr>\n",
       "      <th>3</th>\n",
       "      <td>Exacto</td>\n",
       "      <td>3</td>\n",
       "      <td>1</td>\n",
       "      <td>(1.99993079584775, 1.00006920415225)</td>\n",
       "      <td>4.78921468854311e-8</td>\n",
       "      <td>(-0.00415224913494860, -0.00276816608996633)</td>\n",
       "      <td>0.00499038238818639</td>\n",
       "      <td>0.649999999999975</td>\n",
       "    </tr>\n",
       "    <tr>\n",
       "      <th>4</th>\n",
       "      <td>Exacto</td>\n",
       "      <td>4</td>\n",
       "      <td>1</td>\n",
       "      <td>(1.99998371667006, 0.999989822918787)</td>\n",
       "      <td>2.81718511093664e-10</td>\n",
       "      <td>(-0.000553633217994509, 0.000830449826991320)</td>\n",
       "      <td>0.000998076477639298</td>\n",
       "      <td>0.0955882352941192</td>\n",
       "    </tr>\n",
       "    <tr>\n",
       "      <th>5</th>\n",
       "      <td>Exacto</td>\n",
       "      <td>5</td>\n",
       "      <td>1</td>\n",
       "      <td>(1.99999959291675, 1.00000040708325)</td>\n",
       "      <td>1.65716771344289e-12</td>\n",
       "      <td>(-2.44249949115094e-5, -1.62833299413023e-5)</td>\n",
       "      <td>2.93551905189623e-5</td>\n",
       "      <td>0.649999999997818</td>\n",
       "    </tr>\n",
       "  </tbody>\n",
       "</table>\n",
       "</div>"
      ],
      "text/plain": [
       "   Método  Iteración General  Iteración Interna  \\\n",
       "0  Exacto                  0                  1   \n",
       "1  Exacto                  1                  1   \n",
       "2  Exacto                  2                  1   \n",
       "3  Exacto                  3                  1   \n",
       "4  Exacto                  4                  1   \n",
       "5  Exacto                  5                  1   \n",
       "\n",
       "                                     x_k                f(x_k)  \\\n",
       "0  (1.52941176470588, 0.705882352941177)     0.235294117647059   \n",
       "1   (1.98823529411765, 1.01176470588235)   0.00138408304498250   \n",
       "2  (1.99723183391003, 0.998269896193771)   8.14166497048948e-6   \n",
       "3   (1.99993079584775, 1.00006920415225)   4.78921468854311e-8   \n",
       "4  (1.99998371667006, 0.999989822918787)  2.81718511093664e-10   \n",
       "5   (1.99999959291675, 1.00000040708325)  1.65716771344289e-12   \n",
       "\n",
       "                                     grad_f(x_k)       ||grad_f(x_k)||  \\\n",
       "0          (-16.0000000000000, 24.0000000000000)      28.8444102037119   \n",
       "1       (-0.705882352941178, -0.470588235294116)     0.848365005991527   \n",
       "2       (-0.0941176470588179, 0.141176470588224)     0.169673001198293   \n",
       "3   (-0.00415224913494860, -0.00276816608996633)   0.00499038238818639   \n",
       "4  (-0.000553633217994509, 0.000830449826991320)  0.000998076477639298   \n",
       "5   (-2.44249949115094e-5, -1.62833299413023e-5)   2.93551905189623e-5   \n",
       "\n",
       "             lambda_k  \n",
       "0  0.0955882352941176  \n",
       "1   0.649999999999999  \n",
       "2  0.0955882352941176  \n",
       "3   0.649999999999975  \n",
       "4  0.0955882352941192  \n",
       "5   0.649999999997818  "
      ]
     },
     "metadata": {},
     "output_type": "display_data"
    },
    {
     "data": {
      "text/latex": [
       "**Resultados usando Búsqueda de Armijo**"
      ],
      "text/plain": [
       "<IPython.core.display.Latex object>"
      ]
     },
     "metadata": {},
     "output_type": "display_data"
    },
    {
     "data": {
      "text/html": [
       "<div>\n",
       "<style scoped>\n",
       "    .dataframe tbody tr th:only-of-type {\n",
       "        vertical-align: middle;\n",
       "    }\n",
       "\n",
       "    .dataframe tbody tr th {\n",
       "        vertical-align: top;\n",
       "    }\n",
       "\n",
       "    .dataframe thead th {\n",
       "        text-align: right;\n",
       "    }\n",
       "</style>\n",
       "<table border=\"1\" class=\"dataframe\">\n",
       "  <thead>\n",
       "    <tr style=\"text-align: right;\">\n",
       "      <th></th>\n",
       "      <th>Método</th>\n",
       "      <th>Iteración General</th>\n",
       "      <th>Iteración Interna</th>\n",
       "      <th>x_k</th>\n",
       "      <th>f(x_k)</th>\n",
       "      <th>grad_f(x_k)</th>\n",
       "      <th>||grad_f(x_k)||</th>\n",
       "      <th>lambda_k</th>\n",
       "    </tr>\n",
       "  </thead>\n",
       "  <tbody>\n",
       "    <tr>\n",
       "      <th>0</th>\n",
       "      <td>Armijo</td>\n",
       "      <td>0</td>\n",
       "      <td>4</td>\n",
       "      <td>(1.00000000000000, 1.50000000000000)</td>\n",
       "      <td>5.00000000000000</td>\n",
       "      <td>(-16.0000000000000, 24.0000000000000)</td>\n",
       "      <td>28.8444102037119</td>\n",
       "      <td>0.0625</td>\n",
       "    </tr>\n",
       "    <tr>\n",
       "      <th>1</th>\n",
       "      <td>Armijo</td>\n",
       "      <td>1</td>\n",
       "      <td>4</td>\n",
       "      <td>(1.37500000000000, 1.00000000000000)</td>\n",
       "      <td>0.781250000000000</td>\n",
       "      <td>(-6.00000000000000, 8.00000000000000)</td>\n",
       "      <td>10.0000000000000</td>\n",
       "      <td>0.0625</td>\n",
       "    </tr>\n",
       "    <tr>\n",
       "      <th>2</th>\n",
       "      <td>Armijo</td>\n",
       "      <td>2</td>\n",
       "      <td>4</td>\n",
       "      <td>(1.53125000000000, 0.843750000000000)</td>\n",
       "      <td>0.244140625000000</td>\n",
       "      <td>(-2.50000000000000, 2.50000000000000)</td>\n",
       "      <td>3.53553390593274</td>\n",
       "      <td>0.0625</td>\n",
       "    </tr>\n",
       "    <tr>\n",
       "      <th>3</th>\n",
       "      <td>Armijo</td>\n",
       "      <td>3</td>\n",
       "      <td>4</td>\n",
       "      <td>(1.60937500000000, 0.804687500000000)</td>\n",
       "      <td>0.152587890625000</td>\n",
       "      <td>(-1.25000000000000, 0.625000000000000)</td>\n",
       "      <td>1.39754248593737</td>\n",
       "      <td>0.0625</td>\n",
       "    </tr>\n",
       "    <tr>\n",
       "      <th>4</th>\n",
       "      <td>Armijo</td>\n",
       "      <td>4</td>\n",
       "      <td>2</td>\n",
       "      <td>(1.80468750000000, 0.804687500000000)</td>\n",
       "      <td>0.0762939453125000</td>\n",
       "      <td>(-0.781250000000000, 0)</td>\n",
       "      <td>0.781250000000000</td>\n",
       "      <td>0.2500</td>\n",
       "    </tr>\n",
       "    <tr>\n",
       "      <th>5</th>\n",
       "      <td>Armijo</td>\n",
       "      <td>5</td>\n",
       "      <td>3</td>\n",
       "      <td>(1.80468750000000, 0.902343750000000)</td>\n",
       "      <td>0.0381469726562500</td>\n",
       "      <td>(0, -0.781250000000000)</td>\n",
       "      <td>0.781250000000000</td>\n",
       "      <td>0.1250</td>\n",
       "    </tr>\n",
       "    <tr>\n",
       "      <th>6</th>\n",
       "      <td>Armijo</td>\n",
       "      <td>6</td>\n",
       "      <td>2</td>\n",
       "      <td>(1.90234375000000, 0.902343750000000)</td>\n",
       "      <td>0.0190734863281250</td>\n",
       "      <td>(-0.390625000000000, 0)</td>\n",
       "      <td>0.390625000000000</td>\n",
       "      <td>0.2500</td>\n",
       "    </tr>\n",
       "    <tr>\n",
       "      <th>7</th>\n",
       "      <td>Armijo</td>\n",
       "      <td>7</td>\n",
       "      <td>3</td>\n",
       "      <td>(1.90234375000000, 0.951171875000000)</td>\n",
       "      <td>0.00953674316406250</td>\n",
       "      <td>(0, -0.390625000000000)</td>\n",
       "      <td>0.390625000000000</td>\n",
       "      <td>0.1250</td>\n",
       "    </tr>\n",
       "    <tr>\n",
       "      <th>8</th>\n",
       "      <td>Armijo</td>\n",
       "      <td>8</td>\n",
       "      <td>2</td>\n",
       "      <td>(1.95117187500000, 0.951171875000000)</td>\n",
       "      <td>0.00476837158203125</td>\n",
       "      <td>(-0.195312500000000, 0)</td>\n",
       "      <td>0.195312500000000</td>\n",
       "      <td>0.2500</td>\n",
       "    </tr>\n",
       "    <tr>\n",
       "      <th>9</th>\n",
       "      <td>Armijo</td>\n",
       "      <td>9</td>\n",
       "      <td>3</td>\n",
       "      <td>(1.95117187500000, 0.975585937500000)</td>\n",
       "      <td>0.00238418579101563</td>\n",
       "      <td>(0, -0.195312500000000)</td>\n",
       "      <td>0.195312500000000</td>\n",
       "      <td>0.1250</td>\n",
       "    </tr>\n",
       "    <tr>\n",
       "      <th>10</th>\n",
       "      <td>Armijo</td>\n",
       "      <td>10</td>\n",
       "      <td>2</td>\n",
       "      <td>(1.97558593750000, 0.975585937500000)</td>\n",
       "      <td>0.00119209289550781</td>\n",
       "      <td>(-0.0976562500000000, 0)</td>\n",
       "      <td>0.0976562500000000</td>\n",
       "      <td>0.2500</td>\n",
       "    </tr>\n",
       "    <tr>\n",
       "      <th>11</th>\n",
       "      <td>Armijo</td>\n",
       "      <td>11</td>\n",
       "      <td>3</td>\n",
       "      <td>(1.97558593750000, 0.987792968750000)</td>\n",
       "      <td>0.000596046447753906</td>\n",
       "      <td>(0, -0.0976562500000000)</td>\n",
       "      <td>0.0976562500000000</td>\n",
       "      <td>0.1250</td>\n",
       "    </tr>\n",
       "    <tr>\n",
       "      <th>12</th>\n",
       "      <td>Armijo</td>\n",
       "      <td>12</td>\n",
       "      <td>2</td>\n",
       "      <td>(1.98779296875000, 0.987792968750000)</td>\n",
       "      <td>0.000298023223876953</td>\n",
       "      <td>(-0.0488281250000000, 0)</td>\n",
       "      <td>0.0488281250000000</td>\n",
       "      <td>0.2500</td>\n",
       "    </tr>\n",
       "    <tr>\n",
       "      <th>13</th>\n",
       "      <td>Armijo</td>\n",
       "      <td>13</td>\n",
       "      <td>3</td>\n",
       "      <td>(1.98779296875000, 0.993896484375000)</td>\n",
       "      <td>0.000149011611938477</td>\n",
       "      <td>(0, -0.0488281250000000)</td>\n",
       "      <td>0.0488281250000000</td>\n",
       "      <td>0.1250</td>\n",
       "    </tr>\n",
       "    <tr>\n",
       "      <th>14</th>\n",
       "      <td>Armijo</td>\n",
       "      <td>14</td>\n",
       "      <td>2</td>\n",
       "      <td>(1.99389648437500, 0.993896484375000)</td>\n",
       "      <td>7.45058059692383e-5</td>\n",
       "      <td>(-0.0244140625000000, 0)</td>\n",
       "      <td>0.0244140625000000</td>\n",
       "      <td>0.2500</td>\n",
       "    </tr>\n",
       "    <tr>\n",
       "      <th>15</th>\n",
       "      <td>Armijo</td>\n",
       "      <td>15</td>\n",
       "      <td>3</td>\n",
       "      <td>(1.99389648437500, 0.996948242187500)</td>\n",
       "      <td>3.72529029846191e-5</td>\n",
       "      <td>(0, -0.0244140625000000)</td>\n",
       "      <td>0.0244140625000000</td>\n",
       "      <td>0.1250</td>\n",
       "    </tr>\n",
       "    <tr>\n",
       "      <th>16</th>\n",
       "      <td>Armijo</td>\n",
       "      <td>16</td>\n",
       "      <td>2</td>\n",
       "      <td>(1.99694824218750, 0.996948242187500)</td>\n",
       "      <td>1.86264514923096e-5</td>\n",
       "      <td>(-0.0122070312500000, 0)</td>\n",
       "      <td>0.0122070312500000</td>\n",
       "      <td>0.2500</td>\n",
       "    </tr>\n",
       "    <tr>\n",
       "      <th>17</th>\n",
       "      <td>Armijo</td>\n",
       "      <td>17</td>\n",
       "      <td>3</td>\n",
       "      <td>(1.99694824218750, 0.998474121093750)</td>\n",
       "      <td>9.31322574615479e-6</td>\n",
       "      <td>(0, -0.0122070312500000)</td>\n",
       "      <td>0.0122070312500000</td>\n",
       "      <td>0.1250</td>\n",
       "    </tr>\n",
       "    <tr>\n",
       "      <th>18</th>\n",
       "      <td>Armijo</td>\n",
       "      <td>18</td>\n",
       "      <td>2</td>\n",
       "      <td>(1.99847412109375, 0.998474121093750)</td>\n",
       "      <td>4.65661287307739e-6</td>\n",
       "      <td>(-0.00610351562500000, 0)</td>\n",
       "      <td>0.00610351562500000</td>\n",
       "      <td>0.2500</td>\n",
       "    </tr>\n",
       "    <tr>\n",
       "      <th>19</th>\n",
       "      <td>Armijo</td>\n",
       "      <td>19</td>\n",
       "      <td>3</td>\n",
       "      <td>(1.99847412109375, 0.999237060546875)</td>\n",
       "      <td>2.32830643653870e-6</td>\n",
       "      <td>(0, -0.00610351562500000)</td>\n",
       "      <td>0.00610351562500000</td>\n",
       "      <td>0.1250</td>\n",
       "    </tr>\n",
       "    <tr>\n",
       "      <th>20</th>\n",
       "      <td>Armijo</td>\n",
       "      <td>20</td>\n",
       "      <td>2</td>\n",
       "      <td>(1.99923706054688, 0.999237060546875)</td>\n",
       "      <td>1.16415321826935e-6</td>\n",
       "      <td>(-0.00305175781250000, 0)</td>\n",
       "      <td>0.00305175781250000</td>\n",
       "      <td>0.2500</td>\n",
       "    </tr>\n",
       "    <tr>\n",
       "      <th>21</th>\n",
       "      <td>Armijo</td>\n",
       "      <td>21</td>\n",
       "      <td>3</td>\n",
       "      <td>(1.99923706054688, 0.999618530273438)</td>\n",
       "      <td>5.82076609134674e-7</td>\n",
       "      <td>(0, -0.00305175781250000)</td>\n",
       "      <td>0.00305175781250000</td>\n",
       "      <td>0.1250</td>\n",
       "    </tr>\n",
       "    <tr>\n",
       "      <th>22</th>\n",
       "      <td>Armijo</td>\n",
       "      <td>22</td>\n",
       "      <td>2</td>\n",
       "      <td>(1.99961853027344, 0.999618530273438)</td>\n",
       "      <td>2.91038304567337e-7</td>\n",
       "      <td>(-0.00152587890625000, 0)</td>\n",
       "      <td>0.00152587890625000</td>\n",
       "      <td>0.2500</td>\n",
       "    </tr>\n",
       "    <tr>\n",
       "      <th>23</th>\n",
       "      <td>Armijo</td>\n",
       "      <td>23</td>\n",
       "      <td>3</td>\n",
       "      <td>(1.99961853027344, 0.999809265136719)</td>\n",
       "      <td>1.45519152283669e-7</td>\n",
       "      <td>(0, -0.00152587890625000)</td>\n",
       "      <td>0.00152587890625000</td>\n",
       "      <td>0.1250</td>\n",
       "    </tr>\n",
       "    <tr>\n",
       "      <th>24</th>\n",
       "      <td>Armijo</td>\n",
       "      <td>24</td>\n",
       "      <td>2</td>\n",
       "      <td>(1.99980926513672, 0.999809265136719)</td>\n",
       "      <td>7.27595761418343e-8</td>\n",
       "      <td>(-0.000762939453125000, 0)</td>\n",
       "      <td>0.000762939453125000</td>\n",
       "      <td>0.2500</td>\n",
       "    </tr>\n",
       "    <tr>\n",
       "      <th>25</th>\n",
       "      <td>Armijo</td>\n",
       "      <td>25</td>\n",
       "      <td>3</td>\n",
       "      <td>(1.99980926513672, 0.999904632568359)</td>\n",
       "      <td>3.63797880709171e-8</td>\n",
       "      <td>(0, -0.000762939453125000)</td>\n",
       "      <td>0.000762939453125000</td>\n",
       "      <td>0.1250</td>\n",
       "    </tr>\n",
       "    <tr>\n",
       "      <th>26</th>\n",
       "      <td>Armijo</td>\n",
       "      <td>26</td>\n",
       "      <td>2</td>\n",
       "      <td>(1.99990463256836, 0.999904632568359)</td>\n",
       "      <td>1.81898940354586e-8</td>\n",
       "      <td>(-0.000381469726562500, 0)</td>\n",
       "      <td>0.000381469726562500</td>\n",
       "      <td>0.2500</td>\n",
       "    </tr>\n",
       "    <tr>\n",
       "      <th>27</th>\n",
       "      <td>Armijo</td>\n",
       "      <td>27</td>\n",
       "      <td>3</td>\n",
       "      <td>(1.99990463256836, 0.999952316284180)</td>\n",
       "      <td>9.09494701772928e-9</td>\n",
       "      <td>(0, -0.000381469726562500)</td>\n",
       "      <td>0.000381469726562500</td>\n",
       "      <td>0.1250</td>\n",
       "    </tr>\n",
       "    <tr>\n",
       "      <th>28</th>\n",
       "      <td>Armijo</td>\n",
       "      <td>28</td>\n",
       "      <td>2</td>\n",
       "      <td>(1.99995231628418, 0.999952316284180)</td>\n",
       "      <td>4.54747350886464e-9</td>\n",
       "      <td>(-0.000190734863281250, 0)</td>\n",
       "      <td>0.000190734863281250</td>\n",
       "      <td>0.2500</td>\n",
       "    </tr>\n",
       "    <tr>\n",
       "      <th>29</th>\n",
       "      <td>Armijo</td>\n",
       "      <td>29</td>\n",
       "      <td>3</td>\n",
       "      <td>(1.99995231628418, 0.999976158142090)</td>\n",
       "      <td>2.27373675443232e-9</td>\n",
       "      <td>(0, -0.000190734863281250)</td>\n",
       "      <td>0.000190734863281250</td>\n",
       "      <td>0.1250</td>\n",
       "    </tr>\n",
       "    <tr>\n",
       "      <th>30</th>\n",
       "      <td>Armijo</td>\n",
       "      <td>30</td>\n",
       "      <td>2</td>\n",
       "      <td>(1.99997615814209, 0.999976158142090)</td>\n",
       "      <td>1.13686837721616e-9</td>\n",
       "      <td>(-9.53674316406250e-5, 0)</td>\n",
       "      <td>9.53674316406250e-5</td>\n",
       "      <td>0.2500</td>\n",
       "    </tr>\n",
       "    <tr>\n",
       "      <th>31</th>\n",
       "      <td>Armijo</td>\n",
       "      <td>31</td>\n",
       "      <td>3</td>\n",
       "      <td>(1.99997615814209, 0.999988079071045)</td>\n",
       "      <td>5.68434188608080e-10</td>\n",
       "      <td>(0, -9.53674316406250e-5)</td>\n",
       "      <td>9.53674316406250e-5</td>\n",
       "      <td>0.1250</td>\n",
       "    </tr>\n",
       "    <tr>\n",
       "      <th>32</th>\n",
       "      <td>Armijo</td>\n",
       "      <td>32</td>\n",
       "      <td>2</td>\n",
       "      <td>(1.99998807907104, 0.999988079071045)</td>\n",
       "      <td>2.84217094304040e-10</td>\n",
       "      <td>(-4.76837158203125e-5, 0)</td>\n",
       "      <td>4.76837158203125e-5</td>\n",
       "      <td>0.2500</td>\n",
       "    </tr>\n",
       "    <tr>\n",
       "      <th>33</th>\n",
       "      <td>Armijo</td>\n",
       "      <td>33</td>\n",
       "      <td>3</td>\n",
       "      <td>(1.99998807907104, 0.999994039535522)</td>\n",
       "      <td>1.42108547152020e-10</td>\n",
       "      <td>(0, -4.76837158203125e-5)</td>\n",
       "      <td>4.76837158203125e-5</td>\n",
       "      <td>0.1250</td>\n",
       "    </tr>\n",
       "    <tr>\n",
       "      <th>34</th>\n",
       "      <td>Armijo</td>\n",
       "      <td>34</td>\n",
       "      <td>2</td>\n",
       "      <td>(1.99999403953552, 0.999994039535522)</td>\n",
       "      <td>7.10542735760100e-11</td>\n",
       "      <td>(-2.38418579101563e-5, 0)</td>\n",
       "      <td>2.38418579101563e-5</td>\n",
       "      <td>0.2500</td>\n",
       "    </tr>\n",
       "    <tr>\n",
       "      <th>35</th>\n",
       "      <td>Armijo</td>\n",
       "      <td>35</td>\n",
       "      <td>3</td>\n",
       "      <td>(1.99999403953552, 0.999997019767761)</td>\n",
       "      <td>3.55271367880050e-11</td>\n",
       "      <td>(0, -2.38418579101563e-5)</td>\n",
       "      <td>2.38418579101563e-5</td>\n",
       "      <td>0.1250</td>\n",
       "    </tr>\n",
       "    <tr>\n",
       "      <th>36</th>\n",
       "      <td>Armijo</td>\n",
       "      <td>36</td>\n",
       "      <td>2</td>\n",
       "      <td>(1.99999701976776, 0.999997019767761)</td>\n",
       "      <td>1.77635683940025e-11</td>\n",
       "      <td>(-1.19209289550781e-5, 0)</td>\n",
       "      <td>1.19209289550781e-5</td>\n",
       "      <td>0.2500</td>\n",
       "    </tr>\n",
       "    <tr>\n",
       "      <th>37</th>\n",
       "      <td>Armijo</td>\n",
       "      <td>37</td>\n",
       "      <td>3</td>\n",
       "      <td>(1.99999701976776, 0.999998509883881)</td>\n",
       "      <td>8.88178419700125e-12</td>\n",
       "      <td>(0, -1.19209289550781e-5)</td>\n",
       "      <td>1.19209289550781e-5</td>\n",
       "      <td>0.1250</td>\n",
       "    </tr>\n",
       "  </tbody>\n",
       "</table>\n",
       "</div>"
      ],
      "text/plain": [
       "    Método  Iteración General  Iteración Interna  \\\n",
       "0   Armijo                  0                  4   \n",
       "1   Armijo                  1                  4   \n",
       "2   Armijo                  2                  4   \n",
       "3   Armijo                  3                  4   \n",
       "4   Armijo                  4                  2   \n",
       "5   Armijo                  5                  3   \n",
       "6   Armijo                  6                  2   \n",
       "7   Armijo                  7                  3   \n",
       "8   Armijo                  8                  2   \n",
       "9   Armijo                  9                  3   \n",
       "10  Armijo                 10                  2   \n",
       "11  Armijo                 11                  3   \n",
       "12  Armijo                 12                  2   \n",
       "13  Armijo                 13                  3   \n",
       "14  Armijo                 14                  2   \n",
       "15  Armijo                 15                  3   \n",
       "16  Armijo                 16                  2   \n",
       "17  Armijo                 17                  3   \n",
       "18  Armijo                 18                  2   \n",
       "19  Armijo                 19                  3   \n",
       "20  Armijo                 20                  2   \n",
       "21  Armijo                 21                  3   \n",
       "22  Armijo                 22                  2   \n",
       "23  Armijo                 23                  3   \n",
       "24  Armijo                 24                  2   \n",
       "25  Armijo                 25                  3   \n",
       "26  Armijo                 26                  2   \n",
       "27  Armijo                 27                  3   \n",
       "28  Armijo                 28                  2   \n",
       "29  Armijo                 29                  3   \n",
       "30  Armijo                 30                  2   \n",
       "31  Armijo                 31                  3   \n",
       "32  Armijo                 32                  2   \n",
       "33  Armijo                 33                  3   \n",
       "34  Armijo                 34                  2   \n",
       "35  Armijo                 35                  3   \n",
       "36  Armijo                 36                  2   \n",
       "37  Armijo                 37                  3   \n",
       "\n",
       "                                      x_k                f(x_k)  \\\n",
       "0    (1.00000000000000, 1.50000000000000)      5.00000000000000   \n",
       "1    (1.37500000000000, 1.00000000000000)     0.781250000000000   \n",
       "2   (1.53125000000000, 0.843750000000000)     0.244140625000000   \n",
       "3   (1.60937500000000, 0.804687500000000)     0.152587890625000   \n",
       "4   (1.80468750000000, 0.804687500000000)    0.0762939453125000   \n",
       "5   (1.80468750000000, 0.902343750000000)    0.0381469726562500   \n",
       "6   (1.90234375000000, 0.902343750000000)    0.0190734863281250   \n",
       "7   (1.90234375000000, 0.951171875000000)   0.00953674316406250   \n",
       "8   (1.95117187500000, 0.951171875000000)   0.00476837158203125   \n",
       "9   (1.95117187500000, 0.975585937500000)   0.00238418579101563   \n",
       "10  (1.97558593750000, 0.975585937500000)   0.00119209289550781   \n",
       "11  (1.97558593750000, 0.987792968750000)  0.000596046447753906   \n",
       "12  (1.98779296875000, 0.987792968750000)  0.000298023223876953   \n",
       "13  (1.98779296875000, 0.993896484375000)  0.000149011611938477   \n",
       "14  (1.99389648437500, 0.993896484375000)   7.45058059692383e-5   \n",
       "15  (1.99389648437500, 0.996948242187500)   3.72529029846191e-5   \n",
       "16  (1.99694824218750, 0.996948242187500)   1.86264514923096e-5   \n",
       "17  (1.99694824218750, 0.998474121093750)   9.31322574615479e-6   \n",
       "18  (1.99847412109375, 0.998474121093750)   4.65661287307739e-6   \n",
       "19  (1.99847412109375, 0.999237060546875)   2.32830643653870e-6   \n",
       "20  (1.99923706054688, 0.999237060546875)   1.16415321826935e-6   \n",
       "21  (1.99923706054688, 0.999618530273438)   5.82076609134674e-7   \n",
       "22  (1.99961853027344, 0.999618530273438)   2.91038304567337e-7   \n",
       "23  (1.99961853027344, 0.999809265136719)   1.45519152283669e-7   \n",
       "24  (1.99980926513672, 0.999809265136719)   7.27595761418343e-8   \n",
       "25  (1.99980926513672, 0.999904632568359)   3.63797880709171e-8   \n",
       "26  (1.99990463256836, 0.999904632568359)   1.81898940354586e-8   \n",
       "27  (1.99990463256836, 0.999952316284180)   9.09494701772928e-9   \n",
       "28  (1.99995231628418, 0.999952316284180)   4.54747350886464e-9   \n",
       "29  (1.99995231628418, 0.999976158142090)   2.27373675443232e-9   \n",
       "30  (1.99997615814209, 0.999976158142090)   1.13686837721616e-9   \n",
       "31  (1.99997615814209, 0.999988079071045)  5.68434188608080e-10   \n",
       "32  (1.99998807907104, 0.999988079071045)  2.84217094304040e-10   \n",
       "33  (1.99998807907104, 0.999994039535522)  1.42108547152020e-10   \n",
       "34  (1.99999403953552, 0.999994039535522)  7.10542735760100e-11   \n",
       "35  (1.99999403953552, 0.999997019767761)  3.55271367880050e-11   \n",
       "36  (1.99999701976776, 0.999997019767761)  1.77635683940025e-11   \n",
       "37  (1.99999701976776, 0.999998509883881)  8.88178419700125e-12   \n",
       "\n",
       "                               grad_f(x_k)       ||grad_f(x_k)||  lambda_k  \n",
       "0    (-16.0000000000000, 24.0000000000000)      28.8444102037119    0.0625  \n",
       "1    (-6.00000000000000, 8.00000000000000)      10.0000000000000    0.0625  \n",
       "2    (-2.50000000000000, 2.50000000000000)      3.53553390593274    0.0625  \n",
       "3   (-1.25000000000000, 0.625000000000000)      1.39754248593737    0.0625  \n",
       "4                  (-0.781250000000000, 0)     0.781250000000000    0.2500  \n",
       "5                  (0, -0.781250000000000)     0.781250000000000    0.1250  \n",
       "6                  (-0.390625000000000, 0)     0.390625000000000    0.2500  \n",
       "7                  (0, -0.390625000000000)     0.390625000000000    0.1250  \n",
       "8                  (-0.195312500000000, 0)     0.195312500000000    0.2500  \n",
       "9                  (0, -0.195312500000000)     0.195312500000000    0.1250  \n",
       "10                (-0.0976562500000000, 0)    0.0976562500000000    0.2500  \n",
       "11                (0, -0.0976562500000000)    0.0976562500000000    0.1250  \n",
       "12                (-0.0488281250000000, 0)    0.0488281250000000    0.2500  \n",
       "13                (0, -0.0488281250000000)    0.0488281250000000    0.1250  \n",
       "14                (-0.0244140625000000, 0)    0.0244140625000000    0.2500  \n",
       "15                (0, -0.0244140625000000)    0.0244140625000000    0.1250  \n",
       "16                (-0.0122070312500000, 0)    0.0122070312500000    0.2500  \n",
       "17                (0, -0.0122070312500000)    0.0122070312500000    0.1250  \n",
       "18               (-0.00610351562500000, 0)   0.00610351562500000    0.2500  \n",
       "19               (0, -0.00610351562500000)   0.00610351562500000    0.1250  \n",
       "20               (-0.00305175781250000, 0)   0.00305175781250000    0.2500  \n",
       "21               (0, -0.00305175781250000)   0.00305175781250000    0.1250  \n",
       "22               (-0.00152587890625000, 0)   0.00152587890625000    0.2500  \n",
       "23               (0, -0.00152587890625000)   0.00152587890625000    0.1250  \n",
       "24              (-0.000762939453125000, 0)  0.000762939453125000    0.2500  \n",
       "25              (0, -0.000762939453125000)  0.000762939453125000    0.1250  \n",
       "26              (-0.000381469726562500, 0)  0.000381469726562500    0.2500  \n",
       "27              (0, -0.000381469726562500)  0.000381469726562500    0.1250  \n",
       "28              (-0.000190734863281250, 0)  0.000190734863281250    0.2500  \n",
       "29              (0, -0.000190734863281250)  0.000190734863281250    0.1250  \n",
       "30               (-9.53674316406250e-5, 0)   9.53674316406250e-5    0.2500  \n",
       "31               (0, -9.53674316406250e-5)   9.53674316406250e-5    0.1250  \n",
       "32               (-4.76837158203125e-5, 0)   4.76837158203125e-5    0.2500  \n",
       "33               (0, -4.76837158203125e-5)   4.76837158203125e-5    0.1250  \n",
       "34               (-2.38418579101563e-5, 0)   2.38418579101563e-5    0.2500  \n",
       "35               (0, -2.38418579101563e-5)   2.38418579101563e-5    0.1250  \n",
       "36               (-1.19209289550781e-5, 0)   1.19209289550781e-5    0.2500  \n",
       "37               (0, -1.19209289550781e-5)   1.19209289550781e-5    0.1250  "
      ]
     },
     "metadata": {},
     "output_type": "display_data"
    }
   ],
   "source": [
    "# Preparar la tabla comparativa\n",
    "def preparar_datos(iteraciones, metodo):\n",
    "    datos = []\n",
    "    for iteracion in iteraciones:\n",
    "        k, iter_inner, xk, fk, grad_fk, dk, lambda_k = iteracion\n",
    "        datos.append([metodo, k, iter_inner, tuple(xk.evalf()), fk.evalf(), tuple(grad_fk.evalf()), grad_fk.norm().evalf(), lambda_k])\n",
    "    return datos\n",
    "\n",
    "datos_exact = preparar_datos(iteraciones_exact, 'Exacto')\n",
    "datos_armijo = preparar_datos(iteraciones_armijo, 'Armijo')\n",
    "\n",
    "# Crear un DataFrame para cada método\n",
    "columnas = ['Método', 'Iteración General', 'Iteración Interna', 'x_k', 'f(x_k)', 'grad_f(x_k)', '||grad_f(x_k)||', 'lambda_k']\n",
    "df_exact = pd.DataFrame(datos_exact, columns=columnas)\n",
    "df_armijo = pd.DataFrame(datos_armijo, columns=columnas)\n",
    "\n",
    "# Mostrar las tablas comparativas\n",
    "display(Latex(\"**Resultados usando Búsqueda Unidimensional Exacta**\"))\n",
    "display(df_exact)\n",
    "display(Latex(\"**Resultados usando Búsqueda de Armijo**\"))\n",
    "display(df_armijo)"
   ]
  }
 ],
 "metadata": {
  "kernelspec": {
   "display_name": "mathematix",
   "language": "python",
   "name": "python3"
  },
  "language_info": {
   "codemirror_mode": {
    "name": "ipython",
    "version": 3
   },
   "file_extension": ".py",
   "mimetype": "text/x-python",
   "name": "python",
   "nbconvert_exporter": "python",
   "pygments_lexer": "ipython3",
   "version": "3.10.11"
  }
 },
 "nbformat": 4,
 "nbformat_minor": 2
}
