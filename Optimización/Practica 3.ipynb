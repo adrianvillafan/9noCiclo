{
 "cells": [
  {
   "cell_type": "code",
   "execution_count": 130,
   "metadata": {},
   "outputs": [],
   "source": [
    "import sympy as sp\n",
    "import pandas as pd\n",
    "import matplotlib.pyplot as plt\n",
    "from IPython.display import display, Latex\n"
   ]
  },
  {
   "cell_type": "code",
   "execution_count": 131,
   "metadata": {},
   "outputs": [
    {
     "data": {
      "text/latex": [
       "Gradientes:"
      ],
      "text/plain": [
       "<IPython.core.display.Latex object>"
      ]
     },
     "metadata": {},
     "output_type": "display_data"
    },
    {
     "data": {
      "text/latex": [
       "$\\frac{\\partial q}{\\partial x_1} = 4 \\mu x_{1} \\left(x_{1}^{2} + x_{2}^{2} - 1\\right) + 2 x_{1}$"
      ],
      "text/plain": [
       "<IPython.core.display.Latex object>"
      ]
     },
     "metadata": {},
     "output_type": "display_data"
    },
    {
     "data": {
      "text/latex": [
       "$\\frac{\\partial q}{\\partial x_2} = 4 \\mu x_{2} \\left(x_{1}^{2} + x_{2}^{2} - 1\\right) + 1.0 x_{2}$"
      ],
      "text/plain": [
       "<IPython.core.display.Latex object>"
      ]
     },
     "metadata": {},
     "output_type": "display_data"
    },
    {
     "data": {
      "text/latex": [
       "Hessiano:"
      ],
      "text/plain": [
       "<IPython.core.display.Latex object>"
      ]
     },
     "metadata": {},
     "output_type": "display_data"
    },
    {
     "data": {
      "text/latex": [
       "$\\frac{\\partial^2 q}{\\partial x_1 \\partial x_1} = 2 \\cdot \\left(4 \\mu x_{1}^{2} + 2 \\mu \\left(x_{1}^{2} + x_{2}^{2} - 1\\right) + 1\\right)$"
      ],
      "text/plain": [
       "<IPython.core.display.Latex object>"
      ]
     },
     "metadata": {},
     "output_type": "display_data"
    },
    {
     "data": {
      "text/latex": [
       "$\\frac{\\partial^2 q}{\\partial x_1 \\partial x_2} = 8 \\mu x_{1} x_{2}$"
      ],
      "text/plain": [
       "<IPython.core.display.Latex object>"
      ]
     },
     "metadata": {},
     "output_type": "display_data"
    },
    {
     "data": {
      "text/latex": [
       "$\\frac{\\partial^2 q}{\\partial x_2 \\partial x_1} = 8 \\mu x_{1} x_{2}$"
      ],
      "text/plain": [
       "<IPython.core.display.Latex object>"
      ]
     },
     "metadata": {},
     "output_type": "display_data"
    },
    {
     "data": {
      "text/latex": [
       "$\\frac{\\partial^2 q}{\\partial x_2 \\partial x_2} = 8 \\mu x_{2}^{2} + 4 \\mu \\left(x_{1}^{2} + x_{2}^{2} - 1\\right) + 1.0$"
      ],
      "text/plain": [
       "<IPython.core.display.Latex object>"
      ]
     },
     "metadata": {},
     "output_type": "display_data"
    },
    {
     "data": {
      "text/latex": [
       "$H=\\left[\\begin{matrix}2 \\cdot \\left(4 \\mu x_{1}^{2} + 2 \\mu \\left(x_{1}^{2} + x_{2}^{2} - 1\\right) + 1\\right) & 8 \\mu x_{1} x_{2}\\\\8 \\mu x_{1} x_{2} & 8 \\mu x_{2}^{2} + 4 \\mu \\left(x_{1}^{2} + x_{2}^{2} - 1\\right) + 1.0\\end{matrix}\\right]$"
      ],
      "text/plain": [
       "<IPython.core.display.Latex object>"
      ]
     },
     "metadata": {},
     "output_type": "display_data"
    }
   ],
   "source": [
    "\n",
    "# Definición de variables simbólicas\n",
    "x1, x2, mu = sp.symbols('x1 x2 mu')\n",
    "\n",
    "# Función objetivo\n",
    "f = x1**2 + 0.5 * x2**2\n",
    "\n",
    "# Restricciones\n",
    "g = [x1**2 + x2**2 - 1]\n",
    "\n",
    "# Penalización basada en las restricciones\n",
    "P = sum(h_j**2 for h_j in g)\n",
    "\n",
    "# Función de penalidad\n",
    "q = f + mu * P\n",
    "\n",
    "# Gradientes y Hessiano de la función de penalidad q\n",
    "variables = [x1, x2]\n",
    "grad_q = [sp.diff(q, var) for var in variables]\n",
    "hess_q = sp.Matrix([[sp.diff(q, var1, var2) for var1 in variables] for var2 in variables])\n",
    "\n",
    "# Display de los gradientes y el hessiano para verificar\n",
    "display(Latex(\"Gradientes:\"))\n",
    "for i, grad in enumerate(grad_q):\n",
    "    display(Latex(f'$\\\\frac{{\\\\partial q}}{{\\\\partial x_{i+1}}} = {sp.latex(grad)}$'))\n",
    "\n",
    "display(Latex(\"Hessiano:\"))\n",
    "for i in range(len(variables)):\n",
    "    for j in range(len(variables)):\n",
    "        display(Latex(f'$\\\\frac{{\\\\partial^2 q}}{{\\\\partial x_{i+1} \\\\partial x_{j+1}}} = {sp.latex(hess_q[i, j])}$'))\n",
    "\n",
    "display(Latex(f'$H={sp.latex(hess_q)}$'))\n"
   ]
  },
  {
   "cell_type": "code",
   "execution_count": 132,
   "metadata": {},
   "outputs": [],
   "source": [
    "def armijo(x0, opti, grad_q, mu_val):\n",
    "    b, s, o, k1, m = 0.5, 1, 0.1, 1, 0\n",
    "\n",
    "    while True:\n",
    "        # Hallamos el valor de lambda\n",
    "        lmb = s * (b ** m)\n",
    "        # Hallamos f(x0)\n",
    "        f = float(opti.subs({x1: x0[0], x2: x0[1], mu: mu_val}).evalf())\n",
    "        # Hallamos el valor de la gradiente\n",
    "        grad = sp.Matrix([grad_q[i].subs({x1: x0[0], x2: x0[1], mu: mu_val}) for i in range(len(variables))]).evalf()\n",
    "        # Hallamos el valor de f(x0 - lmb * grad)\n",
    "        x_new = [x0[0] - lmb * grad[0], x0[1] - lmb * grad[1]]\n",
    "        f_k = float(opti.subs({x1: x_new[0], x2: x_new[1], mu: mu_val}).evalf())\n",
    "        mod = float((grad[0] ** 2 + grad[1] ** 2).evalf())\n",
    "\n",
    "        # Condición de parada\n",
    "        if f_k <= float(f - o * lmb * mod):\n",
    "            break\n",
    "        else:\n",
    "            m += 1\n",
    "            k1 += 1\n",
    "\n",
    "    return k1, lmb"
   ]
  },
  {
   "cell_type": "code",
   "execution_count": 133,
   "metadata": {},
   "outputs": [],
   "source": [
    "def busqueda_exacta(x0, d_k, opti, mu_val):\n",
    "    alpha = sp.symbols('alpha')\n",
    "    x_new = [x0[0] + alpha * d_k[0], x0[1] + alpha * d_k[1]]\n",
    "    func_new = opti.subs({x1: x_new[0], x2: x_new[1], mu: mu_val})\n",
    "    dfunc_new = sp.diff(func_new, alpha)\n",
    "\n",
    "    # Encontrar la solución de alpha que minimiza la función\n",
    "    alpha_opt = sp.solve(dfunc_new, alpha)\n",
    "    alpha_opt = [sol.evalf() for sol in alpha_opt if sol.is_real and sol > 0]\n",
    "\n",
    "    if alpha_opt:\n",
    "        return min(alpha_opt)\n",
    "    else:\n",
    "        return 1  # Valor de fallback en caso de que no se encuentre un valor óptimo\n"
   ]
  },
  {
   "cell_type": "code",
   "execution_count": 134,
   "metadata": {},
   "outputs": [],
   "source": [
    "def gradiente_armijo(mu_val, x0, tol, max_iter):\n",
    "    x = sp.Matrix(x0)\n",
    "    data = []\n",
    "\n",
    "    for k in range(max_iter):\n",
    "        # Obtener la gradiente de la función de penalidad\n",
    "        grad = sp.Matrix([grad_q[i].subs({x1: x[0], x2: x[1], mu: mu_val}) for i in range(len(variables))]).evalf()\n",
    "\n",
    "        # Obtener la norma del gradiente\n",
    "        Normadf = float(grad.norm().evalf())\n",
    "\n",
    "        # Condición para finalizar el programa\n",
    "        if Normadf < tol:\n",
    "            break\n",
    "\n",
    "        # Obtener el número de iteraciones internas y el valor de lambda usando Armijo\n",
    "        iter, lmb = armijo([x[0], x[1]], q, grad_q, mu_val)\n",
    "\n",
    "        # Actualizar el valor de x\n",
    "        x_new = (x - lmb * grad).evalf()\n",
    "\n",
    "        # Hallar el valor de la función en x\n",
    "        fun = float(q.subs({x1: x_new[0], x2: x_new[1], mu: mu_val}).evalf())\n",
    "\n",
    "        # Error\n",
    "        mod = float(x_new.norm().evalf())\n",
    "\n",
    "        # Introducir el número de iteraciones, iteraciones internas, lambda, x0 y fun(x0)\n",
    "        data.append([k, iter, x_new, fun, mod])\n",
    "\n",
    "        # Mostrar el paso actual\n",
    "        #display(Latex(f'Iteración {k}: $x = ({sp.latex(x_new[0])}, {sp.latex(x_new[1])})$, $\\\\nabla q = {sp.latex(grad)}$, $||\\\\nabla q|| = {sp.latex(Normadf)}$'))\n",
    "\n",
    "        x = x_new\n",
    "\n",
    "    return x, data\n"
   ]
  },
  {
   "cell_type": "code",
   "execution_count": 135,
   "metadata": {},
   "outputs": [],
   "source": [
    "def gradiente_busqueda_exacta(mu_val, x0, tol, max_iter):\n",
    "    x = sp.Matrix(x0)\n",
    "    data = []\n",
    "\n",
    "    for k in range(max_iter):\n",
    "        # Obtener la gradiente de la función de penalidad\n",
    "        grad = sp.Matrix([grad_q[i].subs({x1: x[0], x2: x[1], mu: mu_val}) for i in range(len(variables))]).evalf()\n",
    "\n",
    "        # Obtener la norma del gradiente\n",
    "        Normadf = float(grad.norm().evalf())\n",
    "\n",
    "        # Condición para finalizar el programa\n",
    "        if Normadf < tol:\n",
    "            print(f\"Parando por criterio: ||grad|| < tol en la iteración {k}\")\n",
    "            break\n",
    "\n",
    "        # Calcular el valor de alpha usando Búsqueda Exacta\n",
    "        lmb = busqueda_exacta([x[0], x[1]], -grad, q, mu_val)\n",
    "        lmb = float(lmb)  # Asegurar que alpha sea un número flotante\n",
    "        print(f\"Iteración {k}, alpha: {lmb}\")\n",
    "\n",
    "        # Actualizar el valor de x\n",
    "        x_new = (x - lmb * grad).evalf()\n",
    "\n",
    "        # Hallar el valor de la función en x\n",
    "        fun = float(q.subs({x1: x_new[0], x2: x_new[1], mu: mu_val}).evalf())\n",
    "\n",
    "        # Error\n",
    "        mod = float(x_new.norm().evalf())\n",
    "\n",
    "        # Introducir el número de iteraciones, iteraciones internas, lambda, x0 y fun(x0)\n",
    "        data.append([k, 1, x_new, fun, mod])\n",
    "\n",
    "        # Mostrar el paso actual\n",
    "        print(f\"Iteración {k}, x: {x_new}, grad: {grad}, Normadf: {Normadf}, f(x): {fun}, ||x||: {mod}\")\n",
    "\n",
    "        x = x_new\n",
    "\n",
    "    return x, data\n"
   ]
  },
  {
   "cell_type": "code",
   "execution_count": 136,
   "metadata": {},
   "outputs": [],
   "source": [
    "def optimize_newton_puro_armijo(mu_val, x0, tol, max_iter):\n",
    "    x = sp.Matrix(x0)\n",
    "    data = []\n",
    "\n",
    "    for k in range(max_iter):\n",
    "        # Calcular el gradiente y el Hessiano de la función de penalidad\n",
    "        grad = sp.Matrix([grad_q[i].subs({x1: x[0], x2: x[1], mu: mu_val}) for i in range(len(variables))]).evalf()\n",
    "        hess = sp.Matrix([[hess_q[i, j].subs({x1: x[0], x2: x[1], mu: mu_val}) for j in range(len(variables))] for i in range(len(variables))]).evalf()\n",
    "\n",
    "        # Calcular la dirección de Newton\n",
    "        d_k = -hess.inv() * grad\n",
    "\n",
    "        # Obtener el valor de lambda usando Armijo\n",
    "        lmb = armijo_newton([x[0], x[1]], d_k, q, grad_q, mu_val)\n",
    "        print(f\"Iteration {k}, alpha: {lmb}\")\n",
    "\n",
    "        # Actualizar el valor de x\n",
    "        x_new = (x + lmb * d_k).evalf()\n",
    "\n",
    "        # Hallar el valor de la función en x\n",
    "        fun = float(q.subs({x1: x_new[0], x2: x_new[1], mu: mu_val}).evalf())\n",
    "\n",
    "        # Error\n",
    "        mod = float(x_new.norm().evalf())\n",
    "\n",
    "        # Introducir el número de iteraciones, iteraciones internas, lambda, x0 y fun(x0)\n",
    "        data.append([k, 1, x_new, fun, mod])\n",
    "\n",
    "        # Mostrar el paso actual\n",
    "        print(f\"Iteration {k}, x: {x_new}, grad: {grad}, Normadf: {grad.norm()}, f(x): {fun}, ||x||: {mod}\")\n",
    "\n",
    "        # Condición de parada\n",
    "        if grad.norm() < tol:\n",
    "            print(f\"Parando por criterio: norm < epsilon at iteration {k}\")\n",
    "            break\n",
    "\n",
    "        x = x_new\n",
    "\n",
    "    return x, data"
   ]
  },
  {
   "cell_type": "code",
   "execution_count": 137,
   "metadata": {},
   "outputs": [],
   "source": [
    "def optimize_newton_puro_exacta(mu_val, x0, tol, max_iter):\n",
    "    x = sp.Matrix(x0)\n",
    "    data = []\n",
    "\n",
    "    for k in range(max_iter):\n",
    "        # Calcular gradiente y hessiano\n",
    "        grad = sp.Matrix([grad_q[i].subs({x1: x[0], x2: x[1], mu: mu_val}) for i in range(len(variables))]).evalf()\n",
    "        hess = sp.Matrix([[hess_q[i, j].subs({x1: x[0], x2: x[1], mu: mu_val}) for j in range(len(variables))] for i in range(len(variables))]).evalf()\n",
    "\n",
    "        # Norma del gradiente\n",
    "        Normadf = float(grad.norm())\n",
    "\n",
    "        if Normadf < tol:\n",
    "            break\n",
    "\n",
    "        # Direccion de descenso\n",
    "        d_k = -hess.inv() * grad\n",
    "\n",
    "        # Calcular el valor de lambda usando Búsqueda Exacta\n",
    "        lmb = busqueda_exacta([x[0], x[1]], d_k, q, mu_val)\n",
    "\n",
    "        # Actualizar x\n",
    "        x_new = (x + lmb * d_k).evalf()\n",
    "\n",
    "        # Calcular f(x) y el error\n",
    "        fun = float(q.subs({x1: x_new[0], x2: x_new[1], mu: mu_val}).evalf())\n",
    "        mod = float(x_new.norm().evalf())\n",
    "\n",
    "        data.append([k, 1, x_new.tolist(), fun, mod])\n",
    "\n",
    "        # Mostrar el paso actual\n",
    "        #display(Latex(f'Iteración {k}: $x = ({x_new[0]}, {x_new[1]})$, $\\\\nabla q = {grad}$, $||\\\\nabla q|| = {Normadf}$'))\n",
    "\n",
    "        x = x_new\n",
    "\n",
    "    return x, data\n"
   ]
  },
  {
   "cell_type": "code",
   "execution_count": 138,
   "metadata": {},
   "outputs": [],
   "source": [
    "def conjugate_gradient_armijo(mu_val, x0, tol=1e-6, max_iter=1000, alpha=1, beta=0.5, sigma=1e-4):\n",
    "    x = sp.Matrix(x0)\n",
    "    grad = sp.Matrix([grad_q[i].subs({x1: x[0], x2: x[1], mu: mu_val}) for i in range(len(variables))]).evalf()\n",
    "    d = -grad\n",
    "    iter_count = 0\n",
    "    total_internal_iter_count = 0\n",
    "    data = []\n",
    "\n",
    "    for _ in range(max_iter):\n",
    "        if grad.norm() < tol:\n",
    "            break\n",
    "\n",
    "        t = alpha\n",
    "        internal_iter_count = 0\n",
    "        while float(q.subs({x1: x[0] + t * d[0], x2: x[1] + t * d[1], mu: mu_val}).evalf()) > float(q.subs({x1: x[0], x2: x[1], mu: mu_val}).evalf()) + sigma * t * float((grad.T * d)[0]):\n",
    "            t *= beta\n",
    "            internal_iter_count += 1\n",
    "\n",
    "        x_new = (x + t * d).evalf()\n",
    "        grad_new = sp.Matrix([grad_q[i].subs({x1: x_new[0], x2: x_new[1], mu: mu_val}) for i in range(len(variables))]).evalf()\n",
    "        beta_cg = (grad_new.T * grad_new)[0] / (grad.T * grad)[0]\n",
    "        d = -grad_new + beta_cg * d\n",
    "        x = x_new\n",
    "        grad = grad_new\n",
    "        iter_count += 1\n",
    "        total_internal_iter_count += internal_iter_count\n",
    "        data.append([iter_count, internal_iter_count, x.tolist(), float(q.subs({x1: x[0], x2: x[1], mu: mu_val}).evalf()), float(x.norm().evalf())])\n",
    "\n",
    "    return x, iter_count, total_internal_iter_count, data\n"
   ]
  },
  {
   "cell_type": "code",
   "execution_count": 139,
   "metadata": {},
   "outputs": [],
   "source": [
    "def conjugate_gradient_exact(mu_val, x0, tol=1e-6, max_iter=1000):\n",
    "    x = sp.Matrix(x0)\n",
    "    grad = sp.Matrix([grad_q[i].subs({x1: x[0], x2: x[1], mu: mu_val}) for i in range(len(variables))]).evalf()\n",
    "    d = -grad\n",
    "    iter_count = 0\n",
    "    data = []\n",
    "\n",
    "    for _ in range(max_iter):\n",
    "        if grad.norm() < tol:\n",
    "            print(f\"Converged: grad.norm() < tol at iteration {iter_count}\")\n",
    "            break\n",
    "\n",
    "        # Calcular el valor de alpha usando Búsqueda Exacta\n",
    "        alpha = busqueda_exacta(x, d, q, mu_val)\n",
    "        alpha = float(alpha)  # Asegurar que alpha sea un número flotante\n",
    "        print(f\"Iteration {iter_count}, alpha: {alpha}\")\n",
    "\n",
    "        x_new = (x + alpha * d).evalf()\n",
    "        grad_new = sp.Matrix([grad_q[i].subs({x1: x_new[0], x2: x_new[1], mu: mu_val}) for i in range(len(variables))]).evalf()\n",
    "        \n",
    "        beta_num = (grad_new.T * grad_new)[0]\n",
    "        beta_den = (grad.T * grad)[0]\n",
    "        \n",
    "        if beta_den == 0:\n",
    "            beta = 0\n",
    "        else:\n",
    "            beta = beta_num / beta_den\n",
    "\n",
    "        # Limitar el valor de beta para evitar pasos excesivamente grandes\n",
    "        if beta > 1:\n",
    "            beta = 1\n",
    "\n",
    "        d = -grad_new + beta * d\n",
    "        x = x_new\n",
    "        grad = grad_new\n",
    "        iter_count += 1\n",
    "        data.append([iter_count, 1, x.tolist(), float(q.subs({x1: x[0], x2: x[1], mu: mu_val}).evalf()), float(x.norm().evalf())])\n",
    "        \n",
    "        print(f\"Iteration {iter_count}, x: {x}, grad: {grad}, beta: {beta}\")\n",
    "\n",
    "    return x, iter_count, data"
   ]
  },
  {
   "cell_type": "code",
   "execution_count": 144,
   "metadata": {},
   "outputs": [],
   "source": [
    "# Parámetros iniciales\n",
    "x0 = [3, 0.5]  # Punto inicial factible resulta (0,-1)\n",
    "x0 = [0.5, 1]  # Punto inicial factible resulta (0, 1)\n",
    "#x0 = [1, 0]  # Punto inicial factible resulta (1, 0)\n",
    "epsilon = 1e-3\n",
    "max_iter = 100\n",
    "tol = 1e-3\n",
    "\n",
    "# Método de penalidad exterior\n",
    "mu_values = []\n",
    "solutions = []\n",
    "all_data = []\n",
    "\n",
    "for k in range(1, max_iter + 1):\n",
    "    mu_val = k\n",
    "\n",
    "    #x_new, data =  gradiente_armijo(mu_val, x0, tol, max_iter) #Gozu\n",
    "\n",
    "    #x_new, data =  gradiente_busqueda_exacta(mu_val, x0, tol, max_iter)\n",
    "\n",
    "    #x_new, data = optimize_newton_puro_armijo(mu_val, x0, tol, max_iter)#Gozu\n",
    "\n",
    "    x_new, data = optimize_newton_puro_exacta(mu_val, x0, tol, max_iter)#Gozu\n",
    "    \n",
    "    #x_new, iter_count, total_internal_iter_count, data = conjugate_gradient_armijo(mu_val, x0, tol, max_iter)#gozu\n",
    "\n",
    "    #x_new, iter_count, data = conjugate_gradient_exact(mu_val, x0, tol, max_iter)\n",
    "    \n",
    "    # Verificar criterio de parada\n",
    "    if (sp.Matrix(x_new) - sp.Matrix(x0)).norm().evalf() < epsilon:\n",
    "        print(f\"Parando por criterio: norm < epsilon at iteration {k}\")\n",
    "        break\n",
    "    \n",
    "    x0 = x_new\n",
    "    mu_values.append(mu_val)\n",
    "    solutions.append(x0)\n",
    "    all_data.extend(data)\n",
    "\n",
    "# Mostrar los resultados\n",
    "df = pd.DataFrame(all_data, columns=['Iteración', 'Iteraciones Internas', 'x', 'f(x)', '|| x - x||'])\n",
    "df = df.sort_values(by='Iteración').reset_index(drop=True)\n",
    "display(df)\n",
    "\n",
    "for mu_val, sol in zip(mu_values, solutions):\n",
    "    display(Latex(f'$\\\\mu = {mu_val}, \\\\; x^* = ({sol[0]}, {sol[1]})$'))\n"
   ]
  },
  {
   "cell_type": "code",
   "execution_count": 141,
   "metadata": {},
   "outputs": [
    {
     "data": {
      "text/latex": [
       "Gradientes:"
      ],
      "text/plain": [
       "<IPython.core.display.Latex object>"
      ]
     },
     "metadata": {},
     "output_type": "display_data"
    },
    {
     "data": {
      "text/latex": [
       "$\\frac{\\partial q}{\\partial x_1} = \\mu \\left(\\begin{cases} 0 & \\text{for}\\: x_{1} \\geq 0 \\\\2 x_{1} & \\text{otherwise} \\end{cases} + \\begin{cases} 0 & \\text{for}\\: x_{1} + 3 x_{2} \\leq 12 \\\\2 x_{1} + 6 x_{2} - 24 & \\text{otherwise} \\end{cases} + \\begin{cases} 0 & \\text{for}\\: x_{1}^{2} - x_{2} \\leq 6 \\\\4 x_{1} \\left(x_{1}^{2} - x_{2} - 6\\right) & \\text{otherwise} \\end{cases}\\right) + 2 x_{1} - 10$"
      ],
      "text/plain": [
       "<IPython.core.display.Latex object>"
      ]
     },
     "metadata": {},
     "output_type": "display_data"
    },
    {
     "data": {
      "text/latex": [
       "$\\frac{\\partial q}{\\partial x_2} = \\mu \\left(\\begin{cases} 0 & \\text{for}\\: x_{2} \\geq 0 \\\\2 x_{2} & \\text{otherwise} \\end{cases} + \\begin{cases} 0 & \\text{for}\\: x_{1} + 3 x_{2} \\leq 12 \\\\6 x_{1} + 18 x_{2} - 72 & \\text{otherwise} \\end{cases} + \\begin{cases} 0 & \\text{for}\\: x_{1}^{2} - x_{2} \\leq 6 \\\\- 2 x_{1}^{2} + 2 x_{2} + 12 & \\text{otherwise} \\end{cases}\\right) + 2 x_{2} - 10$"
      ],
      "text/plain": [
       "<IPython.core.display.Latex object>"
      ]
     },
     "metadata": {},
     "output_type": "display_data"
    },
    {
     "data": {
      "text/latex": [
       "Hessiano:"
      ],
      "text/plain": [
       "<IPython.core.display.Latex object>"
      ]
     },
     "metadata": {},
     "output_type": "display_data"
    },
    {
     "data": {
      "text/latex": [
       "$\\frac{\\partial^2 q}{\\partial x_1 \\partial x_1} = \\mu \\left(\\begin{cases} 0 & \\text{for}\\: x_{1} \\geq 0 \\\\2 & \\text{otherwise} \\end{cases} + \\begin{cases} 0 & \\text{for}\\: x_{1} + 3 x_{2} \\leq 12 \\\\2 & \\text{otherwise} \\end{cases} + \\begin{cases} 0 & \\text{for}\\: x_{1}^{2} - x_{2} \\leq 6 \\\\4 \\cdot \\left(3 x_{1}^{2} - x_{2} - 6\\right) & \\text{otherwise} \\end{cases}\\right) + 2$"
      ],
      "text/plain": [
       "<IPython.core.display.Latex object>"
      ]
     },
     "metadata": {},
     "output_type": "display_data"
    },
    {
     "data": {
      "text/latex": [
       "$\\frac{\\partial^2 q}{\\partial x_1 \\partial x_2} = \\mu \\left(\\begin{cases} 0 & \\text{for}\\: x_{1} + 3 x_{2} \\leq 12 \\\\6 & \\text{otherwise} \\end{cases} + \\begin{cases} 0 & \\text{for}\\: x_{1}^{2} - x_{2} \\leq 6 \\\\- 4 x_{1} & \\text{otherwise} \\end{cases}\\right)$"
      ],
      "text/plain": [
       "<IPython.core.display.Latex object>"
      ]
     },
     "metadata": {},
     "output_type": "display_data"
    },
    {
     "data": {
      "text/latex": [
       "$\\frac{\\partial^2 q}{\\partial x_2 \\partial x_1} = \\mu \\left(\\begin{cases} 0 & \\text{for}\\: x_{1} + 3 x_{2} \\leq 12 \\\\6 & \\text{otherwise} \\end{cases} + \\begin{cases} 0 & \\text{for}\\: x_{1}^{2} - x_{2} \\leq 6 \\\\- 4 x_{1} & \\text{otherwise} \\end{cases}\\right)$"
      ],
      "text/plain": [
       "<IPython.core.display.Latex object>"
      ]
     },
     "metadata": {},
     "output_type": "display_data"
    },
    {
     "data": {
      "text/latex": [
       "$\\frac{\\partial^2 q}{\\partial x_2 \\partial x_2} = \\mu \\left(\\begin{cases} 0 & \\text{for}\\: x_{2} \\geq 0 \\\\2 & \\text{otherwise} \\end{cases} + \\begin{cases} 0 & \\text{for}\\: x_{1} + 3 x_{2} \\leq 12 \\\\18 & \\text{otherwise} \\end{cases} + \\begin{cases} 0 & \\text{for}\\: x_{1}^{2} - x_{2} \\leq 6 \\\\2 & \\text{otherwise} \\end{cases}\\right) + 2$"
      ],
      "text/plain": [
       "<IPython.core.display.Latex object>"
      ]
     },
     "metadata": {},
     "output_type": "display_data"
    },
    {
     "data": {
      "text/latex": [
       "$H = \\left[\\begin{matrix}\\mu \\left(\\begin{cases} 0 & \\text{for}\\: x_{1} \\geq 0 \\\\2 & \\text{otherwise} \\end{cases} + \\begin{cases} 0 & \\text{for}\\: x_{1} + 3 x_{2} \\leq 12 \\\\2 & \\text{otherwise} \\end{cases} + \\begin{cases} 0 & \\text{for}\\: x_{1}^{2} - x_{2} \\leq 6 \\\\4 \\cdot \\left(3 x_{1}^{2} - x_{2} - 6\\right) & \\text{otherwise} \\end{cases}\\right) + 2 & \\mu \\left(\\begin{cases} 0 & \\text{for}\\: x_{1} + 3 x_{2} \\leq 12 \\\\6 & \\text{otherwise} \\end{cases} + \\begin{cases} 0 & \\text{for}\\: x_{1}^{2} - x_{2} \\leq 6 \\\\- 4 x_{1} & \\text{otherwise} \\end{cases}\\right)\\\\\\mu \\left(\\begin{cases} 0 & \\text{for}\\: x_{1} + 3 x_{2} \\leq 12 \\\\6 & \\text{otherwise} \\end{cases} + \\begin{cases} 0 & \\text{for}\\: x_{1}^{2} - x_{2} \\leq 6 \\\\- 4 x_{1} & \\text{otherwise} \\end{cases}\\right) & \\mu \\left(\\begin{cases} 0 & \\text{for}\\: x_{2} \\geq 0 \\\\2 & \\text{otherwise} \\end{cases} + \\begin{cases} 0 & \\text{for}\\: x_{1} + 3 x_{2} \\leq 12 \\\\18 & \\text{otherwise} \\end{cases} + \\begin{cases} 0 & \\text{for}\\: x_{1}^{2} - x_{2} \\leq 6 \\\\2 & \\text{otherwise} \\end{cases}\\right) + 2\\end{matrix}\\right]$"
      ],
      "text/plain": [
       "<IPython.core.display.Latex object>"
      ]
     },
     "metadata": {},
     "output_type": "display_data"
    }
   ],
   "source": [
    "# Definición de variables simbólicas\n",
    "x1, x2, mu = sp.symbols('x1 x2 mu')\n",
    "\n",
    "# Función objetivo para el segundo ejercicio\n",
    "f = (x1 - 5)**2 + (x2 - 5)**2\n",
    "\n",
    "# Restricciones\n",
    "g = [x1**2 - x2 - 6, x1 + 3*x2 - 12, -x1, -x2]  # Usamos ecuaciones de la forma g(x) <= 0\n",
    "\n",
    "# Penalización basada en las restricciones\n",
    "P = sum(sp.Piecewise((0, h_j <= 0), (h_j**2, h_j > 0)) for h_j in g)\n",
    "\n",
    "# Función de penalidad\n",
    "q = f + mu * P\n",
    "\n",
    "# Gradientes y Hessiano de la función de penalidad q\n",
    "variables = [x1, x2]\n",
    "grad_q = [sp.diff(q, var) for var in variables]\n",
    "hess_q = sp.Matrix([[sp.diff(q, var1, var2) for var1 in variables] for var2 in variables])\n",
    "\n",
    "# Display de los gradientes y el hessiano para verificar\n",
    "display(Latex(\"Gradientes:\"))\n",
    "for i, grad in enumerate(grad_q):\n",
    "    display(Latex(f'$\\\\frac{{\\\\partial q}}{{\\\\partial x_{i+1}}} = {sp.latex(grad)}$'))\n",
    "\n",
    "display(Latex(\"Hessiano:\"))\n",
    "for i in range(len(variables)):\n",
    "    for j in range(len(variables)):\n",
    "        display(Latex(f'$\\\\frac{{\\\\partial^2 q}}{{\\\\partial x_{i+1} \\\\partial x_{j+1}}} = {sp.latex(hess_q[i, j])}$'))\n",
    "\n",
    "display(Latex(f'$H = {sp.latex(hess_q)}$'))\n"
   ]
  },
  {
   "cell_type": "code",
   "execution_count": 143,
   "metadata": {},
   "outputs": [
    {
     "ename": "ValueError",
     "evalue": "The argument '0.7 + 0.e-8*I' is not comparable.",
     "output_type": "error",
     "traceback": [
      "\u001b[1;31m---------------------------------------------------------------------------\u001b[0m",
      "\u001b[1;31mValueError\u001b[0m                                Traceback (most recent call last)",
      "Cell \u001b[1;32mIn[143], line 21\u001b[0m\n\u001b[0;32m     13\u001b[0m mu_val \u001b[38;5;241m=\u001b[39m k\n\u001b[0;32m     15\u001b[0m \u001b[38;5;66;03m#x_new, data =  gradiente_armijo(mu_val, x0, tol, max_iter) #Gozu\u001b[39;00m\n\u001b[0;32m     16\u001b[0m \n\u001b[0;32m     17\u001b[0m \u001b[38;5;66;03m#x_new, data =  gradiente_busqueda_exacta(mu_val, x0, tol, max_iter)\u001b[39;00m\n\u001b[0;32m     18\u001b[0m \n\u001b[0;32m     19\u001b[0m \u001b[38;5;66;03m#x_new, data = optimize_newton_puro_armijo(mu_val, x0, tol, max_iter) #gozu\u001b[39;00m\n\u001b[1;32m---> 21\u001b[0m x_new, data \u001b[38;5;241m=\u001b[39m \u001b[43moptimize_newton_puro_exacta\u001b[49m\u001b[43m(\u001b[49m\u001b[43mmu_val\u001b[49m\u001b[43m,\u001b[49m\u001b[43m \u001b[49m\u001b[43mx0\u001b[49m\u001b[43m,\u001b[49m\u001b[43m \u001b[49m\u001b[43mtol\u001b[49m\u001b[43m,\u001b[49m\u001b[43m \u001b[49m\u001b[43mmax_iter\u001b[49m\u001b[43m)\u001b[49m\n\u001b[0;32m     23\u001b[0m \u001b[38;5;66;03m#x_new, iter_count, total_internal_iter_count, data = conjugate_gradient_armijo(mu_val, x0, tol, max_iter)\u001b[39;00m\n\u001b[0;32m     24\u001b[0m \n\u001b[0;32m     25\u001b[0m \u001b[38;5;66;03m#x_new, iter_count, data = conjugate_gradient_exact(mu_val, x0, tol, max_iter)\u001b[39;00m\n\u001b[0;32m     26\u001b[0m \n\u001b[0;32m     27\u001b[0m \u001b[38;5;66;03m# Verificar criterio de parada\u001b[39;00m\n\u001b[0;32m     28\u001b[0m \u001b[38;5;28;01mif\u001b[39;00m (sp\u001b[38;5;241m.\u001b[39mMatrix(x_new) \u001b[38;5;241m-\u001b[39m sp\u001b[38;5;241m.\u001b[39mMatrix(x0))\u001b[38;5;241m.\u001b[39mnorm() \u001b[38;5;241m<\u001b[39m epsilon:\n",
      "Cell \u001b[1;32mIn[137], line 20\u001b[0m, in \u001b[0;36moptimize_newton_puro_exacta\u001b[1;34m(mu_val, x0, tol, max_iter)\u001b[0m\n\u001b[0;32m     17\u001b[0m d_k \u001b[38;5;241m=\u001b[39m \u001b[38;5;241m-\u001b[39mhess\u001b[38;5;241m.\u001b[39minv() \u001b[38;5;241m*\u001b[39m grad\n\u001b[0;32m     19\u001b[0m \u001b[38;5;66;03m# Calcular el valor de lambda usando Búsqueda Exacta\u001b[39;00m\n\u001b[1;32m---> 20\u001b[0m lmb \u001b[38;5;241m=\u001b[39m \u001b[43mbusqueda_exacta\u001b[49m\u001b[43m(\u001b[49m\u001b[43m[\u001b[49m\u001b[43mx\u001b[49m\u001b[43m[\u001b[49m\u001b[38;5;241;43m0\u001b[39;49m\u001b[43m]\u001b[49m\u001b[43m,\u001b[49m\u001b[43m \u001b[49m\u001b[43mx\u001b[49m\u001b[43m[\u001b[49m\u001b[38;5;241;43m1\u001b[39;49m\u001b[43m]\u001b[49m\u001b[43m]\u001b[49m\u001b[43m,\u001b[49m\u001b[43m \u001b[49m\u001b[43md_k\u001b[49m\u001b[43m,\u001b[49m\u001b[43m \u001b[49m\u001b[43mq\u001b[49m\u001b[43m,\u001b[49m\u001b[43m \u001b[49m\u001b[43mmu_val\u001b[49m\u001b[43m)\u001b[49m\n\u001b[0;32m     22\u001b[0m \u001b[38;5;66;03m# Actualizar x\u001b[39;00m\n\u001b[0;32m     23\u001b[0m x_new \u001b[38;5;241m=\u001b[39m (x \u001b[38;5;241m+\u001b[39m lmb \u001b[38;5;241m*\u001b[39m d_k)\u001b[38;5;241m.\u001b[39mevalf()\n",
      "Cell \u001b[1;32mIn[133], line 8\u001b[0m, in \u001b[0;36mbusqueda_exacta\u001b[1;34m(x0, d_k, opti, mu_val)\u001b[0m\n\u001b[0;32m      5\u001b[0m dfunc_new \u001b[38;5;241m=\u001b[39m sp\u001b[38;5;241m.\u001b[39mdiff(func_new, alpha)\n\u001b[0;32m      7\u001b[0m \u001b[38;5;66;03m# Encontrar la solución de alpha que minimiza la función\u001b[39;00m\n\u001b[1;32m----> 8\u001b[0m alpha_opt \u001b[38;5;241m=\u001b[39m \u001b[43msp\u001b[49m\u001b[38;5;241;43m.\u001b[39;49m\u001b[43msolve\u001b[49m\u001b[43m(\u001b[49m\u001b[43mdfunc_new\u001b[49m\u001b[43m,\u001b[49m\u001b[43m \u001b[49m\u001b[43malpha\u001b[49m\u001b[43m)\u001b[49m\n\u001b[0;32m      9\u001b[0m alpha_opt \u001b[38;5;241m=\u001b[39m [sol\u001b[38;5;241m.\u001b[39mevalf() \u001b[38;5;28;01mfor\u001b[39;00m sol \u001b[38;5;129;01min\u001b[39;00m alpha_opt \u001b[38;5;28;01mif\u001b[39;00m sol\u001b[38;5;241m.\u001b[39mis_real \u001b[38;5;129;01mand\u001b[39;00m sol \u001b[38;5;241m>\u001b[39m \u001b[38;5;241m0\u001b[39m]\n\u001b[0;32m     11\u001b[0m \u001b[38;5;28;01mif\u001b[39;00m alpha_opt:\n",
      "File \u001b[1;32mc:\\Users\\User004\\Documents\\GitHub\\9noCiclo\\Optimización\\Practica2\\.venv\\Lib\\site-packages\\sympy\\solvers\\solvers.py:1145\u001b[0m, in \u001b[0;36msolve\u001b[1;34m(f, *symbols, **flags)\u001b[0m\n\u001b[0;32m   1143\u001b[0m         solution \u001b[38;5;241m=\u001b[39m _solve_undetermined(f[\u001b[38;5;241m0\u001b[39m], symbols, flags)\n\u001b[0;32m   1144\u001b[0m     \u001b[38;5;28;01mif\u001b[39;00m \u001b[38;5;129;01mnot\u001b[39;00m solution:\n\u001b[1;32m-> 1145\u001b[0m         solution \u001b[38;5;241m=\u001b[39m \u001b[43m_solve\u001b[49m\u001b[43m(\u001b[49m\u001b[43mf\u001b[49m\u001b[43m[\u001b[49m\u001b[38;5;241;43m0\u001b[39;49m\u001b[43m]\u001b[49m\u001b[43m,\u001b[49m\u001b[43m \u001b[49m\u001b[38;5;241;43m*\u001b[39;49m\u001b[43msymbols\u001b[49m\u001b[43m,\u001b[49m\u001b[43m \u001b[49m\u001b[38;5;241;43m*\u001b[39;49m\u001b[38;5;241;43m*\u001b[39;49m\u001b[43mflags\u001b[49m\u001b[43m)\u001b[49m\n\u001b[0;32m   1146\u001b[0m \u001b[38;5;28;01melse\u001b[39;00m:\n\u001b[0;32m   1147\u001b[0m     linear, solution \u001b[38;5;241m=\u001b[39m _solve_system(f, symbols, \u001b[38;5;241m*\u001b[39m\u001b[38;5;241m*\u001b[39mflags)\n",
      "File \u001b[1;32mc:\\Users\\User004\\Documents\\GitHub\\9noCiclo\\Optimización\\Practica2\\.venv\\Lib\\site-packages\\sympy\\solvers\\solvers.py:1410\u001b[0m, in \u001b[0;36m_solve\u001b[1;34m(f, *symbols, **flags)\u001b[0m\n\u001b[0;32m   1407\u001b[0m     _eval_simplify \u001b[38;5;241m=\u001b[39m \u001b[38;5;28mgetattr\u001b[39m(v, \u001b[38;5;124m'\u001b[39m\u001b[38;5;124m_eval_simplify\u001b[39m\u001b[38;5;124m'\u001b[39m, \u001b[38;5;28;01mNone\u001b[39;00m)\n\u001b[0;32m   1408\u001b[0m     \u001b[38;5;28;01mif\u001b[39;00m _eval_simplify \u001b[38;5;129;01mis\u001b[39;00m \u001b[38;5;129;01mnot\u001b[39;00m \u001b[38;5;28;01mNone\u001b[39;00m:\n\u001b[0;32m   1409\u001b[0m         \u001b[38;5;66;03m# unconditionally take the simplification of v\u001b[39;00m\n\u001b[1;32m-> 1410\u001b[0m         v \u001b[38;5;241m=\u001b[39m \u001b[43m_eval_simplify\u001b[49m\u001b[43m(\u001b[49m\u001b[43mratio\u001b[49m\u001b[38;5;241;43m=\u001b[39;49m\u001b[38;5;241;43m2\u001b[39;49m\u001b[43m,\u001b[49m\u001b[43m \u001b[49m\u001b[43mmeasure\u001b[49m\u001b[38;5;241;43m=\u001b[39;49m\u001b[38;5;28;43;01mlambda\u001b[39;49;00m\u001b[43m \u001b[49m\u001b[43mx\u001b[49m\u001b[43m:\u001b[49m\u001b[43m \u001b[49m\u001b[38;5;241;43m1\u001b[39;49m\u001b[43m)\u001b[49m\n\u001b[0;32m   1411\u001b[0m \u001b[38;5;28;01mexcept\u001b[39;00m \u001b[38;5;167;01mTypeError\u001b[39;00m:\n\u001b[0;32m   1412\u001b[0m     \u001b[38;5;66;03m# incompatible type with condition(s)\u001b[39;00m\n\u001b[0;32m   1413\u001b[0m     \u001b[38;5;28;01mcontinue\u001b[39;00m\n",
      "File \u001b[1;32mc:\\Users\\User004\\Documents\\GitHub\\9noCiclo\\Optimización\\Practica2\\.venv\\Lib\\site-packages\\sympy\\logic\\boolalg.py:654\u001b[0m, in \u001b[0;36mAnd._eval_simplify\u001b[1;34m(self, **kwargs)\u001b[0m\n\u001b[0;32m    652\u001b[0m \u001b[38;5;28;01mfrom\u001b[39;00m \u001b[38;5;21;01msympy\u001b[39;00m\u001b[38;5;21;01m.\u001b[39;00m\u001b[38;5;21;01msolvers\u001b[39;00m\u001b[38;5;21;01m.\u001b[39;00m\u001b[38;5;21;01msolveset\u001b[39;00m \u001b[38;5;28;01mimport\u001b[39;00m linear_coeffs\n\u001b[0;32m    653\u001b[0m \u001b[38;5;66;03m# standard simplify\u001b[39;00m\n\u001b[1;32m--> 654\u001b[0m rv \u001b[38;5;241m=\u001b[39m \u001b[38;5;28;43msuper\u001b[39;49m\u001b[43m(\u001b[49m\u001b[43m)\u001b[49m\u001b[38;5;241;43m.\u001b[39;49m\u001b[43m_eval_simplify\u001b[49m\u001b[43m(\u001b[49m\u001b[38;5;241;43m*\u001b[39;49m\u001b[38;5;241;43m*\u001b[39;49m\u001b[43mkwargs\u001b[49m\u001b[43m)\u001b[49m\n\u001b[0;32m    655\u001b[0m \u001b[38;5;28;01mif\u001b[39;00m \u001b[38;5;129;01mnot\u001b[39;00m \u001b[38;5;28misinstance\u001b[39m(rv, And):\n\u001b[0;32m    656\u001b[0m     \u001b[38;5;28;01mreturn\u001b[39;00m rv\n",
      "File \u001b[1;32mc:\\Users\\User004\\Documents\\GitHub\\9noCiclo\\Optimización\\Practica2\\.venv\\Lib\\site-packages\\sympy\\logic\\boolalg.py:474\u001b[0m, in \u001b[0;36mBooleanFunction._eval_simplify\u001b[1;34m(self, **kwargs)\u001b[0m\n\u001b[0;32m    472\u001b[0m \u001b[38;5;28;01mif\u001b[39;00m \u001b[38;5;129;01mnot\u001b[39;00m \u001b[38;5;28misinstance\u001b[39m(rv, BooleanFunction):\n\u001b[0;32m    473\u001b[0m     \u001b[38;5;28;01mreturn\u001b[39;00m rv\u001b[38;5;241m.\u001b[39msimplify(\u001b[38;5;241m*\u001b[39m\u001b[38;5;241m*\u001b[39mkwargs)\n\u001b[1;32m--> 474\u001b[0m rv \u001b[38;5;241m=\u001b[39m rv\u001b[38;5;241m.\u001b[39mfunc(\u001b[38;5;241m*\u001b[39m\u001b[43m[\u001b[49m\u001b[43ma\u001b[49m\u001b[38;5;241;43m.\u001b[39;49m\u001b[43msimplify\u001b[49m\u001b[43m(\u001b[49m\u001b[38;5;241;43m*\u001b[39;49m\u001b[38;5;241;43m*\u001b[39;49m\u001b[43mkwargs\u001b[49m\u001b[43m)\u001b[49m\u001b[43m \u001b[49m\u001b[38;5;28;43;01mfor\u001b[39;49;00m\u001b[43m \u001b[49m\u001b[43ma\u001b[49m\u001b[43m \u001b[49m\u001b[38;5;129;43;01min\u001b[39;49;00m\u001b[43m \u001b[49m\u001b[43mrv\u001b[49m\u001b[38;5;241;43m.\u001b[39;49m\u001b[43margs\u001b[49m\u001b[43m]\u001b[49m)\n\u001b[0;32m    475\u001b[0m \u001b[38;5;28;01mreturn\u001b[39;00m simplify_logic(rv)\n",
      "File \u001b[1;32mc:\\Users\\User004\\Documents\\GitHub\\9noCiclo\\Optimización\\Practica2\\.venv\\Lib\\site-packages\\sympy\\logic\\boolalg.py:474\u001b[0m, in \u001b[0;36m<listcomp>\u001b[1;34m(.0)\u001b[0m\n\u001b[0;32m    472\u001b[0m \u001b[38;5;28;01mif\u001b[39;00m \u001b[38;5;129;01mnot\u001b[39;00m \u001b[38;5;28misinstance\u001b[39m(rv, BooleanFunction):\n\u001b[0;32m    473\u001b[0m     \u001b[38;5;28;01mreturn\u001b[39;00m rv\u001b[38;5;241m.\u001b[39msimplify(\u001b[38;5;241m*\u001b[39m\u001b[38;5;241m*\u001b[39mkwargs)\n\u001b[1;32m--> 474\u001b[0m rv \u001b[38;5;241m=\u001b[39m rv\u001b[38;5;241m.\u001b[39mfunc(\u001b[38;5;241m*\u001b[39m[\u001b[43ma\u001b[49m\u001b[38;5;241;43m.\u001b[39;49m\u001b[43msimplify\u001b[49m\u001b[43m(\u001b[49m\u001b[38;5;241;43m*\u001b[39;49m\u001b[38;5;241;43m*\u001b[39;49m\u001b[43mkwargs\u001b[49m\u001b[43m)\u001b[49m \u001b[38;5;28;01mfor\u001b[39;00m a \u001b[38;5;129;01min\u001b[39;00m rv\u001b[38;5;241m.\u001b[39margs])\n\u001b[0;32m    475\u001b[0m \u001b[38;5;28;01mreturn\u001b[39;00m simplify_logic(rv)\n",
      "File \u001b[1;32mc:\\Users\\User004\\Documents\\GitHub\\9noCiclo\\Optimización\\Practica2\\.venv\\Lib\\site-packages\\sympy\\logic\\boolalg.py:479\u001b[0m, in \u001b[0;36mBooleanFunction.simplify\u001b[1;34m(self, **kwargs)\u001b[0m\n\u001b[0;32m    477\u001b[0m \u001b[38;5;28;01mdef\u001b[39;00m \u001b[38;5;21msimplify\u001b[39m(\u001b[38;5;28mself\u001b[39m, \u001b[38;5;241m*\u001b[39m\u001b[38;5;241m*\u001b[39mkwargs):\n\u001b[0;32m    478\u001b[0m     \u001b[38;5;28;01mfrom\u001b[39;00m \u001b[38;5;21;01msympy\u001b[39;00m\u001b[38;5;21;01m.\u001b[39;00m\u001b[38;5;21;01msimplify\u001b[39;00m\u001b[38;5;21;01m.\u001b[39;00m\u001b[38;5;21;01msimplify\u001b[39;00m \u001b[38;5;28;01mimport\u001b[39;00m simplify\n\u001b[1;32m--> 479\u001b[0m     \u001b[38;5;28;01mreturn\u001b[39;00m \u001b[43msimplify\u001b[49m\u001b[43m(\u001b[49m\u001b[38;5;28;43mself\u001b[39;49m\u001b[43m,\u001b[49m\u001b[43m \u001b[49m\u001b[38;5;241;43m*\u001b[39;49m\u001b[38;5;241;43m*\u001b[39;49m\u001b[43mkwargs\u001b[49m\u001b[43m)\u001b[49m\n",
      "File \u001b[1;32mc:\\Users\\User004\\Documents\\GitHub\\9noCiclo\\Optimización\\Practica2\\.venv\\Lib\\site-packages\\sympy\\simplify\\simplify.py:601\u001b[0m, in \u001b[0;36msimplify\u001b[1;34m(expr, ratio, measure, rational, inverse, doit, **kwargs)\u001b[0m\n\u001b[0;32m    599\u001b[0m _eval_simplify \u001b[38;5;241m=\u001b[39m \u001b[38;5;28mgetattr\u001b[39m(expr, \u001b[38;5;124m'\u001b[39m\u001b[38;5;124m_eval_simplify\u001b[39m\u001b[38;5;124m'\u001b[39m, \u001b[38;5;28;01mNone\u001b[39;00m)\n\u001b[0;32m    600\u001b[0m \u001b[38;5;28;01mif\u001b[39;00m _eval_simplify \u001b[38;5;129;01mis\u001b[39;00m \u001b[38;5;129;01mnot\u001b[39;00m \u001b[38;5;28;01mNone\u001b[39;00m:\n\u001b[1;32m--> 601\u001b[0m     \u001b[38;5;28;01mreturn\u001b[39;00m \u001b[43m_eval_simplify\u001b[49m\u001b[43m(\u001b[49m\u001b[38;5;241;43m*\u001b[39;49m\u001b[38;5;241;43m*\u001b[39;49m\u001b[43mkwargs\u001b[49m\u001b[43m)\u001b[49m\n\u001b[0;32m    603\u001b[0m original_expr \u001b[38;5;241m=\u001b[39m expr \u001b[38;5;241m=\u001b[39m collect_abs(signsimp(expr))\n\u001b[0;32m    605\u001b[0m \u001b[38;5;28;01mif\u001b[39;00m \u001b[38;5;129;01mnot\u001b[39;00m \u001b[38;5;28misinstance\u001b[39m(expr, Basic) \u001b[38;5;129;01mor\u001b[39;00m \u001b[38;5;129;01mnot\u001b[39;00m expr\u001b[38;5;241m.\u001b[39margs:  \u001b[38;5;66;03m# XXX: temporary hack\u001b[39;00m\n",
      "File \u001b[1;32mc:\\Users\\User004\\Documents\\GitHub\\9noCiclo\\Optimización\\Practica2\\.venv\\Lib\\site-packages\\sympy\\logic\\boolalg.py:474\u001b[0m, in \u001b[0;36mBooleanFunction._eval_simplify\u001b[1;34m(self, **kwargs)\u001b[0m\n\u001b[0;32m    472\u001b[0m \u001b[38;5;28;01mif\u001b[39;00m \u001b[38;5;129;01mnot\u001b[39;00m \u001b[38;5;28misinstance\u001b[39m(rv, BooleanFunction):\n\u001b[0;32m    473\u001b[0m     \u001b[38;5;28;01mreturn\u001b[39;00m rv\u001b[38;5;241m.\u001b[39msimplify(\u001b[38;5;241m*\u001b[39m\u001b[38;5;241m*\u001b[39mkwargs)\n\u001b[1;32m--> 474\u001b[0m rv \u001b[38;5;241m=\u001b[39m rv\u001b[38;5;241m.\u001b[39mfunc(\u001b[38;5;241m*\u001b[39m\u001b[43m[\u001b[49m\u001b[43ma\u001b[49m\u001b[38;5;241;43m.\u001b[39;49m\u001b[43msimplify\u001b[49m\u001b[43m(\u001b[49m\u001b[38;5;241;43m*\u001b[39;49m\u001b[38;5;241;43m*\u001b[39;49m\u001b[43mkwargs\u001b[49m\u001b[43m)\u001b[49m\u001b[43m \u001b[49m\u001b[38;5;28;43;01mfor\u001b[39;49;00m\u001b[43m \u001b[49m\u001b[43ma\u001b[49m\u001b[43m \u001b[49m\u001b[38;5;129;43;01min\u001b[39;49;00m\u001b[43m \u001b[49m\u001b[43mrv\u001b[49m\u001b[38;5;241;43m.\u001b[39;49m\u001b[43margs\u001b[49m\u001b[43m]\u001b[49m)\n\u001b[0;32m    475\u001b[0m \u001b[38;5;28;01mreturn\u001b[39;00m simplify_logic(rv)\n",
      "File \u001b[1;32mc:\\Users\\User004\\Documents\\GitHub\\9noCiclo\\Optimización\\Practica2\\.venv\\Lib\\site-packages\\sympy\\logic\\boolalg.py:474\u001b[0m, in \u001b[0;36m<listcomp>\u001b[1;34m(.0)\u001b[0m\n\u001b[0;32m    472\u001b[0m \u001b[38;5;28;01mif\u001b[39;00m \u001b[38;5;129;01mnot\u001b[39;00m \u001b[38;5;28misinstance\u001b[39m(rv, BooleanFunction):\n\u001b[0;32m    473\u001b[0m     \u001b[38;5;28;01mreturn\u001b[39;00m rv\u001b[38;5;241m.\u001b[39msimplify(\u001b[38;5;241m*\u001b[39m\u001b[38;5;241m*\u001b[39mkwargs)\n\u001b[1;32m--> 474\u001b[0m rv \u001b[38;5;241m=\u001b[39m rv\u001b[38;5;241m.\u001b[39mfunc(\u001b[38;5;241m*\u001b[39m[\u001b[43ma\u001b[49m\u001b[38;5;241;43m.\u001b[39;49m\u001b[43msimplify\u001b[49m\u001b[43m(\u001b[49m\u001b[38;5;241;43m*\u001b[39;49m\u001b[38;5;241;43m*\u001b[39;49m\u001b[43mkwargs\u001b[49m\u001b[43m)\u001b[49m \u001b[38;5;28;01mfor\u001b[39;00m a \u001b[38;5;129;01min\u001b[39;00m rv\u001b[38;5;241m.\u001b[39margs])\n\u001b[0;32m    475\u001b[0m \u001b[38;5;28;01mreturn\u001b[39;00m simplify_logic(rv)\n",
      "File \u001b[1;32mc:\\Users\\User004\\Documents\\GitHub\\9noCiclo\\Optimización\\Practica2\\.venv\\Lib\\site-packages\\sympy\\logic\\boolalg.py:479\u001b[0m, in \u001b[0;36mBooleanFunction.simplify\u001b[1;34m(self, **kwargs)\u001b[0m\n\u001b[0;32m    477\u001b[0m \u001b[38;5;28;01mdef\u001b[39;00m \u001b[38;5;21msimplify\u001b[39m(\u001b[38;5;28mself\u001b[39m, \u001b[38;5;241m*\u001b[39m\u001b[38;5;241m*\u001b[39mkwargs):\n\u001b[0;32m    478\u001b[0m     \u001b[38;5;28;01mfrom\u001b[39;00m \u001b[38;5;21;01msympy\u001b[39;00m\u001b[38;5;21;01m.\u001b[39;00m\u001b[38;5;21;01msimplify\u001b[39;00m\u001b[38;5;21;01m.\u001b[39;00m\u001b[38;5;21;01msimplify\u001b[39;00m \u001b[38;5;28;01mimport\u001b[39;00m simplify\n\u001b[1;32m--> 479\u001b[0m     \u001b[38;5;28;01mreturn\u001b[39;00m \u001b[43msimplify\u001b[49m\u001b[43m(\u001b[49m\u001b[38;5;28;43mself\u001b[39;49m\u001b[43m,\u001b[49m\u001b[43m \u001b[49m\u001b[38;5;241;43m*\u001b[39;49m\u001b[38;5;241;43m*\u001b[39;49m\u001b[43mkwargs\u001b[49m\u001b[43m)\u001b[49m\n",
      "File \u001b[1;32mc:\\Users\\User004\\Documents\\GitHub\\9noCiclo\\Optimización\\Practica2\\.venv\\Lib\\site-packages\\sympy\\simplify\\simplify.py:601\u001b[0m, in \u001b[0;36msimplify\u001b[1;34m(expr, ratio, measure, rational, inverse, doit, **kwargs)\u001b[0m\n\u001b[0;32m    599\u001b[0m _eval_simplify \u001b[38;5;241m=\u001b[39m \u001b[38;5;28mgetattr\u001b[39m(expr, \u001b[38;5;124m'\u001b[39m\u001b[38;5;124m_eval_simplify\u001b[39m\u001b[38;5;124m'\u001b[39m, \u001b[38;5;28;01mNone\u001b[39;00m)\n\u001b[0;32m    600\u001b[0m \u001b[38;5;28;01mif\u001b[39;00m _eval_simplify \u001b[38;5;129;01mis\u001b[39;00m \u001b[38;5;129;01mnot\u001b[39;00m \u001b[38;5;28;01mNone\u001b[39;00m:\n\u001b[1;32m--> 601\u001b[0m     \u001b[38;5;28;01mreturn\u001b[39;00m \u001b[43m_eval_simplify\u001b[49m\u001b[43m(\u001b[49m\u001b[38;5;241;43m*\u001b[39;49m\u001b[38;5;241;43m*\u001b[39;49m\u001b[43mkwargs\u001b[49m\u001b[43m)\u001b[49m\n\u001b[0;32m    603\u001b[0m original_expr \u001b[38;5;241m=\u001b[39m expr \u001b[38;5;241m=\u001b[39m collect_abs(signsimp(expr))\n\u001b[0;32m    605\u001b[0m \u001b[38;5;28;01mif\u001b[39;00m \u001b[38;5;129;01mnot\u001b[39;00m \u001b[38;5;28misinstance\u001b[39m(expr, Basic) \u001b[38;5;129;01mor\u001b[39;00m \u001b[38;5;129;01mnot\u001b[39;00m expr\u001b[38;5;241m.\u001b[39margs:  \u001b[38;5;66;03m# XXX: temporary hack\u001b[39;00m\n",
      "File \u001b[1;32mc:\\Users\\User004\\Documents\\GitHub\\9noCiclo\\Optimización\\Practica2\\.venv\\Lib\\site-packages\\sympy\\logic\\boolalg.py:714\u001b[0m, in \u001b[0;36mAnd._eval_simplify\u001b[1;34m(self, **kwargs)\u001b[0m\n\u001b[0;32m    712\u001b[0m patterns \u001b[38;5;241m=\u001b[39m _simplify_patterns_and()\n\u001b[0;32m    713\u001b[0m threeterm_patterns \u001b[38;5;241m=\u001b[39m _simplify_patterns_and3()\n\u001b[1;32m--> 714\u001b[0m \u001b[38;5;28;01mreturn\u001b[39;00m \u001b[43m_apply_patternbased_simplification\u001b[49m\u001b[43m(\u001b[49m\u001b[43mrv\u001b[49m\u001b[43m,\u001b[49m\u001b[43m \u001b[49m\u001b[43mpatterns\u001b[49m\u001b[43m,\u001b[49m\n\u001b[0;32m    715\u001b[0m \u001b[43m                                          \u001b[49m\u001b[43mmeasure\u001b[49m\u001b[43m,\u001b[49m\u001b[43m \u001b[49m\u001b[43mfalse\u001b[49m\u001b[43m,\u001b[49m\n\u001b[0;32m    716\u001b[0m \u001b[43m                                          \u001b[49m\u001b[43mthreeterm_patterns\u001b[49m\u001b[38;5;241;43m=\u001b[39;49m\u001b[43mthreeterm_patterns\u001b[49m\u001b[43m)\u001b[49m\n",
      "File \u001b[1;32mc:\\Users\\User004\\Documents\\GitHub\\9noCiclo\\Optimización\\Practica2\\.venv\\Lib\\site-packages\\sympy\\logic\\boolalg.py:3118\u001b[0m, in \u001b[0;36m_apply_patternbased_simplification\u001b[1;34m(rv, patterns, measure, dominatingvalue, replacementvalue, threeterm_patterns)\u001b[0m\n\u001b[0;32m   3113\u001b[0m \u001b[38;5;28;01mif\u001b[39;00m threeterm_patterns \u001b[38;5;129;01mand\u001b[39;00m \u001b[38;5;28mlen\u001b[39m(Rel) \u001b[38;5;241m>\u001b[39m\u001b[38;5;241m=\u001b[39m \u001b[38;5;241m3\u001b[39m:\n\u001b[0;32m   3114\u001b[0m     Rel \u001b[38;5;241m=\u001b[39m _apply_patternbased_threeterm_simplification(Rel,\n\u001b[0;32m   3115\u001b[0m                         threeterm_patterns, rv\u001b[38;5;241m.\u001b[39mfunc, dominatingvalue,\n\u001b[0;32m   3116\u001b[0m                         replacementvalue, measure)\n\u001b[1;32m-> 3118\u001b[0m Rel \u001b[38;5;241m=\u001b[39m \u001b[43m_apply_patternbased_twoterm_simplification\u001b[49m\u001b[43m(\u001b[49m\u001b[43mRel\u001b[49m\u001b[43m,\u001b[49m\u001b[43m \u001b[49m\u001b[43mpatterns\u001b[49m\u001b[43m,\u001b[49m\n\u001b[0;32m   3119\u001b[0m \u001b[43m                \u001b[49m\u001b[43mrv\u001b[49m\u001b[38;5;241;43m.\u001b[39;49m\u001b[43mfunc\u001b[49m\u001b[43m,\u001b[49m\u001b[43m \u001b[49m\u001b[43mdominatingvalue\u001b[49m\u001b[43m,\u001b[49m\u001b[43m \u001b[49m\u001b[43mreplacementvalue\u001b[49m\u001b[43m,\u001b[49m\u001b[43m \u001b[49m\u001b[43mmeasure\u001b[49m\u001b[43m)\u001b[49m\n\u001b[0;32m   3121\u001b[0m rv \u001b[38;5;241m=\u001b[39m rv\u001b[38;5;241m.\u001b[39mfunc(\u001b[38;5;241m*\u001b[39m([_canonical(i) \u001b[38;5;28;01mfor\u001b[39;00m i \u001b[38;5;129;01min\u001b[39;00m ordered(Rel)]\n\u001b[0;32m   3122\u001b[0m              \u001b[38;5;241m+\u001b[39m nonRel \u001b[38;5;241m+\u001b[39m nonRealRel))\n\u001b[0;32m   3123\u001b[0m \u001b[38;5;28;01mreturn\u001b[39;00m rv\n",
      "File \u001b[1;32mc:\\Users\\User004\\Documents\\GitHub\\9noCiclo\\Optimización\\Practica2\\.venv\\Lib\\site-packages\\sympy\\logic\\boolalg.py:3158\u001b[0m, in \u001b[0;36m_apply_patternbased_twoterm_simplification\u001b[1;34m(Rel, patterns, func, dominatingvalue, replacementvalue, measure)\u001b[0m\n\u001b[0;32m   3155\u001b[0m \u001b[38;5;28;01mif\u001b[39;00m res:\n\u001b[0;32m   3156\u001b[0m     \u001b[38;5;28;01mfor\u001b[39;00m tmpres, oldexpr \u001b[38;5;129;01min\u001b[39;00m res:\n\u001b[0;32m   3157\u001b[0m         \u001b[38;5;66;03m# we have a matching, compute replacement\u001b[39;00m\n\u001b[1;32m-> 3158\u001b[0m         np \u001b[38;5;241m=\u001b[39m \u001b[43msimp\u001b[49m\u001b[38;5;241;43m.\u001b[39;49m\u001b[43mxreplace\u001b[49m\u001b[43m(\u001b[49m\u001b[43mtmpres\u001b[49m\u001b[43m)\u001b[49m\n\u001b[0;32m   3159\u001b[0m         \u001b[38;5;28;01mif\u001b[39;00m np \u001b[38;5;241m==\u001b[39m dominatingvalue:\n\u001b[0;32m   3160\u001b[0m             \u001b[38;5;66;03m# if dominatingvalue, the whole expression\u001b[39;00m\n\u001b[0;32m   3161\u001b[0m             \u001b[38;5;66;03m# will be replacementvalue\u001b[39;00m\n\u001b[0;32m   3162\u001b[0m             \u001b[38;5;28;01mreturn\u001b[39;00m [replacementvalue]\n",
      "File \u001b[1;32mc:\\Users\\User004\\Documents\\GitHub\\9noCiclo\\Optimización\\Practica2\\.venv\\Lib\\site-packages\\sympy\\core\\basic.py:1230\u001b[0m, in \u001b[0;36mBasic.xreplace\u001b[1;34m(self, rule)\u001b[0m\n\u001b[0;32m   1168\u001b[0m \u001b[38;5;28;01mdef\u001b[39;00m \u001b[38;5;21mxreplace\u001b[39m(\u001b[38;5;28mself\u001b[39m, rule):\n\u001b[0;32m   1169\u001b[0m \u001b[38;5;250m    \u001b[39m\u001b[38;5;124;03m\"\"\"\u001b[39;00m\n\u001b[0;32m   1170\u001b[0m \u001b[38;5;124;03m    Replace occurrences of objects within the expression.\u001b[39;00m\n\u001b[0;32m   1171\u001b[0m \n\u001b[1;32m   (...)\u001b[0m\n\u001b[0;32m   1228\u001b[0m \n\u001b[0;32m   1229\u001b[0m \u001b[38;5;124;03m    \"\"\"\u001b[39;00m\n\u001b[1;32m-> 1230\u001b[0m     value, _ \u001b[38;5;241m=\u001b[39m \u001b[38;5;28;43mself\u001b[39;49m\u001b[38;5;241;43m.\u001b[39;49m\u001b[43m_xreplace\u001b[49m\u001b[43m(\u001b[49m\u001b[43mrule\u001b[49m\u001b[43m)\u001b[49m\n\u001b[0;32m   1231\u001b[0m     \u001b[38;5;28;01mreturn\u001b[39;00m value\n",
      "File \u001b[1;32mc:\\Users\\User004\\Documents\\GitHub\\9noCiclo\\Optimización\\Practica2\\.venv\\Lib\\site-packages\\sympy\\core\\basic.py:1245\u001b[0m, in \u001b[0;36mBasic._xreplace\u001b[1;34m(self, rule)\u001b[0m\n\u001b[0;32m   1243\u001b[0m _xreplace \u001b[38;5;241m=\u001b[39m \u001b[38;5;28mgetattr\u001b[39m(a, \u001b[38;5;124m'\u001b[39m\u001b[38;5;124m_xreplace\u001b[39m\u001b[38;5;124m'\u001b[39m, \u001b[38;5;28;01mNone\u001b[39;00m)\n\u001b[0;32m   1244\u001b[0m \u001b[38;5;28;01mif\u001b[39;00m _xreplace \u001b[38;5;129;01mis\u001b[39;00m \u001b[38;5;129;01mnot\u001b[39;00m \u001b[38;5;28;01mNone\u001b[39;00m:\n\u001b[1;32m-> 1245\u001b[0m     a_xr \u001b[38;5;241m=\u001b[39m \u001b[43m_xreplace\u001b[49m\u001b[43m(\u001b[49m\u001b[43mrule\u001b[49m\u001b[43m)\u001b[49m\n\u001b[0;32m   1246\u001b[0m     args\u001b[38;5;241m.\u001b[39mappend(a_xr[\u001b[38;5;241m0\u001b[39m])\n\u001b[0;32m   1247\u001b[0m     changed \u001b[38;5;241m|\u001b[39m\u001b[38;5;241m=\u001b[39m a_xr[\u001b[38;5;241m1\u001b[39m]\n",
      "File \u001b[1;32mc:\\Users\\User004\\Documents\\GitHub\\9noCiclo\\Optimización\\Practica2\\.venv\\Lib\\site-packages\\sympy\\core\\basic.py:1252\u001b[0m, in \u001b[0;36mBasic._xreplace\u001b[1;34m(self, rule)\u001b[0m\n\u001b[0;32m   1250\u001b[0m     args \u001b[38;5;241m=\u001b[39m \u001b[38;5;28mtuple\u001b[39m(args)\n\u001b[0;32m   1251\u001b[0m     \u001b[38;5;28;01mif\u001b[39;00m changed:\n\u001b[1;32m-> 1252\u001b[0m         \u001b[38;5;28;01mreturn\u001b[39;00m \u001b[38;5;28;43mself\u001b[39;49m\u001b[38;5;241;43m.\u001b[39;49m\u001b[43mfunc\u001b[49m\u001b[43m(\u001b[49m\u001b[38;5;241;43m*\u001b[39;49m\u001b[43margs\u001b[49m\u001b[43m)\u001b[49m, \u001b[38;5;28;01mTrue\u001b[39;00m\n\u001b[0;32m   1253\u001b[0m \u001b[38;5;28;01mreturn\u001b[39;00m \u001b[38;5;28mself\u001b[39m, \u001b[38;5;28;01mFalse\u001b[39;00m\n",
      "File \u001b[1;32mc:\\Users\\User004\\Documents\\GitHub\\9noCiclo\\Optimización\\Practica2\\.venv\\Lib\\site-packages\\sympy\\functions\\elementary\\miscellaneous.py:390\u001b[0m, in \u001b[0;36mMinMaxBase.__new__\u001b[1;34m(cls, *args, **assumptions)\u001b[0m\n\u001b[0;32m    388\u001b[0m \u001b[38;5;28;01mif\u001b[39;00m evaluate:\n\u001b[0;32m    389\u001b[0m     \u001b[38;5;28;01mtry\u001b[39;00m:\n\u001b[1;32m--> 390\u001b[0m         args \u001b[38;5;241m=\u001b[39m \u001b[38;5;28mfrozenset\u001b[39m(\u001b[38;5;28mcls\u001b[39m\u001b[38;5;241m.\u001b[39m_new_args_filter(args))\n\u001b[0;32m    391\u001b[0m     \u001b[38;5;28;01mexcept\u001b[39;00m ShortCircuit:\n\u001b[0;32m    392\u001b[0m         \u001b[38;5;28;01mreturn\u001b[39;00m \u001b[38;5;28mcls\u001b[39m\u001b[38;5;241m.\u001b[39mzero\n",
      "File \u001b[1;32mc:\\Users\\User004\\Documents\\GitHub\\9noCiclo\\Optimización\\Practica2\\.venv\\Lib\\site-packages\\sympy\\functions\\elementary\\miscellaneous.py:559\u001b[0m, in \u001b[0;36mMinMaxBase._new_args_filter\u001b[1;34m(cls, arg_sequence)\u001b[0m\n\u001b[0;32m    554\u001b[0m \u001b[38;5;28;01mfor\u001b[39;00m arg \u001b[38;5;129;01min\u001b[39;00m arg_sequence:\n\u001b[0;32m    555\u001b[0m     \u001b[38;5;66;03m# pre-filter, checking comparability of arguments\u001b[39;00m\n\u001b[0;32m    556\u001b[0m     \u001b[38;5;28;01mif\u001b[39;00m \u001b[38;5;129;01mnot\u001b[39;00m \u001b[38;5;28misinstance\u001b[39m(arg, Expr) \u001b[38;5;129;01mor\u001b[39;00m arg\u001b[38;5;241m.\u001b[39mis_extended_real \u001b[38;5;129;01mis\u001b[39;00m \u001b[38;5;28;01mFalse\u001b[39;00m \u001b[38;5;129;01mor\u001b[39;00m (\n\u001b[0;32m    557\u001b[0m             arg\u001b[38;5;241m.\u001b[39mis_number \u001b[38;5;129;01mand\u001b[39;00m\n\u001b[0;32m    558\u001b[0m             \u001b[38;5;129;01mnot\u001b[39;00m arg\u001b[38;5;241m.\u001b[39mis_comparable):\n\u001b[1;32m--> 559\u001b[0m         \u001b[38;5;28;01mraise\u001b[39;00m \u001b[38;5;167;01mValueError\u001b[39;00m(\u001b[38;5;124m\"\u001b[39m\u001b[38;5;124mThe argument \u001b[39m\u001b[38;5;124m'\u001b[39m\u001b[38;5;132;01m%s\u001b[39;00m\u001b[38;5;124m'\u001b[39m\u001b[38;5;124m is not comparable.\u001b[39m\u001b[38;5;124m\"\u001b[39m \u001b[38;5;241m%\u001b[39m arg)\n\u001b[0;32m    561\u001b[0m     \u001b[38;5;28;01mif\u001b[39;00m arg \u001b[38;5;241m==\u001b[39m \u001b[38;5;28mcls\u001b[39m\u001b[38;5;241m.\u001b[39mzero:\n\u001b[0;32m    562\u001b[0m         \u001b[38;5;28;01mraise\u001b[39;00m ShortCircuit(arg)\n",
      "\u001b[1;31mValueError\u001b[0m: The argument '0.7 + 0.e-8*I' is not comparable."
     ]
    }
   ],
   "source": [
    "# Parámetros iniciales\n",
    "x0 = [0.5, 1.0]  # Punto inicial factible\n",
    "epsilon = 1e-3\n",
    "max_iter = 100\n",
    "tol = 1e-3\n",
    "\n",
    "# Método de penalidad exterior\n",
    "mu_values = []\n",
    "solutions = []\n",
    "all_data = []\n",
    "\n",
    "for k in range(1, max_iter + 1):\n",
    "    mu_val = k\n",
    "\n",
    "    #x_new, data =  gradiente_armijo(mu_val, x0, tol, max_iter) #Gozu\n",
    "\n",
    "    #x_new, data =  gradiente_busqueda_exacta(mu_val, x0, tol, max_iter)\n",
    "\n",
    "    #x_new, data = optimize_newton_puro_armijo(mu_val, x0, tol, max_iter) #gozu\n",
    "\n",
    "    x_new, data = optimize_newton_puro_exacta(mu_val, x0, tol, max_iter)\n",
    "    \n",
    "    #x_new, iter_count, total_internal_iter_count, data = conjugate_gradient_armijo(mu_val, x0, tol, max_iter)\n",
    "\n",
    "    #x_new, iter_count, data = conjugate_gradient_exact(mu_val, x0, tol, max_iter)\n",
    "    \n",
    "    # Verificar criterio de parada\n",
    "    if (sp.Matrix(x_new) - sp.Matrix(x0)).norm() < epsilon:\n",
    "        print(f\"Parando por criterio: norm < epsilon at iteration {k}\")\n",
    "        break\n",
    "    \n",
    "    x0 = x_new\n",
    "    mu_values.append(mu_val)\n",
    "    solutions.append(x0)\n",
    "    all_data.extend(data)\n",
    "\n",
    "# Mostrar los resultados\n",
    "df = pd.DataFrame(all_data, columns=['Iteración', 'Iteraciones Internas', 'x', 'f(x)', '|| x - x||'])\n",
    "df = df.sort_values(by='Iteración').reset_index(drop=True)\n",
    "display(df)\n",
    "\n",
    "for mu_val, sol in zip(mu_values, solutions):\n",
    "    display(Latex(f'$\\\\mu = {mu_val}, \\\\; x^* = ({sol[0]}, {sol[1]})$'))\n"
   ]
  }
 ],
 "metadata": {
  "kernelspec": {
   "display_name": ".venv",
   "language": "python",
   "name": "python3"
  },
  "language_info": {
   "codemirror_mode": {
    "name": "ipython",
    "version": 3
   },
   "file_extension": ".py",
   "mimetype": "text/x-python",
   "name": "python",
   "nbconvert_exporter": "python",
   "pygments_lexer": "ipython3",
   "version": "3.11.8"
  }
 },
 "nbformat": 4,
 "nbformat_minor": 2
}
