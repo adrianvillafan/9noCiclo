{
 "cells": [
  {
   "cell_type": "code",
   "execution_count": 193,
   "metadata": {},
   "outputs": [],
   "source": [
    "import sympy as sp\n",
    "import pandas as pd\n",
    "import matplotlib.pyplot as plt\n",
    "from IPython.display import display, Latex\n"
   ]
  },
  {
   "cell_type": "code",
   "execution_count": 194,
   "metadata": {},
   "outputs": [
    {
     "data": {
      "text/latex": [
       "Gradientes:"
      ],
      "text/plain": [
       "<IPython.core.display.Latex object>"
      ]
     },
     "metadata": {},
     "output_type": "display_data"
    },
    {
     "data": {
      "text/latex": [
       "$\\frac{\\partial q}{\\partial x_1} = 4 \\mu x_{1} \\left(x_{1}^{2} + x_{2}^{2} - 1\\right) + 2 x_{1}$"
      ],
      "text/plain": [
       "<IPython.core.display.Latex object>"
      ]
     },
     "metadata": {},
     "output_type": "display_data"
    },
    {
     "data": {
      "text/latex": [
       "$\\frac{\\partial q}{\\partial x_2} = 4 \\mu x_{2} \\left(x_{1}^{2} + x_{2}^{2} - 1\\right) + 1.0 x_{2}$"
      ],
      "text/plain": [
       "<IPython.core.display.Latex object>"
      ]
     },
     "metadata": {},
     "output_type": "display_data"
    },
    {
     "data": {
      "text/latex": [
       "Hessiano:"
      ],
      "text/plain": [
       "<IPython.core.display.Latex object>"
      ]
     },
     "metadata": {},
     "output_type": "display_data"
    },
    {
     "data": {
      "text/latex": [
       "$\\frac{\\partial^2 q}{\\partial x_1 \\partial x_1} = 2 \\cdot \\left(4 \\mu x_{1}^{2} + 2 \\mu \\left(x_{1}^{2} + x_{2}^{2} - 1\\right) + 1\\right)$"
      ],
      "text/plain": [
       "<IPython.core.display.Latex object>"
      ]
     },
     "metadata": {},
     "output_type": "display_data"
    },
    {
     "data": {
      "text/latex": [
       "$\\frac{\\partial^2 q}{\\partial x_1 \\partial x_2} = 8 \\mu x_{1} x_{2}$"
      ],
      "text/plain": [
       "<IPython.core.display.Latex object>"
      ]
     },
     "metadata": {},
     "output_type": "display_data"
    },
    {
     "data": {
      "text/latex": [
       "$\\frac{\\partial^2 q}{\\partial x_2 \\partial x_1} = 8 \\mu x_{1} x_{2}$"
      ],
      "text/plain": [
       "<IPython.core.display.Latex object>"
      ]
     },
     "metadata": {},
     "output_type": "display_data"
    },
    {
     "data": {
      "text/latex": [
       "$\\frac{\\partial^2 q}{\\partial x_2 \\partial x_2} = 8 \\mu x_{2}^{2} + 4 \\mu \\left(x_{1}^{2} + x_{2}^{2} - 1\\right) + 1.0$"
      ],
      "text/plain": [
       "<IPython.core.display.Latex object>"
      ]
     },
     "metadata": {},
     "output_type": "display_data"
    },
    {
     "data": {
      "text/latex": [
       "$H=\\left[\\begin{matrix}2 \\cdot \\left(4 \\mu x_{1}^{2} + 2 \\mu \\left(x_{1}^{2} + x_{2}^{2} - 1\\right) + 1\\right) & 8 \\mu x_{1} x_{2}\\\\8 \\mu x_{1} x_{2} & 8 \\mu x_{2}^{2} + 4 \\mu \\left(x_{1}^{2} + x_{2}^{2} - 1\\right) + 1.0\\end{matrix}\\right]$"
      ],
      "text/plain": [
       "<IPython.core.display.Latex object>"
      ]
     },
     "metadata": {},
     "output_type": "display_data"
    }
   ],
   "source": [
    "\n",
    "# Definición de variables simbólicas\n",
    "x1, x2, mu = sp.symbols('x1 x2 mu')\n",
    "\n",
    "# Función objetivo\n",
    "f = x1**2 + 0.5 * x2**2\n",
    "\n",
    "# Restricciones\n",
    "g = [x1**2 + x2**2 - 1]\n",
    "\n",
    "# Penalización basada en las restricciones\n",
    "P = sum(h_j**2 for h_j in g)\n",
    "\n",
    "# Función de penalidad\n",
    "q = f + mu * P\n",
    "\n",
    "# Gradientes y Hessiano de la función de penalidad q\n",
    "variables = [x1, x2]\n",
    "grad_q = [sp.diff(q, var) for var in variables]\n",
    "hess_q = sp.Matrix([[sp.diff(q, var1, var2) for var1 in variables] for var2 in variables])\n",
    "\n",
    "# Display de los gradientes y el hessiano para verificar\n",
    "display(Latex(\"Gradientes:\"))\n",
    "for i, grad in enumerate(grad_q):\n",
    "    display(Latex(f'$\\\\frac{{\\\\partial q}}{{\\\\partial x_{i+1}}} = {sp.latex(grad)}$'))\n",
    "\n",
    "display(Latex(\"Hessiano:\"))\n",
    "for i in range(len(variables)):\n",
    "    for j in range(len(variables)):\n",
    "        display(Latex(f'$\\\\frac{{\\\\partial^2 q}}{{\\\\partial x_{i+1} \\\\partial x_{j+1}}} = {sp.latex(hess_q[i, j])}$'))\n",
    "\n",
    "display(Latex(f'$H={sp.latex(hess_q)}$'))\n"
   ]
  },
  {
   "cell_type": "code",
   "execution_count": 195,
   "metadata": {},
   "outputs": [],
   "source": [
    "def armijo(x0, opti, grad_q, mu_val):\n",
    "    b, s, o, k1, m = 0.5, 1, 0.1, 1, 0\n",
    "\n",
    "    while True:\n",
    "        # Hallamos el valor de lambda\n",
    "        lmb = s * (b ** m)\n",
    "        # Hallamos f(x0)\n",
    "        f = float(opti.subs({x1: x0[0], x2: x0[1], mu: mu_val}).evalf())\n",
    "        # Hallamos el valor de la gradiente\n",
    "        grad = sp.Matrix([grad_q[i].subs({x1: x0[0], x2: x0[1], mu: mu_val}) for i in range(len(variables))]).evalf()\n",
    "        # Hallamos el valor de f(x0 - lmb * grad)\n",
    "        x_new = [x0[0] - lmb * grad[0], x0[1] - lmb * grad[1]]\n",
    "        f_k = float(opti.subs({x1: x_new[0], x2: x_new[1], mu: mu_val}).evalf())\n",
    "        mod = float((grad[0] ** 2 + grad[1] ** 2).evalf())\n",
    "\n",
    "        # Condición de parada\n",
    "        if f_k <= float(f - o * lmb * mod):\n",
    "            break\n",
    "        else:\n",
    "            m += 1\n",
    "            k1 += 1\n",
    "\n",
    "    return k1, lmb"
   ]
  },
  {
   "cell_type": "code",
   "execution_count": 196,
   "metadata": {},
   "outputs": [],
   "source": [
    "def busqueda_exacta(x0, d_k, opti, mu_val):\n",
    "    alpha = sp.symbols('alpha')\n",
    "    x_new = [x0[0] + alpha * d_k[0], x0[1] + alpha * d_k[1]]\n",
    "    func_new = opti.subs({x1: x_new[0], x2: x_new[1], mu: mu_val})\n",
    "    dfunc_new = sp.diff(func_new, alpha)\n",
    "\n",
    "    # Encontrar la solución de alpha que minimiza la función\n",
    "    alpha_opt = sp.solve(dfunc_new, alpha)\n",
    "    alpha_opt = [sol.evalf() for sol in alpha_opt if sol.is_real and sol > 0]\n",
    "\n",
    "    if alpha_opt:\n",
    "        return min(alpha_opt)\n",
    "    else:\n",
    "        return 1  # Valor de fallback en caso de que no se encuentre un valor óptimo\n"
   ]
  },
  {
   "cell_type": "code",
   "execution_count": 197,
   "metadata": {},
   "outputs": [],
   "source": [
    "def gradiente_armijo(mu_val, x0, tol, max_iter):\n",
    "    x = sp.Matrix(x0)\n",
    "    data = []\n",
    "\n",
    "    for k in range(max_iter):\n",
    "        # Obtener la gradiente de la función de penalidad\n",
    "        grad = sp.Matrix([grad_q[i].subs({x1: x[0], x2: x[1], mu: mu_val}) for i in range(len(variables))]).evalf()\n",
    "\n",
    "        # Obtener la norma del gradiente\n",
    "        Normadf = float(grad.norm().evalf())\n",
    "\n",
    "        # Condición para finalizar el programa\n",
    "        if Normadf < tol:\n",
    "            break\n",
    "\n",
    "        # Obtener el número de iteraciones internas y el valor de lambda usando Armijo\n",
    "        iter, lmb = armijo([x[0], x[1]], q, grad_q, mu_val)\n",
    "\n",
    "        # Actualizar el valor de x\n",
    "        x_new = (x - lmb * grad).evalf()\n",
    "\n",
    "        # Hallar el valor de la función en x\n",
    "        fun = float(q.subs({x1: x_new[0], x2: x_new[1], mu: mu_val}).evalf())\n",
    "\n",
    "        # Error\n",
    "        mod = float(x_new.norm().evalf())\n",
    "\n",
    "        # Introducir el número de iteraciones, iteraciones internas, lambda, x0 y fun(x0)\n",
    "        data.append([k, iter, x_new, fun, mod])\n",
    "\n",
    "        # Mostrar el paso actual\n",
    "        #display(Latex(f'Iteración {k}: $x = ({sp.latex(x_new[0])}, {sp.latex(x_new[1])})$, $\\\\nabla q = {sp.latex(grad)}$, $||\\\\nabla q|| = {sp.latex(Normadf)}$'))\n",
    "\n",
    "        x = x_new\n",
    "\n",
    "    return x, data\n"
   ]
  },
  {
   "cell_type": "code",
   "execution_count": 198,
   "metadata": {},
   "outputs": [],
   "source": [
    "def gradiente_busqueda_exacta(mu_val, x0, tol, max_iter):\n",
    "    x = sp.Matrix(x0)\n",
    "    data = []\n",
    "\n",
    "    for k in range(max_iter):\n",
    "        # Obtener la gradiente de la función de penalidad\n",
    "        grad = sp.Matrix([grad_q[i].subs({x1: x[0], x2: x[1], mu: mu_val}) for i in range(len(variables))]).evalf()\n",
    "\n",
    "        # Obtener la norma del gradiente\n",
    "        Normadf = float(grad.norm().evalf())\n",
    "\n",
    "        # Condición para finalizar el programa\n",
    "        if Normadf < tol:\n",
    "            print(f\"Parando por criterio: ||grad|| < tol en la iteración {k}\")\n",
    "            break\n",
    "\n",
    "        # Calcular el valor de alpha usando Búsqueda Exacta\n",
    "        lmb = busqueda_exacta([x[0], x[1]], -grad, q, mu_val)\n",
    "        lmb = float(lmb)  # Asegurar que alpha sea un número flotante\n",
    "        print(f\"Iteración {k}, alpha: {lmb}\")\n",
    "\n",
    "        # Actualizar el valor de x\n",
    "        x_new = (x - lmb * grad).evalf()\n",
    "\n",
    "        # Hallar el valor de la función en x\n",
    "        fun = float(q.subs({x1: x_new[0], x2: x_new[1], mu: mu_val}).evalf())\n",
    "\n",
    "        # Error\n",
    "        mod = float(x_new.norm().evalf())\n",
    "\n",
    "        # Introducir el número de iteraciones, iteraciones internas, lambda, x0 y fun(x0)\n",
    "        data.append([k, 1, x_new, fun, mod])\n",
    "\n",
    "        # Mostrar el paso actual\n",
    "        print(f\"Iteración {k}, x: {x_new}, grad: {grad}, Normadf: {Normadf}, f(x): {fun}, ||x||: {mod}\")\n",
    "\n",
    "        x = x_new\n",
    "\n",
    "    return x, data\n"
   ]
  },
  {
   "cell_type": "code",
   "execution_count": 199,
   "metadata": {},
   "outputs": [],
   "source": [
    "def optimize_newton_puro_armijo(mu_val, x0, tol, max_iter):\n",
    "    x = sp.Matrix(x0)\n",
    "    data = []\n",
    "\n",
    "    for k in range(max_iter):\n",
    "        # Calcular el gradiente y el Hessiano de la función de penalidad\n",
    "        grad = sp.Matrix([grad_q[i].subs({x1: x[0], x2: x[1], mu: mu_val}) for i in range(len(variables))]).evalf()\n",
    "        hess = sp.Matrix([[hess_q[i, j].subs({x1: x[0], x2: x[1], mu: mu_val}) for j in range(len(variables))] for i in range(len(variables))]).evalf()\n",
    "\n",
    "        # Calcular la dirección de Newton\n",
    "        d_k = -hess.inv() * grad\n",
    "\n",
    "        # Obtener el valor de lambda usando Armijo\n",
    "        lmb = armijo_newton([x[0], x[1]], d_k, q, grad_q, mu_val)\n",
    "        print(f\"Iteration {k}, alpha: {lmb}\")\n",
    "\n",
    "        # Actualizar el valor de x\n",
    "        x_new = (x + lmb * d_k).evalf()\n",
    "\n",
    "        # Hallar el valor de la función en x\n",
    "        fun = float(q.subs({x1: x_new[0], x2: x_new[1], mu: mu_val}).evalf())\n",
    "\n",
    "        # Error\n",
    "        mod = float(x_new.norm().evalf())\n",
    "\n",
    "        # Introducir el número de iteraciones, iteraciones internas, lambda, x0 y fun(x0)\n",
    "        data.append([k, 1, x_new, fun, mod])\n",
    "\n",
    "        # Mostrar el paso actual\n",
    "        print(f\"Iteration {k}, x: {x_new}, grad: {grad}, Normadf: {grad.norm()}, f(x): {fun}, ||x||: {mod}\")\n",
    "\n",
    "        # Condición de parada\n",
    "        if grad.norm() < tol:\n",
    "            print(f\"Parando por criterio: norm < epsilon at iteration {k}\")\n",
    "            break\n",
    "\n",
    "        x = x_new\n",
    "\n",
    "    return x, data"
   ]
  },
  {
   "cell_type": "code",
   "execution_count": 200,
   "metadata": {},
   "outputs": [],
   "source": [
    "def optimize_newton_puro_exacta(mu_val, x0, tol, max_iter):\n",
    "    x = sp.Matrix(x0)\n",
    "    data = []\n",
    "\n",
    "    for k in range(max_iter):\n",
    "        # Calcular gradiente y hessiano\n",
    "        grad = sp.Matrix([grad_q[i].subs({x1: x[0], x2: x[1], mu: mu_val}) for i in range(len(variables))]).evalf()\n",
    "        hess = sp.Matrix([[hess_q[i, j].subs({x1: x[0], x2: x[1], mu: mu_val}) for j in range(len(variables))] for i in range(len(variables))]).evalf()\n",
    "\n",
    "        # Norma del gradiente\n",
    "        Normadf = float(grad.norm())\n",
    "\n",
    "        if Normadf < tol:\n",
    "            break\n",
    "\n",
    "        # Direccion de descenso\n",
    "        d_k = -hess.inv() * grad\n",
    "\n",
    "        # Calcular el valor de lambda usando Búsqueda Exacta\n",
    "        lmb = busqueda_exacta([x[0], x[1]], d_k, q, mu_val)\n",
    "\n",
    "        # Actualizar x\n",
    "        x_new = (x + lmb * d_k).evalf()\n",
    "\n",
    "        # Calcular f(x) y el error\n",
    "        fun = float(q.subs({x1: x_new[0], x2: x_new[1], mu: mu_val}).evalf())\n",
    "        mod = float(x_new.norm().evalf())\n",
    "\n",
    "        data.append([k, 1, x_new.tolist(), fun, mod])\n",
    "\n",
    "        # Mostrar el paso actual\n",
    "        #display(Latex(f'Iteración {k}: $x = ({x_new[0]}, {x_new[1]})$, $\\\\nabla q = {grad}$, $||\\\\nabla q|| = {Normadf}$'))\n",
    "\n",
    "        x = x_new\n",
    "\n",
    "    return x, data\n"
   ]
  },
  {
   "cell_type": "code",
   "execution_count": 201,
   "metadata": {},
   "outputs": [],
   "source": [
    "def conjugate_gradient_armijo(mu_val, x0, tol=1e-6, max_iter=1000, alpha=1, beta=0.5, sigma=1e-4):\n",
    "    x = sp.Matrix(x0)\n",
    "    grad = sp.Matrix([grad_q[i].subs({x1: x[0], x2: x[1], mu: mu_val}) for i in range(len(variables))]).evalf()\n",
    "    d = -grad\n",
    "    iter_count = 0\n",
    "    total_internal_iter_count = 0\n",
    "    data = []\n",
    "\n",
    "    for _ in range(max_iter):\n",
    "        if grad.norm() < tol:\n",
    "            break\n",
    "\n",
    "        t = alpha\n",
    "        internal_iter_count = 0\n",
    "        while float(q.subs({x1: x[0] + t * d[0], x2: x[1] + t * d[1], mu: mu_val}).evalf()) > float(q.subs({x1: x[0], x2: x[1], mu: mu_val}).evalf()) + sigma * t * float((grad.T * d)[0]):\n",
    "            t *= beta\n",
    "            internal_iter_count += 1\n",
    "\n",
    "        x_new = (x + t * d).evalf()\n",
    "        grad_new = sp.Matrix([grad_q[i].subs({x1: x_new[0], x2: x_new[1], mu: mu_val}) for i in range(len(variables))]).evalf()\n",
    "        beta_cg = (grad_new.T * grad_new)[0] / (grad.T * grad)[0]\n",
    "        d = -grad_new + beta_cg * d\n",
    "        x = x_new\n",
    "        grad = grad_new\n",
    "        iter_count += 1\n",
    "        total_internal_iter_count += internal_iter_count\n",
    "        data.append([iter_count, internal_iter_count, x.tolist(), float(q.subs({x1: x[0], x2: x[1], mu: mu_val}).evalf()), float(x.norm().evalf())])\n",
    "\n",
    "    return x, iter_count, total_internal_iter_count, data\n"
   ]
  },
  {
   "cell_type": "code",
   "execution_count": 202,
   "metadata": {},
   "outputs": [],
   "source": [
    "def conjugate_gradient_exact(mu_val, x0, tol=1e-6, max_iter=1000):\n",
    "    x = sp.Matrix(x0)\n",
    "    grad = sp.Matrix([grad_q[i].subs({x1: x[0], x2: x[1], mu: mu_val}) for i in range(len(variables))]).evalf()\n",
    "    d = -grad\n",
    "    iter_count = 0\n",
    "    data = []\n",
    "\n",
    "    for _ in range(max_iter):\n",
    "        if grad.norm() < tol:\n",
    "            print(f\"Converged: grad.norm() < tol at iteration {iter_count}\")\n",
    "            break\n",
    "\n",
    "        # Calcular el valor de alpha usando Búsqueda Exacta\n",
    "        alpha = busqueda_exacta(x, d, q, mu_val)\n",
    "        alpha = float(alpha)  # Asegurar que alpha sea un número flotante\n",
    "        print(f\"Iteration {iter_count}, alpha: {alpha}\")\n",
    "\n",
    "        x_new = (x + alpha * d).evalf()\n",
    "        grad_new = sp.Matrix([grad_q[i].subs({x1: x_new[0], x2: x_new[1], mu: mu_val}) for i in range(len(variables))]).evalf()\n",
    "        \n",
    "        beta_num = (grad_new.T * grad_new)[0]\n",
    "        beta_den = (grad.T * grad)[0]\n",
    "        \n",
    "        if beta_den == 0:\n",
    "            beta = 0\n",
    "        else:\n",
    "            beta = beta_num / beta_den\n",
    "\n",
    "        # Limitar el valor de beta para evitar pasos excesivamente grandes\n",
    "        if beta > 1:\n",
    "            beta = 1\n",
    "\n",
    "        d = -grad_new + beta * d\n",
    "        x = x_new\n",
    "        grad = grad_new\n",
    "        iter_count += 1\n",
    "        data.append([iter_count, 1, x.tolist(), float(q.subs({x1: x[0], x2: x[1], mu: mu_val}).evalf()), float(x.norm().evalf())])\n",
    "        \n",
    "        print(f\"Iteration {iter_count}, x: {x}, grad: {grad}, beta: {beta}\")\n",
    "\n",
    "    return x, iter_count, data"
   ]
  },
  {
   "cell_type": "code",
   "execution_count": 203,
   "metadata": {},
   "outputs": [
    {
     "name": "stdout",
     "output_type": "stream",
     "text": [
      "Parando por criterio: norm < epsilon at iteration 12\n"
     ]
    },
    {
     "data": {
      "text/html": [
       "<div>\n",
       "<style scoped>\n",
       "    .dataframe tbody tr th:only-of-type {\n",
       "        vertical-align: middle;\n",
       "    }\n",
       "\n",
       "    .dataframe tbody tr th {\n",
       "        vertical-align: top;\n",
       "    }\n",
       "\n",
       "    .dataframe thead th {\n",
       "        text-align: right;\n",
       "    }\n",
       "</style>\n",
       "<table border=\"1\" class=\"dataframe\">\n",
       "  <thead>\n",
       "    <tr style=\"text-align: right;\">\n",
       "      <th></th>\n",
       "      <th>Iteración</th>\n",
       "      <th>Iteraciones Internas</th>\n",
       "      <th>x</th>\n",
       "      <th>f(x)</th>\n",
       "      <th>|| x - x||</th>\n",
       "    </tr>\n",
       "  </thead>\n",
       "  <tbody>\n",
       "    <tr>\n",
       "      <th>0</th>\n",
       "      <td>0</td>\n",
       "      <td>4</td>\n",
       "      <td>[0.312500000000000, 0.750000000000000]</td>\n",
       "      <td>0.494400</td>\n",
       "      <td>0.812500</td>\n",
       "    </tr>\n",
       "    <tr>\n",
       "      <th>1</th>\n",
       "      <td>0</td>\n",
       "      <td>4</td>\n",
       "      <td>[0.000295836610739517, 0.974309936369953]</td>\n",
       "      <td>0.479785</td>\n",
       "      <td>0.974310</td>\n",
       "    </tr>\n",
       "    <tr>\n",
       "      <th>2</th>\n",
       "      <td>0</td>\n",
       "      <td>6</td>\n",
       "      <td>[2.98915252439346e-5, 0.967402247452707]</td>\n",
       "      <td>0.484386</td>\n",
       "      <td>0.967402</td>\n",
       "    </tr>\n",
       "    <tr>\n",
       "      <th>3</th>\n",
       "      <td>0</td>\n",
       "      <td>6</td>\n",
       "      <td>[1.95053333208471e-5, 0.984035008534099]</td>\n",
       "      <td>0.491186</td>\n",
       "      <td>0.984035</td>\n",
       "    </tr>\n",
       "    <tr>\n",
       "      <th>4</th>\n",
       "      <td>0</td>\n",
       "      <td>6</td>\n",
       "      <td>[2.42763656001827e-5, 0.980774332543055]</td>\n",
       "      <td>0.489660</td>\n",
       "      <td>0.980774</td>\n",
       "    </tr>\n",
       "    <tr>\n",
       "      <th>...</th>\n",
       "      <td>...</td>\n",
       "      <td>...</td>\n",
       "      <td>...</td>\n",
       "      <td>...</td>\n",
       "      <td>...</td>\n",
       "    </tr>\n",
       "    <tr>\n",
       "      <th>78</th>\n",
       "      <td>14</td>\n",
       "      <td>4</td>\n",
       "      <td>[4.67843524347744e-5, 0.935349597843497]</td>\n",
       "      <td>0.468750</td>\n",
       "      <td>0.935350</td>\n",
       "    </tr>\n",
       "    <tr>\n",
       "      <th>79</th>\n",
       "      <td>15</td>\n",
       "      <td>3</td>\n",
       "      <td>[0.00105252439873444, 0.866192228186795]</td>\n",
       "      <td>0.437501</td>\n",
       "      <td>0.866193</td>\n",
       "    </tr>\n",
       "    <tr>\n",
       "      <th>80</th>\n",
       "      <td>16</td>\n",
       "      <td>2</td>\n",
       "      <td>[0.000525651558436453, 0.865689691210854]</td>\n",
       "      <td>0.437500</td>\n",
       "      <td>0.865690</td>\n",
       "    </tr>\n",
       "    <tr>\n",
       "      <th>81</th>\n",
       "      <td>17</td>\n",
       "      <td>3</td>\n",
       "      <td>[0.000394544115602754, 0.866192728099922]</td>\n",
       "      <td>0.437500</td>\n",
       "      <td>0.866193</td>\n",
       "    </tr>\n",
       "    <tr>\n",
       "      <th>82</th>\n",
       "      <td>18</td>\n",
       "      <td>3</td>\n",
       "      <td>[0.000295793669745667, 0.865941534046622]</td>\n",
       "      <td>0.437500</td>\n",
       "      <td>0.865942</td>\n",
       "    </tr>\n",
       "  </tbody>\n",
       "</table>\n",
       "<p>83 rows × 5 columns</p>\n",
       "</div>"
      ],
      "text/plain": [
       "    Iteración  Iteraciones Internas  \\\n",
       "0           0                     4   \n",
       "1           0                     4   \n",
       "2           0                     6   \n",
       "3           0                     6   \n",
       "4           0                     6   \n",
       "..        ...                   ...   \n",
       "78         14                     4   \n",
       "79         15                     3   \n",
       "80         16                     2   \n",
       "81         17                     3   \n",
       "82         18                     3   \n",
       "\n",
       "                                            x      f(x)  || x - x||  \n",
       "0      [0.312500000000000, 0.750000000000000]  0.494400    0.812500  \n",
       "1   [0.000295836610739517, 0.974309936369953]  0.479785    0.974310  \n",
       "2    [2.98915252439346e-5, 0.967402247452707]  0.484386    0.967402  \n",
       "3    [1.95053333208471e-5, 0.984035008534099]  0.491186    0.984035  \n",
       "4    [2.42763656001827e-5, 0.980774332543055]  0.489660    0.980774  \n",
       "..                                        ...       ...         ...  \n",
       "78   [4.67843524347744e-5, 0.935349597843497]  0.468750    0.935350  \n",
       "79   [0.00105252439873444, 0.866192228186795]  0.437501    0.866193  \n",
       "80  [0.000525651558436453, 0.865689691210854]  0.437500    0.865690  \n",
       "81  [0.000394544115602754, 0.866192728099922]  0.437500    0.866193  \n",
       "82  [0.000295793669745667, 0.865941534046622]  0.437500    0.865942  \n",
       "\n",
       "[83 rows x 5 columns]"
      ]
     },
     "metadata": {},
     "output_type": "display_data"
    },
    {
     "data": {
      "text/latex": [
       "$\\mu = 1, \\; x^* = (0.000295793669745667, 0.865941534046622)$"
      ],
      "text/plain": [
       "<IPython.core.display.Latex object>"
      ]
     },
     "metadata": {},
     "output_type": "display_data"
    },
    {
     "data": {
      "text/latex": [
       "$\\mu = 2, \\; x^* = (0.0000467843524347744, 0.935349597843497)$"
      ],
      "text/plain": [
       "<IPython.core.display.Latex object>"
      ]
     },
     "metadata": {},
     "output_type": "display_data"
    },
    {
     "data": {
      "text/latex": [
       "$\\mu = 3, \\; x^* = (0.0000305281334145737, 0.957447819430644)$"
      ],
      "text/plain": [
       "<IPython.core.display.Latex object>"
      ]
     },
     "metadata": {},
     "output_type": "display_data"
    },
    {
     "data": {
      "text/latex": [
       "$\\mu = 4, \\; x^* = (0.0000280776464841314, 0.968242472071947)$"
      ],
      "text/plain": [
       "<IPython.core.display.Latex object>"
      ]
     },
     "metadata": {},
     "output_type": "display_data"
    },
    {
     "data": {
      "text/latex": [
       "$\\mu = 5, \\; x^* = (0.0000248985554796011, 0.974671906900963)$"
      ],
      "text/plain": [
       "<IPython.core.display.Latex object>"
      ]
     },
     "metadata": {},
     "output_type": "display_data"
    },
    {
     "data": {
      "text/latex": [
       "$\\mu = 6, \\; x^* = (0.0000200273210437022, 0.978957919017338)$"
      ],
      "text/plain": [
       "<IPython.core.display.Latex object>"
      ]
     },
     "metadata": {},
     "output_type": "display_data"
    },
    {
     "data": {
      "text/latex": [
       "$\\mu = 7, \\; x^* = (0.0000128813482039367, 0.981964685865199)$"
      ],
      "text/plain": [
       "<IPython.core.display.Latex object>"
      ]
     },
     "metadata": {},
     "output_type": "display_data"
    },
    {
     "data": {
      "text/latex": [
       "$\\mu = 8, \\; x^* = (0.0000125114417995866, 0.984248501227892)$"
      ],
      "text/plain": [
       "<IPython.core.display.Latex object>"
      ]
     },
     "metadata": {},
     "output_type": "display_data"
    },
    {
     "data": {
      "text/latex": [
       "$\\mu = 9, \\; x^* = (0.0000119558391580635, 0.986014709365316)$"
      ],
      "text/plain": [
       "<IPython.core.display.Latex object>"
      ]
     },
     "metadata": {},
     "output_type": "display_data"
    },
    {
     "data": {
      "text/latex": [
       "$\\mu = 10, \\; x^* = (0.0000112421575732684, 0.987417694547230)$"
      ],
      "text/plain": [
       "<IPython.core.display.Latex object>"
      ]
     },
     "metadata": {},
     "output_type": "display_data"
    },
    {
     "data": {
      "text/latex": [
       "$\\mu = 11, \\; x^* = (0.0000104032737128619, 0.988576560486916)$"
      ],
      "text/plain": [
       "<IPython.core.display.Latex object>"
      ]
     },
     "metadata": {},
     "output_type": "display_data"
    }
   ],
   "source": [
    "# Parámetros iniciales\n",
    "x0 = [3, 0.5]  # Punto inicial factible resulta (0,-1)\n",
    "x0 = [0.5, 1]  # Punto inicial factible resulta (0, 1)\n",
    "#x0 = [1, 0]  # Punto inicial factible resulta (1, 0)\n",
    "epsilon = 1e-3\n",
    "max_iter = 100\n",
    "tol = 1e-3\n",
    "\n",
    "# Método de penalidad exterior\n",
    "mu_values = []\n",
    "solutions = []\n",
    "all_data = []\n",
    "\n",
    "for k in range(1, max_iter + 1):\n",
    "    mu_val = k\n",
    "\n",
    "    x_new, data =  gradiente_armijo(mu_val, x0, tol, max_iter) #Gozu\n",
    "\n",
    "    #x_new, data =  gradiente_busqueda_exacta(mu_val, x0, tol, max_iter)\n",
    "\n",
    "    #x_new, data = optimize_newton_puro_armijo(mu_val, x0, tol, max_iter)#Gozu\n",
    "\n",
    "    #x_new, data = optimize_newton_puro_exacta(mu_val, x0, tol, max_iter)#Gozu\n",
    "    \n",
    "    #x_new, iter_count, total_internal_iter_count, data = conjugate_gradient_armijo(mu_val, x0, tol, max_iter)#gozu\n",
    "\n",
    "    #x_new, iter_count, data = conjugate_gradient_exact(mu_val, x0, tol, max_iter)\n",
    "    \n",
    "    # Verificar criterio de parada\n",
    "    if (sp.Matrix(x_new) - sp.Matrix(x0)).norm().evalf() < epsilon:\n",
    "        print(f\"Parando por criterio: norm < epsilon at iteration {k}\")\n",
    "        break\n",
    "    \n",
    "    x0 = x_new\n",
    "    mu_values.append(mu_val)\n",
    "    solutions.append(x0)\n",
    "    all_data.extend(data)\n",
    "\n",
    "# Mostrar los resultados\n",
    "df = pd.DataFrame(all_data, columns=['Iteración', 'Iteraciones Internas', 'x', 'f(x)', '|| x - x||'])\n",
    "df = df.sort_values(by='Iteración').reset_index(drop=True)\n",
    "display(df)\n",
    "\n",
    "for mu_val, sol in zip(mu_values, solutions):\n",
    "    display(Latex(f'$\\\\mu = {mu_val}, \\\\; x^* = ({sol[0]}, {sol[1]})$'))\n"
   ]
  },
  {
   "cell_type": "code",
   "execution_count": 204,
   "metadata": {},
   "outputs": [
    {
     "data": {
      "text/latex": [
       "Gradientes:"
      ],
      "text/plain": [
       "<IPython.core.display.Latex object>"
      ]
     },
     "metadata": {},
     "output_type": "display_data"
    },
    {
     "data": {
      "text/latex": [
       "$\\frac{\\partial q}{\\partial x_1} = \\mu \\left(\\begin{cases} 0 & \\text{for}\\: x_{1} \\geq 0 \\\\2 x_{1} & \\text{otherwise} \\end{cases} + \\begin{cases} 0 & \\text{for}\\: x_{1} + 3 x_{2} \\leq 12 \\\\2 x_{1} + 6 x_{2} - 24 & \\text{otherwise} \\end{cases} + \\begin{cases} 0 & \\text{for}\\: x_{1}^{2} - x_{2} \\leq 6 \\\\4 x_{1} \\left(x_{1}^{2} - x_{2} - 6\\right) & \\text{otherwise} \\end{cases}\\right) + 2 x_{1} - 10$"
      ],
      "text/plain": [
       "<IPython.core.display.Latex object>"
      ]
     },
     "metadata": {},
     "output_type": "display_data"
    },
    {
     "data": {
      "text/latex": [
       "$\\frac{\\partial q}{\\partial x_2} = \\mu \\left(\\begin{cases} 0 & \\text{for}\\: x_{2} \\geq 0 \\\\2 x_{2} & \\text{otherwise} \\end{cases} + \\begin{cases} 0 & \\text{for}\\: x_{1} + 3 x_{2} \\leq 12 \\\\6 x_{1} + 18 x_{2} - 72 & \\text{otherwise} \\end{cases} + \\begin{cases} 0 & \\text{for}\\: x_{1}^{2} - x_{2} \\leq 6 \\\\- 2 x_{1}^{2} + 2 x_{2} + 12 & \\text{otherwise} \\end{cases}\\right) + 2 x_{2} - 10$"
      ],
      "text/plain": [
       "<IPython.core.display.Latex object>"
      ]
     },
     "metadata": {},
     "output_type": "display_data"
    },
    {
     "data": {
      "text/latex": [
       "Hessiano:"
      ],
      "text/plain": [
       "<IPython.core.display.Latex object>"
      ]
     },
     "metadata": {},
     "output_type": "display_data"
    },
    {
     "data": {
      "text/latex": [
       "$\\frac{\\partial^2 q}{\\partial x_1 \\partial x_1} = \\mu \\left(\\begin{cases} 0 & \\text{for}\\: x_{1} \\geq 0 \\\\2 & \\text{otherwise} \\end{cases} + \\begin{cases} 0 & \\text{for}\\: x_{1} + 3 x_{2} \\leq 12 \\\\2 & \\text{otherwise} \\end{cases} + \\begin{cases} 0 & \\text{for}\\: x_{1}^{2} - x_{2} \\leq 6 \\\\4 \\cdot \\left(3 x_{1}^{2} - x_{2} - 6\\right) & \\text{otherwise} \\end{cases}\\right) + 2$"
      ],
      "text/plain": [
       "<IPython.core.display.Latex object>"
      ]
     },
     "metadata": {},
     "output_type": "display_data"
    },
    {
     "data": {
      "text/latex": [
       "$\\frac{\\partial^2 q}{\\partial x_1 \\partial x_2} = \\mu \\left(\\begin{cases} 0 & \\text{for}\\: x_{1} + 3 x_{2} \\leq 12 \\\\6 & \\text{otherwise} \\end{cases} + \\begin{cases} 0 & \\text{for}\\: x_{1}^{2} - x_{2} \\leq 6 \\\\- 4 x_{1} & \\text{otherwise} \\end{cases}\\right)$"
      ],
      "text/plain": [
       "<IPython.core.display.Latex object>"
      ]
     },
     "metadata": {},
     "output_type": "display_data"
    },
    {
     "data": {
      "text/latex": [
       "$\\frac{\\partial^2 q}{\\partial x_2 \\partial x_1} = \\mu \\left(\\begin{cases} 0 & \\text{for}\\: x_{1} + 3 x_{2} \\leq 12 \\\\6 & \\text{otherwise} \\end{cases} + \\begin{cases} 0 & \\text{for}\\: x_{1}^{2} - x_{2} \\leq 6 \\\\- 4 x_{1} & \\text{otherwise} \\end{cases}\\right)$"
      ],
      "text/plain": [
       "<IPython.core.display.Latex object>"
      ]
     },
     "metadata": {},
     "output_type": "display_data"
    },
    {
     "data": {
      "text/latex": [
       "$\\frac{\\partial^2 q}{\\partial x_2 \\partial x_2} = \\mu \\left(\\begin{cases} 0 & \\text{for}\\: x_{2} \\geq 0 \\\\2 & \\text{otherwise} \\end{cases} + \\begin{cases} 0 & \\text{for}\\: x_{1} + 3 x_{2} \\leq 12 \\\\18 & \\text{otherwise} \\end{cases} + \\begin{cases} 0 & \\text{for}\\: x_{1}^{2} - x_{2} \\leq 6 \\\\2 & \\text{otherwise} \\end{cases}\\right) + 2$"
      ],
      "text/plain": [
       "<IPython.core.display.Latex object>"
      ]
     },
     "metadata": {},
     "output_type": "display_data"
    },
    {
     "data": {
      "text/latex": [
       "$H = \\left[\\begin{matrix}\\mu \\left(\\begin{cases} 0 & \\text{for}\\: x_{1} \\geq 0 \\\\2 & \\text{otherwise} \\end{cases} + \\begin{cases} 0 & \\text{for}\\: x_{1} + 3 x_{2} \\leq 12 \\\\2 & \\text{otherwise} \\end{cases} + \\begin{cases} 0 & \\text{for}\\: x_{1}^{2} - x_{2} \\leq 6 \\\\4 \\cdot \\left(3 x_{1}^{2} - x_{2} - 6\\right) & \\text{otherwise} \\end{cases}\\right) + 2 & \\mu \\left(\\begin{cases} 0 & \\text{for}\\: x_{1} + 3 x_{2} \\leq 12 \\\\6 & \\text{otherwise} \\end{cases} + \\begin{cases} 0 & \\text{for}\\: x_{1}^{2} - x_{2} \\leq 6 \\\\- 4 x_{1} & \\text{otherwise} \\end{cases}\\right)\\\\\\mu \\left(\\begin{cases} 0 & \\text{for}\\: x_{1} + 3 x_{2} \\leq 12 \\\\6 & \\text{otherwise} \\end{cases} + \\begin{cases} 0 & \\text{for}\\: x_{1}^{2} - x_{2} \\leq 6 \\\\- 4 x_{1} & \\text{otherwise} \\end{cases}\\right) & \\mu \\left(\\begin{cases} 0 & \\text{for}\\: x_{2} \\geq 0 \\\\2 & \\text{otherwise} \\end{cases} + \\begin{cases} 0 & \\text{for}\\: x_{1} + 3 x_{2} \\leq 12 \\\\18 & \\text{otherwise} \\end{cases} + \\begin{cases} 0 & \\text{for}\\: x_{1}^{2} - x_{2} \\leq 6 \\\\2 & \\text{otherwise} \\end{cases}\\right) + 2\\end{matrix}\\right]$"
      ],
      "text/plain": [
       "<IPython.core.display.Latex object>"
      ]
     },
     "metadata": {},
     "output_type": "display_data"
    }
   ],
   "source": [
    "# Definición de variables simbólicas\n",
    "x1, x2, mu = sp.symbols('x1 x2 mu')\n",
    "\n",
    "# Función objetivo para el segundo ejercicio\n",
    "f = (x1 - 5)**2 + (x2 - 5)**2\n",
    "\n",
    "# Restricciones\n",
    "g = [x1**2 - x2 - 6, x1 + 3*x2 - 12, -x1, -x2]  # Usamos ecuaciones de la forma g(x) <= 0\n",
    "\n",
    "# Penalización basada en las restricciones\n",
    "P = sum(sp.Piecewise((0, h_j <= 0), (h_j**2, h_j > 0)) for h_j in g)\n",
    "\n",
    "# Función de penalidad\n",
    "q = f + mu * P\n",
    "\n",
    "# Gradientes y Hessiano de la función de penalidad q\n",
    "variables = [x1, x2]\n",
    "grad_q = [sp.diff(q, var) for var in variables]\n",
    "hess_q = sp.Matrix([[sp.diff(q, var1, var2) for var1 in variables] for var2 in variables])\n",
    "\n",
    "# Display de los gradientes y el hessiano para verificar\n",
    "display(Latex(\"Gradientes:\"))\n",
    "for i, grad in enumerate(grad_q):\n",
    "    display(Latex(f'$\\\\frac{{\\\\partial q}}{{\\\\partial x_{i+1}}} = {sp.latex(grad)}$'))\n",
    "\n",
    "display(Latex(\"Hessiano:\"))\n",
    "for i in range(len(variables)):\n",
    "    for j in range(len(variables)):\n",
    "        display(Latex(f'$\\\\frac{{\\\\partial^2 q}}{{\\\\partial x_{i+1} \\\\partial x_{j+1}}} = {sp.latex(hess_q[i, j])}$'))\n",
    "\n",
    "display(Latex(f'$H = {sp.latex(hess_q)}$'))\n"
   ]
  },
  {
   "cell_type": "code",
   "execution_count": 205,
   "metadata": {},
   "outputs": [
    {
     "name": "stdout",
     "output_type": "stream",
     "text": [
      "Parando por criterio: norm < epsilon at iteration 16\n"
     ]
    },
    {
     "data": {
      "text/html": [
       "<div>\n",
       "<style scoped>\n",
       "    .dataframe tbody tr th:only-of-type {\n",
       "        vertical-align: middle;\n",
       "    }\n",
       "\n",
       "    .dataframe tbody tr th {\n",
       "        vertical-align: top;\n",
       "    }\n",
       "\n",
       "    .dataframe thead th {\n",
       "        text-align: right;\n",
       "    }\n",
       "</style>\n",
       "<table border=\"1\" class=\"dataframe\">\n",
       "  <thead>\n",
       "    <tr style=\"text-align: right;\">\n",
       "      <th></th>\n",
       "      <th>Iteración</th>\n",
       "      <th>Iteraciones Internas</th>\n",
       "      <th>x</th>\n",
       "      <th>f(x)</th>\n",
       "      <th>|| x - x||</th>\n",
       "    </tr>\n",
       "  </thead>\n",
       "  <tbody>\n",
       "    <tr>\n",
       "      <th>0</th>\n",
       "      <td>0</td>\n",
       "      <td>4</td>\n",
       "      <td>[0.312500000000000, 0.750000000000000]</td>\n",
       "      <td>0.494400</td>\n",
       "      <td>0.812500</td>\n",
       "    </tr>\n",
       "    <tr>\n",
       "      <th>1</th>\n",
       "      <td>0</td>\n",
       "      <td>4</td>\n",
       "      <td>[0.000295836610739517, 0.974309936369953]</td>\n",
       "      <td>0.479785</td>\n",
       "      <td>0.974310</td>\n",
       "    </tr>\n",
       "    <tr>\n",
       "      <th>2</th>\n",
       "      <td>0</td>\n",
       "      <td>6</td>\n",
       "      <td>[2.98915252439346e-5, 0.967402247452707]</td>\n",
       "      <td>0.484386</td>\n",
       "      <td>0.967402</td>\n",
       "    </tr>\n",
       "    <tr>\n",
       "      <th>3</th>\n",
       "      <td>0</td>\n",
       "      <td>6</td>\n",
       "      <td>[1.95053333208471e-5, 0.984035008534099]</td>\n",
       "      <td>0.491186</td>\n",
       "      <td>0.984035</td>\n",
       "    </tr>\n",
       "    <tr>\n",
       "      <th>4</th>\n",
       "      <td>0</td>\n",
       "      <td>6</td>\n",
       "      <td>[2.42763656001827e-5, 0.980774332543055]</td>\n",
       "      <td>0.489660</td>\n",
       "      <td>0.980774</td>\n",
       "    </tr>\n",
       "    <tr>\n",
       "      <th>...</th>\n",
       "      <td>...</td>\n",
       "      <td>...</td>\n",
       "      <td>...</td>\n",
       "      <td>...</td>\n",
       "      <td>...</td>\n",
       "    </tr>\n",
       "    <tr>\n",
       "      <th>78</th>\n",
       "      <td>14</td>\n",
       "      <td>4</td>\n",
       "      <td>[4.67843524347744e-5, 0.935349597843497]</td>\n",
       "      <td>0.468750</td>\n",
       "      <td>0.935350</td>\n",
       "    </tr>\n",
       "    <tr>\n",
       "      <th>79</th>\n",
       "      <td>15</td>\n",
       "      <td>3</td>\n",
       "      <td>[0.00105252439873444, 0.866192228186795]</td>\n",
       "      <td>0.437501</td>\n",
       "      <td>0.866193</td>\n",
       "    </tr>\n",
       "    <tr>\n",
       "      <th>80</th>\n",
       "      <td>16</td>\n",
       "      <td>2</td>\n",
       "      <td>[0.000525651558436453, 0.865689691210854]</td>\n",
       "      <td>0.437500</td>\n",
       "      <td>0.865690</td>\n",
       "    </tr>\n",
       "    <tr>\n",
       "      <th>81</th>\n",
       "      <td>17</td>\n",
       "      <td>3</td>\n",
       "      <td>[0.000394544115602754, 0.866192728099922]</td>\n",
       "      <td>0.437500</td>\n",
       "      <td>0.866193</td>\n",
       "    </tr>\n",
       "    <tr>\n",
       "      <th>82</th>\n",
       "      <td>18</td>\n",
       "      <td>3</td>\n",
       "      <td>[0.000295793669745667, 0.865941534046622]</td>\n",
       "      <td>0.437500</td>\n",
       "      <td>0.865942</td>\n",
       "    </tr>\n",
       "  </tbody>\n",
       "</table>\n",
       "<p>83 rows × 5 columns</p>\n",
       "</div>"
      ],
      "text/plain": [
       "    Iteración  Iteraciones Internas  \\\n",
       "0           0                     4   \n",
       "1           0                     4   \n",
       "2           0                     6   \n",
       "3           0                     6   \n",
       "4           0                     6   \n",
       "..        ...                   ...   \n",
       "78         14                     4   \n",
       "79         15                     3   \n",
       "80         16                     2   \n",
       "81         17                     3   \n",
       "82         18                     3   \n",
       "\n",
       "                                            x      f(x)  || x - x||  \n",
       "0      [0.312500000000000, 0.750000000000000]  0.494400    0.812500  \n",
       "1   [0.000295836610739517, 0.974309936369953]  0.479785    0.974310  \n",
       "2    [2.98915252439346e-5, 0.967402247452707]  0.484386    0.967402  \n",
       "3    [1.95053333208471e-5, 0.984035008534099]  0.491186    0.984035  \n",
       "4    [2.42763656001827e-5, 0.980774332543055]  0.489660    0.980774  \n",
       "..                                        ...       ...         ...  \n",
       "78   [4.67843524347744e-5, 0.935349597843497]  0.468750    0.935350  \n",
       "79   [0.00105252439873444, 0.866192228186795]  0.437501    0.866193  \n",
       "80  [0.000525651558436453, 0.865689691210854]  0.437500    0.865690  \n",
       "81  [0.000394544115602754, 0.866192728099922]  0.437500    0.866193  \n",
       "82  [0.000295793669745667, 0.865941534046622]  0.437500    0.865942  \n",
       "\n",
       "[83 rows x 5 columns]"
      ]
     },
     "metadata": {},
     "output_type": "display_data"
    },
    {
     "data": {
      "text/latex": [
       "$\\mu = 1, \\; x^* = (3.06703433781649, 3.20053161586522)$"
      ],
      "text/plain": [
       "<IPython.core.display.Latex object>"
      ]
     },
     "metadata": {},
     "output_type": "display_data"
    },
    {
     "data": {
      "text/latex": [
       "$\\mu = 2, \\; x^* = (3.03470366006888, 3.10528557502211)$"
      ],
      "text/plain": [
       "<IPython.core.display.Latex object>"
      ]
     },
     "metadata": {},
     "output_type": "display_data"
    },
    {
     "data": {
      "text/latex": [
       "$\\mu = 3, \\; x^* = (3.02341808438501, 3.07138030979624)$"
      ],
      "text/plain": [
       "<IPython.core.display.Latex object>"
      ]
     },
     "metadata": {},
     "output_type": "display_data"
    },
    {
     "data": {
      "text/latex": [
       "$\\mu = 4, \\; x^* = (3.01767222139464, 3.05398240795795)$"
      ],
      "text/plain": [
       "<IPython.core.display.Latex object>"
      ]
     },
     "metadata": {},
     "output_type": "display_data"
    },
    {
     "data": {
      "text/latex": [
       "$\\mu = 5, \\; x^* = (3.01419028125381, 3.04341282686592)$"
      ],
      "text/plain": [
       "<IPython.core.display.Latex object>"
      ]
     },
     "metadata": {},
     "output_type": "display_data"
    },
    {
     "data": {
      "text/latex": [
       "$\\mu = 6, \\; x^* = (3.01185444790552, 3.03630265534650)$"
      ],
      "text/plain": [
       "<IPython.core.display.Latex object>"
      ]
     },
     "metadata": {},
     "output_type": "display_data"
    },
    {
     "data": {
      "text/latex": [
       "$\\mu = 7, \\; x^* = (3.01017815050842, 3.03118444851057)$"
      ],
      "text/plain": [
       "<IPython.core.display.Latex object>"
      ]
     },
     "metadata": {},
     "output_type": "display_data"
    },
    {
     "data": {
      "text/latex": [
       "$\\mu = 8, \\; x^* = (3.00891941132114, 3.02734064766902)$"
      ],
      "text/plain": [
       "<IPython.core.display.Latex object>"
      ]
     },
     "metadata": {},
     "output_type": "display_data"
    },
    {
     "data": {
      "text/latex": [
       "$\\mu = 9, \\; x^* = (3.00793635901062, 3.02434162037452)$"
      ],
      "text/plain": [
       "<IPython.core.display.Latex object>"
      ]
     },
     "metadata": {},
     "output_type": "display_data"
    },
    {
     "data": {
      "text/latex": [
       "$\\mu = 10, \\; x^* = (3.00714868634406, 3.02192873247192)$"
      ],
      "text/plain": [
       "<IPython.core.display.Latex object>"
      ]
     },
     "metadata": {},
     "output_type": "display_data"
    },
    {
     "data": {
      "text/latex": [
       "$\\mu = 11, \\; x^* = (3.00650201587649, 3.01995277061658)$"
      ],
      "text/plain": [
       "<IPython.core.display.Latex object>"
      ]
     },
     "metadata": {},
     "output_type": "display_data"
    },
    {
     "data": {
      "text/latex": [
       "$\\mu = 12, \\; x^* = (3.00596393229300, 3.01830399532324)$"
      ],
      "text/plain": [
       "<IPython.core.display.Latex object>"
      ]
     },
     "metadata": {},
     "output_type": "display_data"
    },
    {
     "data": {
      "text/latex": [
       "$\\mu = 13, \\; x^* = (3.00550686493997, 3.01690921800425)$"
      ],
      "text/plain": [
       "<IPython.core.display.Latex object>"
      ]
     },
     "metadata": {},
     "output_type": "display_data"
    },
    {
     "data": {
      "text/latex": [
       "$\\mu = 14, \\; x^* = (3.00511600003975, 3.01570801690088)$"
      ],
      "text/plain": [
       "<IPython.core.display.Latex object>"
      ]
     },
     "metadata": {},
     "output_type": "display_data"
    },
    {
     "data": {
      "text/latex": [
       "$\\mu = 15, \\; x^* = (3.00477770794516, 3.01467356434496)$"
      ],
      "text/plain": [
       "<IPython.core.display.Latex object>"
      ]
     },
     "metadata": {},
     "output_type": "display_data"
    }
   ],
   "source": [
    "# Parámetros iniciales\n",
    "x0 = [0.5, 1.0]  # Punto inicial factible\n",
    "epsilon = 1e-3\n",
    "max_iter = 100\n",
    "tol = 1e-3\n",
    "\n",
    "# Método de penalidad exterior\n",
    "mu_values = []\n",
    "solutions = []\n",
    "all_data = []\n",
    "\n",
    "for k in range(1, max_iter + 1):\n",
    "    mu_val = k\n",
    "\n",
    "    #x_new, data =  gradiente_armijo(mu_val, x0, tol, max_iter) #Gozu\n",
    "\n",
    "    #x_new, data =  gradiente_busqueda_exacta(mu_val, x0, tol, max_iter)\n",
    "\n",
    "    #x_new, data = optimize_newton_puro_armijo(mu_val, x0, tol, max_iter) #gozu\n",
    "\n",
    "    #x_new, data = optimize_newton_puro_exacta(mu_val, x0, tol, max_iter)\n",
    "    \n",
    "    x_new, iter_count, total_internal_iter_count, data = conjugate_gradient_armijo(mu_val, x0, tol, max_iter) #Gozu\n",
    "\n",
    "    #x_new, iter_count, data = conjugate_gradient_exact(mu_val, x0, tol, max_iter)\n",
    "    \n",
    "    # Verificar criterio de parada\n",
    "    if (sp.Matrix(x_new) - sp.Matrix(x0)).norm() < epsilon:\n",
    "        print(f\"Parando por criterio: norm < epsilon at iteration {k}\")\n",
    "        break\n",
    "    \n",
    "    x0 = x_new\n",
    "    mu_values.append(mu_val)\n",
    "    solutions.append(x0)\n",
    "    all_data.extend(data)\n",
    "\n",
    "# Mostrar los resultados\n",
    "df2 = pd.DataFrame(all_data, columns=['Iteración', 'Iteraciones Internas', 'x', 'f(x)', '|| x - x||'])\n",
    "df2 = df.sort_values(by='Iteración').reset_index(drop=True)\n",
    "display(df2)\n",
    "\n",
    "for mu_val, sol in zip(mu_values, solutions):\n",
    "    display(Latex(f'$\\\\mu = {mu_val}, \\\\; x^* = ({sol[0]}, {sol[1]})$'))\n"
   ]
  }
 ],
 "metadata": {
  "kernelspec": {
   "display_name": ".venv",
   "language": "python",
   "name": "python3"
  },
  "language_info": {
   "codemirror_mode": {
    "name": "ipython",
    "version": 3
   },
   "file_extension": ".py",
   "mimetype": "text/x-python",
   "name": "python",
   "nbconvert_exporter": "python",
   "pygments_lexer": "ipython3",
   "version": "3.11.8"
  }
 },
 "nbformat": 4,
 "nbformat_minor": 2
}
