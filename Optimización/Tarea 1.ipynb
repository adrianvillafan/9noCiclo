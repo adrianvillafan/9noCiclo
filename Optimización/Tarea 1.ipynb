{
 "cells": [
  {
   "cell_type": "code",
   "execution_count": 47,
   "metadata": {},
   "outputs": [],
   "source": [
    "from IPython.display import display , Latex\n",
    "import sympy as sp"
   ]
  },
  {
   "cell_type": "code",
   "execution_count": 48,
   "metadata": {},
   "outputs": [],
   "source": [
    "# Definición de símbolos\n",
    "k, x1, x2 = sp.symbols('k x1 x2')\n",
    "f = sp.Function('f')(x1, x2)"
   ]
  },
  {
   "cell_type": "code",
   "execution_count": 65,
   "metadata": {},
   "outputs": [],
   "source": [
    "#Definición de la función f(x) y valor de x\n",
    "f = (x1 - 5)**2 + (x2 - 5)**2 -16*x1 - 7*x2 - sp.ln(x1) - 4*sp.ln(x2/2) - 36*sp.ln(-x1/3 + x2/6 + 1) - 25*sp.ln(-x1/5 - 3*x2/5 + 12/5) + 30\n",
    "x_0 = (1, 2)  # Valor inicial de x"
   ]
  },
  {
   "cell_type": "code",
   "execution_count": 61,
   "metadata": {},
   "outputs": [
    {
     "data": {
      "text/latex": [
       "Declaramos datos del ejercicio"
      ],
      "text/plain": [
       "<IPython.core.display.Latex object>"
      ]
     },
     "metadata": {},
     "output_type": "display_data"
    },
    {
     "data": {
      "text/latex": [
       "$\\displaystyle f(x) = - 16 x_{1} - 7 x_{2} + \\left(x_{1} - 5\\right)^{2} + \\left(x_{2} - 5\\right)^{2} - \\log{\\left(x_{1} \\right)} - 4 \\log{\\left(\\frac{x_{2}}{2} \\right)} - 36 \\log{\\left(- \\frac{x_{1}}{3} + \\frac{x_{2}}{6} + 1 \\right)} - 25 \\log{\\left(- \\frac{x_{1}}{5} - \\frac{3 x_{2}}{5} + 2.4 \\right)} + 30$"
      ],
      "text/plain": [
       "Eq(f(x), -16*x1 - 7*x2 + (x1 - 5)**2 + (x2 - 5)**2 - log(x1) - 4*log(x2/2) - 36*log(-x1/3 + x2/6 + 1) - 25*log(-x1/5 - 3*x2/5 + 2.4) + 30)"
      ]
     },
     "metadata": {},
     "output_type": "display_data"
    },
    {
     "data": {
      "text/latex": [
       "$\\displaystyle x = \\left( 6, \\  8\\right)$"
      ],
      "text/plain": [
       "Eq(x, (6, 8))"
      ]
     },
     "metadata": {},
     "output_type": "display_data"
    }
   ],
   "source": [
    "display(Latex('Declaramos datos del ejercicio'))\n",
    "display(sp.Eq(sp.Symbol('f(x)'), f), sp.Eq(sp.Symbol('x'), x_0))"
   ]
  },
  {
   "cell_type": "code",
   "execution_count": 62,
   "metadata": {},
   "outputs": [
    {
     "data": {
      "text/latex": [
       "$x_{k+1} = x_k - \\frac{1}{k+1} \\cdot \\nabla f(x_k)$"
      ],
      "text/plain": [
       "<IPython.core.display.Latex object>"
      ]
     },
     "metadata": {},
     "output_type": "display_data"
    }
   ],
   "source": [
    "# Formula de gradiente para x\n",
    "grad_f = [sp.diff(f, x1), sp.diff(f, x2)]\n",
    "display(Latex(r'$x_{k+1} = x_k - \\frac{1}{k+1} \\cdot \\nabla f(x_k)$'))"
   ]
  },
  {
   "cell_type": "code",
   "execution_count": 66,
   "metadata": {},
   "outputs": [
    {
     "data": {
      "text/latex": [
       "Iteración 0: $\\quad x_0 = (1, 2)$"
      ],
      "text/plain": [
       "<IPython.core.display.Latex object>"
      ]
     },
     "metadata": {},
     "output_type": "display_data"
    },
    {
     "data": {
      "text/latex": [
       "Gradiente en $x_{0}$: $\\nabla f(x_{0})= \\left(\\frac{\\partial f}{\\partial x_1}, \\frac{\\partial f}{\\partial x_2}\\right) = (-8.00000000000000, -6.00000000000000)$"
      ],
      "text/plain": [
       "<IPython.core.display.Latex object>"
      ]
     },
     "metadata": {},
     "output_type": "display_data"
    },
    {
     "data": {
      "text/latex": [
       "La fórmula de actualización sería: $x_{k+1} = 9.0 - \\frac1{k+1} \\cdot 2 x_{1} - 26 + \\frac{5}{- \\frac{x_{1}}{5} - \\frac{3 x_{2}}{5} + 2.4} + \\frac{12}{- \\frac{x_{1}}{3} + \\frac{x_{2}}{6} + 1} - \\frac{1}{x_{1}},\\quad 8.0 - \\frac1{k+1} \\cdot 2 x_{2} - 17 + \\frac{15}{- \\frac{x_{1}}{5} - \\frac{3 x_{2}}{5} + 2.4} - \\frac{6}{- \\frac{x_{1}}{3} + \\frac{x_{2}}{6} + 1} - \\frac{4}{x_{2}}= (9.00000000000000, 8.00000000000000)$"
      ],
      "text/plain": [
       "<IPython.core.display.Latex object>"
      ]
     },
     "metadata": {},
     "output_type": "display_data"
    },
    {
     "data": {
      "text/latex": [
       "Gradiente en $x_{1}$: $\\nabla f(x_{1})= \\left(\\frac{\\partial f}{\\partial x_1}, \\frac{\\partial f}{\\partial x_2}\\right) = (-27.3015873015873, 3.92857142857141)$"
      ],
      "text/plain": [
       "<IPython.core.display.Latex object>"
      ]
     },
     "metadata": {},
     "output_type": "display_data"
    },
    {
     "data": {
      "text/latex": [
       "La fórmula de actualización sería: $x_{k+1} = 22.6507936507936 - \\frac1{k+1} \\cdot 2 x_{1} - 26 + \\frac{5}{- \\frac{x_{1}}{5} - \\frac{3 x_{2}}{5} + 2.4} + \\frac{12}{- \\frac{x_{1}}{3} + \\frac{x_{2}}{6} + 1} - \\frac{1}{x_{1}},\\quad 6.03571428571429 - \\frac1{k+1} \\cdot 2 x_{2} - 17 + \\frac{15}{- \\frac{x_{1}}{5} - \\frac{3 x_{2}}{5} + 2.4} - \\frac{6}{- \\frac{x_{1}}{3} + \\frac{x_{2}}{6} + 1} - \\frac{4}{x_{2}}= (22.6507936507936, 6.03571428571429)$"
      ],
      "text/plain": [
       "<IPython.core.display.Latex object>"
      ]
     },
     "metadata": {},
     "output_type": "display_data"
    },
    {
     "data": {
      "text/latex": [
       "Gradiente en $x_{2}$: $\\nabla f(x_{2})= \\left(\\frac{\\partial f}{\\partial x_1}, \\frac{\\partial f}{\\partial x_2}\\right) = (16.2237332066870, -7.11707888942561)$"
      ],
      "text/plain": [
       "<IPython.core.display.Latex object>"
      ]
     },
     "metadata": {},
     "output_type": "display_data"
    },
    {
     "data": {
      "text/latex": [
       "La fórmula de actualización sería: $x_{k+1} = 17.242882581898 - \\frac1{k+1} \\cdot 2 x_{1} - 26 + \\frac{5}{- \\frac{x_{1}}{5} - \\frac{3 x_{2}}{5} + 2.4} + \\frac{12}{- \\frac{x_{1}}{3} + \\frac{x_{2}}{6} + 1} - \\frac{1}{x_{1}},\\quad 8.40807391552283 - \\frac1{k+1} \\cdot 2 x_{2} - 17 + \\frac{15}{- \\frac{x_{1}}{5} - \\frac{3 x_{2}}{5} + 2.4} - \\frac{6}{- \\frac{x_{1}}{3} + \\frac{x_{2}}{6} + 1} - \\frac{4}{x_{2}}= (17.2428825818980, 8.40807391552283)$"
      ],
      "text/plain": [
       "<IPython.core.display.Latex object>"
      ]
     },
     "metadata": {},
     "output_type": "display_data"
    },
    {
     "data": {
      "text/latex": [
       "Gradiente en $x_{3}$: $\\nabla f(x_{3})= \\left(\\frac{\\partial f}{\\partial x_1}, \\frac{\\partial f}{\\partial x_2}\\right) = (4.02114339161764, -1.32822195626280)$"
      ],
      "text/plain": [
       "<IPython.core.display.Latex object>"
      ]
     },
     "metadata": {},
     "output_type": "display_data"
    },
    {
     "data": {
      "text/latex": [
       "La fórmula de actualización sería: $x_{k+1} = 16.2375967339936 - \\frac1{k+1} \\cdot 2 x_{1} - 26 + \\frac{5}{- \\frac{x_{1}}{5} - \\frac{3 x_{2}}{5} + 2.4} + \\frac{12}{- \\frac{x_{1}}{3} + \\frac{x_{2}}{6} + 1} - \\frac{1}{x_{1}},\\quad 8.74012940458853 - \\frac1{k+1} \\cdot 2 x_{2} - 17 + \\frac{15}{- \\frac{x_{1}}{5} - \\frac{3 x_{2}}{5} + 2.4} - \\frac{6}{- \\frac{x_{1}}{3} + \\frac{x_{2}}{6} + 1} - \\frac{4}{x_{2}}= (16.2375967339936, 8.74012940458853)$"
      ],
      "text/plain": [
       "<IPython.core.display.Latex object>"
      ]
     },
     "metadata": {},
     "output_type": "display_data"
    },
    {
     "data": {
      "text/latex": [
       "Gradiente en $x_{4}$: $\\nabla f(x_{4})= \\left(\\frac{\\partial f}{\\partial x_1}, \\frac{\\partial f}{\\partial x_2}\\right) = (1.53305102370099, -0.409931707925206)$"
      ],
      "text/plain": [
       "<IPython.core.display.Latex object>"
      ]
     },
     "metadata": {},
     "output_type": "display_data"
    },
    {
     "data": {
      "text/latex": [
       "La fórmula de actualización sería: $x_{k+1} = 15.9309865292534 - \\frac1{k+1} \\cdot 2 x_{1} - 26 + \\frac{5}{- \\frac{x_{1}}{5} - \\frac{3 x_{2}}{5} + 2.4} + \\frac{12}{- \\frac{x_{1}}{3} + \\frac{x_{2}}{6} + 1} - \\frac{1}{x_{1}},\\quad 8.82211574617357 - \\frac1{k+1} \\cdot 2 x_{2} - 17 + \\frac{15}{- \\frac{x_{1}}{5} - \\frac{3 x_{2}}{5} + 2.4} - \\frac{6}{- \\frac{x_{1}}{3} + \\frac{x_{2}}{6} + 1} - \\frac{4}{x_{2}}= (15.9309865292534, 8.82211574617357)$"
      ],
      "text/plain": [
       "<IPython.core.display.Latex object>"
      ]
     },
     "metadata": {},
     "output_type": "display_data"
    },
    {
     "data": {
      "text/latex": [
       "Gradiente en $x_{5}$: $\\nabla f(x_{5})= \\left(\\frac{\\partial f}{\\partial x_1}, \\frac{\\partial f}{\\partial x_2}\\right) = (0.751374258826075, -0.163802395864446)$"
      ],
      "text/plain": [
       "<IPython.core.display.Latex object>"
      ]
     },
     "metadata": {},
     "output_type": "display_data"
    },
    {
     "data": {
      "text/latex": [
       "La fórmula de actualización sería: $x_{k+1} = 15.8057574861157 - \\frac1{k+1} \\cdot 2 x_{1} - 26 + \\frac{5}{- \\frac{x_{1}}{5} - \\frac{3 x_{2}}{5} + 2.4} + \\frac{12}{- \\frac{x_{1}}{3} + \\frac{x_{2}}{6} + 1} - \\frac{1}{x_{1}},\\quad 8.84941614548431 - \\frac1{k+1} \\cdot 2 x_{2} - 17 + \\frac{15}{- \\frac{x_{1}}{5} - \\frac{3 x_{2}}{5} + 2.4} - \\frac{6}{- \\frac{x_{1}}{3} + \\frac{x_{2}}{6} + 1} - \\frac{4}{x_{2}}= (15.8057574861157, 8.84941614548431)$"
      ],
      "text/plain": [
       "<IPython.core.display.Latex object>"
      ]
     },
     "metadata": {},
     "output_type": "display_data"
    },
    {
     "data": {
      "text/latex": [
       "Gradiente en $x_{6}$: $\\nabla f(x_{6})= \\left(\\frac{\\partial f}{\\partial x_1}, \\frac{\\partial f}{\\partial x_2}\\right) = (0.429227553929512, -0.0763160811173762)$"
      ],
      "text/plain": [
       "<IPython.core.display.Latex object>"
      ]
     },
     "metadata": {},
     "output_type": "display_data"
    },
    {
     "data": {
      "text/latex": [
       "La fórmula de actualización sería: $x_{k+1} = 15.7444392641258 - \\frac1{k+1} \\cdot 2 x_{1} - 26 + \\frac{5}{- \\frac{x_{1}}{5} - \\frac{3 x_{2}}{5} + 2.4} + \\frac{12}{- \\frac{x_{1}}{3} + \\frac{x_{2}}{6} + 1} - \\frac{1}{x_{1}},\\quad 8.8603184427868 - \\frac1{k+1} \\cdot 2 x_{2} - 17 + \\frac{15}{- \\frac{x_{1}}{5} - \\frac{3 x_{2}}{5} + 2.4} - \\frac{6}{- \\frac{x_{1}}{3} + \\frac{x_{2}}{6} + 1} - \\frac{4}{x_{2}}= (15.7444392641258, 8.86031844278680)$"
      ],
      "text/plain": [
       "<IPython.core.display.Latex object>"
      ]
     },
     "metadata": {},
     "output_type": "display_data"
    },
    {
     "data": {
      "text/latex": [
       "Gradiente en $x_{7}$: $\\nabla f(x_{7})= \\left(\\frac{\\partial f}{\\partial x_1}, \\frac{\\partial f}{\\partial x_2}\\right) = (0.271072598085166, -0.0390389704837535)$"
      ],
      "text/plain": [
       "<IPython.core.display.Latex object>"
      ]
     },
     "metadata": {},
     "output_type": "display_data"
    },
    {
     "data": {
      "text/latex": [
       "La fórmula de actualización sería: $x_{k+1} = 15.7105551893651 - \\frac1{k+1} \\cdot 2 x_{1} - 26 + \\frac{5}{- \\frac{x_{1}}{5} - \\frac{3 x_{2}}{5} + 2.4} + \\frac{12}{- \\frac{x_{1}}{3} + \\frac{x_{2}}{6} + 1} - \\frac{1}{x_{1}},\\quad 8.86519831409726 - \\frac1{k+1} \\cdot 2 x_{2} - 17 + \\frac{15}{- \\frac{x_{1}}{5} - \\frac{3 x_{2}}{5} + 2.4} - \\frac{6}{- \\frac{x_{1}}{3} + \\frac{x_{2}}{6} + 1} - \\frac{4}{x_{2}}= (15.7105551893651, 8.86519831409726)$"
      ],
      "text/plain": [
       "<IPython.core.display.Latex object>"
      ]
     },
     "metadata": {},
     "output_type": "display_data"
    },
    {
     "data": {
      "text/latex": [
       "Gradiente en $x_{8}$: $\\nabla f(x_{8})= \\left(\\frac{\\partial f}{\\partial x_1}, \\frac{\\partial f}{\\partial x_2}\\right) = (0.183644194085221, -0.0211013069168047)$"
      ],
      "text/plain": [
       "<IPython.core.display.Latex object>"
      ]
     },
     "metadata": {},
     "output_type": "display_data"
    },
    {
     "data": {
      "text/latex": [
       "La fórmula de actualización sería: $x_{k+1} = 15.6901502789112 - \\frac1{k+1} \\cdot 2 x_{1} - 26 + \\frac{5}{- \\frac{x_{1}}{5} - \\frac{3 x_{2}}{5} + 2.4} + \\frac{12}{- \\frac{x_{1}}{3} + \\frac{x_{2}}{6} + 1} - \\frac{1}{x_{1}},\\quad 8.86754290375469 - \\frac1{k+1} \\cdot 2 x_{2} - 17 + \\frac{15}{- \\frac{x_{1}}{5} - \\frac{3 x_{2}}{5} + 2.4} - \\frac{6}{- \\frac{x_{1}}{3} + \\frac{x_{2}}{6} + 1} - \\frac{4}{x_{2}}= (15.6901502789112, 8.86754290375469)$"
      ],
      "text/plain": [
       "<IPython.core.display.Latex object>"
      ]
     },
     "metadata": {},
     "output_type": "display_data"
    },
    {
     "data": {
      "text/latex": [
       "Gradiente en $x_{9}$: $\\nabla f(x_{9})= \\left(\\frac{\\partial f}{\\partial x_1}, \\frac{\\partial f}{\\partial x_2}\\right) = (0.131022073592823, -0.0117024709947779)$"
      ],
      "text/plain": [
       "<IPython.core.display.Latex object>"
      ]
     },
     "metadata": {},
     "output_type": "display_data"
    },
    {
     "data": {
      "text/latex": [
       "La fórmula de actualización sería: $x_{k+1} = 15.6770480715519 - \\frac1{k+1} \\cdot 2 x_{1} - 26 + \\frac{5}{- \\frac{x_{1}}{5} - \\frac{3 x_{2}}{5} + 2.4} + \\frac{12}{- \\frac{x_{1}}{3} + \\frac{x_{2}}{6} + 1} - \\frac{1}{x_{1}},\\quad 8.86871315085416 - \\frac1{k+1} \\cdot 2 x_{2} - 17 + \\frac{15}{- \\frac{x_{1}}{5} - \\frac{3 x_{2}}{5} + 2.4} - \\frac{6}{- \\frac{x_{1}}{3} + \\frac{x_{2}}{6} + 1} - \\frac{4}{x_{2}}= (15.6770480715519, 8.86871315085416)$"
      ],
      "text/plain": [
       "<IPython.core.display.Latex object>"
      ]
     },
     "metadata": {},
     "output_type": "display_data"
    },
    {
     "data": {
      "text/latex": [
       "Gradiente en $x_{10}$: $\\nabla f(x_{10})= \\left(\\frac{\\partial f}{\\partial x_1}, \\frac{\\partial f}{\\partial x_2}\\right) = (0.0972626044656435, -0.00646641647047375)$"
      ],
      "text/plain": [
       "<IPython.core.display.Latex object>"
      ]
     },
     "metadata": {},
     "output_type": "display_data"
    },
    {
     "data": {
      "text/latex": [
       "La fórmula de actualización sería: $x_{k+1} = 15.6682060166005 - \\frac1{k+1} \\cdot 2 x_{1} - 26 + \\frac{5}{- \\frac{x_{1}}{5} - \\frac{3 x_{2}}{5} + 2.4} + \\frac{12}{- \\frac{x_{1}}{3} + \\frac{x_{2}}{6} + 1} - \\frac{1}{x_{1}},\\quad 8.86930100689693 - \\frac1{k+1} \\cdot 2 x_{2} - 17 + \\frac{15}{- \\frac{x_{1}}{5} - \\frac{3 x_{2}}{5} + 2.4} - \\frac{6}{- \\frac{x_{1}}{3} + \\frac{x_{2}}{6} + 1} - \\frac{4}{x_{2}}= (15.6682060166005, 8.86930100689693)$"
      ],
      "text/plain": [
       "<IPython.core.display.Latex object>"
      ]
     },
     "metadata": {},
     "output_type": "display_data"
    },
    {
     "data": {
      "text/latex": [
       "Gradiente en $x_{11}$: $\\nabla f(x_{11})= \\left(\\frac{\\partial f}{\\partial x_1}, \\frac{\\partial f}{\\partial x_2}\\right) = (0.0745032879022558, -0.00341673931570741)$"
      ],
      "text/plain": [
       "<IPython.core.display.Latex object>"
      ]
     },
     "metadata": {},
     "output_type": "display_data"
    },
    {
     "data": {
      "text/latex": [
       "La fórmula de actualización sería: $x_{k+1} = 15.6619974092753 - \\frac1{k+1} \\cdot 2 x_{1} - 26 + \\frac{5}{- \\frac{x_{1}}{5} - \\frac{3 x_{2}}{5} + 2.4} + \\frac{12}{- \\frac{x_{1}}{3} + \\frac{x_{2}}{6} + 1} - \\frac{1}{x_{1}},\\quad 8.86958573517324 - \\frac1{k+1} \\cdot 2 x_{2} - 17 + \\frac{15}{- \\frac{x_{1}}{5} - \\frac{3 x_{2}}{5} + 2.4} - \\frac{6}{- \\frac{x_{1}}{3} + \\frac{x_{2}}{6} + 1} - \\frac{4}{x_{2}}= (15.6619974092753, 8.86958573517324)$"
      ],
      "text/plain": [
       "<IPython.core.display.Latex object>"
      ]
     },
     "metadata": {},
     "output_type": "display_data"
    },
    {
     "data": {
      "text/latex": [
       "Gradiente en $x_{12}$: $\\nabla f(x_{12})= \\left(\\frac{\\partial f}{\\partial x_1}, \\frac{\\partial f}{\\partial x_2}\\right) = (0.0585394867767510, -0.00158336978768592)$"
      ],
      "text/plain": [
       "<IPython.core.display.Latex object>"
      ]
     },
     "metadata": {},
     "output_type": "display_data"
    },
    {
     "data": {
      "text/latex": [
       "La fórmula de actualización sería: $x_{k+1} = 15.6574943718309 - \\frac1{k+1} \\cdot 2 x_{1} - 26 + \\frac{5}{- \\frac{x_{1}}{5} - \\frac{3 x_{2}}{5} + 2.4} + \\frac{12}{- \\frac{x_{1}}{3} + \\frac{x_{2}}{6} + 1} - \\frac{1}{x_{1}},\\quad 8.86970753284922 - \\frac1{k+1} \\cdot 2 x_{2} - 17 + \\frac{15}{- \\frac{x_{1}}{5} - \\frac{3 x_{2}}{5} + 2.4} - \\frac{6}{- \\frac{x_{1}}{3} + \\frac{x_{2}}{6} + 1} - \\frac{4}{x_{2}}= (15.6574943718309, 8.86970753284922)$"
      ],
      "text/plain": [
       "<IPython.core.display.Latex object>"
      ]
     },
     "metadata": {},
     "output_type": "display_data"
    },
    {
     "data": {
      "text/latex": [
       "Gradiente en $x_{13}$: $\\nabla f(x_{13})= \\left(\\frac{\\partial f}{\\partial x_1}, \\frac{\\partial f}{\\partial x_2}\\right) = (0.0469734203488779, -0.000457928230745086)$"
      ],
      "text/plain": [
       "<IPython.core.display.Latex object>"
      ]
     },
     "metadata": {},
     "output_type": "display_data"
    },
    {
     "data": {
      "text/latex": [
       "La fórmula de actualización sería: $x_{k+1} = 15.6541391275203 - \\frac1{k+1} \\cdot 2 x_{1} - 26 + \\frac{5}{- \\frac{x_{1}}{5} - \\frac{3 x_{2}}{5} + 2.4} + \\frac{12}{- \\frac{x_{1}}{3} + \\frac{x_{2}}{6} + 1} - \\frac{1}{x_{1}},\\quad 8.86974024200856 - \\frac1{k+1} \\cdot 2 x_{2} - 17 + \\frac{15}{- \\frac{x_{1}}{5} - \\frac{3 x_{2}}{5} + 2.4} - \\frac{6}{- \\frac{x_{1}}{3} + \\frac{x_{2}}{6} + 1} - \\frac{4}{x_{2}}= (15.6541391275203, 8.86974024200856)$"
      ],
      "text/plain": [
       "<IPython.core.display.Latex object>"
      ]
     },
     "metadata": {},
     "output_type": "display_data"
    },
    {
     "data": {
      "text/latex": [
       "El valor de $k$ cuando el gradiente es 0 es: $14$"
      ],
      "text/plain": [
       "<IPython.core.display.Latex object>"
      ]
     },
     "metadata": {},
     "output_type": "display_data"
    }
   ],
   "source": [
    "# Definimos el algoritmo (Paso 1,2,3)\n",
    "k = 0\n",
    "x_k = x_0\n",
    "display(Latex(f'Iteración 0: $\\quad x_{0} = {x_k}$'))\n",
    "while any(g.subs({x1: x_k[0], x2: x_k[1]}) < 10**(-6) for g in grad_f): # Paso 1\n",
    "    display(Latex(f'Gradiente en $x_{{{k}}}$: $\\\\nabla f(x_{{{k}}})= \\\\left(\\\\frac{{\\\\partial f}}{{\\\\partial x_1}}, \\\\frac{{\\\\partial f}}{{\\\\partial x_2}}\\\\right) = {grad_f[0].subs({x1: x_k[0], x2: x_k[1]}), grad_f[1].subs({x1: x_k[0], x2: x_k[1]})}$'))    \n",
    "    x_k = tuple(x_k[i] - 1 / (k + 1) * grad_f[i].subs({x1: x_k[0], x2: x_k[1]}) for i in range(len(x_k))) # Paso 2\n",
    "    display(Latex(f'La fórmula de actualización sería: $x_{{k+1}} = {sp.latex(x_k[0])} - \\\\frac{1}{{k+1}} \\\\cdot {sp.latex(grad_f[0])},\\\\quad {sp.latex(x_k[1])} - \\\\frac{1}{{k+1}} \\\\cdot {sp.latex(grad_f[1])}= {x_k}$'))\n",
    "    k += 1 # Paso 3\n",
    "display(Latex(f'El valor de $k$ cuando el gradiente es 0 es: ${k}$'))"
   ]
  }
 ],
 "metadata": {
  "kernelspec": {
   "display_name": "Python 3",
   "language": "python",
   "name": "python3"
  },
  "language_info": {
   "codemirror_mode": {
    "name": "ipython",
    "version": 3
   },
   "file_extension": ".py",
   "mimetype": "text/x-python",
   "name": "python",
   "nbconvert_exporter": "python",
   "pygments_lexer": "ipython3",
   "version": "3.10.11"
  }
 },
 "nbformat": 4,
 "nbformat_minor": 2
}
